{
 "cells": [
  {
   "cell_type": "markdown",
   "metadata": {
    "collapsed": true,
    "pycharm": {
     "name": "#%% md\n"
    }
   },
   "source": [
    "# NumPy 基础用法\n",
    "NumPy 提供了两个基本的对象：\n",
    "* ndarray：存储数据的多维数组\n",
    "* ufunc：对数组进行处理的函数"
   ]
  },
  {
   "cell_type": "markdown",
   "source": [
    "## 创建数据"
   ],
   "metadata": {
    "collapsed": false,
    "pycharm": {
     "name": "#%% md\n"
    }
   }
  },
  {
   "cell_type": "code",
   "execution_count": 8,
   "outputs": [
    {
     "name": "stdout",
     "output_type": "stream",
     "text": [
      "[1 2 3]\n",
      "[1 2 3]\n",
      "---------------\n",
      "[[1 2]\n",
      " [1 2]]\n",
      "[[1 2]\n",
      " [1 2]]\n"
     ]
    }
   ],
   "source": [
    "# 导入 numpy 库, 约定俗成别名为 np\n",
    "import numpy as np\n",
    "\n",
    "print(np.array([1, 2, 3]))\n",
    "print(np.array((1, 2, 3)))\n",
    "print(\"---------------\")\n",
    "# 同上\n",
    "# array([1, 2, 3])\n",
    "\n",
    "print(np.array(((1, 2), (1, 2))))\n",
    "print(np.array(([1, 2], [1, 2])))\n",
    "# 同上\n",
    "# out:\n",
    "# array([[1, 2],\n",
    "#         [1, 2]])"
   ],
   "metadata": {
    "collapsed": false,
    "pycharm": {
     "name": "#%%\n"
    }
   }
  },
  {
   "cell_type": "code",
   "execution_count": 27,
   "outputs": [
    {
     "name": "stdout",
     "output_type": "stream",
     "text": [
      "[0 1 2 3 4 5 6 7 8 9]\n",
      "[3.  3.1 3.2 3.3 3.4 3.5 3.6 3.7 3.8 3.9 4.  4.1 4.2 4.3 4.4 4.5 4.6 4.7\n",
      " 4.8 4.9 5.  5.1 5.2 5.3 5.4 5.5 5.6 5.7 5.8 5.9 6.  6.1 6.2 6.3 6.4 6.5\n",
      " 6.6 6.7 6.8 6.9 7.  7.1 7.2 7.3 7.4 7.5 7.6 7.7 7.8 7.9 8.  8.1 8.2 8.3\n",
      " 8.4 8.5 8.6 8.7 8.8 8.9 9.  9.1 9.2 9.3 9.4 9.5 9.6 9.7 9.8 9.9]\n",
      "[2.  2.2 2.4 2.6 2.8]\n",
      "[[ 1.31213151  0.54990784 -0.27932628 -0.78206162]\n",
      " [-0.11604815  0.89079474  0.35708475 -0.80225216]\n",
      " [-0.58308882 -0.21130321  0.08260098 -0.60639837]\n",
      " [ 0.0132391   1.21972001  0.32981893  1.19576479]\n",
      " [ 0.49188447  2.38748038  0.13413972 -1.12767813]\n",
      " [ 0.20081688  1.10947378  0.33750034  0.94757102]]\n",
      "[[5 5 4 5]\n",
      " [4 4 4 6]]\n",
      "[16 18  6 11  5]\n",
      "[0. 0. 0. 0. 0. 0.]\n",
      "[[0 0 0 0 0 0]\n",
      " [0 0 0 0 0 0]\n",
      " [0 0 0 0 0 0]\n",
      " [0 0 0 0 0 0]\n",
      " [0 0 0 0 0 0]]\n",
      "[1. 1. 1. 1.]\n",
      "[1. 1. 1. 1.]\n",
      "[0 0 0 0 0 0]\n",
      "[1 1 1 1 1 1]\n",
      "[0 0 0 0 1 1 1 1 2 2 2 2 3 3 3 3]\n",
      "[[9 9 9 9]\n",
      " [9 9 9 9]]\n"
     ]
    }
   ],
   "source": [
    "print(np.arange(10))\n",
    "# 10个, 不包括10，步长为 1\n",
    "print(np.arange(3, 10, 0.1))\n",
    "# 从 3 开始到时，步长为 0.1\n",
    "# 从 2.0 开始到 3.0，生成均匀的 5 个值，不包括终终值 3.0\n",
    "print(np.linspace(2.0, 3.0, num=5, endpoint=False))\n",
    "# 返回一个 6x4 的随机数组，float 型\n",
    "print(np.random.randn(6, 4))\n",
    "# 指定范围指定形状的数组，整型\n",
    "print(np.random.randint(3, 7, size=(2, 4)))\n",
    "# 创建从0到20随机的5个数组\n",
    "print(np.random.randint(0, 20, 5))\n",
    "# array([ 9, 10, 14,  6, 14])\n",
    "# 创建值为 0 的数组\n",
    "print(np.zeros(6))\n",
    "# 6个浮点 0.\n",
    "print(np.zeros((5, 6), dtype=int))\n",
    "# 5 x 6 整型 0\n",
    "print(np.ones(4))\n",
    "# 同上\n",
    "print(np.empty(4))\n",
    "# 同上\n",
    "# 创建一份和目标结构相同的 0 值数组\n",
    "print(np.zeros_like(np.arange(6)))\n",
    "print(np.ones_like(np.arange(6)))\n",
    "# 同上\n",
    "print(np.arange(4).repeat(4))\n",
    "# 将4个值依次重复四次，共16个\n",
    "print(np.full((2, 4), 9))\n",
    "# 两行四列值全为 9"
   ],
   "metadata": {
    "collapsed": false,
    "pycharm": {
     "name": "#%%\n"
    }
   }
  },
  {
   "cell_type": "markdown",
   "source": [
    "## 类型"
   ],
   "metadata": {
    "collapsed": false,
    "pycharm": {
     "name": "#%% md\n"
    }
   }
  },
  {
   "cell_type": "code",
   "execution_count": 11,
   "outputs": [],
   "source": [
    "var = np.int64  # 有符号 64 位 int 类型\n",
    "var = np.float32  # 标准双精度浮点类型\n",
    "var = np.complex  # 由128位的浮点数组成的复数类型\n",
    "var = np.bool  # TRUE 和 FALSE 的 bool 类型\n",
    "var = np.object  # Python 中的 object 类型\n",
    "var = np.string  # 固定长度的 string 类型\n",
    "var = np.unicode  # 固定长度的 unicode 类型\n",
    "\n",
    "var = np.NaN  # np.float 的子类型\n",
    "var = np.nan\n",
    "\n",
    "# np 所有数据类型\n",
    "np.sctypeDict  # np.typeDict 将弃用"
   ],
   "metadata": {
    "collapsed": false,
    "pycharm": {
     "name": "#%%\n"
    }
   }
  },
  {
   "cell_type": "markdown",
   "source": [
    "## 数组信息"
   ],
   "metadata": {
    "collapsed": false,
    "pycharm": {
     "name": "#%% md\n"
    }
   }
  },
  {
   "cell_type": "code",
   "execution_count": 35,
   "outputs": [
    {
     "name": "stdout",
     "output_type": "stream",
     "text": [
      "(4,)\n",
      "(4, 1)\n",
      "(2, 2)\n",
      "int32\n",
      "2\n",
      "4\n"
     ]
    }
   ],
   "source": [
    "n = np.array([1, 2, 3, 4])\n",
    "print(n.shape)\n",
    "# 数组的形状, 返回值是一个元组\n",
    "n.shape = (4, 1)  # 改变形状\n",
    "print(n.shape)\n",
    "n = n.reshape((2, 2))  # 改变原数组的形状创建一个新的\n",
    "print(n.shape)\n",
    "print(n.dtype)\n",
    "# 数据类型\n",
    "print(n.ndim)\n",
    "# 维度数\n",
    "print(n.size)\n",
    "# 元素数"
   ],
   "metadata": {
    "collapsed": false,
    "pycharm": {
     "name": "#%%\n"
    }
   }
  },
  {
   "cell_type": "markdown",
   "source": [
    "## 计算"
   ],
   "metadata": {
    "collapsed": false,
    "pycharm": {
     "name": "#%% md\n"
    }
   }
  },
  {
   "cell_type": "code",
   "execution_count": 43,
   "outputs": [
    {
     "name": "stdout",
     "output_type": "stream",
     "text": [
      "[10 20 30]\n",
      "[11 22 33 44]\n",
      "[ 9 19 29 39]\n",
      "[-2.17608444  3.651781   -3.9521265   2.98045264]\n",
      "40\n",
      "10\n",
      "100\n",
      "11.180339887498949\n",
      "True\n",
      "[ 10  30  60 100]\n",
      "10\n",
      "[-10 -20 -30 -40]\n"
     ]
    }
   ],
   "source": [
    "print(np.array([10, 20, 30, 40])[:3])\n",
    "# 支持类似列表的切片\n",
    "a = np.array([10, 20, 30, 40])\n",
    "b = np.array([1, 2, 3, 4])\n",
    "print(a + b)\n",
    "# array([11, 22, 33, 44]) 矩阵相加\n",
    "print(a - 1)\n",
    "# array([ 9, 19, 29, 39])\n",
    "print(4 * np.sin(a))\n",
    "\n",
    "# 以下举例数学函数，还支持非常多的数据函数\n",
    "print(a.max())\n",
    "# 40\n",
    "print(a.min())\n",
    "# 10\n",
    "print(a.sum())\n",
    "# 100\n",
    "print(a.std())\n",
    "# 11.180339887498949\n",
    "print(a.all())\n",
    "# True\n",
    "# 所有为 True 则返回 True\n",
    "print(a.cumsum())\n",
    "# array([ 10,  30,  60, 100])\n",
    "# axis = 0 按行累加\n",
    "# axis = 1 按列累加\n",
    "print(b.sum(axis=0))\n",
    "# 多维可以指定方向\n",
    "print(np.negative(a))\n",
    "# 1 相反数"
   ],
   "metadata": {
    "collapsed": false,
    "pycharm": {
     "name": "#%%\n"
    }
   }
  },
  {
   "cell_type": "markdown",
   "source": [
    "## 逻辑"
   ],
   "metadata": {
    "collapsed": false
   }
  },
  {
   "cell_type": "code",
   "execution_count": 50,
   "outputs": [
    {
     "name": "stdout",
     "output_type": "stream",
     "text": [
      "1\n",
      "True\n",
      "True\n",
      "False\n",
      "True\n"
     ]
    }
   ],
   "source": [
    "x = 10\n",
    "print(np.where(x > 0, 1, 0))\n",
    "# array(1)\n",
    "print(np.logical_and(x > 0, x > 5))\n",
    "# True\n",
    "# 逻辑和\n",
    "print(np.logical_or(x > 0, x < 5))\n",
    "# True\n",
    "# 逻辑或\n",
    "print(np.logical_not(x > 5))\n",
    "# False\n",
    "# 逻辑非\n",
    "print(np.logical_xor(x > 5, x == 0))\n",
    "# 异或 True\n",
    "# 异或：同 0 异 1"
   ],
   "metadata": {
    "collapsed": false,
    "pycharm": {
     "name": "#%%\n"
    }
   }
  },
  {
   "cell_type": "markdown",
   "source": [
    "## 集合"
   ],
   "metadata": {
    "collapsed": false,
    "pycharm": {
     "name": "#%% md\n"
    }
   }
  },
  {
   "cell_type": "code",
   "execution_count": 54,
   "outputs": [
    {
     "name": "stdout",
     "output_type": "stream",
     "text": [
      "[1 2 4]\n",
      "[3]\n",
      "[1 2 3 4]\n",
      "[3]\n"
     ]
    }
   ],
   "source": [
    "x = np.array([1, 2, 3, 4])\n",
    "y = np.array([1, 2, 4])\n",
    "# 输出x和y的交集\n",
    "print(np.intersect1d(x, y))\n",
    "# 输出在x中不在y中的元素\n",
    "print(np.setdiff1d(x, y))\n",
    "# 输出x和y的并集\n",
    "print(np.union1d(x, y))\n",
    "# 输出x和y的异或集\n",
    "print(np.setxor1d(x, y))"
   ],
   "metadata": {
    "collapsed": false,
    "pycharm": {
     "name": "#%%\n"
    }
   }
  },
  {
   "cell_type": "markdown",
   "source": [
    "## 合并\n",
    "https://zhuanlan.zhihu.com/p/356851664"
   ],
   "metadata": {
    "collapsed": false,
    "pycharm": {
     "name": "#%% md\n"
    }
   }
  },
  {
   "cell_type": "code",
   "execution_count": 87,
   "outputs": [
    {
     "name": "stdout",
     "output_type": "stream",
     "text": [
      "[[1 2 3 4]\n",
      " [4 5 6 7]]\n"
     ]
    }
   ],
   "source": [
    "# 以下方法传入的是一个 *arrays，如 (a1, a2, ...)\n",
    "x = np.array([1, 2, 3, 4])\n",
    "y = np.array([4, 5, 6])\n",
    "y = np.append(y, 7)\n",
    "# 追加, 可读性好占内存大\n",
    "# axis = 1 按行堆叠\n",
    "# axis = 2 按列堆叠\n",
    "print(np.stack((x, y)))"
   ],
   "metadata": {
    "collapsed": false,
    "pycharm": {
     "name": "#%%\n"
    }
   }
  },
  {
   "cell_type": "markdown",
   "source": [
    "np.dstack(tup) 将列表中的数组沿深度方向进行拼接"
   ],
   "metadata": {
    "collapsed": false,
    "pycharm": {
     "name": "#%% md\n"
    }
   }
  },
  {
   "cell_type": "code",
   "execution_count": 86,
   "outputs": [
    {
     "name": "stdout",
     "output_type": "stream",
     "text": [
      "[[[1 4]\n",
      "  [2 5]\n",
      "  [3 6]\n",
      "  [4 7]]]\n",
      "[[[1 2]]\n",
      "\n",
      " [[2 3]]\n",
      "\n",
      " [[3 4]]]\n"
     ]
    }
   ],
   "source": [
    "x = np.array([1, 2, 3, 4])\n",
    "y = np.array([4, 5, 6, 7])\n",
    "# 按\n",
    "print(np.dstack((x, y)))\n",
    "a = np.array([[1], [2], [3]])\n",
    "b = np.array([[2], [3], [4]])\n",
    "print(np.dstack((a, b)))"
   ],
   "metadata": {
    "collapsed": false,
    "pycharm": {
     "name": "#%%\n"
    }
   }
  },
  {
   "cell_type": "code",
   "execution_count": 116,
   "outputs": [
    {
     "name": "stdout",
     "output_type": "stream",
     "text": [
      "[[1 2 3 4]\n",
      " [4 5 6 7]]\n",
      "---------------\n",
      "[1 2 3 4 4 5 6 7]\n",
      "--------------\n",
      "[0 1 2 3]\n",
      "(4,)\n",
      "[[0 1 2 3]]\n",
      "(1, 4)\n",
      "[[0]\n",
      " [1]\n",
      " [2]\n",
      " [3]]\n",
      "(4, 1)\n",
      "---------------\n"
     ]
    }
   ],
   "source": [
    "# 垂直合并\n",
    "x = np.array([1, 2, 3, 4])\n",
    "y = np.array([4, 5, 6, 7])\n",
    "print(np.vstack((x, y)))\n",
    "print(\"---------------\")\n",
    "# 水平合并\n",
    "print(np.hstack((x, y)))\n",
    "print(\"--------------\")\n",
    "# 增加新维度\n",
    "x = np.arange(4)\n",
    "# 初始的⼀维数组\n",
    "print(x)\n",
    "print(x.shape)\n",
    "# 得到的⼆维数组\n",
    "print(x[np.newaxis, :])\n",
    "print(x[np.newaxis, :].shape)\n",
    "\n",
    "print(x[:, np.newaxis])\n",
    "print(x[:, np.newaxis].shape)\n",
    "print(\"---------------\")\n",
    "# 得到的另⼀个⼆维数组"
   ],
   "metadata": {
    "collapsed": false,
    "pycharm": {
     "name": "#%%\n"
    }
   }
  },
  {
   "cell_type": "code",
   "execution_count": 170,
   "outputs": [
    {
     "name": "stdout",
     "output_type": "stream",
     "text": [
      "[1 2 3 4 4 5 6 7]\n",
      "[[1 2 5 6]\n",
      " [3 4 7 8]]\n",
      "----------------\n",
      "[[1 2]\n",
      " [3 4]\n",
      " [5 6]\n",
      " [7 8]]\n",
      "[array([[1],\n",
      "       [3],\n",
      "       [5],\n",
      "       [7]]), array([[2],\n",
      "       [4],\n",
      "       [6],\n",
      "       [8]])]\n",
      "(4, 1)\n",
      "---------------\n",
      "[[1 2 5 6]\n",
      " [3 4 7 8]]\n",
      "[array([[1, 2, 5, 6]]), array([[3, 4, 7, 8]])]\n",
      "(1, 4)\n"
     ]
    }
   ],
   "source": [
    "# 针对多个矩阵或序列的合并操作\n",
    "x = np.array([1, 2, 3, 4])\n",
    "y = np.array([4, 5, 6, 7])\n",
    "# axis = 0 按列拼接\n",
    "# axis = 1 按行拼接\n",
    "# 默认按列拼接\n",
    "print(np.concatenate((x, y)))\n",
    "x = np.array([[1, 2], [3, 4]])\n",
    "y = np.array([[5, 6], [7, 8]])\n",
    "print(np.concatenate((x, y), axis=1))\n",
    "print(\"----------------\")\n",
    "x = np.array([[1, 2], [3, 4]])\n",
    "y = np.array([[5, 6], [7, 8]])\n",
    "xy = np.concatenate((x, y), axis=0)\n",
    "print(xy)\n",
    "# 按列分隔\n",
    "a = np.split(xy, 2, axis=1)\n",
    "print(a)\n",
    "print(a[0].shape)\n",
    "print(\"---------------\")\n",
    "# 按行分隔\n",
    "xy = np.concatenate((x, y), axis=1)\n",
    "print(xy)\n",
    "a = np.split(xy, 2, axis=0)\n",
    "print(a)\n",
    "print(a[0].shape)\n",
    "# 分隔"
   ],
   "metadata": {
    "collapsed": false,
    "pycharm": {
     "name": "#%%\n"
    }
   }
  },
  {
   "cell_type": "markdown",
   "source": [
    "# Numpy 数据类型"
   ],
   "metadata": {
    "collapsed": false,
    "pycharm": {
     "name": "#%% md\n"
    }
   }
  },
  {
   "cell_type": "markdown",
   "source": [
    "## 类型对象"
   ],
   "metadata": {
    "collapsed": false,
    "pycharm": {
     "name": "#%% md\n"
    }
   }
  },
  {
   "cell_type": "code",
   "execution_count": 173,
   "outputs": [
    {
     "name": "stdout",
     "output_type": "stream",
     "text": [
      ">\n",
      "4\n",
      "int32\n",
      "True\n",
      "True\n",
      "True\n"
     ]
    }
   ],
   "source": [
    "dt = np.dtype('>i4')\n",
    "print(dt.byteorder)\n",
    "# '>'\n",
    "print(dt.itemsize)\n",
    "# 4\n",
    "print(dt.name)\n",
    "# 'int32'\n",
    "# 对应的数组标量类型是 int32\n",
    "print(dt.type is np.int32)\n",
    "# True\n",
    "print(np.float64 == np.dtype(np.float64) == np.dtype('float64'))\n",
    "# True\n",
    "print(np.float64 == np.dtype(np.float64).type)\n",
    "# True"
   ],
   "metadata": {
    "collapsed": false,
    "pycharm": {
     "name": "#%%\n"
    }
   }
  },
  {
   "cell_type": "code",
   "execution_count": 174,
   "outputs": [
    {
     "name": "stdout",
     "output_type": "stream",
     "text": [
      "<U16\n",
      "('<f8', (2,))\n"
     ]
    }
   ],
   "source": [
    "dt = np.dtype([('name', np.unicode_, 16), ('grades', np.float64, (2,))])\n",
    "print(dt['name'])\n",
    "# dtype('<U16')\n",
    "print(dt['grades'])\n",
    "# dtype(('<f8', (2,)))"
   ],
   "metadata": {
    "collapsed": false,
    "pycharm": {
     "name": "#%%\n"
    }
   }
  },
  {
   "cell_type": "code",
   "execution_count": 183,
   "outputs": [
    {
     "name": "stdout",
     "output_type": "stream",
     "text": [
      "('John', [6., 7.])\n",
      "[6. 7.]\n",
      "John\n",
      "wsssssssssssssss\n",
      "<class 'numpy.void'>\n",
      "<class 'numpy.ndarray'>\n"
     ]
    }
   ],
   "source": [
    "x = np.array([('Sarah', (8.0, 7.0)), ('John', (6.0, 7.0)), ('wsssssssssssssssy', (100, 99))], dtype=dt)\n",
    "print(x[1])\n",
    "# ('John', [6., 7.])\n",
    "print(x[1]['grades'])\n",
    "# array([6.,  7.])\n",
    "print(x[1]['name'])\n",
    "# 超出数组项限制，打印不全\n",
    "print(x[2]['name'])\n",
    "print(type(x[1]))\n",
    "# <class 'numpy.void'>\n",
    "print(type(x[1]['grades']))\n",
    "# <class 'numpy.ndarray'>"
   ],
   "metadata": {
    "collapsed": false,
    "pycharm": {
     "name": "#%%\n"
    }
   }
  },
  {
   "cell_type": "markdown",
   "source": [
    "## 构造数据类型"
   ],
   "metadata": {
    "collapsed": false,
    "pycharm": {
     "name": "#%% md\n"
    }
   }
  },
  {
   "cell_type": "code",
   "execution_count": null,
   "outputs": [],
   "source": [
    "# 使用数组标量类型\n",
    "np.dtype(np.int16)  # dtype('int16')\n",
    "# 结构化类型，一个字段名“f1”，包含int16:\n",
    "np.dtype([('f1', np.int16)])  # dtype([('f1', '<i2')])\n",
    "\n",
    "# 结构化类型，一个名为“f1”的字段\n",
    "# 其本身包含一个具有一个字段的结构化类型：\n",
    "np.dtype([('f1', [('f1', np.int16)])])\n",
    "# dtype([('f1', [('f1', '<i2')])])\n",
    "\n",
    "# 结构化类型，两个字段：第一个字段包含无符号int\n",
    "# 第二个字段包含int 32：\n",
    "np.dtype([('f1', np.uint64), ('f2', np.int32)])\n",
    "# dtype([('f1', '<u8'), ('f2', '<i4')])\n",
    "\n",
    "# 使用数组协议类型字符串：\n",
    "np.dtype([('a', 'f8'), ('b', 'S10')])\n",
    "# dtype([('a', '<f8'), ('b', 'S10')])\n",
    "\n",
    "# 使用逗号分隔的字段格式。形状为（2,3）\n",
    "np.dtype(\"i4, (2,3)f8\")\n",
    "# dtype([('f0', '<i4'), ('f1', '<f8', (2, 3))])\n",
    "\n",
    "# 使用元组，int 是固定类型，3 表示字段的形状\n",
    "# void 是一种灵活的类型，这里的大小为10：\n",
    "np.dtype([('hello', (np.int64, 3)), ('world', np.void, 10)])\n",
    "# dtype([('hello', '<i8', (3,)), ('world', 'V10')])\n",
    "\n",
    "# 将 int16 细分为 2 个 int8，称为x和y\n",
    "# 0 和 1 是以字节为单位的偏移量：\n",
    "np.dtype((np.int16, {'x': (np.int8, 0), 'y': (np.int8, 1)}))\n",
    "# dtype((numpy.int16, [('x', 'i1'), ('y', 'i1')]))\n",
    "\n",
    "# 使用字典。两个名为“gender”和“age”的字段：\n",
    "np.dtype({'names': ['gender', 'age'], 'formats': ['S1', np.uint8]})\n",
    "# dtype([('gender', 'S1'), ('age', 'u1')])\n",
    "\n",
    "# 偏移量（字节），这里是0和25：\n",
    "np.dtype({'surname': ('S25', 0), 'age': (np.uint8, 25)})\n",
    "# dtype([('surname', 'S25'), ('age', 'u1')])"
   ],
   "metadata": {
    "collapsed": false,
    "pycharm": {
     "name": "#%%\n"
    }
   }
  },
  {
   "cell_type": "markdown",
   "source": [
    "# Numpy 常量"
   ],
   "metadata": {
    "collapsed": false,
    "pycharm": {
     "name": "#%% md\n"
    }
   }
  },
  {
   "cell_type": "markdown",
   "source": [
    "## 常用常量\n",
    "* numpy.inf：（正）无穷大\n",
    "* numpy.nan：空值、非数值\n",
    "* numpy.pi：圆周率 π\n",
    "* numpy.e：自然数 e\n",
    "* numpy.euler_gamma：欧拉常数 γ"
   ],
   "metadata": {
    "collapsed": false,
    "pycharm": {
     "name": "#%% md\n"
    }
   }
  },
  {
   "cell_type": "markdown",
   "source": [
    "## 无穷大"
   ],
   "metadata": {
    "collapsed": false,
    "pycharm": {
     "name": "#%% md\n"
    }
   }
  },
  {
   "cell_type": "code",
   "execution_count": 186,
   "outputs": [
    {
     "name": "stdout",
     "output_type": "stream",
     "text": [
      "inf\n",
      "<class 'float'>\n"
     ]
    }
   ],
   "source": [
    "# inf\n",
    "print(np.inf)\n",
    "# 它是一个浮点型\n",
    "print(type(np.inf))\n",
    "# float"
   ],
   "metadata": {
    "collapsed": false,
    "pycharm": {
     "name": "#%%\n"
    }
   }
  },
  {
   "cell_type": "code",
   "execution_count": 187,
   "outputs": [
    {
     "name": "stdout",
     "output_type": "stream",
     "text": [
      "True\n",
      "False\n",
      "inf\n",
      "inf\n",
      "nan\n",
      "nan\n",
      "[inf]\n"
     ]
    }
   ],
   "source": [
    "print(np.inf == +np.inf)\n",
    "# True\n",
    "print(np.inf == -np.inf)\n",
    "# False\n",
    "print(np.inf + 1)\n",
    "# inf\n",
    "print(np.inf * 1)\n",
    "# inf\n",
    "print(np.inf / np.inf)\n",
    "# nan\n",
    "print(np.inf + (-np.inf))\n",
    "# nan\n",
    "print(np.array([np.inf]) / 0)\n",
    "# array([inf])"
   ],
   "metadata": {
    "collapsed": false,
    "pycharm": {
     "name": "#%%\n"
    }
   }
  },
  {
   "cell_type": "code",
   "execution_count": 189,
   "outputs": [
    {
     "name": "stdout",
     "output_type": "stream",
     "text": [
      "[ True  True False]\n",
      "[ True False False]\n",
      "[False False False]\n",
      "[False  True False]\n",
      "[False False  True]\n"
     ]
    }
   ],
   "source": [
    "a = np.array([np.inf, -np.inf, 1])\n",
    "\n",
    "# 显示哪些元素是正无穷大或负无穷大\n",
    "print(np.isinf(a))\n",
    "# array([ True,  True, False])\n",
    "# 显示哪些元素为正无穷大\n",
    "print(np.isposinf(a))\n",
    "# array([ True, False, False])\n",
    "# 显示哪些元素不是数字\n",
    "print(np.isnan(a))\n",
    "# array([False, False, False])\n",
    "# 显示哪些元素为负无穷大\n",
    "print(np.isneginf(a))\n",
    "# array([False,  True, False])\n",
    "# 显示哪些元素是有限的\n",
    "print(np.isfinite(a))\n",
    "# array([False, False,  True])"
   ],
   "metadata": {
    "collapsed": false,
    "pycharm": {
     "name": "#%%\n"
    }
   }
  },
  {
   "cell_type": "markdown",
   "source": [
    "### 空值 np.nan\n",
    "IEEE 754 标准中非数字（NaN，Not a Number）的浮点表示，代表没有值。NaN 和NAN 是 nan 的等效定义，一般请使用 nan，而不是 NAN"
   ],
   "metadata": {
    "collapsed": false,
    "pycharm": {
     "name": "#%% md\n"
    }
   }
  },
  {
   "cell_type": "code",
   "execution_count": 196,
   "outputs": [
    {
     "name": "stdout",
     "output_type": "stream",
     "text": [
      "<class 'float'>\n",
      "nan\n",
      "False\n",
      "nan\n",
      "[       nan 0.         0.69314718 1.        ]\n"
     ]
    },
    {
     "name": "stderr",
     "output_type": "stream",
     "text": [
      "C:\\Users\\83477\\AppData\\Local\\Temp/ipykernel_24292/2803448646.py:8: RuntimeWarning: invalid value encountered in log\n",
      "  print(np.log(-1))\n",
      "C:\\Users\\83477\\AppData\\Local\\Temp/ipykernel_24292/2803448646.py:10: RuntimeWarning: invalid value encountered in log\n",
      "  print(np.log([-1, 1, 2, np.e]))\n"
     ]
    }
   ],
   "source": [
    "# 浮点类型\n",
    "print(type(np.nan))\n",
    "# float\n",
    "print(np.nan)\n",
    "# nan\n",
    "print(np.nan == np.inf)\n",
    "# False\n",
    "print(np.log(-1))\n",
    "# nan\n",
    "print(np.log([-1, 1, 2, np.e]))\n",
    "# RuntimeWarning: invalid value\n",
    "# array([        NaN,  0.        ,  0.69314718, 1])"
   ],
   "metadata": {
    "collapsed": false,
    "pycharm": {
     "name": "#%%\n"
    }
   }
  },
  {
   "cell_type": "code",
   "execution_count": 195,
   "outputs": [
    {
     "name": "stdout",
     "output_type": "stream",
     "text": [
      "[False False  True]\n",
      "[ True  True False]\n"
     ]
    }
   ],
   "source": [
    "a = np.array([1, 2, np.nan])\n",
    "# 显示哪些元素不是数字\n",
    "print(np.isnan(a))\n",
    "# array([False, False,  True])\n",
    "# 显示哪些元素是有限的\n",
    "print(np.isfinite(a))\n",
    "# array([ True,  True, False])"
   ],
   "metadata": {
    "collapsed": false,
    "pycharm": {
     "name": "#%%\n"
    }
   }
  },
  {
   "cell_type": "markdown",
   "source": [
    "### 圆周率 np.pi"
   ],
   "metadata": {
    "collapsed": false,
    "pycharm": {
     "name": "#%% md\n"
    }
   }
  },
  {
   "cell_type": "code",
   "execution_count": 193,
   "outputs": [
    {
     "name": "stdout",
     "output_type": "stream",
     "text": [
      "<class 'float'>\n",
      "3.141592653589793\n"
     ]
    }
   ],
   "source": [
    "print(type(np.pi))\n",
    "# float\n",
    "print(np.pi)\n",
    "# 3.141592653589793"
   ],
   "metadata": {
    "collapsed": false,
    "pycharm": {
     "name": "#%%\n"
    }
   }
  },
  {
   "cell_type": "markdown",
   "source": [
    "### 自然数 e np.e"
   ],
   "metadata": {
    "collapsed": false,
    "pycharm": {
     "name": "#%% md\n"
    }
   }
  },
  {
   "cell_type": "code",
   "execution_count": 192,
   "outputs": [
    {
     "name": "stdout",
     "output_type": "stream",
     "text": [
      "<class 'float'>\n",
      "2.718281828459045\n"
     ]
    }
   ],
   "source": [
    "print(type(np.e))\n",
    "# float\n",
    "print(np.e)\n",
    "# 2.718281828459045"
   ],
   "metadata": {
    "collapsed": false,
    "pycharm": {
     "name": "#%%\n"
    }
   }
  },
  {
   "cell_type": "markdown",
   "source": [
    "### 欧拉常数 np.euler_gamma"
   ],
   "metadata": {
    "collapsed": false,
    "pycharm": {
     "name": "#%% md\n"
    }
   }
  },
  {
   "cell_type": "code",
   "execution_count": 191,
   "outputs": [
    {
     "name": "stdout",
     "output_type": "stream",
     "text": [
      "<class 'float'>\n",
      "0.5772156649015329\n"
     ]
    }
   ],
   "source": [
    "print(type(np.e))\n",
    "# float\n",
    "print(np.euler_gamma)\n",
    "# 0.5772156649015329"
   ],
   "metadata": {
    "collapsed": false,
    "pycharm": {
     "name": "#%%\n"
    }
   }
  },
  {
   "cell_type": "markdown",
   "source": [
    "## 其他常量"
   ],
   "metadata": {
    "collapsed": false,
    "pycharm": {
     "name": "#%% md\n"
    }
   }
  },
  {
   "cell_type": "markdown",
   "source": [
    "### 负零\n",
    "NumPy 按 IEEE 算术二进制浮点标准（IEEE 754），负零被视为有限数"
   ],
   "metadata": {
    "collapsed": false,
    "pycharm": {
     "name": "#%% md\n"
    }
   }
  },
  {
   "cell_type": "code",
   "execution_count": 197,
   "outputs": [
    {
     "name": "stdout",
     "output_type": "stream",
     "text": [
      "-0.0\n",
      "0.0\n",
      "[ True]\n",
      "[False]\n",
      "[False]\n"
     ]
    }
   ],
   "source": [
    "print(np.NZERO)\n",
    "# -0.0\n",
    "print(np.PZERO)\n",
    "# 0.0\n",
    "print(np.isfinite([np.NZERO]))\n",
    "# array([ True])\n",
    "print(np.isnan([np.NZERO]))\n",
    "# array([False])\n",
    "print(np.isinf([np.NZERO]))\n",
    "# array([False])"
   ],
   "metadata": {
    "collapsed": false,
    "pycharm": {
     "name": "#%%\n"
    }
   }
  },
  {
   "cell_type": "markdown",
   "source": [
    "### 正零\n",
    "正零的浮点表示，正零被视为有限数"
   ],
   "metadata": {
    "collapsed": false,
    "pycharm": {
     "name": "#%% md\n"
    }
   }
  },
  {
   "cell_type": "code",
   "execution_count": 198,
   "outputs": [
    {
     "name": "stdout",
     "output_type": "stream",
     "text": [
      "[ True]\n",
      "[False]\n",
      "[False]\n"
     ]
    }
   ],
   "source": [
    "print(np.isfinite([np.PZERO]))\n",
    "# array([ True])\n",
    "print(np.isnan([np.PZERO]))\n",
    "# array([False])\n",
    "print(np.isinf([np.PZERO]))\n",
    "# array([False])"
   ],
   "metadata": {
    "collapsed": false,
    "pycharm": {
     "name": "#%%\n"
    }
   }
  },
  {
   "cell_type": "markdown",
   "source": [
    "# NumPy 数组的广播"
   ],
   "metadata": {
    "collapsed": false,
    "pycharm": {
     "name": "#%% md\n"
    }
   }
  },
  {
   "cell_type": "markdown",
   "source": [
    "广播（Array Broadcasting）描述的是 NumPy 如何计算不同形状的数组之间的运算。如果是较大的矩阵和较小的矩阵进行运算的话，较小的矩阵就会被广播"
   ],
   "metadata": {
    "collapsed": false,
    "pycharm": {
     "name": "#%% md\n"
    }
   }
  },
  {
   "cell_type": "markdown",
   "source": [
    "## 理解广播"
   ],
   "metadata": {
    "collapsed": false,
    "pycharm": {
     "name": "#%% md\n"
    }
   }
  },
  {
   "cell_type": "code",
   "execution_count": 200,
   "outputs": [
    {
     "name": "stdout",
     "output_type": "stream",
     "text": [
      "[2. 4. 6.]\n"
     ]
    }
   ],
   "source": [
    "a = np.array([1.0, 2.0, 3.0])\n",
    "b = np.array([2.0, 2.0, 2.0])\n",
    "print(a * b)\n",
    "# array([ 2.,  4.,  6.])"
   ],
   "metadata": {
    "collapsed": false,
    "pycharm": {
     "name": "#%%\n"
    }
   }
  },
  {
   "cell_type": "markdown",
   "source": [
    "当数组的形状满足某些约束时，NumPy 的广播规则会放宽这个约束。最简单的广播示例是在操作中组合数组和标量值时："
   ],
   "metadata": {
    "collapsed": false,
    "pycharm": {
     "name": "#%% md\n"
    }
   }
  },
  {
   "cell_type": "code",
   "execution_count": 201,
   "outputs": [
    {
     "name": "stdout",
     "output_type": "stream",
     "text": [
      "[2. 4. 6.]\n"
     ]
    }
   ],
   "source": [
    "a = np.array([1.0, 2.0, 3.0])\n",
    "b = 2.0\n",
    "print(a * b)\n",
    "# array([ 2.,  4.,  6.])"
   ],
   "metadata": {
    "collapsed": false,
    "pycharm": {
     "name": "#%%\n"
    }
   }
  }
 ],
 "metadata": {
  "kernelspec": {
   "display_name": "Python 3",
   "language": "python",
   "name": "python3"
  },
  "language_info": {
   "codemirror_mode": {
    "name": "ipython",
    "version": 2
   },
   "file_extension": ".py",
   "mimetype": "text/x-python",
   "name": "python",
   "nbconvert_exporter": "python",
   "pygments_lexer": "ipython2",
   "version": "2.7.6"
  }
 },
 "nbformat": 4,
 "nbformat_minor": 0
}