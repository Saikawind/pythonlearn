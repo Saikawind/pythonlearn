{
 "cells": [
  {
   "cell_type": "markdown",
   "metadata": {
    "pycharm": {
     "name": "#%% md\n"
    }
   },
   "source": [
    "# 定义函数"
   ]
  },
  {
   "cell_type": "markdown",
   "metadata": {
    "pycharm": {
     "name": "#%% md\n"
    }
   },
   "source": [
    "## 函数的定义方法"
   ]
  },
  {
   "cell_type": "code",
   "execution_count": null,
   "metadata": {
    "collapsed": false,
    "jupyter": {
     "outputs_hidden": false
    },
    "pycharm": {
     "name": "#%%\n"
    }
   },
   "outputs": [],
   "source": [
    "# def <函数名>(<参数>):\n",
    "#     \"\"\"<函数说明>\"\"\"\n",
    "#     <函数代码>\n",
    "#     <pass>\n",
    "#     return <返回内容>"
   ]
  },
  {
   "cell_type": "markdown",
   "metadata": {
    "pycharm": {
     "name": "#%% md\n"
    }
   },
   "source": [
    "格式说明：\n",
    "* def：定义函数的关键字，所有函数都由它来引导，空格后跟着函数名\n",
    "* return：函数经过逻辑处理后最终返回的内容，空格后跟着返回值\n",
    "* pass：如果函数什么都不做，或者部分分支逻辑不干啥，可以用它\n",
    "* 函数名：函数的名字，看到要大体知道这个函数是干什么的，后边跟着括号()\n",
    "* 参数：括号内的内容，调用时传入，作为函数代码中的变量，可以为空\n",
    "* 函数说明：用于说明此函数的作用，参数说明等，可以不写\n",
    "* 返回内容：函数被调用后最终给出的结果，可以是表达式，也可以是函数代码中的变量"
   ]
  },
  {
   "cell_type": "markdown",
   "metadata": {},
   "source": [
    "## 实例及说明"
   ]
  },
  {
   "cell_type": "code",
   "execution_count": 2,
   "metadata": {
    "collapsed": false,
    "jupyter": {
     "outputs_hidden": false
    },
    "pycharm": {
     "name": "#%%\n"
    }
   },
   "outputs": [],
   "source": [
    "def city_tier(city_name):\n",
    "    \"\"\"返回一个城市是否一线城市\"\"\"\n",
    "    first_tier = ['北京', '上海', '广州', '深圳']\n",
    "    if city_name in first_tier:\n",
    "        return '一线城市'\n",
    "    else:\n",
    "        return '非一线城市'"
   ]
  },
  {
   "cell_type": "markdown",
   "metadata": {
    "pycharm": {
     "name": "#%% md\n"
    }
   },
   "source": [
    "## 函数的调用"
   ]
  },
  {
   "cell_type": "code",
   "execution_count": 3,
   "metadata": {
    "collapsed": false,
    "jupyter": {
     "outputs_hidden": false
    },
    "pycharm": {
     "name": "#%%\n"
    }
   },
   "outputs": [
    {
     "name": "stdout",
     "output_type": "stream",
     "text": [
      "上海是一线城市\n",
      "非一线城市\n"
     ]
    }
   ],
   "source": [
    "# 如果不按要求传参数会报错\n",
    "# city_tier() # TypeError\n",
    "\n",
    "# 把调用结果赋值给变量\n",
    "sh = city_tier('上海')\n",
    "# sh: '一线城市'\n",
    "sh = f'上海是{city_tier(\"上海\")}'\n",
    "print(sh)\n",
    "# '上海是一线城市'\n",
    "\n",
    "# 把函数传给变量，然后用此变量调用\n",
    "ct = city_tier\n",
    "print(ct('青岛'))\n",
    "# '非一线城市'"
   ]
  },
  {
   "cell_type": "markdown",
   "metadata": {
    "pycharm": {
     "name": "#%% md\n"
    }
   },
   "source": [
    "如无定义参数不能传入参数："
   ]
  },
  {
   "cell_type": "code",
   "execution_count": 5,
   "metadata": {
    "collapsed": false,
    "jupyter": {
     "outputs_hidden": false
    },
    "pycharm": {
     "name": "#%%\n"
    }
   },
   "outputs": [
    {
     "name": "stdout",
     "output_type": "stream",
     "text": [
      "我是好人！\n",
      "Hello World\n"
     ]
    }
   ],
   "source": [
    "def me():\n",
    "    print('我是好人！')\n",
    "\n",
    "\n",
    "me()  # 我是好人！"
   ]
  },
  {
   "cell_type": "markdown",
   "metadata": {
    "pycharm": {
     "name": "#%% md\n"
    }
   },
   "source": [
    "可选参数的函数"
   ]
  },
  {
   "cell_type": "code",
   "execution_count": 9,
   "metadata": {
    "collapsed": false,
    "jupyter": {
     "outputs_hidden": false
    },
    "pycharm": {
     "name": "#%%\n"
    }
   },
   "outputs": [
    {
     "name": "stdout",
     "output_type": "stream",
     "text": [
      "盖若是个好网站\n",
      "知乎是个好网站\n"
     ]
    }
   ],
   "source": [
    "def web(name='盖若'):\n",
    "    print(f'{name}是个好网站')\n",
    "\n",
    "\n",
    "web()  # 盖若是个好网站\n",
    "web('知乎')  # 知乎是个好网站"
   ]
  },
  {
   "cell_type": "markdown",
   "metadata": {
    "pycharm": {
     "name": "#%% md\n"
    }
   },
   "source": [
    "## 函数返回"
   ]
  },
  {
   "cell_type": "code",
   "execution_count": 10,
   "metadata": {
    "collapsed": false,
    "jupyter": {
     "outputs_hidden": false
    },
    "pycharm": {
     "name": "#%%\n"
    }
   },
   "outputs": [
    {
     "name": "stdout",
     "output_type": "stream",
     "text": [
      "盖若是个好网站\n"
     ]
    },
    {
     "data": {
      "text/plain": [
       "NoneType"
      ]
     },
     "execution_count": 10,
     "metadata": {},
     "output_type": "execute_result"
    }
   ],
   "source": [
    "type(city_tier('杭州'))  # str\n",
    "type(web())  # NoneType"
   ]
  },
  {
   "cell_type": "code",
   "execution_count": 11,
   "metadata": {
    "collapsed": false,
    "jupyter": {
     "outputs_hidden": false
    },
    "pycharm": {
     "name": "#%%\n"
    }
   },
   "outputs": [
    {
     "data": {
      "text/plain": [
       "(25.12, 50.24)"
      ]
     },
     "execution_count": 11,
     "metadata": {},
     "output_type": "execute_result"
    }
   ],
   "source": [
    "def circle(r):\n",
    "    \"\"\"计算圆的周长和面积\"\"\"\n",
    "    l = 2 * 3.14 * r\n",
    "    s = 3.14 * (r ** 2)\n",
    "    return l, s\n",
    "\n",
    "\n",
    "# 调用\n",
    "circle(4)  # (25.12, 50.24)"
   ]
  },
  {
   "cell_type": "markdown",
   "metadata": {
    "pycharm": {
     "name": "#%% md\n"
    }
   },
   "source": [
    "# 函数的参数"
   ]
  },
  {
   "cell_type": "markdown",
   "metadata": {
    "pycharm": {
     "name": "#%% md\n"
    }
   },
   "source": [
    "## 无参数"
   ]
  },
  {
   "cell_type": "markdown",
   "metadata": {
    "pycharm": {
     "name": "#%% md\n"
    }
   },
   "source": [
    "## 形参和实参\n",
    "形参：定义时参数名称\n",
    "实参：实际传入的值\n",
    "可以理解为一个是变量一个是值，如："
   ]
  },
  {
   "cell_type": "code",
   "execution_count": 12,
   "metadata": {
    "collapsed": false,
    "jupyter": {
     "outputs_hidden": false
    },
    "pycharm": {
     "name": "#%%\n"
    }
   },
   "outputs": [],
   "source": [
    "# 定义\n",
    "def foo(name, age=18, boy=True, **kwargs):\n",
    "    pass\n",
    "\n",
    "\n",
    "# 调用\n",
    "foo('tom', age=20, city='shanghai')"
   ]
  },
  {
   "cell_type": "markdown",
   "metadata": {
    "pycharm": {
     "name": "#%% md\n"
    }
   },
   "source": [
    "其中，name、age 等是形参，'tom'、20 是实参。"
   ]
  },
  {
   "cell_type": "markdown",
   "metadata": {
    "pycharm": {
     "name": "#%% md\n"
    }
   },
   "source": [
    "## 默认值参数"
   ]
  },
  {
   "cell_type": "code",
   "execution_count": 13,
   "metadata": {
    "collapsed": false,
    "jupyter": {
     "outputs_hidden": false
    },
    "pycharm": {
     "name": "#%%\n"
    }
   },
   "outputs": [],
   "source": [
    "foo('小刚')\n",
    "foo('小刚', 22)\n",
    "# 也可以给默认参数传值"
   ]
  },
  {
   "cell_type": "markdown",
   "metadata": {
    "pycharm": {
     "name": "#%% md\n"
    }
   },
   "source": [
    "注：\n",
    "1. 多个默认值参数如果不指定形参需要按顺序传递变量\n",
    "2. 如果同时有默认值和没有默认值的参数，没有默认值的必须在有默认值的前边，否则报错"
   ]
  },
  {
   "cell_type": "markdown",
   "metadata": {
    "pycharm": {
     "name": "#%% md\n"
    }
   },
   "source": [
    "## 位置参数\n",
    "指在固定位置的参数，在调用时按位置顺序传入"
   ]
  },
  {
   "cell_type": "code",
   "execution_count": 16,
   "metadata": {
    "collapsed": false,
    "jupyter": {
     "outputs_hidden": false
    },
    "pycharm": {
     "name": "#%%\n"
    }
   },
   "outputs": [
    {
     "name": "stdout",
     "output_type": "stream",
     "text": [
      "2\n",
      "-2\n"
     ]
    }
   ],
   "source": [
    "def foo(x, y):\n",
    "    return x - y\n",
    "\n",
    "\n",
    "print(foo(10, 8))\n",
    "print(foo(8, 10))"
   ]
  },
  {
   "cell_type": "markdown",
   "metadata": {
    "pycharm": {
     "name": "#%% md\n"
    }
   },
   "source": [
    "## 关键字参数\n",
    "调用函数时我们可以使用调用关键字参数，格式为 关键字=参数值，这样就不用关心顺序问题了。"
   ]
  },
  {
   "cell_type": "code",
   "execution_count": 17,
   "metadata": {
    "collapsed": false,
    "jupyter": {
     "outputs_hidden": false
    },
    "pycharm": {
     "name": "#%%\n"
    }
   },
   "outputs": [
    {
     "name": "stdout",
     "output_type": "stream",
     "text": [
      "20岁的tom说：hello\n"
     ]
    }
   ],
   "source": [
    "def say(name, age=18, words='hello'):\n",
    "    print(f'{age}岁的{name}说：{words}')\n",
    "\n",
    "\n",
    "# 调用\n",
    "say(name='tom', age=20)  # 20岁的tom说：hello"
   ]
  },
  {
   "cell_type": "markdown",
   "metadata": {
    "pycharm": {
     "name": "#%% md\n"
    }
   },
   "source": [
    "关键字参数后面必须都是关键字参数："
   ]
  },
  {
   "cell_type": "code",
   "execution_count": 19,
   "metadata": {
    "collapsed": false,
    "jupyter": {
     "outputs_hidden": false
    },
    "pycharm": {
     "name": "#%%\n"
    }
   },
   "outputs": [
    {
     "name": "stdout",
     "output_type": "stream",
     "text": [
      "20岁的tom说：hello\n"
     ]
    }
   ],
   "source": [
    "say('tom', age=20)  # 20岁的tom说：hello\n",
    "# say('tom', age=20, 'good') # 报错"
   ]
  },
  {
   "cell_type": "markdown",
   "metadata": {
    "pycharm": {
     "name": "#%% md\n"
    }
   },
   "source": [
    "## 可变参数\n",
    "有时候我们不确定参数的数量，可使用可变参数，类似 **kwargs。其中：\n",
    "\n",
    "* *args 一个星号，以元组(tuple)的形式导入\n",
    "* **kwargs 两个星号，以字典的形式导入\n",
    "* args 和 kwargs 是习惯写法，可以用其他变量名称"
   ]
  },
  {
   "cell_type": "code",
   "execution_count": 22,
   "metadata": {
    "collapsed": false,
    "jupyter": {
     "outputs_hidden": false
    },
    "pycharm": {
     "name": "#%%\n"
    }
   },
   "outputs": [
    {
     "name": "stdout",
     "output_type": "stream",
     "text": [
      "(1,)\n",
      "(1, 4, 5, 6)\n",
      "{'a': 1}\n",
      "{'a': 1, 'b': 4, 'c': 5}\n"
     ]
    }
   ],
   "source": [
    "def foo(*t):\n",
    "    print(t)\n",
    "\n",
    "\n",
    "# 调用\n",
    "foo(1)  # (1,)\n",
    "foo(1, 4, 5, 6)  # (1, 4, 5, 6)\n",
    "\n",
    "\n",
    "def foo(**d):\n",
    "    print(d)\n",
    "\n",
    "\n",
    "# 调用\n",
    "foo(a=1)  # {'a': 1}\n",
    "foo(a=1, b=4, c=5)  # {'a': 1, 'b': 4, 'c': 5}"
   ]
  },
  {
   "cell_type": "markdown",
   "metadata": {
    "pycharm": {
     "name": "#%% md\n"
    }
   },
   "source": [
    "可变参数与其他类型的参数混用时，采用元组拆包（解包）的原则。"
   ]
  },
  {
   "cell_type": "code",
   "execution_count": 21,
   "metadata": {
    "collapsed": false,
    "jupyter": {
     "outputs_hidden": false
    },
    "pycharm": {
     "name": "#%%\n"
    }
   },
   "outputs": [
    {
     "name": "stdout",
     "output_type": "stream",
     "text": [
      "1 2 (3, 4, 5) 6\n"
     ]
    }
   ],
   "source": [
    "def foo(a, b, *c, d):\n",
    "    print(a, b, c, d)\n",
    "\n",
    "\n",
    "# 调用\n",
    "foo(1, 2, 3, 4, 5, d=6)  # 1 2 (3, 4, 5) 6 d 要用关键字传入"
   ]
  },
  {
   "cell_type": "markdown",
   "metadata": {
    "pycharm": {
     "name": "#%% md\n"
    }
   },
   "source": [
    "可以通过 ** 用字典传递关键字参数："
   ]
  },
  {
   "cell_type": "code",
   "execution_count": 23,
   "metadata": {
    "collapsed": false,
    "jupyter": {
     "outputs_hidden": false
    },
    "pycharm": {
     "name": "#%%\n"
    }
   },
   "outputs": [
    {
     "name": "stdout",
     "output_type": "stream",
     "text": [
      "20岁的tom说：hello\n"
     ]
    }
   ],
   "source": [
    "def say(name, age=18, words='hello'):\n",
    "    print(f'{age}岁的{name}说：{words}')\n",
    "\n",
    "\n",
    "# 调用\n",
    "d = {'name': 'tom', 'age': 20, 'words': 'hello'}\n",
    "say(**d)  # 20岁的tom说：hello"
   ]
  },
  {
   "cell_type": "markdown",
   "metadata": {
    "pycharm": {
     "name": "#%% md\n"
    }
   },
   "source": [
    "## 独立星号\n",
    "函数的多个参数中间若有一个单独的星号*分隔，则星号后面为命名关键字参数，\n",
    "星号本身不是参数，会使得函数在调用时必须带参数名字进行调用。如："
   ]
  },
  {
   "cell_type": "code",
   "execution_count": 24,
   "metadata": {
    "collapsed": false,
    "jupyter": {
     "outputs_hidden": false
    },
    "pycharm": {
     "name": "#%%\n"
    }
   },
   "outputs": [
    {
     "name": "stdout",
     "output_type": "stream",
     "text": [
      "1 2 lily 9\n"
     ]
    }
   ],
   "source": [
    "def my(x, y, *, name, age):\n",
    "    print(x, y, name, age)\n",
    "\n",
    "\n",
    "# 不指定 name 和 age 参数名会报错\n",
    "# my(1, 2, 'lily', 9)\n",
    "# TypeError: my() takes 2 positional arguments but 4 were given\n",
    "\n",
    "# 指定名正常\n",
    "my(1, 2, name='lily', age=9)\n",
    "# 1 2 lily 9"
   ]
  },
  {
   "cell_type": "markdown",
   "metadata": {
    "pycharm": {
     "name": "#%% md\n"
    }
   },
   "source": [
    "## 斜杠参数"
   ]
  },
  {
   "cell_type": "code",
   "execution_count": 27,
   "metadata": {
    "collapsed": false,
    "jupyter": {
     "outputs_hidden": false
    },
    "pycharm": {
     "name": "#%%\n"
    }
   },
   "outputs": [
    {
     "data": {
      "text/plain": [
       "(0, 3)"
      ]
     },
     "execution_count": 27,
     "metadata": {},
     "output_type": "execute_result"
    }
   ],
   "source": [
    "# divmod(x, y, /) Return the tuple (x//y, x%y)\n",
    "\n",
    "# divmod(x=3, y=4)\n",
    "# TypeError: divmod() takes no keyword arguments\n",
    "divmod(3, 4)\n",
    "# (0, 3)"
   ]
  },
  {
   "cell_type": "markdown",
   "metadata": {
    "pycharm": {
     "name": "#%% md\n"
    }
   },
   "source": [
    "# 匿名函数 lambda"
   ]
  },
  {
   "cell_type": "markdown",
   "metadata": {
    "pycharm": {
     "name": "#%% md\n"
    }
   },
   "source": [
    "## 语法结构"
   ]
  },
  {
   "cell_type": "code",
   "execution_count": null,
   "metadata": {
    "collapsed": false,
    "jupyter": {
     "outputs_hidden": false
    },
    "pycharm": {
     "name": "#%%\n"
    }
   },
   "outputs": [],
   "source": [
    "# lambda < 参数 > : < 逻辑表达式代码 >"
   ]
  },
  {
   "cell_type": "markdown",
   "metadata": {
    "pycharm": {
     "name": "#%% md\n"
    }
   },
   "source": [
    "说明：\n",
    "* 参数可以一个，可以多个用逗号隔开\n",
    "* 逻辑代码的计算结果为 lambda 的返回值\n",
    "* lambda 可以没有参数，同定义无参数的函数一样"
   ]
  },
  {
   "cell_type": "markdown",
   "metadata": {
    "pycharm": {
     "name": "#%% md\n"
    }
   },
   "source": [
    "## 实例"
   ]
  },
  {
   "cell_type": "code",
   "execution_count": 39,
   "metadata": {
    "collapsed": false,
    "jupyter": {
     "outputs_hidden": false
    },
    "pycharm": {
     "name": "#%%\n"
    }
   },
   "outputs": [
    {
     "data": {
      "text/plain": [
       "5"
      ]
     },
     "execution_count": 39,
     "metadata": {},
     "output_type": "execute_result"
    }
   ],
   "source": [
    "add = lambda x, y: x + y\n",
    "add(1, 4)  # 5"
   ]
  },
  {
   "cell_type": "code",
   "execution_count": 40,
   "metadata": {
    "collapsed": false,
    "jupyter": {
     "outputs_hidden": false
    },
    "pycharm": {
     "name": "#%%\n"
    }
   },
   "outputs": [
    {
     "data": {
      "text/plain": [
       "8"
      ]
     },
     "execution_count": 40,
     "metadata": {},
     "output_type": "execute_result"
    }
   ],
   "source": [
    "(lambda x, y: x + y)(3, 5)\n",
    "# 8"
   ]
  },
  {
   "cell_type": "markdown",
   "metadata": {
    "pycharm": {
     "name": "#%% md\n"
    }
   },
   "source": [
    "## 其他使用"
   ]
  },
  {
   "cell_type": "markdown",
   "metadata": {
    "pycharm": {
     "name": "#%% md\n"
    }
   },
   "source": [
    "## 条件判断"
   ]
  },
  {
   "cell_type": "code",
   "execution_count": 51,
   "metadata": {
    "collapsed": false,
    "jupyter": {
     "outputs_hidden": false
    },
    "pycharm": {
     "name": "#%%\n"
    }
   },
   "outputs": [
    {
     "data": {
      "text/plain": [
       "49"
      ]
     },
     "execution_count": 51,
     "metadata": {},
     "output_type": "execute_result"
    }
   ],
   "source": [
    "# 两个数的最大值\n",
    "(lambda x, y: x if x > y else y)(49, 5)  # 49"
   ]
  },
  {
   "cell_type": "markdown",
   "metadata": {
    "pycharm": {
     "name": "#%% md\n"
    }
   },
   "source": [
    "## 和字典集合"
   ]
  },
  {
   "cell_type": "code",
   "execution_count": 50,
   "metadata": {
    "collapsed": false,
    "jupyter": {
     "outputs_hidden": false
    },
    "pycharm": {
     "name": "#%%\n"
    }
   },
   "outputs": [
    {
     "data": {
      "text/plain": [
       "11"
      ]
     },
     "execution_count": 50,
     "metadata": {},
     "output_type": "execute_result"
    }
   ],
   "source": [
    "# 可以定义在字典的值里，用 key 来调用\n",
    "d = {'+': lambda x, y: x + y, '-': lambda x, y: x - y}\n",
    "d['+'](3, 8)  # 11"
   ]
  },
  {
   "cell_type": "markdown",
   "metadata": {
    "pycharm": {
     "name": "#%% md\n"
    }
   },
   "source": [
    "## map"
   ]
  },
  {
   "cell_type": "code",
   "execution_count": 49,
   "metadata": {
    "collapsed": false,
    "jupyter": {
     "outputs_hidden": false
    },
    "pycharm": {
     "name": "#%%\n"
    }
   },
   "outputs": [
    {
     "data": {
      "text/plain": [
       "[2, 3, 4, 5, 6, 7]"
      ]
     },
     "execution_count": 49,
     "metadata": {},
     "output_type": "execute_result"
    }
   ],
   "source": [
    "# 作为 map 的迭代方法\n",
    "a = [1, 2, 3, 4, 5, 6]\n",
    "result = map(lambda x: x + 1, a)\n",
    "list(result)\n",
    "# [2, 3, 4, 5, 6, 7]"
   ]
  },
  {
   "cell_type": "markdown",
   "metadata": {
    "pycharm": {
     "name": "#%% md\n"
    }
   },
   "source": [
    "## filter"
   ]
  },
  {
   "cell_type": "code",
   "execution_count": 48,
   "metadata": {
    "collapsed": false,
    "jupyter": {
     "outputs_hidden": false
    },
    "pycharm": {
     "name": "#%%\n"
    }
   },
   "outputs": [
    {
     "data": {
      "text/plain": [
       "[2, 4, 6]"
      ]
     },
     "execution_count": 48,
     "metadata": {},
     "output_type": "execute_result"
    }
   ],
   "source": [
    "# 作为过虑器的过滤逻辑\n",
    "a = [1, 2, 3, 4, 5, 6]\n",
    "result = filter(lambda x: x % 2 == 0, a)\n",
    "list(result)"
   ]
  },
  {
   "cell_type": "markdown",
   "metadata": {
    "pycharm": {
     "name": "#%% md\n"
    }
   },
   "source": [
    "## reduce"
   ]
  },
  {
   "cell_type": "code",
   "execution_count": 47,
   "metadata": {
    "collapsed": false,
    "jupyter": {
     "outputs_hidden": false
    },
    "pycharm": {
     "name": "#%%\n"
    }
   },
   "outputs": [
    {
     "data": {
      "text/plain": [
       "21"
      ]
     },
     "execution_count": 47,
     "metadata": {},
     "output_type": "execute_result"
    }
   ],
   "source": [
    "from functools import reduce\n",
    "\n",
    "# 作为 reduce 累积迭代的方法\n",
    "a = [1, 2, 3, 4, 5, 6]\n",
    "result = reduce(lambda x, y: x + y, a)\n",
    "result\n",
    "# 21"
   ]
  },
  {
   "cell_type": "markdown",
   "metadata": {
    "pycharm": {
     "name": "#%% md\n"
    }
   },
   "source": [
    "## sorted"
   ]
  },
  {
   "cell_type": "code",
   "execution_count": 44,
   "metadata": {
    "collapsed": false,
    "jupyter": {
     "outputs_hidden": false
    },
    "pycharm": {
     "name": "#%%\n"
    }
   },
   "outputs": [
    {
     "data": {
      "text/plain": [
       "[{'name': 'lily', 'age': 19},\n",
       " {'name': 'lucy', 'age': 20},\n",
       " {'name': 'tom', 'age': 22}]"
      ]
     },
     "execution_count": 44,
     "metadata": {},
     "output_type": "execute_result"
    }
   ],
   "source": [
    "# 指定属性排序\n",
    "s = [{'name': 'tom', 'age': 22},\n",
    "     {'name': 'lily', 'age': 19},\n",
    "     {'name': 'lucy', 'age': 20}]\n",
    "\n",
    "sorted(s, key=lambda x: x['age'])\n",
    "\n",
    "# [{'name': 'lily', 'age': 19},\n",
    "#  {'name': 'lucy', 'age': 20},\n",
    "#  {'name': 'tom', 'age': 22}]"
   ]
  },
  {
   "cell_type": "markdown",
   "metadata": {
    "pycharm": {
     "name": "#%% md\n"
    }
   },
   "source": [
    "## iter\n",
    "iter() 函数生成迭代器，lambda 中可用 next() 调用："
   ]
  },
  {
   "cell_type": "code",
   "execution_count": 53,
   "metadata": {
    "collapsed": false,
    "jupyter": {
     "outputs_hidden": false
    },
    "pycharm": {
     "name": "#%%\n"
    }
   },
   "outputs": [],
   "source": [
    "# # 注：x 变量没有用，在一些对象中可用来占位\n",
    "# n = lambda x, y=iter('abcdef'): next(y)\n",
    "# # 可调用 6 次，每次返回其中一个值\n",
    "# n()  # 'a'\n",
    "# n()  # 'b'"
   ]
  },
  {
   "cell_type": "markdown",
   "metadata": {
    "pycharm": {
     "name": "#%% md\n"
    }
   },
   "source": [
    "# 装饰器"
   ]
  },
  {
   "cell_type": "markdown",
   "metadata": {
    "pycharm": {
     "name": "#%% md\n"
    }
   },
   "source": [
    "## 讲解"
   ]
  },
  {
   "cell_type": "code",
   "execution_count": 29,
   "metadata": {
    "collapsed": false,
    "jupyter": {
     "outputs_hidden": false
    },
    "pycharm": {
     "name": "#%%\n"
    }
   },
   "outputs": [
    {
     "name": "stdout",
     "output_type": "stream",
     "text": [
      "foo out: 123\n"
     ]
    }
   ],
   "source": [
    "def foo(x):\n",
    "    print('foo out:', x)\n",
    "\n",
    "\n",
    "# 调用函数\n",
    "foo(123)\n",
    "# foo out: 123"
   ]
  },
  {
   "cell_type": "markdown",
   "metadata": {
    "pycharm": {
     "name": "#%% md\n"
    }
   },
   "source": [
    "需求是给上面的函数加上执行日志，下面写出函数逻辑："
   ]
  },
  {
   "cell_type": "code",
   "execution_count": 34,
   "metadata": {
    "collapsed": false,
    "jupyter": {
     "outputs_hidden": false
    },
    "pycharm": {
     "name": "#%%\n"
    }
   },
   "outputs": [],
   "source": [
    "def log(func):\n",
    "    def decorator(*args, **kwargs):\n",
    "        print(f'开始执行: {func.__name__}')\n",
    "        func(*args, **kwargs)\n",
    "        print('执行结束')\n",
    "\n",
    "    return decorator"
   ]
  },
  {
   "cell_type": "markdown",
   "metadata": {
    "pycharm": {
     "name": "#%% md\n"
    }
   },
   "source": [
    "给 foo 函数应用装饰器："
   ]
  },
  {
   "cell_type": "code",
   "execution_count": 37,
   "metadata": {
    "collapsed": false,
    "jupyter": {
     "outputs_hidden": false
    },
    "pycharm": {
     "name": "#%%\n"
    }
   },
   "outputs": [
    {
     "name": "stdout",
     "output_type": "stream",
     "text": [
      "开始执行: foo\n",
      "foo out: Hello World\n",
      "执行结束\n"
     ]
    }
   ],
   "source": [
    "@log\n",
    "def foo(x):\n",
    "    print('foo out:', x)\n",
    "\n",
    "\n",
    "foo('Hello World')"
   ]
  },
  {
   "cell_type": "markdown",
   "metadata": {
    "pycharm": {
     "name": "#%% md\n"
    }
   },
   "source": [
    "## 应用场景\n",
    "权限校验、用户认证、事务处理、日志记录、性能测试、缓存"
   ]
  },
  {
   "cell_type": "markdown",
   "metadata": {
    "pycharm": {
     "name": "#%% md\n"
    }
   },
   "source": [
    "## 类装饰器"
   ]
  },
  {
   "cell_type": "markdown",
   "metadata": {
    "pycharm": {
     "name": "#%% md\n"
    }
   },
   "source": [
    "## 内置装饰器\n",
    "* @property：把函数装饰成属性\n",
    "* @staticmethod：不需要实例化，直接可以调用类中的方法\n",
    "* @classmethod：用来为一个类创建一些预处理的实例"
   ]
  },
  {
   "cell_type": "markdown",
   "metadata": {
    "pycharm": {
     "name": "#%% md\n"
    }
   },
   "source": [
    "# 内置函数"
   ]
  },
  {
   "cell_type": "markdown",
   "metadata": {
    "pycharm": {
     "name": "#%% md\n"
    }
   },
   "source": [
    "# 高阶函数"
   ]
  },
  {
   "cell_type": "markdown",
   "metadata": {
    "pycharm": {
     "name": "#%% md\n"
    }
   },
   "source": [
    "## 特点\n",
    " * 函数是对象类型（Object type）的实例\n",
    " * 可以将函数存储在变量中\n",
    " * 可以将函数作为参数传递给另一个函数\n",
    " * 可以从函数返回哈数\n",
    " * 可以将函数存储在数据结构中，如哈希表、列表等"
   ]
  },
  {
   "cell_type": "markdown",
   "metadata": {
    "pycharm": {
     "name": "#%% md\n"
    }
   },
   "source": [
    "## 函数作为对象"
   ]
  },
  {
   "cell_type": "code",
   "execution_count": 62,
   "metadata": {
    "collapsed": false,
    "jupyter": {
     "outputs_hidden": false
    },
    "pycharm": {
     "name": "#%%\n"
    }
   },
   "outputs": [
    {
     "name": "stdout",
     "output_type": "stream",
     "text": [
      "HELLO\n",
      "HELLO\n"
     ]
    }
   ],
   "source": [
    "def shout(text):\n",
    "    return text.upper()\n",
    "\n",
    "\n",
    "print(shout('Hello'))\n",
    "# Hello\n",
    "\n",
    "# 将函数赋值给变量\n",
    "yell = shout\n",
    "\n",
    "print(yell('hello'))\n",
    "# Hello"
   ]
  },
  {
   "cell_type": "markdown",
   "metadata": {
    "pycharm": {
     "name": "#%% md\n"
    }
   },
   "source": [
    "在这里我们创建了一个函数 greet，它将函数作为参数"
   ]
  },
  {
   "cell_type": "code",
   "execution_count": 63,
   "metadata": {
    "collapsed": false,
    "jupyter": {
     "outputs_hidden": false
    },
    "pycharm": {
     "name": "#%%\n"
    }
   },
   "outputs": [
    {
     "name": "stdout",
     "output_type": "stream",
     "text": [
      "HI, I AM CREATED BY A FUNCTION     PASSED AS AN ARGUMENT.\n",
      "hi, i am created by a function     passed as an argument.\n"
     ]
    }
   ],
   "source": [
    "def shout(text):\n",
    "    return text.upper()\n",
    "\n",
    "\n",
    "def whisper(text):\n",
    "    return text.lower()\n",
    "\n",
    "\n",
    "def greet(func):\n",
    "    # 将函数存储在变量中\n",
    "    greeting = func(\"Hi, I am created by a function \\\n",
    "    passed as an argument.\")\n",
    "    print(greeting)\n",
    "\n",
    "\n",
    "greet(shout)\n",
    "# HI, I AM CREATED BY A FUNCTION PASSED AS AN ARGUMENT.\n",
    "greet(whisper)\n",
    "# hi, i am created by a function passed as an argument."
   ]
  },
  {
   "cell_type": "markdown",
   "metadata": {
    "pycharm": {
     "name": "#%% md\n"
    }
   },
   "source": [
    "## 返回函数\n",
    "由于函数是对象，我们也可以从另一个函数返回一个函数。在下面的示例中，create_adder 函数返回 adder 函数"
   ]
  },
  {
   "cell_type": "code",
   "execution_count": 64,
   "metadata": {
    "collapsed": false,
    "jupyter": {
     "outputs_hidden": false
    },
    "pycharm": {
     "name": "#%%\n"
    }
   },
   "outputs": [
    {
     "name": "stdout",
     "output_type": "stream",
     "text": [
      "25\n"
     ]
    }
   ],
   "source": [
    "# 来说明函数可以返回另一个函数\n",
    "def create_adder(x):\n",
    "    def adder(y):\n",
    "        return x + y\n",
    "\n",
    "    return adder\n",
    "\n",
    "\n",
    "add_15 = create_adder(15)\n",
    "\n",
    "print(add_15(10))\n",
    "# 25"
   ]
  },
  {
   "cell_type": "markdown",
   "metadata": {
    "pycharm": {
     "name": "#%% md\n"
    }
   },
   "source": [
    "## 装饰器\n",
    "装饰器是 Python 中最常用的高阶函数。它允许程序员修改函数或类的行为。装饰器允许我们包装另一个函数，以扩展包装函数的行为，而无需永久修改它。在 Decorators 中，函数作为参数被放入另一个函数中，然后在包装器函数中调用。"
   ]
  },
  {
   "cell_type": "code",
   "execution_count": 66,
   "metadata": {
    "collapsed": false,
    "jupyter": {
     "outputs_hidden": false
    },
    "pycharm": {
     "name": "#%%\n"
    }
   },
   "outputs": [],
   "source": [
    "# @gfg_decorator\n",
    "# def hello_decorator():\n",
    "#     ...\n",
    "#\n",
    "# # 上述代码相当于：\n",
    "#\n",
    "# def hello_decorator():\n",
    "#     ...\n",
    "#\n",
    "# hello_decorator = gfg_decorator(hello_decorator)"
   ]
  },
  {
   "cell_type": "code",
   "execution_count": 99,
   "metadata": {
    "collapsed": false,
    "jupyter": {
     "outputs_hidden": false
    },
    "pycharm": {
     "name": "#%%\n"
    }
   },
   "outputs": [
    {
     "name": "stdout",
     "output_type": "stream",
     "text": [
      "func three run time 1.0110828876495361\n"
     ]
    }
   ],
   "source": [
    "from time import sleep, time\n",
    "\n",
    "\n",
    "def run_time(func):\n",
    "    def wrapper():\n",
    "        start = time()\n",
    "        func()  # 函数在这里运行\n",
    "        end = time()\n",
    "        cost_time = end - start\n",
    "        print(\"func three run time {}\".format(cost_time))\n",
    "\n",
    "    return wrapper\n",
    "\n",
    "\n",
    "@run_time\n",
    "def fun_one():\n",
    "    sleep(1)\n",
    "\n",
    "\n",
    "@run_time\n",
    "def fun_two():\n",
    "    sleep(1)\n",
    "\n",
    "\n",
    "@run_time\n",
    "def fun_three():\n",
    "    sleep(1)\n",
    "\n",
    "\n",
    "fun_one()\n",
    "fun_two()\n",
    "fun_three()"
   ]
  },
  {
   "cell_type": "markdown",
   "metadata": {
    "pycharm": {
     "name": "#%% md\n"
    }
   },
   "source": []
  },
  {
   "cell_type": "code",
   "execution_count": 102,
   "metadata": {
    "collapsed": false,
    "jupyter": {
     "outputs_hidden": false
    },
    "pycharm": {
     "name": "#%%\n"
    }
   },
   "outputs": [
    {
     "name": "stdout",
     "output_type": "stream",
     "text": [
      "Hello before\n",
      "test\n",
      "Hello after\n"
     ]
    }
   ],
   "source": [
    "def test(func):\n",
    "    def wrapper():\n",
    "        print(\"Hello before\")\n",
    "        func()\n",
    "        print(\"Hello after\")\n",
    "\n",
    "    return wrapper\n",
    "\n",
    "\n",
    "@test\n",
    "def hello():\n",
    "    print(\"test\")\n",
    "\n",
    "\n",
    "hello()"
   ]
  },
  {
   "cell_type": "markdown",
   "metadata": {
    "pycharm": {
     "name": "#%% md\n"
    }
   },
   "source": [
    "# map()"
   ]
  },
  {
   "cell_type": "markdown",
   "metadata": {
    "pycharm": {
     "name": "#%% md\n"
    }
   },
   "source": [
    "## 语法\n",
    "map(function, iterable, ...)\n",
    "参数说明：\n",
    "* function - 对可迭代的元素依次应用这个函数（可调用对象），函数的传入值是每个元素\n",
    "* iterable - 要映射的可迭代对象，可以是多个序列\n",
    "可以向 map 函数传递多个 iterable，对应的函数也要接受相同序列数量的参数"
   ]
  },
  {
   "cell_type": "markdown",
   "metadata": {
    "pycharm": {
     "name": "#%% md\n"
    }
   },
   "source": [
    "## 返回\n",
    "返回一个将 function 应用于 iterable 中每一项并输出其结果的迭代器"
   ]
  },
  {
   "cell_type": "markdown",
   "metadata": {
    "pycharm": {
     "name": "#%% md\n"
    }
   },
   "source": [
    "## 案例\n",
    "### 单个可迭代对象"
   ]
  },
  {
   "cell_type": "code",
   "execution_count": 1,
   "metadata": {
    "collapsed": false,
    "jupyter": {
     "outputs_hidden": false
    },
    "pycharm": {
     "name": "#%%\n"
    }
   },
   "outputs": [
    {
     "data": {
      "text/plain": [
       "[2, 3, 4, 5]"
      ]
     },
     "execution_count": 1,
     "metadata": {},
     "output_type": "execute_result"
    }
   ],
   "source": [
    "# 单个对象\n",
    "def add_1(x):\n",
    "    return x + 1\n",
    "\n",
    "\n",
    "m = map(add_1, [1, 2, 3, 4])\n",
    "list(m)\n",
    "# [2, 3, 4, 5]"
   ]
  },
  {
   "cell_type": "markdown",
   "metadata": {
    "pycharm": {
     "name": "#%% md\n"
    }
   },
   "source": [
    "### 多个可迭代对象"
   ]
  },
  {
   "cell_type": "code",
   "execution_count": null,
   "metadata": {
    "collapsed": false,
    "jupyter": {
     "outputs_hidden": false
    },
    "pycharm": {
     "name": "#%%\n"
    }
   },
   "outputs": [],
   "source": [
    "# 多个对象\n",
    "def add_num(x, y):\n",
    "    return x + y\n",
    "\n",
    "\n",
    "m = map(add_num, [1, 2, 3, 4], [1, 2, 3, 4])\n",
    "list(m)"
   ]
  },
  {
   "cell_type": "markdown",
   "metadata": {
    "pycharm": {
     "name": "#%% md\n"
    }
   },
   "source": [
    "多个序列如果长度不一样，只会处理到最短的元素位置："
   ]
  },
  {
   "cell_type": "code",
   "execution_count": 3,
   "metadata": {
    "collapsed": false,
    "jupyter": {
     "outputs_hidden": false
    },
    "pycharm": {
     "name": "#%%\n"
    }
   },
   "outputs": [
    {
     "data": {
      "text/plain": [
       "[2, 4]"
      ]
     },
     "execution_count": 3,
     "metadata": {},
     "output_type": "execute_result"
    }
   ],
   "source": [
    "# 对象不同长度\n",
    "def add_num(x, y):\n",
    "    return x + y\n",
    "\n",
    "\n",
    "m = map(add_num, [1, 2, 3, 4], [1, 2])\n",
    "list(m)"
   ]
  },
  {
   "cell_type": "markdown",
   "metadata": {
    "pycharm": {
     "name": "#%% md\n"
    }
   },
   "source": [
    "有几个序列，函数就要承接几个参数："
   ]
  },
  {
   "cell_type": "code",
   "execution_count": 6,
   "metadata": {
    "collapsed": false,
    "jupyter": {
     "outputs_hidden": false
    },
    "pycharm": {
     "name": "#%%\n"
    }
   },
   "outputs": [
    {
     "data": {
      "text/plain": [
       "[3, 6, 9]"
      ]
     },
     "execution_count": 6,
     "metadata": {},
     "output_type": "execute_result"
    }
   ],
   "source": [
    "# 多个对象\n",
    "def add_num(x, y, z):\n",
    "    return x + y + z\n",
    "\n",
    "\n",
    "a = [1, 2, 3]\n",
    "m = map(add_num, a, a, a)\n",
    "list(m)"
   ]
  },
  {
   "cell_type": "markdown",
   "metadata": {
    "pycharm": {
     "name": "#%% md\n"
    }
   },
   "source": [
    "### 使用匿名函数"
   ]
  },
  {
   "cell_type": "code",
   "execution_count": 7,
   "metadata": {
    "collapsed": false,
    "jupyter": {
     "outputs_hidden": false
    },
    "pycharm": {
     "name": "#%%\n"
    }
   },
   "outputs": [
    {
     "data": {
      "text/plain": [
       "[2, 4]"
      ]
     },
     "execution_count": 7,
     "metadata": {},
     "output_type": "execute_result"
    }
   ],
   "source": [
    "m = map(lambda x, y: x + y, [1, 2, 3, 4], [1, 2])\n",
    "list(m)"
   ]
  },
  {
   "cell_type": "markdown",
   "metadata": {
    "pycharm": {
     "name": "#%% md\n"
    }
   },
   "source": [
    "## 其他\n",
    "对于函数的输入已经是参数元组的情况，可以使用 itertools.starmap() 操作"
   ]
  },
  {
   "cell_type": "code",
   "execution_count": 8,
   "metadata": {
    "collapsed": false,
    "jupyter": {
     "outputs_hidden": false
    },
    "pycharm": {
     "name": "#%%\n"
    }
   },
   "outputs": [
    {
     "data": {
      "text/plain": [
       "[10, 12]"
      ]
     },
     "execution_count": 8,
     "metadata": {},
     "output_type": "execute_result"
    }
   ],
   "source": [
    "import itertools\n",
    "\n",
    "t = [(2, 5), (3, 4)]\n",
    "# 元组内操作（相乘）\n",
    "sm = itertools.starmap(lambda x, y: x * y, t)\n",
    "list(sm)"
   ]
  },
  {
   "cell_type": "markdown",
   "metadata": {
    "pycharm": {
     "name": "#%% md\n"
    }
   },
   "source": [
    "## 列表表达式"
   ]
  },
  {
   "cell_type": "code",
   "execution_count": 11,
   "metadata": {
    "collapsed": false,
    "jupyter": {
     "outputs_hidden": false
    },
    "pycharm": {
     "name": "#%%\n"
    }
   },
   "outputs": [
    {
     "name": "stdout",
     "output_type": "stream",
     "text": [
      "[2, 1, 0]\n",
      "[4, 1, 0]\n",
      "[10, 40, 90]\n"
     ]
    }
   ],
   "source": [
    "l = [-2, -1, 0]\n",
    "print([abs(x) for x in l])\n",
    "# [2, 1, 0]\n",
    "\n",
    "print([x ** 2 for x in l])\n",
    "# [4, 1, 0]\n",
    "\n",
    "l_1 = [1, 2, 3]\n",
    "l_2 = [10, 20, 30]\n",
    "print([x * y for x, y in zip(l_1, l_2)])\n",
    "# [10, 40, 90]"
   ]
  },
  {
   "cell_type": "markdown",
   "metadata": {
    "pycharm": {
     "name": "#%% md\n"
    }
   },
   "source": [
    "## Numpy"
   ]
  },
  {
   "cell_type": "code",
   "execution_count": 12,
   "metadata": {
    "collapsed": false,
    "jupyter": {
     "outputs_hidden": false
    },
    "pycharm": {
     "name": "#%%\n"
    }
   },
   "outputs": [
    {
     "name": "stdout",
     "output_type": "stream",
     "text": [
      "[2 1 0]\n",
      "[4 1 0]\n",
      "[10 40 90]\n"
     ]
    }
   ],
   "source": [
    "import numpy as np\n",
    "\n",
    "a = np.array([-2, -1, 0])\n",
    "print(np.abs(a))\n",
    "# [2 1 0]\n",
    "\n",
    "print(a ** 2)\n",
    "# [4 1 0]\n",
    "\n",
    "a_1 = np.array([1, 2, 3])\n",
    "a_2 = np.array([10, 20, 30])\n",
    "print(a_1 * a_2)\n",
    "# [10 40 90]"
   ]
  },
  {
   "cell_type": "markdown",
   "metadata": {
    "pycharm": {
     "name": "#%% md\n"
    }
   },
   "source": [
    "# filter()"
   ]
  },
  {
   "cell_type": "markdown",
   "metadata": {
    "pycharm": {
     "name": "#%% md\n"
    }
   },
   "source": [
    "## 语法\n",
    "filter(function, iterable)\n",
    "参数：\n",
    "* function - 测试 iterable 元素是否返回 true 或 false 的函数\n",
    "* iterable - 要过滤的iterable，可以是集合、列表、元组或任何迭代器的容器"
   ]
  },
  {
   "cell_type": "markdown",
   "metadata": {
    "pycharm": {
     "name": "#%% md\n"
    }
   },
   "source": [
    "## 返回\n",
    "filter() 方法返回一个迭代器（filter对象），该迭代器通过 iterable 中每个元素的函数检查，返回的是原序列中的值，非布尔值"
   ]
  },
  {
   "cell_type": "markdown",
   "metadata": {
    "pycharm": {
     "name": "#%% md\n"
    }
   },
   "source": [
    "## filter 对象\n",
    "以值为偶数时返回 True 的 lambda 函数为例："
   ]
  },
  {
   "cell_type": "code",
   "execution_count": 18,
   "metadata": {
    "collapsed": false,
    "jupyter": {
     "outputs_hidden": false
    },
    "pycharm": {
     "name": "#%%\n"
    }
   },
   "outputs": [
    {
     "name": "stdout",
     "output_type": "stream",
     "text": [
      "<filter object at 0x000001F8491AAD30>\n",
      "<class 'filter'>\n",
      "-2\n",
      "0\n",
      "2\n"
     ]
    }
   ],
   "source": [
    "l = [-2, -1, 0, 1, 2]\n",
    "print(filter(lambda x: x % 2 == 0, l))\n",
    "\n",
    "print(type(filter(lambda x: x % 2 == 0, l)))\n",
    "\n",
    "for i in filter(lambda x: x % 2 == 0, l):\n",
    "    print(i)"
   ]
  },
  {
   "cell_type": "markdown",
   "metadata": {
    "pycharm": {
     "name": "#%% md\n"
    }
   },
   "source": [
    "## 案例"
   ]
  },
  {
   "cell_type": "code",
   "execution_count": 20,
   "metadata": {
    "collapsed": false,
    "jupyter": {
     "outputs_hidden": false
    },
    "pycharm": {
     "name": "#%%\n"
    }
   },
   "outputs": [
    {
     "name": "stdout",
     "output_type": "stream",
     "text": [
      "[7, 9]\n"
     ]
    },
    {
     "data": {
      "text/plain": [
       "[2, 5, 9]"
      ]
     },
     "execution_count": 20,
     "metadata": {},
     "output_type": "execute_result"
    }
   ],
   "source": [
    "# 筛选大于 5 的值\n",
    "f = filter(lambda x: x > 5, [2, 3, 5, 7, 9])\n",
    "f  # <filter at 0x7fe33ea36730>\n",
    "print(list(f))\n",
    "# [7, 9]\n",
    "\n",
    "# 函数为 None\n",
    "f = filter(None, [2, False, 5, None, 9])\n",
    "list(f)\n",
    "# [2, 5, 9]"
   ]
  },
  {
   "cell_type": "code",
   "execution_count": 21,
   "metadata": {
    "collapsed": false,
    "jupyter": {
     "outputs_hidden": false
    },
    "pycharm": {
     "name": "#%%\n"
    }
   },
   "outputs": [
    {
     "name": "stdout",
     "output_type": "stream",
     "text": [
      "The filtered vowels are:\n",
      "a\n",
      "e\n",
      "i\n",
      "o\n"
     ]
    },
    {
     "data": {
      "text/plain": [
       "'\\nThe filtered vowels are:\\na\\ne\\ni\\no\\n'"
      ]
     },
     "execution_count": 21,
     "metadata": {},
     "output_type": "execute_result"
    }
   ],
   "source": [
    "# list of letters\n",
    "letters = ['a', 'b', 'd', 'e', 'i', 'j', 'o']\n",
    "\n",
    "\n",
    "# function that filters vowels\n",
    "def filter_vowels(letter):\n",
    "    vowels = ['a', 'e', 'i', 'o', 'u']\n",
    "\n",
    "    if letter in vowels:\n",
    "        return True\n",
    "    else:\n",
    "        return False\n",
    "\n",
    "\n",
    "filtered_vowels = filter(filter_vowels, letters)\n",
    "\n",
    "print('The filtered vowels are:')\n",
    "for vowel in filtered_vowels:\n",
    "    print(vowel)\n",
    "'''\n",
    "The filtered vowels are:\n",
    "a\n",
    "e\n",
    "i\n",
    "o\n",
    "'''"
   ]
  },
  {
   "cell_type": "markdown",
   "metadata": {
    "pycharm": {
     "name": "#%% md\n"
    }
   },
   "source": [
    "## 列表表达式"
   ]
  },
  {
   "cell_type": "code",
   "execution_count": 27,
   "metadata": {
    "collapsed": false,
    "jupyter": {
     "outputs_hidden": false
    },
    "pycharm": {
     "name": "#%%\n"
    }
   },
   "outputs": [
    {
     "name": "stdout",
     "output_type": "stream",
     "text": [
      "[-2, 0, 2]\n",
      "[-1, 1]\n",
      "['apple', 'orange']\n",
      "['strawberry']\n",
      "[-2, -1, 1, 2]\n",
      "[[0, 1, 2], [3, 4, 5]]\n"
     ]
    }
   ],
   "source": [
    "l = [-2, -1, 0, 1, 2]\n",
    "print([x for x in l if x % 2 == 0])\n",
    "# [-2, 0, 2]\n",
    "\n",
    "print([x for x in l if x % 2 != 0])\n",
    "# [-1, 1]\n",
    "\n",
    "l_s = ['apple', 'orange', 'strawberry']\n",
    "print([x for x in l_s if x.endswith('e')])\n",
    "# ['apple', 'orange']\n",
    "\n",
    "print([x for x in l_s if not x.endswith('e')])\n",
    "# ['strawberry']\n",
    "\n",
    "l = [-2, -1, 0, 1, 2]\n",
    "print([x for x in l if x])\n",
    "# [-2, -1, 1, 2]\n",
    "\n",
    "l_2d = [[0, 1, 2], [], [3, 4, 5]]\n",
    "print([x for x in l_2d if x])\n",
    "# [[0, 1, 2], [3, 4, 5]]"
   ]
  },
  {
   "cell_type": "markdown",
   "metadata": {
    "pycharm": {
     "name": "#%% md\n"
    }
   },
   "source": [
    "## 其他"
   ]
  },
  {
   "cell_type": "markdown",
   "metadata": {
    "pycharm": {
     "name": "#%% md\n"
    }
   },
   "source": [
    "了解 itertools.filterfalse()，只有function返回 false 时才选取 iterable 中元素的补充函数"
   ]
  },
  {
   "cell_type": "markdown",
   "metadata": {
    "pycharm": {
     "name": "#%% md\n"
    }
   },
   "source": [
    "# zip()\n",
    "## 简单理解\n",
    "常用于将两个及以上的列表（可迭代对象）按位置一一对应地拉在一起。"
   ]
  },
  {
   "cell_type": "markdown",
   "metadata": {
    "pycharm": {
     "name": "#%% md\n"
    }
   },
   "source": [
    "## 语法参数\n",
    "zip(*iterables)\n",
    "参数 iterables 可以是一个内置的迭代对象（list，dict等）或是用户自定义的可迭代对象"
   ]
  },
  {
   "cell_type": "markdown",
   "metadata": {
    "pycharm": {
     "name": "#%% md\n"
    }
   },
   "source": [
    "## 函数返回\n",
    "根据传入参数的情况，返回的内容分别为：\n",
    "* 不传递任何参数，将返回一个空迭代器（zip 对象）\n",
    "* 传递一个可迭代对象，返回一个元组迭代器，每个元组只有一个元素\n",
    "* 传递多个可迭代对象，返回一个元组迭代器，每个元组都包含来自所有 iterables 的元素，迭代器在最短 iterable 耗尽时停止\n",
    "针对第三种情况，如一个包含 2 个元素，另一个包含 3 个元素，则返回的迭代器将包含 2 个元组，每个元组以第一个元组的 2 个元素开头，传入的第二个元组的最后一个数据被丢弃"
   ]
  },
  {
   "cell_type": "markdown",
   "metadata": {
    "pycharm": {
     "name": "#%% md\n"
    }
   },
   "source": [
    "## 示例"
   ]
  },
  {
   "cell_type": "code",
   "execution_count": 35,
   "metadata": {
    "collapsed": false,
    "jupyter": {
     "outputs_hidden": false
    },
    "pycharm": {
     "name": "#%%\n"
    }
   },
   "outputs": [
    {
     "name": "stdout",
     "output_type": "stream",
     "text": [
      "<zip object at 0x000001F8492EA940>\n",
      "[]\n",
      "[(1,), (2,), (3,)]\n",
      "[(1, 3), (2, 4), (3, 5)]\n",
      "[(1, 3), (2, 4)]\n",
      "[(1, 4), (2, 5)]\n",
      "[('x', 3), ('y', 4), ('z', 5)]\n",
      "('x', 'y', 'z')\n",
      "(3, 4, 5)\n"
     ]
    }
   ],
   "source": [
    "# 无传入\n",
    "z = zip()\n",
    "print(z)\n",
    "# <zip at 0x7fe33d1ac440>\n",
    "print(list(z))\n",
    "# []\n",
    "\n",
    "# 传入一个\n",
    "z = zip([1, 2, 3])\n",
    "print(list(z))\n",
    "# [(1,), (2,), (3,)]\n",
    "\n",
    "# 传入两个\n",
    "z = zip([1, 2, 3], [3, 4, 5])\n",
    "print(list(z))\n",
    "# [(1, 3), (2, 4), (3, 5)]\n",
    "\n",
    "# 不同长度\n",
    "z = zip([1, 2], [3, 4, 5])\n",
    "print(list(z))\n",
    "# [(1, 3), (2, 4)]\n",
    "\n",
    "z = zip([1, 2, 3], [4, 5])\n",
    "print(list(z))\n",
    "# [(1, 4), (2, 5)]\n",
    "\n",
    "# 解包\n",
    "coordinate = ['x', 'y', 'z']\n",
    "value = [3, 4, 5]\n",
    "\n",
    "result = zip(coordinate, value)\n",
    "result_list = list(result)\n",
    "print(result_list)\n",
    "# [('x', 3), ('y', 4), ('z', 5)]\n",
    "\n",
    "c, v = zip(*result_list)\n",
    "print(c)\n",
    "# ('x', 'y', 'z')\n",
    "print(v)\n",
    "# (3, 4, 5)"
   ]
  },
  {
   "cell_type": "markdown",
   "metadata": {
    "pycharm": {
     "name": "#%% md\n"
    }
   },
   "source": [
    "## zip 对象的应用"
   ]
  },
  {
   "cell_type": "code",
   "execution_count": 30,
   "metadata": {
    "collapsed": false,
    "jupyter": {
     "outputs_hidden": false
    },
    "pycharm": {
     "name": "#%%\n"
    }
   },
   "outputs": [],
   "source": [
    "# 分别是每个人的 身高、体重、年龄\n",
    "lily = [168, 50, 22]\n",
    "lucy = [170, 55, 25]\n",
    "amy = [175, 53, 24]"
   ]
  },
  {
   "cell_type": "code",
   "execution_count": 31,
   "metadata": {
    "collapsed": false,
    "jupyter": {
     "outputs_hidden": false
    },
    "pycharm": {
     "name": "#%%\n"
    }
   },
   "outputs": [
    {
     "data": {
      "text/plain": [
       "[(168, 170, 175), (50, 55, 53), (22, 25, 24)]"
      ]
     },
     "execution_count": 31,
     "metadata": {},
     "output_type": "execute_result"
    }
   ],
   "source": [
    "z = zip(lily, lucy, amy)\n",
    "list(z)\n",
    "# [(168, 170, 175), (50, 55, 53), (22, 25, 24)]"
   ]
  },
  {
   "cell_type": "code",
   "execution_count": 32,
   "metadata": {
    "collapsed": false,
    "jupyter": {
     "outputs_hidden": false
    },
    "pycharm": {
     "name": "#%%\n"
    }
   },
   "outputs": [
    {
     "data": {
      "text/plain": [
       "171.0"
      ]
     },
     "execution_count": 32,
     "metadata": {},
     "output_type": "execute_result"
    }
   ],
   "source": [
    "z = zip(lily, lucy, amy)\n",
    "h = list(z)[0]\n",
    "sum(h) / 3\n",
    "# 171.0"
   ]
  },
  {
   "cell_type": "markdown",
   "metadata": {
    "pycharm": {
     "name": "#%% md\n"
    }
   },
   "source": [
    "其他案例："
   ]
  },
  {
   "cell_type": "code",
   "execution_count": 33,
   "metadata": {
    "collapsed": false,
    "jupyter": {
     "outputs_hidden": false
    },
    "pycharm": {
     "name": "#%%\n"
    }
   },
   "outputs": [
    {
     "name": "stdout",
     "output_type": "stream",
     "text": [
      "Alice 24\n",
      "Bob 50\n",
      "Charlie 18\n"
     ]
    }
   ],
   "source": [
    "names = ['Alice', 'Bob', 'Charlie']\n",
    "ages = [24, 50, 18]\n",
    "\n",
    "for name, age in zip(names, ages):\n",
    "    print(name, age)\n",
    "# Alice 24\n",
    "# Bob 50\n",
    "# Charlie 18"
   ]
  },
  {
   "cell_type": "markdown",
   "metadata": {
    "pycharm": {
     "name": "#%% md\n"
    }
   },
   "source": [
    "## 短板补齐\n",
    "如果传入的多个可迭代对象的长度不等，则取最短的对应\n",
    "如果想按最长的处理，不足的用 None 补齐，则可以使用 itertools 中的 zip_longest 方法"
   ]
  },
  {
   "cell_type": "code",
   "execution_count": 29,
   "metadata": {
    "collapsed": false,
    "jupyter": {
     "outputs_hidden": false
    },
    "pycharm": {
     "name": "#%%\n"
    }
   },
   "outputs": [
    {
     "data": {
      "text/plain": [
       "[(1, 3), (2, 4), (None, 5)]"
      ]
     },
     "execution_count": 29,
     "metadata": {},
     "output_type": "execute_result"
    }
   ],
   "source": [
    "import itertools\n",
    "\n",
    "z = itertools.zip_longest([1, 2], [3, 4, 5])\n",
    "list(z)"
   ]
  },
  {
   "cell_type": "markdown",
   "metadata": {
    "pycharm": {
     "name": "#%% md\n"
    }
   },
   "source": [
    "# reduce()"
   ]
  },
  {
   "cell_type": "markdown",
   "metadata": {
    "pycharm": {
     "name": "#%% md\n"
    }
   },
   "source": [
    "## 理解reduce\n",
    "**reduce(function, iterable[, initializer])**\n",
    "\n",
    "function 第一次执行时，按顺序先取两个传入执行，得到一个结果，然后再将这个结果与 iterable 中的下一个值（还是两个变量）传入 function 执行，如此反复直到 iterable 里的值取完为止，最终就能得到一个终极的返回值"
   ]
  },
  {
   "cell_type": "markdown",
   "metadata": {
    "pycharm": {
     "name": "#%% md\n"
    }
   },
   "source": [
    "## 案例"
   ]
  },
  {
   "cell_type": "code",
   "execution_count": 37,
   "metadata": {
    "collapsed": false,
    "jupyter": {
     "outputs_hidden": false
    },
    "pycharm": {
     "name": "#%%\n"
    }
   },
   "outputs": [
    {
     "data": {
      "text/plain": [
       "15"
      ]
     },
     "execution_count": 37,
     "metadata": {},
     "output_type": "execute_result"
    }
   ],
   "source": [
    "from functools import reduce\n",
    "\n",
    "reduce(lambda x, y: x + y, [1, 2, 3, 4, 5])"
   ]
  },
  {
   "cell_type": "markdown",
   "metadata": {
    "pycharm": {
     "name": "#%% md\n"
    }
   },
   "source": [
    "### 累积数据操作"
   ]
  },
  {
   "cell_type": "code",
   "execution_count": 42,
   "metadata": {
    "collapsed": false,
    "jupyter": {
     "outputs_hidden": false
    },
    "pycharm": {
     "name": "#%%\n"
    }
   },
   "outputs": [
    {
     "name": "stdout",
     "output_type": "stream",
     "text": [
      "0.6666666666666666\n"
     ]
    },
    {
     "data": {
      "text/plain": [
       "0.6666666666666666"
      ]
     },
     "execution_count": 42,
     "metadata": {},
     "output_type": "execute_result"
    }
   ],
   "source": [
    "from functools import reduce\n",
    "from operator import truediv\n",
    "\n",
    "print(reduce(truediv, [4, 3, 2, 1]))\n",
    "reduce(lambda x, y: x / y, [4, 3, 2, 1])"
   ]
  },
  {
   "cell_type": "markdown",
   "metadata": {
    "pycharm": {
     "name": "#%% md\n"
    }
   },
   "source": [
    "### initializer 参数\n",
    "指定 initializer 参数时，第一次执行时，函数的第一个参数传入此值，第二个参数为序列的第一个值："
   ]
  },
  {
   "cell_type": "code",
   "execution_count": 47,
   "metadata": {
    "collapsed": false,
    "jupyter": {
     "outputs_hidden": false
    },
    "pycharm": {
     "name": "#%%\n"
    }
   },
   "outputs": [
    {
     "name": "stdout",
     "output_type": "stream",
     "text": [
      "0.5\n",
      "50\n",
      "10\n"
     ]
    }
   ],
   "source": [
    "from functools import reduce\n",
    "from operator import truediv\n",
    "\n",
    "print(reduce(truediv, [10, 5, 2], 50))\n",
    "# 0.5\n",
    "print(reduce(truediv, [], 50))\n",
    "# 50\n",
    "# reduce(truediv, [])\n",
    "# TypeError: reduce() of empty iterable with no initial value\n",
    "print(reduce(truediv, [10]))\n",
    "# 10"
   ]
  },
  {
   "cell_type": "markdown",
   "metadata": {
    "pycharm": {
     "name": "#%% md\n"
    }
   },
   "source": [
    "### pandas 合并数据"
   ]
  },
  {
   "cell_type": "code",
   "execution_count": 49,
   "metadata": {
    "collapsed": false,
    "jupyter": {
     "outputs_hidden": false
    },
    "pycharm": {
     "name": "#%%\n"
    }
   },
   "outputs": [],
   "source": [
    "# reduce(lambda a, b: pd.merge(a, b, on=['ID']), dflist)"
   ]
  },
  {
   "cell_type": "code",
   "execution_count": null,
   "metadata": {
    "collapsed": false,
    "jupyter": {
     "outputs_hidden": false
    },
    "pycharm": {
     "name": "#%%\n"
    }
   },
   "outputs": [],
   "source": []
  }
 ],
 "metadata": {
  "kernelspec": {
   "display_name": "Python 3 (ipykernel)",
   "language": "python",
   "name": "python3"
  },
  "language_info": {
   "codemirror_mode": {
    "name": "ipython",
    "version": 3
   },
   "file_extension": ".py",
   "mimetype": "text/x-python",
   "name": "python",
   "nbconvert_exporter": "python",
   "pygments_lexer": "ipython3",
   "version": "3.10.1"
  }
 },
 "nbformat": 4,
 "nbformat_minor": 4
}
