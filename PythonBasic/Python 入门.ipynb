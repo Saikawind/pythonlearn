{
 "cells": [
  {
   "cell_type": "markdown",
   "source": [
    "## **单行代码**"
   ],
   "metadata": {
    "collapsed": false
   }
  },
  {
   "cell_type": "code",
   "execution_count": 3,
   "outputs": [],
   "source": [
    "a = 123"
   ],
   "metadata": {
    "collapsed": false,
    "pycharm": {
     "name": "#%%\n"
    }
   }
  },
  {
   "cell_type": "markdown",
   "source": [
    "## **多行代码**"
   ],
   "metadata": {
    "collapsed": false
   }
  },
  {
   "cell_type": "code",
   "execution_count": 6,
   "outputs": [
    {
     "data": {
      "text/plain": "(124, 123)"
     },
     "execution_count": 6,
     "metadata": {},
     "output_type": "execute_result"
    }
   ],
   "source": [
    "a = 123\n",
    "b = a + 1\n",
    "b, a"
   ],
   "metadata": {
    "collapsed": false,
    "pycharm": {
     "name": "#%%\n"
    }
   }
  },
  {
   "cell_type": "markdown",
   "source": [
    "**可加反斜杠对代码进行换行，程序会认为是一行**"
   ],
   "metadata": {
    "collapsed": false,
    "pycharm": {
     "name": "#%% md\n"
    }
   }
  },
  {
   "cell_type": "code",
   "execution_count": 7,
   "outputs": [
    {
     "data": {
      "text/plain": "'Hello World'"
     },
     "execution_count": 7,
     "metadata": {},
     "output_type": "execute_result"
    }
   ],
   "source": [
    "s = 'Hello \\\n",
    "World'\n",
    "s"
   ],
   "metadata": {
    "collapsed": false,
    "pycharm": {
     "name": "#%%\n"
    }
   }
  },
  {
   "cell_type": "markdown",
   "source": [
    "## **注释**"
   ],
   "metadata": {
    "collapsed": false,
    "pycharm": {
     "name": "#%% md\n"
    }
   }
  },
  {
   "cell_type": "code",
   "execution_count": 8,
   "outputs": [
    {
     "name": "stdout",
     "output_type": "stream",
     "text": [
      "123\n",
      "Hello World\n"
     ]
    }
   ],
   "source": [
    "# 第一个注释\n",
    "print(123)  # 第二个注释\n",
    "'''\n",
    "这里是一段注释\n",
    "可以写很多行\n",
    "都不会执行\n",
    "'''\n",
    "print(\"Hello World\")"
   ],
   "metadata": {
    "collapsed": false,
    "pycharm": {
     "name": "#%%\n"
    }
   }
  },
  {
   "cell_type": "markdown",
   "source": [
    "## **缩进**\n",
    "不同逻辑之前用相同的缩进量表示（其他语言一般用括号）："
   ],
   "metadata": {
    "collapsed": false,
    "pycharm": {
     "name": "#%% md\n"
    }
   }
  },
  {
   "cell_type": "code",
   "execution_count": 16,
   "outputs": [
    {
     "name": "stdout",
     "output_type": "stream",
     "text": [
      "Hello!\n"
     ]
    }
   ],
   "source": [
    "def say():\n",
    "    print(\"Hello!\")\n",
    "\n",
    "\n",
    "say()"
   ],
   "metadata": {
    "collapsed": false,
    "pycharm": {
     "name": "#%%\n"
    }
   }
  },
  {
   "cell_type": "code",
   "execution_count": 17,
   "outputs": [
    {
     "name": "stdout",
     "output_type": "stream",
     "text": [
      "tom Hello\n",
      "lucky yeah\n",
      "sy nice\n"
     ]
    }
   ],
   "source": [
    "order = ['tom', 'lucky', 'sy']\n",
    "for x in order:\n",
    "    if x == 'tom':\n",
    "        print(x, \"Hello\")\n",
    "    elif x == 'lucky':\n",
    "        print(x, 'yeah')\n",
    "    else:\n",
    "        print(x, \"nice\")"
   ],
   "metadata": {
    "collapsed": false,
    "pycharm": {
     "name": "#%%\n"
    }
   }
  },
  {
   "cell_type": "code",
   "execution_count": 18,
   "outputs": [],
   "source": [
    "# 集合缩进\n",
    "my_list = [\n",
    "    1, 2, 3,\n",
    "    4, 5, 6\n",
    "]"
   ],
   "metadata": {
    "collapsed": false,
    "pycharm": {
     "name": "#%%\n"
    }
   }
  },
  {
   "cell_type": "markdown",
   "source": [
    "\n",
    "## **空行**\n",
    "空一行：用于类成员函数之间，或者用于区分不同逻辑块\n",
    "空两行：类与类，类与函数，函数与函数之间"
   ],
   "metadata": {
    "collapsed": false,
    "pycharm": {
     "name": "#%% md\n"
    }
   }
  },
  {
   "cell_type": "code",
   "execution_count": null,
   "outputs": [],
   "source": [
    "class Test(object):\n",
    "    \"\"\"Test class, 提供通用的方法\"\"\"\n",
    "\n",
    "    def __init__(self):\n",
    "        \"\"\"Test 的构造器\"\"\"\n",
    "        pass\n",
    "\n",
    "    def function1(self):\n",
    "        pass\n",
    "\n",
    "    def function2(self):\n",
    "        pass\n",
    "\n",
    "\n",
    "def function3():\n",
    "    pass"
   ],
   "metadata": {
    "collapsed": false,
    "pycharm": {
     "name": "#%%\n"
    }
   }
  },
  {
   "cell_type": "markdown",
   "source": [
    "## **同一行显示多条语句**"
   ],
   "metadata": {
    "collapsed": false,
    "pycharm": {
     "name": "#%% md\n"
    }
   }
  },
  {
   "cell_type": "code",
   "execution_count": 19,
   "outputs": [
    {
     "name": "stdout",
     "output_type": "stream",
     "text": [
      "1\n",
      "2\n",
      "3\n",
      "4\n",
      "[1, 2, 3, 4]\n"
     ]
    }
   ],
   "source": [
    "# 可用分号分隔\n",
    "a = 123;\n",
    "b = a + 1\n",
    "# 简单 for 和 if 可写在同一行\n",
    "orders = [1, 2, 3, 4]\n",
    "for i in orders: print(i)\n",
    "if len(orders) > 3: print(orders)"
   ],
   "metadata": {
    "collapsed": false,
    "pycharm": {
     "name": "#%%\n"
    }
   }
  },
  {
   "cell_type": "markdown",
   "source": [
    "## **基本用法**"
   ],
   "metadata": {
    "collapsed": false,
    "pycharm": {
     "name": "#%% md\n"
    }
   }
  },
  {
   "cell_type": "code",
   "execution_count": 19,
   "outputs": [],
   "source": [
    "print(\"Hello World\")\n",
    "print(8848)"
   ],
   "metadata": {
    "collapsed": false,
    "pycharm": {
     "name": "#%%\n"
    }
   }
  },
  {
   "cell_type": "markdown",
   "source": [
    "输出变量"
   ],
   "metadata": {
    "collapsed": false,
    "pycharm": {
     "name": "#%% md\n"
    }
   }
  },
  {
   "cell_type": "code",
   "execution_count": 21,
   "outputs": [
    {
     "name": "stdout",
     "output_type": "stream",
     "text": [
      "3.14\n"
     ]
    }
   ],
   "source": [
    "pi = 3.14\n",
    "print(pi)"
   ],
   "metadata": {
    "collapsed": false,
    "pycharm": {
     "name": "#%%\n"
    }
   }
  },
  {
   "cell_type": "markdown",
   "source": [
    "## **输出多个内容**"
   ],
   "metadata": {
    "collapsed": false,
    "pycharm": {
     "name": "#%% md\n"
    }
   }
  },
  {
   "cell_type": "code",
   "execution_count": 22,
   "outputs": [
    {
     "name": "stdout",
     "output_type": "stream",
     "text": [
      "圆周率 3.14\n"
     ]
    }
   ],
   "source": [
    "print(\"圆周率\", pi)"
   ],
   "metadata": {
    "collapsed": false,
    "pycharm": {
     "name": "#%%\n"
    }
   }
  },
  {
   "cell_type": "markdown",
   "source": [
    "中间用空格分隔，变量也帮我们打印出了具体的值"
   ],
   "metadata": {
    "collapsed": false,
    "pycharm": {
     "name": "#%% md\n"
    }
   }
  },
  {
   "cell_type": "code",
   "execution_count": 23,
   "outputs": [
    {
     "name": "stdout",
     "output_type": "stream",
     "text": [
      "8848 新高度\n",
      "1 2 3 4\n"
     ]
    }
   ],
   "source": [
    "print(8848, '新高度')\n",
    "print(1, 2, 3, 4)"
   ],
   "metadata": {
    "collapsed": false,
    "pycharm": {
     "name": "#%%\n"
    }
   }
  },
  {
   "cell_type": "markdown",
   "source": [
    "## **连接**"
   ],
   "metadata": {
    "collapsed": false,
    "pycharm": {
     "name": "#%% md\n"
    }
   }
  },
  {
   "cell_type": "code",
   "execution_count": 24,
   "outputs": [
    {
     "name": "stdout",
     "output_type": "stream",
     "text": [
      "圆周率:3.14\n"
     ]
    }
   ],
   "source": [
    "print(\"圆周率\", pi, sep=\":\")"
   ],
   "metadata": {
    "collapsed": false,
    "pycharm": {
     "name": "#%%\n"
    }
   }
  },
  {
   "cell_type": "markdown",
   "source": [
    "可以看到，两个值之间多出了 ：间隔"
   ],
   "metadata": {
    "collapsed": false,
    "pycharm": {
     "name": "#%% md\n"
    }
   }
  },
  {
   "cell_type": "code",
   "execution_count": 25,
   "outputs": [
    {
     "name": "stdout",
     "output_type": "stream",
     "text": [
      "1-2-3-4\n",
      "1\n",
      "2\n",
      "3\n",
      "4\n",
      "1\t2\t3\t4\n"
     ]
    }
   ],
   "source": [
    "print(1, 2, 3, 4, sep=\"-\")\n",
    "print(1, 2, 3, 4, sep=\"\\n\")\n",
    "print(1, 2, 3, 4, sep=\"\\t\")"
   ],
   "metadata": {
    "collapsed": false,
    "pycharm": {
     "name": "#%%\n"
    }
   }
  },
  {
   "cell_type": "markdown",
   "source": [
    "## 结尾连接\n",
    "print() 执行完后，会在内容输出完后加一个换行 \\n, end 参数可以让我们自定义输出内容"
   ],
   "metadata": {
    "collapsed": false,
    "pycharm": {
     "name": "#%% md\n"
    }
   }
  },
  {
   "cell_type": "code",
   "execution_count": 26,
   "outputs": [
    {
     "name": "stdout",
     "output_type": "stream",
     "text": [
      "1 2 "
     ]
    }
   ],
   "source": [
    "print(1, end=\" \")\n",
    "print(2, end=\" \")"
   ],
   "metadata": {
    "collapsed": false,
    "pycharm": {
     "name": "#%%\n"
    }
   }
  },
  {
   "cell_type": "markdown",
   "source": [
    "## print 高级方法\n",
    "print() 语法：\n",
    "print(*objects, sep=' ', end='\\n', file=sys.stdout)\n",
    "关键字参数：\n",
    "* objects：序列对象\n",
    "* sep：在输出的值之间插入（分隔）字符串，默认为空格\n",
    "* end：最后一个值后追加的字符串，默认为换行符\n",
    "* flush：是否强制刷新"
   ],
   "metadata": {
    "collapsed": false,
    "pycharm": {
     "name": "#%% md\n"
    }
   }
  },
  {
   "cell_type": "markdown",
   "source": [
    "### print() 输出到文件"
   ],
   "metadata": {
    "collapsed": false,
    "pycharm": {
     "name": "#%% md\n"
    }
   }
  },
  {
   "cell_type": "code",
   "execution_count": 32,
   "outputs": [],
   "source": [
    "# 重写\n",
    "with open('data/file.txt', 'w') as f:\n",
    "    print(\"Hello World\", file=f)"
   ],
   "metadata": {
    "collapsed": false,
    "pycharm": {
     "name": "#%%\n"
    }
   }
  },
  {
   "cell_type": "code",
   "execution_count": 34,
   "outputs": [],
   "source": [
    "# 追加\n",
    "with open('data/file.txt', 'a') as f:\n",
    "    print(\"Hello World\", file=f)"
   ],
   "metadata": {
    "collapsed": false,
    "pycharm": {
     "name": "#%%\n"
    }
   }
  },
  {
   "cell_type": "code",
   "execution_count": 42,
   "outputs": [],
   "source": [
    "# 或者\n",
    "f = open('data/file.txt', 'a')\n",
    "print('Hello World', file=f)\n",
    "f.close()"
   ],
   "metadata": {
    "collapsed": false,
    "pycharm": {
     "name": "#%%\n"
    }
   }
  },
  {
   "cell_type": "markdown",
   "source": [
    "另外一个技巧是重写 sys.stdout 方法"
   ],
   "metadata": {
    "collapsed": false,
    "pycharm": {
     "name": "#%% md\n"
    }
   }
  },
  {
   "cell_type": "code",
   "execution_count": 39,
   "outputs": [],
   "source": [
    "import sys\n",
    "\n",
    "# 原输出方法复制\n",
    "orig_stdout = sys.stdout\n",
    "# 定义输出文件操作\n",
    "f = open('data/out.txt', 'w')\n",
    "# 重写默认输出方法\n",
    "sys.stdout = f\n",
    "\n",
    "# 打印=文件输出\n",
    "for i in range(3):\n",
    "    print('i = ', i)\n",
    "\n",
    "# 默认输出归位\n",
    "sys.stdout = orig_stdout\n",
    "# 关闭文件操作\n",
    "f.close()"
   ],
   "metadata": {
    "collapsed": false,
    "pycharm": {
     "name": "#%%\n"
    }
   }
  },
  {
   "cell_type": "markdown",
   "source": [
    "另一种重定向输出的方法是在执行 Python 脚本时直接从命令行重定向。可以使用 > 字符来输出重定向"
   ],
   "metadata": {
    "collapsed": false,
    "pycharm": {
     "name": "#%% md\n"
    }
   }
  },
  {
   "cell_type": "code",
   "execution_count": 31,
   "outputs": [],
   "source": [
    "print(\"Hello Python\")\n",
    "# 在终端执行 Python 脚本\n",
    "# python3 demo.py > demo.txt\n",
    "# 得到 demo.txt 的内容\n",
    "# Hello Python"
   ],
   "metadata": {
    "collapsed": false,
    "pycharm": {
     "name": "#%%\n"
    }
   }
  },
  {
   "cell_type": "markdown",
   "source": [
    "# Python 格式化字符串"
   ],
   "metadata": {
    "collapsed": false,
    "pycharm": {
     "name": "#%% md\n"
    }
   }
  },
  {
   "cell_type": "markdown",
   "source": [
    "## 简单使用"
   ],
   "metadata": {
    "collapsed": false,
    "pycharm": {
     "name": "#%% md\n"
    }
   }
  },
  {
   "cell_type": "code",
   "execution_count": 52,
   "outputs": [
    {
     "data": {
      "text/plain": "'Hello, my name is Tom'"
     },
     "execution_count": 52,
     "metadata": {},
     "output_type": "execute_result"
    }
   ],
   "source": [
    "name = 'Tom'\n",
    "age = 17\n",
    "f'Hello, my name is {name}'"
   ],
   "metadata": {
    "collapsed": false,
    "pycharm": {
     "name": "#%%\n"
    }
   }
  },
  {
   "cell_type": "code",
   "execution_count": 53,
   "outputs": [
    {
     "data": {
      "text/plain": "'名字放入大括号是{name}'"
     },
     "execution_count": 53,
     "metadata": {},
     "output_type": "execute_result"
    }
   ],
   "source": [
    "f'名字放入大括号是{\"{name}\"}'"
   ],
   "metadata": {
    "collapsed": false,
    "pycharm": {
     "name": "#%%\n"
    }
   }
  },
  {
   "cell_type": "markdown",
   "source": [
    "## 表达式求值"
   ],
   "metadata": {
    "collapsed": false,
    "pycharm": {
     "name": "#%% md\n"
    }
   }
  },
  {
   "cell_type": "code",
   "execution_count": 54,
   "outputs": [
    {
     "data": {
      "text/plain": "'I was born ind 2003.'"
     },
     "execution_count": 54,
     "metadata": {},
     "output_type": "execute_result"
    }
   ],
   "source": [
    "f'I was born ind {2020 - age}.'"
   ],
   "metadata": {
    "collapsed": false,
    "pycharm": {
     "name": "#%%\n"
    }
   }
  },
  {
   "cell_type": "markdown",
   "source": [
    "## 函数调用"
   ],
   "metadata": {
    "collapsed": false,
    "pycharm": {
     "name": "#%% md\n"
    }
   }
  },
  {
   "cell_type": "code",
   "execution_count": 55,
   "outputs": [
    {
     "data": {
      "text/plain": "'我名字有3个字母，全部小写为 tom'"
     },
     "execution_count": 55,
     "metadata": {},
     "output_type": "execute_result"
    }
   ],
   "source": [
    "f'我名字有{len(name)}个字母，全部小写为 {name.lower()}'"
   ],
   "metadata": {
    "collapsed": false,
    "pycharm": {
     "name": "#%%\n"
    }
   }
  },
  {
   "cell_type": "code",
   "execution_count": 56,
   "outputs": [
    {
     "data": {
      "text/plain": "'sin(80) 的值时-0.9938886539233752'"
     },
     "execution_count": 56,
     "metadata": {},
     "output_type": "execute_result"
    }
   ],
   "source": [
    "import math\n",
    "\n",
    "f'sin(80) 的值时{math.sin(80)}'"
   ],
   "metadata": {
    "collapsed": false,
    "pycharm": {
     "name": "#%%\n"
    }
   }
  },
  {
   "cell_type": "markdown",
   "source": [
    "## 自定义格式"
   ],
   "metadata": {
    "collapsed": false,
    "pycharm": {
     "name": "#%% md\n"
    }
   }
  },
  {
   "cell_type": "markdown",
   "source": [
    "### 宽度"
   ],
   "metadata": {
    "collapsed": false
   }
  },
  {
   "cell_type": "code",
   "execution_count": 57,
   "outputs": [
    {
     "name": "stdout",
     "output_type": "stream",
     "text": [
      "tom  100分\n",
      "lily 100分\n"
     ]
    }
   ],
   "source": [
    "name_1 = \"tom\"\n",
    "name_2 = \"lily\"\n",
    "\n",
    "print(f'{name_1:5}100分')\n",
    "print(f'{name_2:5}100分')"
   ],
   "metadata": {
    "collapsed": false,
    "pycharm": {
     "name": "#%%\n"
    }
   }
  },
  {
   "cell_type": "code",
   "execution_count": 59,
   "outputs": [
    {
     "data": {
      "text/plain": "'今年00000017岁'"
     },
     "execution_count": 59,
     "metadata": {},
     "output_type": "execute_result"
    }
   ],
   "source": [
    "f'今年{age:08}岁'\n",
    "# 不够长度设定则向前边补0"
   ],
   "metadata": {
    "collapsed": false,
    "pycharm": {
     "name": "#%%\n"
    }
   }
  },
  {
   "cell_type": "markdown",
   "source": [
    "### 对齐"
   ],
   "metadata": {
    "collapsed": false,
    "pycharm": {
     "name": "#%% md\n"
    }
   }
  },
  {
   "cell_type": "code",
   "execution_count": 61,
   "outputs": [
    {
     "name": "stdout",
     "output_type": "stream",
     "text": [
      "欢迎tom       光临\n",
      "欢迎      lily光临\n",
      "欢迎   tom    光临\n"
     ]
    }
   ],
   "source": [
    "# < 左对齐（字符串默认对齐方式）\n",
    "# > 右对齐（数值默认对齐方式）\n",
    "# ^ 居中\n",
    "print(f'欢迎{name_1:<10}光临')\n",
    "print(f'欢迎{name_2:>10}光临')\n",
    "print(f'欢迎{name_1:^10}光临')"
   ],
   "metadata": {
    "collapsed": false,
    "pycharm": {
     "name": "#%%\n"
    }
   }
  },
  {
   "cell_type": "markdown",
   "source": [
    "### 数字格式化"
   ],
   "metadata": {
    "collapsed": false,
    "pycharm": {
     "name": "#%% md\n"
    }
   }
  },
  {
   "cell_type": "code",
   "execution_count": 64,
   "outputs": [
    {
     "name": "stdout",
     "output_type": "stream",
     "text": [
      "最高+8848m\n",
      "最低-11043m\n"
     ]
    }
   ],
   "source": [
    "# 显示正号\n",
    "print(f'最高{8848:+}m')\n",
    "# 空格，正数前导空格，负数使用减号\n",
    "print(f'最低{-11043: }m')"
   ],
   "metadata": {
    "collapsed": false,
    "pycharm": {
     "name": "#%%\n"
    }
   }
  },
  {
   "cell_type": "code",
   "execution_count": 67,
   "outputs": [
    {
     "name": "stdout",
     "output_type": "stream",
     "text": [
      "a is 123.46\n",
      "a is   123.46\n",
      "a is 00123.46\n",
      "a is 12345.60%\n",
      "a is 3,253,547,568.430000\n"
     ]
    }
   ],
   "source": [
    "a = 123.456\n",
    "# 两位小数\n",
    "print(f'a is {a:.2f}')\n",
    "# 8个字符设置，不够用空格占位\n",
    "print(f'a is {a:8.2f}')\n",
    "# 8个字符设置，不够用 0 占位\n",
    "print(f'a is {a:08.2f}')\n",
    "# 共 8 位，不足后边补 0，再加百分号\n",
    "print(f'a is {a:8.2%}')\n",
    "# 加千分位\n",
    "print(f'a is {3253547568.43:,f}')"
   ],
   "metadata": {
    "collapsed": false,
    "pycharm": {
     "name": "#%%\n"
    }
   }
  },
  {
   "cell_type": "markdown",
   "source": [
    "### Lambda 表达式"
   ],
   "metadata": {
    "collapsed": false,
    "pycharm": {
     "name": "#%% md\n"
    }
   }
  },
  {
   "cell_type": "code",
   "execution_count": 70,
   "outputs": [
    {
     "name": "stdout",
     "output_type": "stream",
     "text": [
      "圆面积是50.24\n",
      "圆面积是+31400.00\n"
     ]
    }
   ],
   "source": [
    "print(f'圆面积是{(lambda x: 3.14 * x ** 2)(4)}')\n",
    "print(f'圆面积是{(lambda x: 3.14 * x ** 2)(100):<+7.2f}')"
   ],
   "metadata": {
    "collapsed": false,
    "pycharm": {
     "name": "#%%\n"
    }
   }
  },
  {
   "cell_type": "markdown",
   "source": [
    "## 格式字符串语法"
   ],
   "metadata": {
    "collapsed": false,
    "pycharm": {
     "name": "#%% md\n"
    }
   }
  },
  {
   "cell_type": "markdown",
   "source": [
    "按位置访问参数"
   ],
   "metadata": {
    "collapsed": false,
    "pycharm": {
     "name": "#%% md\n"
    }
   }
  },
  {
   "cell_type": "code",
   "execution_count": 75,
   "outputs": [
    {
     "name": "stdout",
     "output_type": "stream",
     "text": [
      "a, b, c\n",
      "a, b, c\n",
      "c, b, a\n",
      "c, b, a\n",
      "abra, cad, abra\n"
     ]
    }
   ],
   "source": [
    "print('{0}, {1}, {2}'.format('a', 'b', 'c'))\n",
    "print('{}, {}, {}'.format('a', 'b', 'c'))\n",
    "print('{2}, {1}, {0}'.format('a', 'b', 'c'))\n",
    "# 序列解包\n",
    "print('{2}, {1}, {0}'.format(*'abc'))\n",
    "# 参数索引可以重复\n",
    "print('{0}, {1}, {0}'.format('abra', 'cad'))"
   ],
   "metadata": {
    "collapsed": false,
    "pycharm": {
     "name": "#%%\n"
    }
   }
  },
  {
   "cell_type": "markdown",
   "source": [
    "按名称访问参数"
   ],
   "metadata": {
    "collapsed": false,
    "pycharm": {
     "name": "#%% md\n"
    }
   }
  },
  {
   "cell_type": "code",
   "execution_count": 79,
   "outputs": [
    {
     "name": "stdout",
     "output_type": "stream",
     "text": [
      "coordinates:37.24N, -11\n",
      "coordinates:37.24N, -11\n"
     ]
    }
   ],
   "source": [
    "print('coordinates:{latitude}, {longitude}'.format(latitude='37.24N', longitude='-11'))\n",
    "coord = {'latitude': '37.24N', 'longitude': '-11'}\n",
    "print('coordinates:{latitude}, {longitude}'.format(**coord))"
   ],
   "metadata": {
    "collapsed": false,
    "pycharm": {
     "name": "#%%\n"
    }
   }
  },
  {
   "cell_type": "markdown",
   "source": [
    "访问参数的属性"
   ],
   "metadata": {
    "collapsed": false,
    "pycharm": {
     "name": "#%% md\n"
    }
   }
  },
  {
   "cell_type": "code",
   "execution_count": 83,
   "outputs": [
    {
     "name": "stdout",
     "output_type": "stream",
     "text": [
      "The complex number (3-5j) is formed from the real part 3.0 and the imaginary part -5.0.\n"
     ]
    },
    {
     "data": {
      "text/plain": "'Point(4, 2)'"
     },
     "execution_count": 83,
     "metadata": {},
     "output_type": "execute_result"
    }
   ],
   "source": [
    "c = 3 - 5j\n",
    "print(('The complex number {0} is formed from the real part {0.real} '\n",
    "       'and the imaginary part {0.imag}.').format(c))\n",
    "\n",
    "\n",
    "class Point:\n",
    "    def __init__(self, x, y):\n",
    "        self.x, self.y = x, y\n",
    "\n",
    "    def __str__(self):\n",
    "        return 'Point({self.x}, {self.y})'.format(self=self)\n",
    "\n",
    "\n",
    "str(Point(4, 2))"
   ],
   "metadata": {
    "collapsed": false,
    "pycharm": {
     "name": "#%%\n"
    }
   }
  },
  {
   "cell_type": "markdown",
   "source": [
    "访问参数的项"
   ],
   "metadata": {
    "collapsed": false,
    "pycharm": {
     "name": "#%% md\n"
    }
   }
  },
  {
   "cell_type": "code",
   "execution_count": 84,
   "outputs": [
    {
     "data": {
      "text/plain": "'X: 3; Y:5'"
     },
     "execution_count": 84,
     "metadata": {},
     "output_type": "execute_result"
    }
   ],
   "source": [
    "coord = (3, 5)\n",
    "'X: {0[0]}; Y:{0[1]}'.format(coord)"
   ],
   "metadata": {
    "collapsed": false,
    "pycharm": {
     "name": "#%%\n"
    }
   }
  },
  {
   "cell_type": "markdown",
   "source": [
    "替代 %s 和 %r："
   ],
   "metadata": {
    "collapsed": false,
    "pycharm": {
     "name": "#%% md\n"
    }
   }
  },
  {
   "cell_type": "code",
   "execution_count": 91,
   "outputs": [
    {
     "data": {
      "text/plain": "\"repr() shows quotes: 'test1'; str() doesn't: test2\""
     },
     "execution_count": 91,
     "metadata": {},
     "output_type": "execute_result"
    }
   ],
   "source": [
    "\"repr() shows quotes: {!r}; str() doesn't: {!s}\".format('test1', 'test2')"
   ],
   "metadata": {
    "collapsed": false,
    "pycharm": {
     "name": "#%%\n"
    }
   }
  },
  {
   "cell_type": "markdown",
   "source": [
    "%s：用 str() 方法处理对象\n",
    "%r：用 rper() 方法处理对象，打印时能够重现它所代表的对象"
   ],
   "metadata": {
    "collapsed": false,
    "pycharm": {
     "name": "#%% md\n"
    }
   }
  },
  {
   "cell_type": "code",
   "execution_count": 96,
   "outputs": [
    {
     "name": "stdout",
     "output_type": "stream",
     "text": [
      "2022-04-05\n",
      "datetime.date(2022, 4, 5)\n"
     ]
    }
   ],
   "source": [
    "import datetime\n",
    "\n",
    "d = datetime.date.today()\n",
    "print(\"%s\" % d)\n",
    "print(\"%r\" % d)"
   ],
   "metadata": {
    "collapsed": false,
    "pycharm": {
     "name": "#%%\n"
    }
   }
  },
  {
   "cell_type": "markdown",
   "source": [
    "对齐文本及制定宽度"
   ],
   "metadata": {
    "collapsed": false,
    "pycharm": {
     "name": "#%% md\n"
    }
   }
  },
  {
   "cell_type": "code",
   "execution_count": 100,
   "outputs": [
    {
     "name": "stdout",
     "output_type": "stream",
     "text": [
      "left aligned                  \n",
      "                 right aligned\n",
      "centered\n",
      "***********centered***********\n"
     ]
    }
   ],
   "source": [
    "print('{:<30}'.format('left aligned'))\n",
    "print('{:>30}'.format('right aligned'))\n",
    "print('{:^3}'.format('centered'))\n",
    "# 使用 * 作为填充字符\n",
    "print('{:*^30}'.format('centered'))"
   ],
   "metadata": {
    "collapsed": false,
    "pycharm": {
     "name": "#%%\n"
    }
   }
  },
  {
   "cell_type": "markdown",
   "source": [
    "替代 %+f，%-f 和 %f 以及制定正负号"
   ],
   "metadata": {
    "collapsed": false,
    "pycharm": {
     "name": "#%% md\n"
    }
   }
  },
  {
   "cell_type": "code",
   "execution_count": 115,
   "outputs": [
    {
     "name": "stdout",
     "output_type": "stream",
     "text": [
      "+3.140000；-3.140000\n",
      " 3.140000；-3.140000\n",
      "3.140000；-3.140000\n"
     ]
    }
   ],
   "source": [
    "# 总是显示\n",
    "print('{:+f}；{:+f}'.format(3.14, -3.14))\n",
    "# 对于正数显示一个空格\n",
    "print('{: f}；{: f}'.format(3.14, -3.14))\n",
    "# 只显示负数\n",
    "print('{:-f}；{:-f}'.format(3.14, -3.14))"
   ],
   "metadata": {
    "collapsed": false,
    "pycharm": {
     "name": "#%%\n"
    }
   }
  },
  {
   "cell_type": "markdown",
   "source": [
    "替代 %x 和 %o 以及转换基于不同进位制的值\n",
    "%x：十六进制\n",
    "%o：八进制"
   ],
   "metadata": {
    "collapsed": false,
    "pycharm": {
     "name": "#%% md\n"
    }
   }
  },
  {
   "cell_type": "code",
   "execution_count": 111,
   "outputs": [
    {
     "name": "stdout",
     "output_type": "stream",
     "text": [
      "int: 42；hex：2a；oct：52；bin：101010\n",
      "int：42；hex：0x2a；oct：0o52；bin：0b101010\n"
     ]
    }
   ],
   "source": [
    "print(\"int: {0:d}；hex：{0:x}；oct：{0:o}；bin：{0:b}\".format(42))\n",
    "print(\"int：{0:d}；hex：{0:#x}；oct：{0:#o}；bin：{0:#b}\".format(42))"
   ],
   "metadata": {
    "collapsed": false,
    "pycharm": {
     "name": "#%%\n"
    }
   }
  },
  {
   "cell_type": "markdown",
   "source": [
    "使用逗号作为千位分隔符"
   ],
   "metadata": {
    "collapsed": false,
    "pycharm": {
     "name": "#%% md\n"
    }
   }
  },
  {
   "cell_type": "code",
   "execution_count": 108,
   "outputs": [
    {
     "data": {
      "text/plain": "'1,234,567,890'"
     },
     "execution_count": 108,
     "metadata": {},
     "output_type": "execute_result"
    }
   ],
   "source": [
    "'{:,}'.format(1234567890)"
   ],
   "metadata": {
    "collapsed": false,
    "pycharm": {
     "name": "#%%\n"
    }
   }
  },
  {
   "cell_type": "markdown",
   "source": [
    "表示为百分数"
   ],
   "metadata": {
    "collapsed": false,
    "pycharm": {
     "name": "#%% md\n"
    }
   }
  },
  {
   "cell_type": "code",
   "execution_count": 107,
   "outputs": [
    {
     "data": {
      "text/plain": "'Correct answers: 86.36%'"
     },
     "execution_count": 107,
     "metadata": {},
     "output_type": "execute_result"
    }
   ],
   "source": [
    "points = 19\n",
    "total = 22\n",
    "'Correct answers: {:.2%}'.format(points / total)"
   ],
   "metadata": {
    "collapsed": false,
    "pycharm": {
     "name": "#%%\n"
    }
   }
  },
  {
   "cell_type": "markdown",
   "source": [
    "使用特定类型的专属格式化"
   ],
   "metadata": {
    "collapsed": false,
    "pycharm": {
     "name": "#%% md\n"
    }
   }
  },
  {
   "cell_type": "code",
   "execution_count": 104,
   "outputs": [
    {
     "data": {
      "text/plain": "'2021-10-04 12:15:58'"
     },
     "execution_count": 104,
     "metadata": {},
     "output_type": "execute_result"
    }
   ],
   "source": [
    "import datetime\n",
    "\n",
    "d = datetime.datetime(2021, 10, 4, 12, 15, 58)\n",
    "'{:%Y-%m-%d %H:%M:%S}'.format(d)"
   ],
   "metadata": {
    "collapsed": false,
    "pycharm": {
     "name": "#%%\n"
    }
   }
  },
  {
   "cell_type": "markdown",
   "source": [
    "嵌套参数以及更复杂的实例"
   ],
   "metadata": {
    "collapsed": false,
    "pycharm": {
     "name": "#%% md\n"
    }
   }
  },
  {
   "cell_type": "code",
   "execution_count": 121,
   "outputs": [
    {
     "name": "stdout",
     "output_type": "stream",
     "text": [
      "left<<<<<<<<<<<<\n",
      "^^^^^center^^^^^\n",
      ">>>>>>>>>>>right\n"
     ]
    }
   ],
   "source": [
    "for align, text in zip('<^>', ['left', 'center', 'right']):\n",
    "    print('{0:{fill}{align}16}'.format(text, fill=align, align=align))"
   ],
   "metadata": {
    "collapsed": false,
    "pycharm": {
     "name": "#%%\n"
    }
   }
  },
  {
   "cell_type": "code",
   "execution_count": 147,
   "outputs": [
    {
     "name": "stdout",
     "output_type": "stream",
     "text": [
      "C0 A8 00 01\n"
     ]
    }
   ],
   "source": [
    "octets = [192, 168, 0, 1]\n",
    "print('{:02X} {:02X} {:02X} {:02X}'.format(*octets))"
   ],
   "metadata": {
    "collapsed": false,
    "pycharm": {
     "name": "#%%\n"
    }
   }
  },
  {
   "cell_type": "code",
   "execution_count": 146,
   "outputs": [
    {
     "name": "stdout",
     "output_type": "stream",
     "text": [
      "   5    5    5  101 \n",
      "   6    6    6  110 \n",
      "   7    7    7  111 \n",
      "   8    8   10 1000 \n",
      "   9    9   11 1001 \n",
      "  10    A   12 1010 \n",
      "  11    B   13 1011 \n"
     ]
    }
   ],
   "source": [
    "width = 4\n",
    "for num in range(5, 12):\n",
    "    for base in 'dXob':\n",
    "        print('{0:{width}{base}}'.format(num, base=base, width=width), end=' ')\n",
    "    print()"
   ],
   "metadata": {
    "collapsed": false,
    "pycharm": {
     "name": "#%%\n"
    }
   }
  },
  {
   "cell_type": "markdown",
   "source": [
    "# Python 变量"
   ],
   "metadata": {
    "collapsed": false,
    "pycharm": {
     "name": "#%% md\n"
    }
   }
  },
  {
   "cell_type": "markdown",
   "source": [
    "## 命名规则"
   ],
   "metadata": {
    "collapsed": false,
    "pycharm": {
     "name": "#%% md\n"
    }
   }
  },
  {
   "cell_type": "code",
   "execution_count": 149,
   "outputs": [
    {
     "data": {
      "text/plain": "['False',\n 'None',\n 'True',\n '__peg_parser__',\n 'and',\n 'as',\n 'assert',\n 'async',\n 'await',\n 'break',\n 'class',\n 'continue',\n 'def',\n 'del',\n 'elif',\n 'else',\n 'except',\n 'finally',\n 'for',\n 'from',\n 'global',\n 'if',\n 'import',\n 'in',\n 'is',\n 'lambda',\n 'nonlocal',\n 'not',\n 'or',\n 'pass',\n 'raise',\n 'return',\n 'try',\n 'while',\n 'with',\n 'yield']"
     },
     "execution_count": 149,
     "metadata": {},
     "output_type": "execute_result"
    }
   ],
   "source": [
    "import keyword\n",
    "\n",
    "keyword.kwlist"
   ],
   "metadata": {
    "collapsed": false,
    "pycharm": {
     "name": "#%%\n"
    }
   }
  },
  {
   "cell_type": "markdown",
   "source": [
    "## 下划线\n",
    "_ 也是一个变量名，它会指向你最后一次执行的表达式，也可以用来表示某个变量是临时或无关紧要的"
   ],
   "metadata": {
    "collapsed": false,
    "pycharm": {
     "name": "#%% md\n"
    }
   }
  },
  {
   "cell_type": "code",
   "execution_count": 164,
   "outputs": [
    {
     "data": {
      "text/plain": "8"
     },
     "execution_count": 164,
     "metadata": {},
     "output_type": "execute_result"
    }
   ],
   "source": [
    "a = 8\n",
    "_  # 8\n",
    "c = _\n",
    "c"
   ],
   "metadata": {
    "collapsed": false,
    "pycharm": {
     "name": "#%%\n"
    }
   }
  },
  {
   "cell_type": "code",
   "execution_count": 165,
   "outputs": [
    {
     "name": "stdout",
     "output_type": "stream",
     "text": [
      "Hello, World.\n",
      "Hello, World.\n",
      "Hello, World.\n",
      "Hello, World.\n",
      "Hello, World.\n",
      "Hello, World.\n",
      "Hello, World.\n",
      "Hello, World.\n",
      "Hello, World.\n",
      "Hello, World.\n"
     ]
    }
   ],
   "source": [
    "# 打印 10 次\n",
    "for _ in range(10):\n",
    "    print(\"Hello, World.\")"
   ],
   "metadata": {
    "collapsed": false,
    "pycharm": {
     "name": "#%%\n"
    }
   }
  },
  {
   "cell_type": "code",
   "execution_count": 173,
   "outputs": [
    {
     "name": "stdout",
     "output_type": "stream",
     "text": [
      "red\n",
      "auto\n"
     ]
    }
   ],
   "source": [
    "car = {'red', 'auto', 12, 3812.4}\n",
    "color, _, _, mileage = car\n",
    "print(color)\n",
    "print(mileage)"
   ],
   "metadata": {
    "collapsed": false,
    "pycharm": {
     "name": "#%%\n"
    }
   }
  },
  {
   "cell_type": "markdown",
   "source": [
    "## 变量的赋值"
   ],
   "metadata": {
    "collapsed": false,
    "pycharm": {
     "name": "#%% md\n"
    }
   }
  },
  {
   "cell_type": "code",
   "execution_count": 181,
   "outputs": [],
   "source": [
    "nvshen = 'lily'  # 自动创建变量并赋值\n",
    "nvshen = 'lucy'  # 此时变量的值已经发生了变化, 可打印出来看看"
   ],
   "metadata": {
    "collapsed": false,
    "pycharm": {
     "name": "#%%\n"
    }
   }
  },
  {
   "cell_type": "code",
   "execution_count": 182,
   "outputs": [
    {
     "name": "stdout",
     "output_type": "stream",
     "text": [
      "<class 'str'>\n",
      "<class 'int'>\n"
     ]
    }
   ],
   "source": [
    "print(type(nvshen))\n",
    "# 查看变量的类型, 返回 str, 代表是个文本\n",
    "# str\n",
    "nvshen = 666\n",
    "# 此时变量的类型发生了变化\n",
    "print(type(nvshen))\n",
    "#  返回类型为数字\n",
    "# int"
   ],
   "metadata": {
    "collapsed": false,
    "pycharm": {
     "name": "#%%\n"
    }
   }
  },
  {
   "cell_type": "markdown",
   "source": [
    "批量赋值："
   ],
   "metadata": {
    "collapsed": false
   }
  },
  {
   "cell_type": "code",
   "execution_count": 185,
   "outputs": [],
   "source": [
    "# 这里涉及的元组和列表后边会讲到\n",
    "lily_age, lucy_age, tom_age = (18, 19, 20)  # 可以打印出来看看三个变量的结果\n",
    "a, b, c = ['hi'] * 3  # 三个同样的值\n",
    "a = b = c = 'hi'"
   ],
   "metadata": {
    "collapsed": false,
    "pycharm": {
     "name": "#%%\n"
    }
   }
  },
  {
   "cell_type": "markdown",
   "source": [
    "运算赋值，可以通过布尔运算或者逻辑运算进行赋值"
   ],
   "metadata": {
    "collapsed": false
   }
  },
  {
   "cell_type": "code",
   "execution_count": 195,
   "outputs": [
    {
     "name": "stdout",
     "output_type": "stream",
     "text": [
      "[0, 1]\n",
      "[1, 1]\n",
      "[1, 1]\n",
      "[0, 1]\n"
     ]
    }
   ],
   "source": [
    "# 布尔运算赋值\n",
    "a = [0, 1]\n",
    "b = [1, 1]\n",
    "x = a or b  # 哪个为真就就将值赋值到 x\n",
    "print(x)\n",
    "x = a and b  # 哪个为假就将值赋到 x\n",
    "print(x)\n",
    "# 条件循环计算赋值\n",
    "x = a if a > b else b  # 如果 a>b 那知 x = a, 否则 x = b\n",
    "print(x)\n",
    "x = [i for i in a]\n",
    "print(x)\n",
    "# 将可迭代的 a 生成一个列表赋值给 x"
   ],
   "metadata": {
    "collapsed": false,
    "pycharm": {
     "name": "#%%\n"
    }
   }
  },
  {
   "cell_type": "markdown",
   "source": [
    "## global 和 nonlocal 关键字"
   ],
   "metadata": {
    "collapsed": false,
    "pycharm": {
     "name": "#%% md\n"
    }
   }
  },
  {
   "cell_type": "code",
   "execution_count": 198,
   "outputs": [
    {
     "name": "stdout",
     "output_type": "stream",
     "text": [
      "博爱\n"
     ]
    },
    {
     "data": {
      "text/plain": "'爱'"
     },
     "execution_count": 198,
     "metadata": {},
     "output_type": "execute_result"
    }
   ],
   "source": [
    "text = '爱'\n",
    "\n",
    "\n",
    "def say():\n",
    "    text = '博爱'\n",
    "    print(text)\n",
    "\n",
    "\n",
    "# 执行函数返回\n",
    "say()  # 博爱\n",
    "text  # 爱"
   ],
   "metadata": {
    "collapsed": false,
    "pycharm": {
     "name": "#%%\n"
    }
   }
  },
  {
   "cell_type": "code",
   "execution_count": 202,
   "outputs": [
    {
     "name": "stdout",
     "output_type": "stream",
     "text": [
      "博爱\n"
     ]
    },
    {
     "data": {
      "text/plain": "'博爱'"
     },
     "execution_count": 202,
     "metadata": {},
     "output_type": "execute_result"
    }
   ],
   "source": [
    "text = '爱'\n",
    "\n",
    "\n",
    "def say():\n",
    "    global text\n",
    "    text = '博爱'\n",
    "    print(text)\n",
    "\n",
    "\n",
    "# 现在执行变量\n",
    "say()\n",
    "text  # 博爱"
   ],
   "metadata": {
    "collapsed": false,
    "pycharm": {
     "name": "#%%\n"
    }
   }
  },
  {
   "cell_type": "code",
   "execution_count": 205,
   "outputs": [
    {
     "name": "stdout",
     "output_type": "stream",
     "text": [
      "2\n"
     ]
    },
    {
     "data": {
      "text/plain": "0"
     },
     "execution_count": 205,
     "metadata": {},
     "output_type": "execute_result"
    }
   ],
   "source": [
    "i = 0\n",
    "\n",
    "\n",
    "def a():\n",
    "    i = 1\n",
    "\n",
    "    def b():\n",
    "        nonlocal i\n",
    "        i = 2\n",
    "\n",
    "    b()\n",
    "    print(i)\n",
    "\n",
    "\n",
    "a()\n",
    "i"
   ],
   "metadata": {
    "collapsed": false,
    "pycharm": {
     "name": "#%%\n"
    }
   }
  },
  {
   "cell_type": "markdown",
   "source": [
    "## 标识符"
   ],
   "metadata": {
    "collapsed": false,
    "pycharm": {
     "name": "#%% md\n"
    }
   }
  },
  {
   "cell_type": "code",
   "execution_count": 149,
   "outputs": [],
   "source": [],
   "metadata": {
    "collapsed": false,
    "pycharm": {
     "name": "#%%\n"
    }
   }
  },
  {
   "cell_type": "markdown",
   "source": [
    "## 理解变量"
   ],
   "metadata": {
    "collapsed": false,
    "pycharm": {
     "name": "#%% md\n"
    }
   }
  },
  {
   "cell_type": "code",
   "execution_count": null,
   "outputs": [],
   "source": [],
   "metadata": {
    "collapsed": false,
    "pycharm": {
     "name": "#%%\n"
    }
   }
  }
 ],
 "metadata": {
  "kernelspec": {
   "display_name": "Python 3",
   "language": "python",
   "name": "python3"
  },
  "language_info": {
   "codemirror_mode": {
    "name": "ipython",
    "version": 2
   },
   "file_extension": ".py",
   "mimetype": "text/x-python",
   "name": "python",
   "nbconvert_exporter": "python",
   "pygments_lexer": "ipython2",
   "version": "2.7.6"
  }
 },
 "nbformat": 4,
 "nbformat_minor": 0
}