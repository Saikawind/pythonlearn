{
 "cells": [
  {
   "cell_type": "markdown",
   "metadata": {
    "collapsed": true,
    "pycharm": {
     "name": "#%% md\n"
    }
   },
   "source": [
    "# 什么是流程控制\n",
    "理解逻辑分支\n",
    "理解循环"
   ]
  },
  {
   "cell_type": "markdown",
   "source": [
    "# while 语句\n",
    "小心死循环，while 里的代码逻辑一定得有条件让 while 表达式为 False，否则会造成死循环"
   ],
   "metadata": {
    "collapsed": false,
    "pycharm": {
     "name": "#%% md\n"
    }
   }
  },
  {
   "cell_type": "markdown",
   "source": [
    "## 语句逻辑"
   ],
   "metadata": {
    "collapsed": false,
    "pycharm": {
     "name": "#%% md\n"
    }
   }
  },
  {
   "cell_type": "code",
   "source": [
    "# 知名的斐波那契数列(后边的值是前两个之和)，小于15的\n",
    "a, b = 0, 1\n",
    "while a < 15:\n",
    "    print(a, end=' ')\n",
    "    a, b = b, a + b\n",
    "print()\n",
    "print('生成完毕')\n",
    "\n",
    "# 0 1 1 2 3 5 8 13\n",
    "# 生成完毕"
   ],
   "metadata": {
    "collapsed": false,
    "pycharm": {
     "name": "#%%\n"
    }
   },
   "execution_count": 2,
   "outputs": [
    {
     "name": "stdout",
     "output_type": "stream",
     "text": [
      "0 1 1 2 3 5 8 13 \n",
      "生成完毕\n"
     ]
    }
   ]
  },
  {
   "cell_type": "markdown",
   "source": [
    "语句结构：\n",
    "#0. [ While 之前的代码 ]\n",
    "\n",
    "#1. [ While  {表达式} ]\n",
    "    #1.1 { While 循环代码}\n",
    "\n",
    "#2.[ While 之后的代码 ]"
   ],
   "metadata": {
    "collapsed": false,
    "pycharm": {
     "name": "#%% md\n"
    }
   }
  },
  {
   "cell_type": "markdown",
   "source": [
    "## 基本语法"
   ],
   "metadata": {
    "collapsed": false,
    "pycharm": {
     "name": "#%% md\n"
    }
   }
  },
  {
   "cell_type": "code",
   "execution_count": 5,
   "outputs": [
    {
     "name": "stdout",
     "output_type": "stream",
     "text": [
      "你拍0，我拍0\n",
      "你拍1，我拍1\n",
      "你拍2，我拍2\n",
      "你拍3，我拍3\n",
      "再见!\n"
     ]
    }
   ],
   "source": [
    "# 数到 3\n",
    "num = 0\n",
    "while num <= 3:\n",
    "    print(f'你拍{num}，我拍{num}')\n",
    "    num = num + 1\n",
    "\n",
    "print(\"再见!\")"
   ],
   "metadata": {
    "collapsed": false,
    "pycharm": {
     "name": "#%%\n"
    }
   }
  },
  {
   "cell_type": "markdown",
   "source": [
    "## 嵌套分支\n"
   ],
   "metadata": {
    "collapsed": false,
    "pycharm": {
     "name": "#%% md\n"
    }
   }
  },
  {
   "cell_type": "code",
   "execution_count": 7,
   "outputs": [
    {
     "name": "stdout",
     "output_type": "stream",
     "text": [
      "tom 是男孩。\n",
      "lucy 是女孩。\n",
      "lily 是女孩。\n"
     ]
    }
   ],
   "source": [
    "name_list = ['tom', 'lily', 'lucy']\n",
    "while name_list:\n",
    "    for i in name_list:\n",
    "        if i == 'tom':\n",
    "            print(f'{i} 是男孩。')\n",
    "        else:\n",
    "            print(f'{i} 是女孩。')\n",
    "\n",
    "        name_list.remove(i)  # 执行结果就删除了\n",
    "# tom 是男孩。\n",
    "# lucy 是女孩。\n",
    "# lily 是女孩。"
   ],
   "metadata": {
    "collapsed": false,
    "pycharm": {
     "name": "#%%\n"
    }
   }
  },
  {
   "cell_type": "markdown",
   "source": [
    "## else\n",
    "可以增加和 while 平级的 else，以执行 while 列表式为 false 的情况。"
   ],
   "metadata": {
    "collapsed": false
   }
  },
  {
   "cell_type": "code",
   "execution_count": 10,
   "outputs": [
    {
     "name": "stdout",
     "output_type": "stream",
     "text": [
      "你拍0，我拍0\n",
      "你拍1，我拍1\n",
      "你拍2，我拍2\n",
      "你拍3，我拍3\n",
      "再见!\n"
     ]
    }
   ],
   "source": [
    "# 数到 3\n",
    "num = 0\n",
    "while num <= 3:\n",
    "    print(f'你拍{num}，我拍{num}')\n",
    "    num = num + 1\n",
    "else:\n",
    "    print(\"再见!\")"
   ],
   "metadata": {
    "collapsed": false,
    "pycharm": {
     "name": "#%%\n"
    }
   }
  },
  {
   "cell_type": "markdown",
   "source": [
    "## 中止和继续循环\n",
    "break 和 continue 可实现跳过（终止）和继续执行。\n",
    "* break 语句是结束整个循环的过程;\n",
    "* continue 语句是只结束本次循环，继续从 while 那里开始。"
   ],
   "metadata": {
    "collapsed": false,
    "pycharm": {
     "name": "#%% md\n"
    }
   }
  },
  {
   "cell_type": "code",
   "execution_count": 11,
   "outputs": [
    {
     "name": "stdout",
     "output_type": "stream",
     "text": [
      "0\n",
      "1\n",
      "2\n",
      "3\n",
      "4\n"
     ]
    }
   ],
   "source": [
    "# 跳过 5以上的 这个区间\n",
    "for i in range(10000):\n",
    "    if i > 4:\n",
    "        break  # 大于 4 时路中止整体循环\n",
    "    print(i)"
   ],
   "metadata": {
    "collapsed": false,
    "pycharm": {
     "name": "#%%\n"
    }
   }
  },
  {
   "cell_type": "code",
   "execution_count": 15,
   "outputs": [
    {
     "name": "stdout",
     "output_type": "stream",
     "text": [
      "1\n",
      "2\n",
      "3\n",
      "5\n"
     ]
    }
   ],
   "source": [
    "a = 0\n",
    "while a < 5:\n",
    "    a += 1\n",
    "    if a == 4:\n",
    "        continue  # 为4时跳过，继续执行\n",
    "    print(a)\n",
    "\n",
    "# 1 2 3 5"
   ],
   "metadata": {
    "collapsed": false,
    "pycharm": {
     "name": "#%%\n"
    }
   }
  },
  {
   "cell_type": "markdown",
   "source": [
    "## while 表达式"
   ],
   "metadata": {
    "collapsed": false
   }
  },
  {
   "cell_type": "code",
   "execution_count": 16,
   "outputs": [],
   "source": [
    "# swich = 1\n",
    "# while (swich): print('你好呀！')\n",
    "# 使用 CTRL+C 中断循环"
   ],
   "metadata": {
    "collapsed": false,
    "pycharm": {
     "name": "#%%\n"
    }
   }
  },
  {
   "cell_type": "markdown",
   "source": [
    "# if else 条件语句"
   ],
   "metadata": {
    "collapsed": false,
    "pycharm": {
     "name": "#%% md\n"
    }
   }
  },
  {
   "cell_type": "markdown",
   "source": [
    "## 基本语法"
   ],
   "metadata": {
    "collapsed": false,
    "pycharm": {
     "name": "#%% md\n"
    }
   }
  },
  {
   "cell_type": "code",
   "source": [
    "age = 20\n",
    "\n",
    "if age >= 18:\n",
    "    print('成年人')\n",
    "\n",
    "# 全要素\n",
    "if age <= 6:\n",
    "    print('小朋友')\n",
    "elif age >= 18:\n",
    "    print('成年人')\n",
    "else:\n",
    "    print('未成年人')\n",
    "\n",
    "# 成年人"
   ],
   "metadata": {
    "collapsed": false,
    "pycharm": {
     "name": "#%%\n"
    }
   },
   "execution_count": 18,
   "outputs": [
    {
     "name": "stdout",
     "output_type": "stream",
     "text": [
      "成年人\n",
      "成年人\n"
     ]
    }
   ]
  },
  {
   "cell_type": "markdown",
   "source": [
    "* 关键字有 if elif else，关键字与表达式之间有空格\n",
    "* elif 和 else 是可选的\n",
    "* elif 可以多个, if 也可以多个，但是不规范，else 只能一个\n",
    "* 逻辑代码块按层级缩进\n",
    "* 只按顺序执行第一个为 True 的代码块"
   ],
   "metadata": {
    "collapsed": false,
    "pycharm": {
     "name": "#%% md\n"
    }
   }
  },
  {
   "cell_type": "markdown",
   "source": [
    "## 多分支"
   ],
   "metadata": {
    "collapsed": false,
    "pycharm": {
     "name": "#%% md\n"
    }
   }
  },
  {
   "cell_type": "code",
   "execution_count": 19,
   "outputs": [
    {
     "name": "stdout",
     "output_type": "stream",
     "text": [
      "成年人\n"
     ]
    }
   ],
   "source": [
    "age = 20\n",
    "\n",
    "if age < 18:\n",
    "    if age <= 6:\n",
    "        print('小朋友')\n",
    "    else:\n",
    "        print('未成年人')\n",
    "else:\n",
    "    print('成年人')"
   ],
   "metadata": {
    "collapsed": false,
    "pycharm": {
     "name": "#%%\n"
    }
   }
  },
  {
   "cell_type": "markdown",
   "source": [
    "## 表达式"
   ],
   "metadata": {
    "collapsed": false,
    "pycharm": {
     "name": "#%% md\n"
    }
   }
  },
  {
   "cell_type": "code",
   "execution_count": 23,
   "outputs": [
    {
     "data": {
      "text/plain": "'成年人'"
     },
     "execution_count": 23,
     "metadata": {},
     "output_type": "execute_result"
    }
   ],
   "source": [
    "var = '成年人' if age >= 18 else '未成年人'\n",
    "var"
   ],
   "metadata": {
    "collapsed": false,
    "pycharm": {
     "name": "#%%\n"
    }
   }
  },
  {
   "cell_type": "markdown",
   "source": [
    "生成列表"
   ],
   "metadata": {
    "collapsed": false,
    "pycharm": {
     "name": "#%% md\n"
    }
   }
  },
  {
   "cell_type": "code",
   "execution_count": 24,
   "outputs": [
    {
     "data": {
      "text/plain": "[1, 3, 5, 7, 9]"
     },
     "execution_count": 24,
     "metadata": {},
     "output_type": "execute_result"
    }
   ],
   "source": [
    "# 生成奇数列表\n",
    "var = [i for i in range(10) if i % 2]\n",
    "# [1, 3, 5, 7, 9]\n",
    "var"
   ],
   "metadata": {
    "collapsed": false,
    "pycharm": {
     "name": "#%%\n"
    }
   }
  },
  {
   "cell_type": "markdown",
   "source": [
    "生成字典"
   ],
   "metadata": {
    "collapsed": false,
    "pycharm": {
     "name": "#%% md\n"
    }
   }
  },
  {
   "cell_type": "code",
   "execution_count": 26,
   "outputs": [
    {
     "data": {
      "text/plain": "{1: 10, 3: 30, 5: 50, 7: 70, 9: 90}"
     },
     "execution_count": 26,
     "metadata": {},
     "output_type": "execute_result"
    }
   ],
   "source": [
    "# 生成偶数字典，值乘于 10\n",
    "var = {i: i * 10 for i in range(10) if i % 2}\n",
    "# {1: 10, 3: 30, 5: 50, 7: 70, 9: 90}\n",
    "var"
   ],
   "metadata": {
    "collapsed": false,
    "pycharm": {
     "name": "#%%\n"
    }
   }
  },
  {
   "cell_type": "markdown",
   "source": [
    "# for 循环语句"
   ],
   "metadata": {
    "collapsed": false,
    "pycharm": {
     "name": "#%% md\n"
    }
   }
  },
  {
   "cell_type": "markdown",
   "source": [
    "## 语句结构\n",
    "For 循环的结构如下："
   ],
   "metadata": {
    "collapsed": false,
    "pycharm": {
     "name": "#%% md\n"
    }
   }
  },
  {
   "cell_type": "code",
   "source": [
    "# for <变量> in <可迭代对象>:\n",
    "#     <逻辑代码>"
   ],
   "metadata": {
    "collapsed": false,
    "pycharm": {
     "name": "#%%\n"
    }
   },
   "execution_count": null,
   "outputs": []
  },
  {
   "cell_type": "markdown",
   "source": [
    "执行流程如下：\n",
    "* 先从 <可迭代对象> 取出第一个内容，赋值给 <变量>\n",
    "* 执行 <逻辑代码>，一般 <逻辑代码> 中会应用到 <变量>\n",
    "* 执行完 <逻辑代码> 后，继续从头开始从 <可迭代对象> 取出第二个内容\n",
    "* 如此往复，至少执行完 <可迭代对象> 中的最后一个内容为至"
   ],
   "metadata": {
    "collapsed": false,
    "pycharm": {
     "name": "#%% md\n"
    }
   }
  },
  {
   "cell_type": "markdown",
   "source": [
    "## 理解可迭代\n",
    "此处的可迭代对象可以理解为一个序列，可以拆开的内容，如字符串（每个字串）、列表、字典、集合等等\n",
    "如果，for 中的变量在逻辑代码中不使用，可用 _ 代替，比较规范"
   ],
   "metadata": {
    "collapsed": false,
    "pycharm": {
     "name": "#%% md\n"
    }
   }
  },
  {
   "cell_type": "code",
   "execution_count": 28,
   "outputs": [
    {
     "name": "stdout",
     "output_type": "stream",
     "text": [
      "你能学会 python.\n",
      "你能学会 python.\n",
      "你能学会 python.\n",
      "重要的事说三遍！\n"
     ]
    }
   ],
   "source": [
    "for _ in range(3):\n",
    "    print('你能学会 python.')\n",
    "else:\n",
    "    print('重要的事说三遍！')"
   ],
   "metadata": {
    "collapsed": false,
    "pycharm": {
     "name": "#%%\n"
    }
   }
  },
  {
   "cell_type": "markdown",
   "source": [
    "迭代字典"
   ],
   "metadata": {
    "collapsed": false,
    "pycharm": {
     "name": "#%% md\n"
    }
   }
  },
  {
   "cell_type": "code",
   "execution_count": 29,
   "outputs": [
    {
     "name": "stdout",
     "output_type": "stream",
     "text": [
      "name Tom\n",
      "age 18\n",
      "height 180\n"
     ]
    }
   ],
   "source": [
    "tom = {'name': 'Tom', 'age': 18, 'height': 180}\n",
    "for k, v in tom.items():\n",
    "    print(k, v)"
   ],
   "metadata": {
    "collapsed": false,
    "pycharm": {
     "name": "#%%\n"
    }
   }
  },
  {
   "cell_type": "markdown",
   "source": [
    "迭代列表"
   ],
   "metadata": {
    "collapsed": false,
    "pycharm": {
     "name": "#%% md\n"
    }
   }
  },
  {
   "cell_type": "code",
   "execution_count": 32,
   "outputs": [
    {
     "name": "stdout",
     "output_type": "stream",
     "text": [
      "name Tom\n",
      "age 18\n",
      "height 180\n"
     ]
    }
   ],
   "source": [
    "# 也可以得到和上边一样的结果\n",
    "for i in tom:\n",
    "    print(i[0], i[1])"
   ],
   "metadata": {
    "collapsed": false,
    "pycharm": {
     "name": "#%%\n"
    }
   }
  },
  {
   "cell_type": "markdown",
   "source": [
    "## 嵌套\n",
    "条件分支嵌套"
   ],
   "metadata": {
    "collapsed": false,
    "pycharm": {
     "name": "#%% md\n"
    }
   }
  },
  {
   "cell_type": "code",
   "execution_count": 33,
   "outputs": [
    {
     "name": "stdout",
     "output_type": "stream",
     "text": [
      "10\n"
     ]
    }
   ],
   "source": [
    "for i in range(100):\n",
    "    if i * 2 - i == 10:\n",
    "        print(i)\n",
    "# 10"
   ],
   "metadata": {
    "collapsed": false,
    "pycharm": {
     "name": "#%%\n"
    }
   }
  },
  {
   "cell_type": "markdown",
   "source": [
    "自身嵌套"
   ],
   "metadata": {
    "collapsed": false,
    "pycharm": {
     "name": "#%% md\n"
    }
   }
  },
  {
   "cell_type": "code",
   "execution_count": 34,
   "outputs": [
    {
     "name": "stdout",
     "output_type": "stream",
     "text": [
      "1\n",
      "2\n",
      "3\n",
      "4\n",
      "5\n",
      "6\n"
     ]
    }
   ],
   "source": [
    "a = [(1, 2, 3), (4, 5, 6)]\n",
    "for i in a:\n",
    "    for x in i:\n",
    "        print(x)"
   ],
   "metadata": {
    "collapsed": false,
    "pycharm": {
     "name": "#%%\n"
    }
   }
  },
  {
   "cell_type": "markdown",
   "source": [
    "## 表达式\n",
    "生成列表，列表推导式"
   ],
   "metadata": {
    "collapsed": false,
    "pycharm": {
     "name": "#%% md\n"
    }
   }
  },
  {
   "cell_type": "code",
   "execution_count": 37,
   "outputs": [
    {
     "data": {
      "text/plain": "[0, 1, 2]"
     },
     "execution_count": 37,
     "metadata": {},
     "output_type": "execute_result"
    }
   ],
   "source": [
    "# 生成偶数列表\n",
    "var = [i for i in range(3)]\n",
    "# [0, 1, 2]\n",
    "var"
   ],
   "metadata": {
    "collapsed": false,
    "pycharm": {
     "name": "#%%\n"
    }
   }
  },
  {
   "cell_type": "markdown",
   "source": [
    "生成字典"
   ],
   "metadata": {
    "collapsed": false,
    "pycharm": {
     "name": "#%% md\n"
    }
   }
  },
  {
   "cell_type": "code",
   "execution_count": 38,
   "outputs": [
    {
     "data": {
      "text/plain": "{1: 10, 3: 30, 5: 50, 7: 70, 9: 90}"
     },
     "execution_count": 38,
     "metadata": {},
     "output_type": "execute_result"
    }
   ],
   "source": [
    "# 生成偶数字典，值乘于 10\n",
    "var = {i: i * 10 for i in range(10) if i % 2}\n",
    "# {1: 10, 3: 30, 5: 50, 7: 70, 9: 90}\n",
    "var"
   ],
   "metadata": {
    "collapsed": false,
    "pycharm": {
     "name": "#%%\n"
    }
   }
  },
  {
   "cell_type": "markdown",
   "source": [
    "# range() 函数"
   ],
   "metadata": {
    "collapsed": false,
    "pycharm": {
     "name": "#%% md\n"
    }
   }
  },
  {
   "cell_type": "markdown",
   "source": [
    "## 语法\n",
    "range(stop) 和 range(start, stop, step)\n",
    "### 参数\n",
    "* start：可选，数列的开始，默认为 0\n",
    "* stop：必选，数列的结束（不包含）\n",
    "* step：可选，步长，默认为 1\n",
    "### 特点\n",
    "相比常规 list 或 tuple，range 占用固定数量（较小）的内存"
   ],
   "metadata": {
    "collapsed": false,
    "pycharm": {
     "name": "#%% md\n"
    }
   }
  },
  {
   "cell_type": "markdown",
   "source": [
    "## 属性和方法"
   ],
   "metadata": {
    "collapsed": false,
    "pycharm": {
     "name": "#%% md\n"
    }
   }
  },
  {
   "cell_type": "code",
   "execution_count": 39,
   "outputs": [
    {
     "data": {
      "text/plain": "range(1, 10, 2)"
     },
     "execution_count": 39,
     "metadata": {},
     "output_type": "execute_result"
    }
   ],
   "source": [
    "# 定义范围对象 rangeobject\n",
    "r = range(1, 10, 2)\n",
    "list(r)\n",
    "# 转为列表\n",
    "r"
   ],
   "metadata": {
    "collapsed": false,
    "pycharm": {
     "name": "#%%\n"
    }
   }
  },
  {
   "cell_type": "markdown",
   "source": [
    "### 属性"
   ],
   "metadata": {
    "collapsed": false,
    "pycharm": {
     "name": "#%% md\n"
    }
   }
  },
  {
   "cell_type": "code",
   "execution_count": 44,
   "outputs": [
    {
     "name": "stdout",
     "output_type": "stream",
     "text": [
      "1\n",
      "10\n",
      "2\n"
     ]
    }
   ],
   "source": [
    "print(r.start)\n",
    "# 1 开始值\n",
    "print(r.stop)\n",
    "# 10 终止值\n",
    "print(r.step)\n",
    "# 2 步长"
   ],
   "metadata": {
    "collapsed": false,
    "pycharm": {
     "name": "#%%\n"
    }
   }
  },
  {
   "cell_type": "markdown",
   "source": [
    "### 方法"
   ],
   "metadata": {
    "collapsed": false,
    "pycharm": {
     "name": "#%% md\n"
    }
   }
  },
  {
   "cell_type": "code",
   "execution_count": 52,
   "outputs": [
    {
     "name": "stdout",
     "output_type": "stream",
     "text": [
      "range(1, 10, 2)\n",
      "1\n",
      "0\n",
      "1\n"
     ]
    }
   ],
   "source": [
    "print(r)\n",
    "# 返回值的出现次数\n",
    "print(r.count(1))\n",
    "# 1\n",
    "print(r.count(10))\n",
    "# 0\n",
    "\n",
    "# 返回值的索引\n",
    "print(r.index(3))\n",
    "# 1\n",
    "# r.index(10)\n",
    "# 如果该值不存在，则引发值错误,ValueError：10 is not in range"
   ],
   "metadata": {
    "collapsed": false,
    "pycharm": {
     "name": "#%%\n"
    }
   }
  },
  {
   "cell_type": "markdown",
   "source": [
    "## 使用"
   ],
   "metadata": {
    "collapsed": false,
    "pycharm": {
     "name": "#%% md\n"
    }
   }
  },
  {
   "cell_type": "code",
   "execution_count": 59,
   "outputs": [
    {
     "data": {
      "text/plain": "[0, 1, 2, 3]"
     },
     "execution_count": 59,
     "metadata": {},
     "output_type": "execute_result"
    }
   ],
   "source": [
    "[i for i in range(4)]  # [0, 1, 2, 3]\n"
   ],
   "metadata": {
    "collapsed": false,
    "pycharm": {
     "name": "#%%\n"
    }
   }
  },
  {
   "cell_type": "code",
   "execution_count": 61,
   "outputs": [
    {
     "name": "stdout",
     "output_type": "stream",
     "text": [
      "2 4 6 8 "
     ]
    }
   ],
   "source": [
    "for i in range(2, 10, 2):\n",
    "    print(i, end=' ')\n",
    "# 24 6 8"
   ],
   "metadata": {
    "collapsed": false,
    "pycharm": {
     "name": "#%%\n"
    }
   }
  },
  {
   "cell_type": "code",
   "execution_count": 62,
   "outputs": [
    {
     "name": "stdout",
     "output_type": "stream",
     "text": [
      "h\n",
      "e\n",
      "l\n",
      "l\n",
      "o\n"
     ]
    }
   ],
   "source": [
    "var = 'hello'\n",
    "for i in range(len(var)):\n",
    "    print(var[i])"
   ],
   "metadata": {
    "collapsed": false,
    "pycharm": {
     "name": "#%%\n"
    }
   }
  },
  {
   "cell_type": "markdown",
   "source": [
    "## 相关操作\n",
    "range 对象实现了 collections.abc.Sequence 抽象基类（ABC），提供如包含检测、元素索引查找、切片等特性，并支持负索引。"
   ],
   "metadata": {
    "collapsed": false,
    "pycharm": {
     "name": "#%% md\n"
    }
   }
  },
  {
   "cell_type": "code",
   "execution_count": 63,
   "outputs": [
    {
     "data": {
      "text/plain": "True"
     },
     "execution_count": 63,
     "metadata": {},
     "output_type": "execute_result"
    }
   ],
   "source": [
    "from collections import abc\n",
    "\n",
    "isinstance(r, abc.Sequence)\n",
    "# True\n",
    "\n",
    "type(r)\n",
    "# range\n",
    "\n",
    "issubclass(range, abc.Sequence)\n",
    "# True"
   ],
   "metadata": {
    "collapsed": false,
    "pycharm": {
     "name": "#%%\n"
    }
   }
  },
  {
   "cell_type": "markdown",
   "source": [
    "range 对象实现了一般序列的所有操作，但不支持拼接和重复\n",
    "因为 range 对象只能表示符合严格模式的序列，而重复和拼接通常都会违反这样的模式"
   ],
   "metadata": {
    "collapsed": false,
    "pycharm": {
     "name": "#%% md\n"
    }
   }
  },
  {
   "cell_type": "code",
   "execution_count": 65,
   "outputs": [
    {
     "name": "stdout",
     "output_type": "stream",
     "text": [
      "range(0, 20, 2)\n",
      "[0, 2, 4, 6, 8, 10, 12, 14, 16, 18]\n",
      "10\n",
      "18\n",
      "90\n",
      "<range_iterator object at 0x0000023411959850>\n",
      "False\n",
      "True\n",
      "5\n",
      "10\n",
      "range(0, 10, 2)\n",
      "18\n"
     ]
    }
   ],
   "source": [
    "r = range(0, 20, 2)\n",
    "print(r)\n",
    "# range(0, 20, 2)\n",
    "print(list(r))\n",
    "# [0, 2, 4, 6, 8, 10, 12, 14, 16, 18]\n",
    "print(len(r))\n",
    "# 10\n",
    "print(max(r))\n",
    "# 18\n",
    "print(sum(r))\n",
    "# 90\n",
    "print(iter(r))\n",
    "# <range_iterator at 0x7f9b3a7ad4a0>\n",
    "print(11 in r)\n",
    "# False\n",
    "print(10 in r)\n",
    "# True\n",
    "print(r.index(10))\n",
    "# 5\n",
    "print(r[5])\n",
    "# 10\n",
    "print(r[:5])\n",
    "# range(0, 10, 2)\n",
    "print(r[-1])\n",
    "# 18"
   ],
   "metadata": {
    "collapsed": false,
    "pycharm": {
     "name": "#%%\n"
    }
   }
  },
  {
   "cell_type": "markdown",
   "source": [
    "# match case 结构化模式匹配\n",
    "python 3.10 新增的特性"
   ],
   "metadata": {
    "collapsed": false
   }
  },
  {
   "cell_type": "markdown",
   "source": [
    "## 语法"
   ],
   "metadata": {
    "collapsed": false,
    "pycharm": {
     "name": "#%% md\n"
    }
   }
  },
  {
   "cell_type": "code",
   "execution_count": null,
   "outputs": [],
   "source": [
    "# match subject:\n",
    "#     case <pattern_1>:\n",
    "#         <action_1>\n",
    "#     case <pattern_2>:\n",
    "#         <action_2>\n",
    "#     case <pattern_3>:\n",
    "#         <action_3>\n",
    "#     case _:\n",
    "#         <action_wildcard>"
   ],
   "metadata": {
    "collapsed": false,
    "pycharm": {
     "name": "#%%\n"
    }
   }
  },
  {
   "cell_type": "markdown",
   "source": [
    "## 用法\n",
    "### 匹配一个字面值"
   ],
   "metadata": {
    "collapsed": false,
    "pycharm": {
     "name": "#%% md\n"
    }
   }
  },
  {
   "cell_type": "code",
   "execution_count": 67,
   "outputs": [],
   "source": [
    "grade = 3\n",
    "match grade:\n",
    "    case 1:\n",
    "        print('一年级')\n",
    "    case 2:\n",
    "        print('二年级')\n",
    "    case 3:\n",
    "        print('三年级')\n",
    "    case _:\n",
    "        print('未知年级')\n",
    "# 三年级"
   ],
   "metadata": {
    "collapsed": false,
    "pycharm": {
     "name": "#%%\n"
    }
   }
  },
  {
   "cell_type": "markdown",
   "source": [
    "变量名 _ 作为通配符确保目标总是被匹配的，是可选的"
   ],
   "metadata": {
    "collapsed": false,
    "pycharm": {
     "name": "#%% md\n"
    }
   }
  },
  {
   "cell_type": "code",
   "execution_count": null,
   "outputs": [],
   "source": [
    "grade = 5\n",
    "match grade:\n",
    "    case 1:\n",
    "        print('一年级')\n",
    "    case 2:\n",
    "        print('二年级')\n",
    "    case 3:\n",
    "        print('三年级')\n",
    "    case 4 | 5 | 6:\n",
    "        print('高年级')\n",
    "    case _:\n",
    "        print('未知年级')\n",
    "\n",
    "# 高年级"
   ],
   "metadata": {
    "collapsed": false,
    "pycharm": {
     "name": "#%%\n"
    }
   }
  },
  {
   "cell_type": "markdown",
   "source": [
    "利用一个类状态实现的开关功能"
   ],
   "metadata": {
    "collapsed": false,
    "pycharm": {
     "name": "#%% md\n"
    }
   }
  },
  {
   "cell_type": "code",
   "execution_count": null,
   "outputs": [],
   "source": [
    "class switch:\n",
    "    on = 1\n",
    "    off = 0\n",
    "\n",
    "\n",
    "status = 0\n",
    "\n",
    "match status:\n",
    "    case switch.on:\n",
    "        print('Switch is on')\n",
    "    case switch.off:\n",
    "        print('Switch is off')"
   ],
   "metadata": {
    "collapsed": false,
    "pycharm": {
     "name": "#%%\n"
    }
   }
  },
  {
   "cell_type": "markdown",
   "source": [
    "### 守卫\n",
    "可以在 case 中编写 if 条件语句，实现与 if 语句类似的功能："
   ],
   "metadata": {
    "collapsed": false,
    "pycharm": {
     "name": "#%% md\n"
    }
   }
  },
  {
   "cell_type": "code",
   "execution_count": null,
   "outputs": [],
   "source": [
    "def fun(score):\n",
    "    match score:\n",
    "        case 100:\n",
    "            print('满分！')\n",
    "        case score if score >= 80:\n",
    "            print(f'高分啊～ {score}')\n",
    "        case score if score >= 60:\n",
    "            print('及格万岁！')\n",
    "        case score if score in [57, 58, 59]:\n",
    "            print('这成绩也是没谁了 ··!')\n",
    "        case _:\n",
    "            print('不知道说什么。')\n",
    "\n",
    "fun(59)"
   ],
   "metadata": {
    "collapsed": false,
    "pycharm": {
     "name": "#%%\n"
    }
   }
  },
  {
   "cell_type": "markdown",
   "source": [
    "带有字面值和变量的模式"
   ],
   "metadata": {
    "collapsed": false,
    "pycharm": {
     "name": "#%% md\n"
    }
   }
  },
  {
   "cell_type": "code",
   "execution_count": null,
   "outputs": [],
   "source": [
    "# point is an (x, y) tuple\n",
    "point = (1, 1)\n",
    "match point:\n",
    "    case (0, 0):\n",
    "        print(\"坐标原点\")\n",
    "    case (0, y):\n",
    "        print(f\"Y={y}\")\n",
    "    case (x, 0):\n",
    "        print(f\"X={x}\")\n",
    "    case (x, y):\n",
    "        print(f\"X={x}, Y={y}\")\n",
    "    case _:\n",
    "        raise ValueError(\"未法的坐标数据\")"
   ],
   "metadata": {
    "collapsed": false,
    "pycharm": {
     "name": "#%%\n"
    }
   }
  },
  {
   "cell_type": "markdown",
   "source": [
    "### 命名的常量"
   ],
   "metadata": {
    "collapsed": false,
    "pycharm": {
     "name": "#%% md\n"
    }
   }
  },
  {
   "cell_type": "markdown",
   "source": [],
   "metadata": {
    "collapsed": false,
    "pycharm": {
     "name": "#%% md\n"
    }
   }
  },
  {
   "cell_type": "markdown",
   "source": [
    "### 模式和类"
   ],
   "metadata": {
    "collapsed": false,
    "pycharm": {
     "name": "#%% md\n"
    }
   }
  },
  {
   "cell_type": "markdown",
   "source": [],
   "metadata": {
    "collapsed": false,
    "pycharm": {
     "name": "#%% md\n"
    }
   }
  },
  {
   "cell_type": "markdown",
   "source": [
    "### 带有位置参数的模式"
   ],
   "metadata": {
    "collapsed": false,
    "pycharm": {
     "name": "#%% md\n"
    }
   }
  },
  {
   "cell_type": "markdown",
   "source": [],
   "metadata": {
    "collapsed": false,
    "pycharm": {
     "name": "#%% md\n"
    }
   }
  },
  {
   "cell_type": "markdown",
   "source": [
    "### 嵌套模式"
   ],
   "metadata": {
    "collapsed": false,
    "pycharm": {
     "name": "#%% md\n"
    }
   }
  },
  {
   "cell_type": "markdown",
   "source": [],
   "metadata": {
    "collapsed": false,
    "pycharm": {
     "name": "#%% md\n"
    }
   }
  },
  {
   "cell_type": "markdown",
   "source": [
    "### 复杂模式和通配符"
   ],
   "metadata": {
    "collapsed": false,
    "pycharm": {
     "name": "#%% md\n"
    }
   }
  },
  {
   "cell_type": "markdown",
   "source": [],
   "metadata": {
    "collapsed": false,
    "pycharm": {
     "name": "#%% md\n"
    }
   }
  },
  {
   "cell_type": "markdown",
   "source": [
    "### 匹配字典"
   ],
   "metadata": {
    "collapsed": false,
    "pycharm": {
     "name": "#%% md\n"
    }
   }
  },
  {
   "cell_type": "code",
   "execution_count": null,
   "outputs": [],
   "source": [],
   "metadata": {
    "collapsed": false,
    "pycharm": {
     "name": "#%%\n"
    }
   }
  },
  {
   "cell_type": "markdown",
   "source": [],
   "metadata": {
    "collapsed": false,
    "pycharm": {
     "name": "#%% md\n"
    }
   }
  },
  {
   "cell_type": "markdown",
   "source": [
    "## 子模式支持 as"
   ],
   "metadata": {
    "collapsed": false,
    "pycharm": {
     "name": "#%% md\n"
    }
   }
  },
  {
   "cell_type": "markdown",
   "source": [],
   "metadata": {
    "collapsed": false,
    "pycharm": {
     "name": "#%% md\n"
    }
   }
  },
  {
   "cell_type": "markdown",
   "source": [
    "## 使用形式"
   ],
   "metadata": {
    "collapsed": false,
    "pycharm": {
     "name": "#%% md\n"
    }
   }
  }
 ],
 "metadata": {
  "kernelspec": {
   "display_name": "Python 3",
   "language": "python",
   "name": "python3"
  },
  "language_info": {
   "codemirror_mode": {
    "name": "ipython",
    "version": 2
   },
   "file_extension": ".py",
   "mimetype": "text/x-python",
   "name": "python",
   "nbconvert_exporter": "python",
   "pygments_lexer": "ipython2",
   "version": "2.7.6"
  }
 },
 "nbformat": 4,
 "nbformat_minor": 0
}