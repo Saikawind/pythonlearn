{
 "cells": [
  {
   "cell_type": "markdown",
   "metadata": {
    "collapsed": true,
    "pycharm": {
     "name": "#%% md\n"
    }
   },
   "source": [
    "# 什么是流程控制\n",
    "理解逻辑分支\n",
    "理解循环"
   ]
  },
  {
   "cell_type": "markdown",
   "source": [
    "# while 语句\n",
    "小心死循环，while 里的代码逻辑一定得有条件让 while 表达式为 False，否则会造成死循环"
   ],
   "metadata": {
    "collapsed": false,
    "pycharm": {
     "name": "#%% md\n"
    }
   }
  },
  {
   "cell_type": "markdown",
   "source": [
    "## 语句逻辑"
   ],
   "metadata": {
    "collapsed": false,
    "pycharm": {
     "name": "#%% md\n"
    }
   }
  },
  {
   "cell_type": "code",
   "source": [
    "# 知名的斐波那契数列(后边的值是前两个之和)，小于15的\n",
    "a, b = 0, 1\n",
    "while a < 15:\n",
    "    print(a, end=' ')\n",
    "    a, b = b, a + b\n",
    "print()\n",
    "print('生成完毕')\n",
    "\n",
    "# 0 1 1 2 3 5 8 13\n",
    "# 生成完毕"
   ],
   "metadata": {
    "collapsed": false,
    "pycharm": {
     "name": "#%%\n"
    }
   },
   "execution_count": 2,
   "outputs": [
    {
     "name": "stdout",
     "output_type": "stream",
     "text": [
      "0 1 1 2 3 5 8 13 \n",
      "生成完毕\n"
     ]
    }
   ]
  },
  {
   "cell_type": "markdown",
   "source": [
    "语句结构：\n",
    "#0. [ While 之前的代码 ]\n",
    "\n",
    "#1. [ While  {表达式} ]\n",
    "    #1.1 { While 循环代码}\n",
    "\n",
    "#2.[ While 之后的代码 ]"
   ],
   "metadata": {
    "collapsed": false,
    "pycharm": {
     "name": "#%% md\n"
    }
   }
  },
  {
   "cell_type": "markdown",
   "source": [
    "## 基本语法"
   ],
   "metadata": {
    "collapsed": false,
    "pycharm": {
     "name": "#%% md\n"
    }
   }
  },
  {
   "cell_type": "code",
   "execution_count": 5,
   "outputs": [
    {
     "name": "stdout",
     "output_type": "stream",
     "text": [
      "你拍0，我拍0\n",
      "你拍1，我拍1\n",
      "你拍2，我拍2\n",
      "你拍3，我拍3\n",
      "再见!\n"
     ]
    }
   ],
   "source": [
    "# 数到 3\n",
    "num = 0\n",
    "while num <= 3:\n",
    "    print(f'你拍{num}，我拍{num}')\n",
    "    num = num + 1\n",
    "\n",
    "print(\"再见!\")"
   ],
   "metadata": {
    "collapsed": false,
    "pycharm": {
     "name": "#%%\n"
    }
   }
  },
  {
   "cell_type": "markdown",
   "source": [
    "## 嵌套分支\n"
   ],
   "metadata": {
    "collapsed": false,
    "pycharm": {
     "name": "#%% md\n"
    }
   }
  },
  {
   "cell_type": "code",
   "execution_count": 7,
   "outputs": [
    {
     "name": "stdout",
     "output_type": "stream",
     "text": [
      "tom 是男孩。\n",
      "lucy 是女孩。\n",
      "lily 是女孩。\n"
     ]
    }
   ],
   "source": [
    "name_list = ['tom', 'lily', 'lucy']\n",
    "while name_list:\n",
    "    for i in name_list:\n",
    "        if i == 'tom':\n",
    "            print(f'{i} 是男孩。')\n",
    "        else:\n",
    "            print(f'{i} 是女孩。')\n",
    "\n",
    "        name_list.remove(i)  # 执行结果就删除了\n",
    "# tom 是男孩。\n",
    "# lucy 是女孩。\n",
    "# lily 是女孩。"
   ],
   "metadata": {
    "collapsed": false,
    "pycharm": {
     "name": "#%%\n"
    }
   }
  },
  {
   "cell_type": "markdown",
   "source": [
    "## else\n",
    "可以增加和 while 平级的 else，以执行 while 列表式为 false 的情况。"
   ],
   "metadata": {
    "collapsed": false
   }
  },
  {
   "cell_type": "code",
   "execution_count": 10,
   "outputs": [
    {
     "name": "stdout",
     "output_type": "stream",
     "text": [
      "你拍0，我拍0\n",
      "你拍1，我拍1\n",
      "你拍2，我拍2\n",
      "你拍3，我拍3\n",
      "再见!\n"
     ]
    }
   ],
   "source": [
    "# 数到 3\n",
    "num = 0\n",
    "while num <= 3:\n",
    "    print(f'你拍{num}，我拍{num}')\n",
    "    num = num + 1\n",
    "else:\n",
    "    print(\"再见!\")"
   ],
   "metadata": {
    "collapsed": false,
    "pycharm": {
     "name": "#%%\n"
    }
   }
  },
  {
   "cell_type": "markdown",
   "source": [
    "## 中止和继续循环\n",
    "break 和 continue 可实现跳过（终止）和继续执行。\n",
    "* break 语句是结束整个循环的过程;\n",
    "* continue 语句是只结束本次循环，继续从 while 那里开始。"
   ],
   "metadata": {
    "collapsed": false,
    "pycharm": {
     "name": "#%% md\n"
    }
   }
  },
  {
   "cell_type": "code",
   "execution_count": 11,
   "outputs": [
    {
     "name": "stdout",
     "output_type": "stream",
     "text": [
      "0\n",
      "1\n",
      "2\n",
      "3\n",
      "4\n"
     ]
    }
   ],
   "source": [
    "# 跳过 5以上的 这个区间\n",
    "for i in range(10000):\n",
    "    if i > 4:\n",
    "        break # 大于 4 时路中止整体循环\n",
    "    print(i)"
   ],
   "metadata": {
    "collapsed": false,
    "pycharm": {
     "name": "#%%\n"
    }
   }
  },
  {
   "cell_type": "code",
   "execution_count": 15,
   "outputs": [
    {
     "name": "stdout",
     "output_type": "stream",
     "text": [
      "1\n",
      "2\n",
      "3\n",
      "5\n"
     ]
    }
   ],
   "source": [
    "a = 0\n",
    "while a < 5:\n",
    "    a += 1\n",
    "    if a == 4:\n",
    "        continue # 为4时跳过，继续执行\n",
    "    print(a)\n",
    "\n",
    "# 1 2 3 5"
   ],
   "metadata": {
    "collapsed": false,
    "pycharm": {
     "name": "#%%\n"
    }
   }
  },
  {
   "cell_type": "markdown",
   "source": [
    "## while 表达式"
   ],
   "metadata": {
    "collapsed": false
   }
  },
  {
   "cell_type": "code",
   "execution_count": 16,
   "outputs": [],
   "source": [
    "# swich = 1\n",
    "# while (swich): print('你好呀！')\n",
    "# 使用 CTRL+C 中断循环"
   ],
   "metadata": {
    "collapsed": false,
    "pycharm": {
     "name": "#%%\n"
    }
   }
  },
  {
   "cell_type": "markdown",
   "source": [
    "# if else 条件语句"
   ],
   "metadata": {
    "collapsed": false,
    "pycharm": {
     "name": "#%% md\n"
    }
   }
  },
  {
   "cell_type": "markdown",
   "source": [],
   "metadata": {
    "collapsed": false,
    "pycharm": {
     "name": "#%% md\n"
    }
   }
  },
  {
   "cell_type": "markdown",
   "source": [
    "# for 循环语句"
   ],
   "metadata": {
    "collapsed": false,
    "pycharm": {
     "name": "#%% md\n"
    }
   }
  },
  {
   "cell_type": "markdown",
   "source": [],
   "metadata": {
    "collapsed": false,
    "pycharm": {
     "name": "#%% md\n"
    }
   }
  },
  {
   "cell_type": "markdown",
   "source": [
    "# range() 函数"
   ],
   "metadata": {
    "collapsed": false,
    "pycharm": {
     "name": "#%% md\n"
    }
   }
  },
  {
   "cell_type": "markdown",
   "source": [],
   "metadata": {
    "collapsed": false,
    "pycharm": {
     "name": "#%% md\n"
    }
   }
  },
  {
   "cell_type": "markdown",
   "source": [
    "# match case 结构化模式匹配"
   ],
   "metadata": {
    "collapsed": false,
    "pycharm": {
     "name": "#%% md\n"
    }
   }
  },
  {
   "cell_type": "markdown",
   "source": [],
   "metadata": {
    "collapsed": false,
    "pycharm": {
     "name": "#%% md\n"
    }
   }
  }
 ],
 "metadata": {
  "kernelspec": {
   "display_name": "Python 3",
   "language": "python",
   "name": "python3"
  },
  "language_info": {
   "codemirror_mode": {
    "name": "ipython",
    "version": 2
   },
   "file_extension": ".py",
   "mimetype": "text/x-python",
   "name": "python",
   "nbconvert_exporter": "python",
   "pygments_lexer": "ipython2",
   "version": "2.7.6"
  }
 },
 "nbformat": 4,
 "nbformat_minor": 0
}