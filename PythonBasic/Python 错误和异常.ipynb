{
 "cells": [
  {
   "cell_type": "markdown",
   "metadata": {
    "collapsed": true,
    "pycharm": {
     "name": "#%% md\n"
    }
   },
   "source": [
    "# 什么是错误和异常"
   ]
  },
  {
   "cell_type": "markdown",
   "source": [
    "## 语法错误\n",
    "我们一般用代码编辑器编写代码，代码编辑器在一定程度上会在我们编写时帮我们检查代码的语法，但是由于我们代码的复杂性及我们对语法的理解问题，会出现语法错误"
   ],
   "metadata": {
    "collapsed": false,
    "pycharm": {
     "name": "#%% md\n"
    }
   }
  },
  {
   "cell_type": "markdown",
   "source": [
    "## 异常\n",
    "异常是指在语法正确的情况下，在执行时仍然报错。异常发生后，代码逻辑如果没有做相应的处理，后续代码就停止了运行，让我们的业务无法正常进行\n",
    "所以，我们在设计代码逻辑时，就要对可能出现的异常按类型进行处理和兜底，防止发生业务中断的情况"
   ],
   "metadata": {
    "collapsed": false,
    "pycharm": {
     "name": "#%% md\n"
    }
   }
  },
  {
   "cell_type": "markdown",
   "source": [
    "# 语法错误"
   ],
   "metadata": {
    "collapsed": false,
    "pycharm": {
     "name": "#%% md\n"
    }
   }
  },
  {
   "cell_type": "markdown",
   "source": [
    "## 如何查看\n",
    "如以下代码，字符串少打了半个引号，会抛出SyntaxError等, 并告知错误内容，并将箭头指向错误发生的位置"
   ],
   "metadata": {
    "collapsed": false,
    "pycharm": {
     "name": "#%% md\n"
    }
   }
  },
  {
   "cell_type": "code",
   "execution_count": 3,
   "outputs": [
    {
     "ename": "SyntaxError",
     "evalue": "EOL while scanning string literal (Temp/ipykernel_15652/3993272630.py, line 1)",
     "output_type": "error",
     "traceback": [
      "\u001B[1;36m  File \u001B[1;32m\"C:\\Users\\83477\\AppData\\Local\\Temp/ipykernel_15652/3993272630.py\"\u001B[1;36m, line \u001B[1;32m1\u001B[0m\n\u001B[1;33m    print('hello world!)\u001B[0m\n\u001B[1;37m                        ^\u001B[0m\n\u001B[1;31mSyntaxError\u001B[0m\u001B[1;31m:\u001B[0m EOL while scanning string literal\n"
     ]
    }
   ],
   "source": [
    "print('hello world!)\n",
    "#   File \"<ipython-input-5-9ccf034fb7d1>\", line 1\n",
    "#     print('hello world!)\n",
    "#                         ^\n",
    "# SyntaxError: EOL while scanning string literal"
   ],
   "metadata": {
    "collapsed": false,
    "pycharm": {
     "name": "#%%\n"
    }
   }
  },
  {
   "cell_type": "markdown",
   "source": [
    "## 类型\n",
    "语法错误抛出的类型为 SyntaxError: <错误文案>，有些会明确在文案中告诉哪些方面错误了，有些则是 SyntaxError: invalid syntax, 就需要对代码进行具体分析"
   ],
   "metadata": {
    "collapsed": false,
    "pycharm": {
     "name": "#%% md\n"
    }
   }
  },
  {
   "cell_type": "markdown",
   "source": [
    "## 常见语法错误\n",
    "常见的语法错误及可能的原因如下：\n",
    "\n",
    "* SyntaxError: invalid character in identifier: 逗号冒号等写成中文的了\n",
    "* SyntaxError: unexpected EOF while parsing: 少右边的括号\n",
    "* SyntaxError: EOL while scanning string literal: 字符串少右边的引号\n",
    "* IndentationError: expected an indented block: 没有缩进"
   ],
   "metadata": {
    "collapsed": false,
    "pycharm": {
     "name": "#%% md\n"
    }
   }
  },
  {
   "cell_type": "markdown",
   "source": [
    "## 一些好的代码编写习惯\n",
    "* 学习 python PEP8 规范，它可以让我们避免一些坑\n",
    "* 确保关键字正确，背会并正确拼写那几个单词\n",
    "* for、if、def、while 等后边都有冒号，别忘\n",
    "* 引号、括号先成对打完，再跳到里边输入内容\n",
    "* 留意缩进，代码的逻辑块一定要清晰\n",
    "* 有些代码编辑器要手动保存，修改完保存一下再执行\n",
    "* 可以把代码拆开分别执行，看哪块出错\n",
    "* 没报错就是没反应？看是不是死循环"
   ],
   "metadata": {
    "collapsed": false,
    "pycharm": {
     "name": "#%% md\n"
    }
   }
  },
  {
   "cell_type": "markdown",
   "source": [
    "# 异常"
   ],
   "metadata": {
    "collapsed": false,
    "pycharm": {
     "name": "#%% md\n"
    }
   }
  },
  {
   "cell_type": "markdown",
   "source": [
    "## 常见异常类型\n",
    "我们开发程序可以自定义异常的类型, python 内置的常见异常有：\n",
    "异常      描述\n",
    "* AssertionError：assert（断言）语句失败\n",
    "* AttributeError：访问的对象没有属性\n",
    "* IOError：输入/输出异常，打不开文件\n",
    "* ImportError：无法引入包\n",
    "* IndentationError：缩进问题\n",
    "* IndexError：索引超出边界\n",
    "* KeyError：访问字典里不存在键\n",
    "* KeyboardInterrupt：Ctrl + C 被按下中止执行\n",
    "* NameError：没有定义赋值变量\n",
    "* SyntaxError：语法错误\n",
    "* TypeError：传入对象类型与要求的不符\n",
    "* UnboundLocalError：试图访问一个未被设置的局部变量\n",
    "* ValueError：传入一个调用者不期望的值，即使值的类型是正确的\n",
    "* ZeroDivisionError：除零报错\n",
    "* OSError：操作系统错误\n",
    "更多参考：https://docs.python.org/zh-cn/3/library/exceptions.html"
   ],
   "metadata": {
    "collapsed": false,
    "pycharm": {
     "name": "#%% md\n"
    }
   }
  },
  {
   "cell_type": "markdown",
   "source": [
    "# 处理异常"
   ],
   "metadata": {
    "collapsed": false,
    "pycharm": {
     "name": "#%% md\n"
    }
   }
  },
  {
   "cell_type": "markdown",
   "source": [
    "## 语法结构\n",
    "try 后的语句为正常的逻辑代码语句，如果遇到下边 except 中第一个匹配的异常，则按异常处理中的语句执行。如果没有指定，则执行 else 中的语句，else 不是必须的。"
   ],
   "metadata": {
    "collapsed": false,
    "pycharm": {
     "name": "#%% md\n"
    }
   }
  },
  {
   "cell_type": "code",
   "execution_count": null,
   "outputs": [],
   "source": [
    "# try:\n",
    "#     <语句>        # 正常运行的代码\n",
    "# except <错误类型>：\n",
    "#     <语句>        # 如果在 try 引发 '错误类型' 异常后执行的代码\n",
    "# except <错误类型2>:\n",
    "#     <语句>        # 如果引发了'错误类型2'异常后执行的代码\n",
    "# else:\n",
    "#     <语句>        # 如果没有异常发生"
   ],
   "metadata": {
    "collapsed": false,
    "pycharm": {
     "name": "#%%\n"
    }
   }
  },
  {
   "cell_type": "markdown",
   "source": [
    "## 基本使用\n",
    "以下例子为打开一个文件，并读取内容，可是这个文件不存在，会抛出 IOError 异常"
   ],
   "metadata": {
    "collapsed": false,
    "pycharm": {
     "name": "#%% md\n"
    }
   }
  },
  {
   "cell_type": "code",
   "execution_count": 4,
   "outputs": [
    {
     "name": "stdout",
     "output_type": "stream",
     "text": [
      "读取文件错误\n"
     ]
    }
   ],
   "source": [
    "try:\n",
    "    file = open(\"haha.txt\")\n",
    "    file.read()\n",
    "except IOError:\n",
    "    print('读取文件错误')"
   ],
   "metadata": {
    "collapsed": false,
    "pycharm": {
     "name": "#%%\n"
    }
   }
  },
  {
   "cell_type": "markdown",
   "source": [
    "## 多个异常"
   ],
   "metadata": {
    "collapsed": false,
    "pycharm": {
     "name": "#%% md\n"
    }
   }
  },
  {
   "cell_type": "code",
   "execution_count": 7,
   "outputs": [
    {
     "name": "stdout",
     "output_type": "stream",
     "text": [
      "x 或 y 都不能为字符\n",
      "y 不能为0\n"
     ]
    }
   ],
   "source": [
    "def fn(x, y):\n",
    "    try:\n",
    "        return x / y\n",
    "    except ZeroDivisionError:\n",
    "        return 'y 不能为0'\n",
    "    except TypeError:\n",
    "        return 'x 或 y 都不能为字符'\n",
    "\n",
    "\n",
    "print(fn(-1, '0'))\n",
    "# 'x 或 y 都不能为字符'\n",
    "print(fn(-1, 0))\n",
    "# 'y 不能为0'"
   ],
   "metadata": {
    "collapsed": false,
    "pycharm": {
     "name": "#%%\n"
    }
   }
  },
  {
   "cell_type": "markdown",
   "source": [
    "有时候我们不需要区别具体是什么错误，可以让这些异常组成元组，统一给出处理："
   ],
   "metadata": {
    "collapsed": false,
    "pycharm": {
     "name": "#%% md\n"
    }
   }
  },
  {
   "cell_type": "code",
   "source": [
    "def fn(x, y):\n",
    "    try:\n",
    "        return x / y\n",
    "    except (ZeroDivisionError, TypeError):\n",
    "        return '参数不合法'\n",
    "\n",
    "\n",
    "print(fn(-1, '0'))\n",
    "# ''参数不合法'\n",
    "print(fn(-1, 0))\n",
    "# '参数不合法'"
   ],
   "metadata": {
    "collapsed": false,
    "pycharm": {
     "name": "#%%\n"
    }
   },
   "execution_count": 8,
   "outputs": [
    {
     "name": "stdout",
     "output_type": "stream",
     "text": [
      "参数不合法\n",
      "参数不合法\n"
     ]
    }
   ]
  },
  {
   "cell_type": "markdown",
   "source": [
    "## 重新赋值处理\n",
    "另外，我们可以将 y 为 0 时不合法的情况做特殊处理，例如，让 y 为 1："
   ],
   "metadata": {
    "collapsed": false,
    "pycharm": {
     "name": "#%% md\n"
    }
   }
  },
  {
   "cell_type": "code",
   "execution_count": 9,
   "outputs": [
    {
     "data": {
      "text/plain": "-1.0"
     },
     "execution_count": 9,
     "metadata": {},
     "output_type": "execute_result"
    }
   ],
   "source": [
    "def fn(x, y):\n",
    "    try:\n",
    "        return x / y\n",
    "    except ZeroDivisionError:\n",
    "        y = 1\n",
    "        return x / y\n",
    "\n",
    "\n",
    "fn(-1, 0)  # -1.0"
   ],
   "metadata": {
    "collapsed": false,
    "pycharm": {
     "name": "#%%\n"
    }
   }
  },
  {
   "cell_type": "markdown",
   "source": [
    "## else 语句\n",
    "else 是可选的，当没有发生异常时执行，必须放在所有的 except 子句最后："
   ],
   "metadata": {
    "collapsed": false,
    "pycharm": {
     "name": "#%% md\n"
    }
   }
  },
  {
   "cell_type": "code",
   "execution_count": 11,
   "outputs": [
    {
     "data": {
      "text/plain": "2.0"
     },
     "execution_count": 11,
     "metadata": {},
     "output_type": "execute_result"
    }
   ],
   "source": [
    "def fn(x, y):\n",
    "    try:\n",
    "        z = x / y\n",
    "    except ZeroDivisionError:\n",
    "        return '参数不合法'\n",
    "    else:\n",
    "        return z\n",
    "\n",
    "\n",
    "fn(4, 2)"
   ],
   "metadata": {
    "collapsed": false,
    "pycharm": {
     "name": "#%%\n"
    }
   }
  },
  {
   "cell_type": "markdown",
   "source": [
    "## try-finally 语句\n",
    "finally 是可选的，无论是否出现异常都会执行，必须放在所有的 except 子句 和 else 最后："
   ],
   "metadata": {
    "collapsed": false,
    "pycharm": {
     "name": "#%% md\n"
    }
   }
  },
  {
   "cell_type": "code",
   "execution_count": 18,
   "outputs": [
    {
     "name": "stdout",
     "output_type": "stream",
     "text": [
      "执行完毕\n"
     ]
    },
    {
     "data": {
      "text/plain": "2.0"
     },
     "execution_count": 18,
     "metadata": {},
     "output_type": "execute_result"
    }
   ],
   "source": [
    "def fn(x, y):\n",
    "    try:\n",
    "        z = x / y\n",
    "    except ZeroDivisionError:\n",
    "        return '参数不合法'\n",
    "    else:\n",
    "        return z\n",
    "    finally:\n",
    "        print('执行完毕')\n",
    "\n",
    "\n",
    "fn(4, 2)"
   ],
   "metadata": {
    "collapsed": false,
    "pycharm": {
     "name": "#%%\n"
    }
   }
  },
  {
   "cell_type": "markdown",
   "source": [
    "## 传递异常\n",
    "有时候我们需要看一下异常的具体内容文本，可以通过 as e 之类，e 为变量可以自定义，如 err 等都可以，然后再使用这个变量："
   ],
   "metadata": {
    "collapsed": false,
    "pycharm": {
     "name": "#%% md\n"
    }
   }
  },
  {
   "cell_type": "code",
   "execution_count": 16,
   "outputs": [
    {
     "data": {
      "text/plain": "ZeroDivisionError('division by zero')"
     },
     "execution_count": 16,
     "metadata": {},
     "output_type": "execute_result"
    }
   ],
   "source": [
    "def fn(x, y):\n",
    "    try:\n",
    "        return x / y\n",
    "    except ZeroDivisionError as e:\n",
    "        return e\n",
    "\n",
    "\n",
    "fn(-1, 0)"
   ],
   "metadata": {
    "collapsed": false,
    "pycharm": {
     "name": "#%%\n"
    }
   }
  },
  {
   "cell_type": "markdown",
   "source": [
    "## 异常的嵌套"
   ],
   "metadata": {
    "collapsed": false,
    "pycharm": {
     "name": "#%% md\n"
    }
   }
  },
  {
   "cell_type": "code",
   "execution_count": 15,
   "outputs": [
    {
     "name": "stdout",
     "output_type": "stream",
     "text": [
      "错误：division by zero\n"
     ]
    }
   ],
   "source": [
    "def fn(x, y):\n",
    "    try:\n",
    "        try:\n",
    "            return x / y\n",
    "        except TypeError:\n",
    "            return '参数不合法'\n",
    "    except ZeroDivisionError as e:\n",
    "        print(f'错误：{e}')\n",
    "\n",
    "\n",
    "fn(4, 0)"
   ],
   "metadata": {
    "collapsed": false,
    "pycharm": {
     "name": "#%%\n"
    }
   }
  },
  {
   "cell_type": "markdown",
   "source": [
    "## Exception\n",
    "Exception 是最基础的类，所有的错误都继承自它，如果不知道会发生什么错误，则可以用它来捕获："
   ],
   "metadata": {
    "collapsed": false,
    "pycharm": {
     "name": "#%% md\n"
    }
   }
  },
  {
   "cell_type": "code",
   "execution_count": 13,
   "outputs": [
    {
     "name": "stdout",
     "output_type": "stream",
     "text": [
      "error occurred: division by zero\n"
     ]
    }
   ],
   "source": [
    "try:\n",
    "    print(1 / 0)\n",
    "except Exception as err:\n",
    "    print(f'error occurred: {err}')\n",
    "\n",
    "# error occurred: division by zero"
   ],
   "metadata": {
    "collapsed": false,
    "pycharm": {
     "name": "#%%\n"
    }
   }
  },
  {
   "cell_type": "markdown",
   "source": [
    "## 抛出异常\n",
    "raise 语句允许指定发生的异常\n",
    "raise 唯一的参数就是要抛出的异常。这个参数必须是一个异常实例或者是一个异常类（派生自 Exception 的类）"
   ],
   "metadata": {
    "collapsed": false,
    "pycharm": {
     "name": "#%% md\n"
    }
   }
  },
  {
   "cell_type": "code",
   "execution_count": 12,
   "outputs": [
    {
     "ename": "TypeError",
     "evalue": "参数不能是字符",
     "output_type": "error",
     "traceback": [
      "\u001B[1;31m---------------------------------------------------------------------------\u001B[0m",
      "\u001B[1;31mTypeError\u001B[0m                                 Traceback (most recent call last)",
      "\u001B[1;32m~\\AppData\\Local\\Temp/ipykernel_15652/1427534537.py\u001B[0m in \u001B[0;36mfn\u001B[1;34m(x, y)\u001B[0m\n\u001B[0;32m      2\u001B[0m     \u001B[1;32mtry\u001B[0m\u001B[1;33m:\u001B[0m\u001B[1;33m\u001B[0m\u001B[1;33m\u001B[0m\u001B[0m\n\u001B[1;32m----> 3\u001B[1;33m         \u001B[1;32mreturn\u001B[0m \u001B[0mx\u001B[0m\u001B[1;33m/\u001B[0m\u001B[0my\u001B[0m\u001B[1;33m\u001B[0m\u001B[1;33m\u001B[0m\u001B[0m\n\u001B[0m\u001B[0;32m      4\u001B[0m     \u001B[1;32mexcept\u001B[0m \u001B[0mTypeError\u001B[0m\u001B[1;33m:\u001B[0m\u001B[1;33m\u001B[0m\u001B[1;33m\u001B[0m\u001B[0m\n",
      "\u001B[1;31mTypeError\u001B[0m: unsupported operand type(s) for /: 'int' and 'str'",
      "\nDuring handling of the above exception, another exception occurred:\n",
      "\u001B[1;31mTypeError\u001B[0m                                 Traceback (most recent call last)",
      "\u001B[1;32m~\\AppData\\Local\\Temp/ipykernel_15652/1427534537.py\u001B[0m in \u001B[0;36m<module>\u001B[1;34m\u001B[0m\n\u001B[0;32m      4\u001B[0m     \u001B[1;32mexcept\u001B[0m \u001B[0mTypeError\u001B[0m\u001B[1;33m:\u001B[0m\u001B[1;33m\u001B[0m\u001B[1;33m\u001B[0m\u001B[0m\n\u001B[0;32m      5\u001B[0m         \u001B[1;32mraise\u001B[0m \u001B[0mTypeError\u001B[0m\u001B[1;33m(\u001B[0m\u001B[1;34m'参数不能是字符'\u001B[0m\u001B[1;33m)\u001B[0m\u001B[1;33m\u001B[0m\u001B[1;33m\u001B[0m\u001B[0m\n\u001B[1;32m----> 6\u001B[1;33m \u001B[0mfn\u001B[0m\u001B[1;33m(\u001B[0m\u001B[1;36m9\u001B[0m\u001B[1;33m,\u001B[0m \u001B[1;34m'9'\u001B[0m\u001B[1;33m)\u001B[0m\u001B[1;33m\u001B[0m\u001B[1;33m\u001B[0m\u001B[0m\n\u001B[0m",
      "\u001B[1;32m~\\AppData\\Local\\Temp/ipykernel_15652/1427534537.py\u001B[0m in \u001B[0;36mfn\u001B[1;34m(x, y)\u001B[0m\n\u001B[0;32m      3\u001B[0m         \u001B[1;32mreturn\u001B[0m \u001B[0mx\u001B[0m\u001B[1;33m/\u001B[0m\u001B[0my\u001B[0m\u001B[1;33m\u001B[0m\u001B[1;33m\u001B[0m\u001B[0m\n\u001B[0;32m      4\u001B[0m     \u001B[1;32mexcept\u001B[0m \u001B[0mTypeError\u001B[0m\u001B[1;33m:\u001B[0m\u001B[1;33m\u001B[0m\u001B[1;33m\u001B[0m\u001B[0m\n\u001B[1;32m----> 5\u001B[1;33m         \u001B[1;32mraise\u001B[0m \u001B[0mTypeError\u001B[0m\u001B[1;33m(\u001B[0m\u001B[1;34m'参数不能是字符'\u001B[0m\u001B[1;33m)\u001B[0m\u001B[1;33m\u001B[0m\u001B[1;33m\u001B[0m\u001B[0m\n\u001B[0m\u001B[0;32m      6\u001B[0m \u001B[0mfn\u001B[0m\u001B[1;33m(\u001B[0m\u001B[1;36m9\u001B[0m\u001B[1;33m,\u001B[0m \u001B[1;34m'9'\u001B[0m\u001B[1;33m)\u001B[0m\u001B[1;33m\u001B[0m\u001B[1;33m\u001B[0m\u001B[0m\n",
      "\u001B[1;31mTypeError\u001B[0m: 参数不能是字符"
     ]
    }
   ],
   "source": [
    "def fn(x, y):\n",
    "    try:\n",
    "        return x / y\n",
    "    except TypeError:\n",
    "        raise TypeError('参数不能是字符')\n",
    "\n",
    "\n",
    "fn(9, '9')"
   ],
   "metadata": {
    "collapsed": false,
    "pycharm": {
     "name": "#%%\n"
    }
   }
  },
  {
   "cell_type": "markdown",
   "source": [
    "# 自定义异常"
   ],
   "metadata": {
    "collapsed": false,
    "pycharm": {
     "name": "#%% md\n"
    }
   }
  },
  {
   "cell_type": "markdown",
   "source": [
    "如果你写了一个加法的函数，由于是幼儿园水平，不能大于等于10，否则就报错，这些你可以定义一个名为 Gte10Error 的错误："
   ],
   "metadata": {
    "collapsed": false,
    "pycharm": {
     "name": "#%% md\n"
    }
   }
  },
  {
   "cell_type": "code",
   "execution_count": 20,
   "outputs": [],
   "source": [
    "class Gte10Error(Exception):\n",
    "    def __init__(self, ErrorInfo='幼儿园水平不能大于等于10'):\n",
    "        super().__init__(self)  # 初始化父类\n",
    "        self.errorinfo = ErrorInfo\n",
    "\n",
    "    def __str__(self):\n",
    "        return self.errorinfo"
   ],
   "metadata": {
    "collapsed": false,
    "pycharm": {
     "name": "#%%\n"
    }
   }
  },
  {
   "cell_type": "code",
   "execution_count": 21,
   "outputs": [
    {
     "name": "stdout",
     "output_type": "stream",
     "text": [
      "2\n"
     ]
    },
    {
     "ename": "Gte10Error",
     "evalue": "幼儿园水平不能大于等于10",
     "output_type": "error",
     "traceback": [
      "\u001B[1;31m---------------------------------------------------------------------------\u001B[0m",
      "\u001B[1;31mGte10Error\u001B[0m                                Traceback (most recent call last)",
      "\u001B[1;32m~\\AppData\\Local\\Temp/ipykernel_15652/550622421.py\u001B[0m in \u001B[0;36m<module>\u001B[1;34m\u001B[0m\n\u001B[0;32m      7\u001B[0m \u001B[1;33m\u001B[0m\u001B[0m\n\u001B[0;32m      8\u001B[0m \u001B[0mprint\u001B[0m\u001B[1;33m(\u001B[0m\u001B[0madd\u001B[0m\u001B[1;33m(\u001B[0m\u001B[1;36m1\u001B[0m\u001B[1;33m,\u001B[0m \u001B[1;36m1\u001B[0m\u001B[1;33m)\u001B[0m\u001B[1;33m)\u001B[0m\u001B[1;33m\u001B[0m\u001B[1;33m\u001B[0m\u001B[0m\n\u001B[1;32m----> 9\u001B[1;33m \u001B[0mprint\u001B[0m\u001B[1;33m(\u001B[0m\u001B[0madd\u001B[0m\u001B[1;33m(\u001B[0m\u001B[1;36m12\u001B[0m\u001B[1;33m,\u001B[0m \u001B[1;36m1\u001B[0m\u001B[1;33m)\u001B[0m\u001B[1;33m)\u001B[0m\u001B[1;33m\u001B[0m\u001B[1;33m\u001B[0m\u001B[0m\n\u001B[0m",
      "\u001B[1;32m~\\AppData\\Local\\Temp/ipykernel_15652/550622421.py\u001B[0m in \u001B[0;36madd\u001B[1;34m(x, y)\u001B[0m\n\u001B[0;32m      1\u001B[0m \u001B[1;32mdef\u001B[0m \u001B[0madd\u001B[0m\u001B[1;33m(\u001B[0m\u001B[0mx\u001B[0m\u001B[1;33m,\u001B[0m \u001B[0my\u001B[0m\u001B[1;33m)\u001B[0m\u001B[1;33m:\u001B[0m\u001B[1;33m\u001B[0m\u001B[1;33m\u001B[0m\u001B[0m\n\u001B[0;32m      2\u001B[0m     \u001B[1;32mif\u001B[0m \u001B[0mx\u001B[0m \u001B[1;33m>=\u001B[0m\u001B[1;36m10\u001B[0m \u001B[1;32mor\u001B[0m \u001B[0mx\u001B[0m \u001B[1;33m>=\u001B[0m\u001B[1;36m10\u001B[0m\u001B[1;33m:\u001B[0m\u001B[1;33m\u001B[0m\u001B[1;33m\u001B[0m\u001B[0m\n\u001B[1;32m----> 3\u001B[1;33m         \u001B[1;32mraise\u001B[0m \u001B[0mGte10Error\u001B[0m\u001B[1;33m\u001B[0m\u001B[1;33m\u001B[0m\u001B[0m\n\u001B[0m\u001B[0;32m      4\u001B[0m     \u001B[1;32melse\u001B[0m\u001B[1;33m:\u001B[0m\u001B[1;33m\u001B[0m\u001B[1;33m\u001B[0m\u001B[0m\n\u001B[0;32m      5\u001B[0m         \u001B[1;32mreturn\u001B[0m \u001B[0mx\u001B[0m \u001B[1;33m+\u001B[0m \u001B[0my\u001B[0m\u001B[1;33m\u001B[0m\u001B[1;33m\u001B[0m\u001B[0m\n",
      "\u001B[1;31mGte10Error\u001B[0m: 幼儿园水平不能大于等于10"
     ]
    }
   ],
   "source": [
    "def add(x, y):\n",
    "    if x >= 10 or x >= 10:\n",
    "        raise Gte10Error\n",
    "    else:\n",
    "        return x + y\n",
    "\n",
    "\n",
    "print(add(1, 1))\n",
    "print(add(12, 1))"
   ],
   "metadata": {
    "collapsed": false,
    "pycharm": {
     "name": "#%%\n"
    }
   }
  },
  {
   "cell_type": "markdown",
   "source": [
    "# 预定义清理"
   ],
   "metadata": {
    "collapsed": false,
    "pycharm": {
     "name": "#%% md\n"
    }
   }
  },
  {
   "cell_type": "markdown",
   "source": [
    "有一些对象定义了标准的清理操作，当一个对象长期没有被使用时，就会被清理，不管对于对象的操作成功还是失败。\n",
    "最常见场景是文件的处理，我们如果想把文件中的内容一行一行打印出来："
   ],
   "metadata": {
    "collapsed": false,
    "pycharm": {
     "name": "#%% md\n"
    }
   }
  },
  {
   "cell_type": "code",
   "execution_count": null,
   "outputs": [],
   "source": [
    "for line in open(\"myfile.txt\"):\n",
    "    print(line, end=\"\")"
   ],
   "metadata": {
    "collapsed": false,
    "pycharm": {
     "name": "#%%\n"
    }
   }
  },
  {
   "cell_type": "markdown",
   "source": [
    "这个代码的问题在于，它在这部分代码执行完后，会使文件在一段不确定的时间内处于打开状态。这在简单脚本中不是问题，但对于较大的应用程序来说可能是个问题。 with 语句允许像文件这样的对象能够以一种确保它们得到及时和正确的清理的方式使用"
   ],
   "metadata": {
    "collapsed": false,
    "pycharm": {
     "name": "#%% md\n"
    }
   }
  },
  {
   "cell_type": "code",
   "execution_count": null,
   "outputs": [],
   "source": [
    "with open(\"myfile.txt\") as f:\n",
    "    for line in f:\n",
    "        print(line, end=\"\")"
   ],
   "metadata": {
    "collapsed": false,
    "pycharm": {
     "name": "#%%\n"
    }
   }
  },
  {
   "cell_type": "markdown",
   "source": [
    "执行完语句后，即使在处理行时遇到问题，文件 f 也始终会被关闭。和文件一样，提供预定义清理操作的对象将在其文档中指出这一点。"
   ],
   "metadata": {
    "collapsed": false,
    "pycharm": {
     "name": "#%% md\n"
    }
   }
  }
 ],
 "metadata": {
  "kernelspec": {
   "display_name": "Python 3",
   "language": "python",
   "name": "python3"
  },
  "language_info": {
   "codemirror_mode": {
    "name": "ipython",
    "version": 2
   },
   "file_extension": ".py",
   "mimetype": "text/x-python",
   "name": "python",
   "nbconvert_exporter": "python",
   "pygments_lexer": "ipython2",
   "version": "2.7.6"
  }
 },
 "nbformat": 4,
 "nbformat_minor": 0
}