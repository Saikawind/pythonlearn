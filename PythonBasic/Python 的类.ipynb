{
 "cells": [
  {
   "cell_type": "markdown",
   "metadata": {
    "collapsed": true,
    "pycharm": {
     "name": "#%% md\n"
    }
   },
   "source": [
    "# Python 中的对象"
   ]
  },
  {
   "cell_type": "markdown",
   "source": [
    "## 理解对象\n",
    "对象（Object ） 是一个抽象的概念。由于编程是对现实世界的映射，通过技术与现实的对应关系，利用技术来解决现实世界的题。\n",
    "在业务层面，对象可代表一切事物，可以理解成一个实际物体（物件），一个事情等，无论这个事物是现实中存在的还是想像中的"
   ],
   "metadata": {
    "collapsed": false,
    "pycharm": {
     "name": "#%% md\n"
    }
   }
  },
  {
   "cell_type": "markdown",
   "source": [
    "## 对象组成\n",
    "每个对象由标识（identity）、类型（type）、值（value）组成：\n",
    "* 标识：用于标识唯一对象，通常对应于对象在计算机内存中的地址\n",
    "* 类型：用于标识对象存储的“数据”的类型\n",
    "* 值：标识对象存储的数据的信息"
   ],
   "metadata": {
    "collapsed": false,
    "pycharm": {
     "name": "#%% md\n"
    }
   }
  },
  {
   "cell_type": "markdown",
   "source": [
    "## 类型\n",
    "每一个对象都有两个标准的头部信息：\n",
    "* 类型标识符：去标识对象的（数据）类型\n",
    "* 引用计数器：记录当前对象的引用数目\n",
    "引用计数器是为了提高内容效率，Python 设计了垃圾回收机制，将不用的对象清除，当变量的引用计数为 0，自动清理，当然也会有一些列外\n"
   ],
   "metadata": {
    "collapsed": false,
    "pycharm": {
     "name": "#%% md\n"
    }
   }
  },
  {
   "cell_type": "markdown",
   "source": [
    "## 变量与标识符\n",
    "在 Python 中，变量也称为对象的引用，因为变量存储的是对象的地址，变量通过地址引用对象\n",
    "变量位于栈（stack）内存，对象位于堆（Heap）内存\n",
    "引用的名称就是标识符，也就会变量名\n",
    "在 Python 内部，变量只是一个名字，保存指向实际对象的指针，进而与其绑定，\n",
    "变量赋值只拷贝指针，并不拷贝指针背后的对象"
   ],
   "metadata": {
    "collapsed": false,
    "pycharm": {
     "name": "#%% md\n"
    }
   }
  },
  {
   "cell_type": "markdown",
   "source": [
    "Python 在堆中分配了独立的小对象缓存区，即小于 512 字节的不可变对象，他们的内存地址不变：\n",
    "* 小整数对象池：范围为 [-5, 256]的小整数 int\n",
    "* 无空格的小字符串（不包含中文等）str (intern 字符串滞留机制)\n",
    "* 布尔值 bool\n",
    "其他的即使值相同，内存也不同，如浮点数、可变类型（列表）"
   ],
   "metadata": {
    "collapsed": false,
    "pycharm": {
     "name": "#%% md\n"
    }
   }
  },
  {
   "cell_type": "code",
   "execution_count": 1,
   "outputs": [
    {
     "name": "stdout",
     "output_type": "stream",
     "text": [
      "2934971127984\n",
      "2934971127984\n",
      "-----------\n",
      "2935049515632\n",
      "2935049516528\n",
      "-----------\n",
      "2935050472704\n",
      "2935050472128\n"
     ]
    }
   ],
   "source": [
    "a = 123\n",
    "b = 123\n",
    "print(id(a))\n",
    "print(id(b))\n",
    "print(\"-----------\")\n",
    "# 超出小对象整数池\n",
    "c = 257\n",
    "d = 257\n",
    "print(id(c))\n",
    "print(id(d))\n",
    "print(\"-----------\")\n",
    "l = [1, 2, 3]\n",
    "ll = [1, 2, 3]\n",
    "print(id(l))\n",
    "print(id(ll))"
   ],
   "metadata": {
    "collapsed": false,
    "pycharm": {
     "name": "#%%\n"
    }
   }
  },
  {
   "cell_type": "markdown",
   "source": [
    "## 比较操作\n",
    "* is：对比对象，两个变量是否都引用了同一个对象\n",
    "* ==：对比值，对象所存储的数据值是否相等"
   ],
   "metadata": {
    "collapsed": false,
    "pycharm": {
     "name": "#%% md\n"
    }
   }
  },
  {
   "cell_type": "code",
   "execution_count": 9,
   "outputs": [
    {
     "name": "stdout",
     "output_type": "stream",
     "text": [
      "True\n",
      "True\n",
      "True\n",
      "False\n"
     ]
    }
   ],
   "source": [
    "a = 3\n",
    "b = 3\n",
    "print(a == b)\n",
    "print(a is b)\n",
    "a = 257\n",
    "b = 257\n",
    "print(a == b)\n",
    "print(a is b)"
   ],
   "metadata": {
    "collapsed": false,
    "pycharm": {
     "name": "#%%\n"
    }
   }
  },
  {
   "cell_type": "markdown",
   "source": [
    "## 对象的分类\n",
    "* Fundamental 对象：类型对象\n",
    "* Numeric 对象：数字对象\n",
    "* Sequence 对象：容纳其他对象的序列集合对象\n",
    "* Mapping 对象：类似 C++ 中的 map 的关联对象\n",
    "* Internal 对象：Python 虚拟机在运行时内部使用的对象"
   ],
   "metadata": {
    "collapsed": false,
    "pycharm": {
     "name": "#%% md\n"
    }
   }
  },
  {
   "cell_type": "markdown",
   "source": [
    "## 语言类型"
   ],
   "metadata": {
    "collapsed": false
   }
  },
  {
   "cell_type": "markdown",
   "source": [
    "### Python 是动态类型语言\n",
    "变量不需要显式声明类型，根据变量引用的对象，Python 解释器自动确定数据类型\n",
    "在编译器就确定类型的是静态类型语言，在运行期才确定变量类型的则是动态类型语言"
   ],
   "metadata": {
    "collapsed": false,
    "pycharm": {
     "name": "#%% md\n"
    }
   }
  },
  {
   "cell_type": "markdown",
   "source": [
    "### Python 是强类型语言\n",
    "Python 每个对象都有数据类型，只支持该类型支持的操作\n",
    "强类型语言中，变量都有具体的类型限制，\n",
    "* 强类型：Java、C#、Python、Ruby、Go...\n",
    "* 弱类型：C、C++、JS、PHP..."
   ],
   "metadata": {
    "collapsed": false,
    "pycharm": {
     "name": "#%% md\n"
    }
   }
  },
  {
   "cell_type": "markdown",
   "source": [
    "# Pytho 的类"
   ],
   "metadata": {
    "collapsed": false,
    "pycharm": {
     "name": "#%% md\n"
    }
   }
  },
  {
   "cell_type": "markdown",
   "source": [
    "## 如何理解类\n",
    "面向对象是将数据与函数绑定、封装，这样效率高并减少重复开发。类就是一个面向过程的一种实践。\n",
    "Python 中的类（class）是简单说就是具有相同属性、方法的对象。\n",
    "可以把类理解为一个模板，比如 ppt 模板，而你利用这个模板做的演讲幻灯片就是一个实例。"
   ],
   "metadata": {
    "collapsed": false,
    "pycharm": {
     "name": "#%% md\n"
    }
   }
  },
  {
   "cell_type": "markdown",
   "source": [
    "## 属性和方法\n",
    "属性：类或者实例固有的值\n",
    "方法：类或实例的操作"
   ],
   "metadata": {
    "collapsed": false,
    "pycharm": {
     "name": "#%% md\n"
    }
   }
  },
  {
   "cell_type": "markdown",
   "source": [
    "## 类的继承\n",
    "如果一个类中另外一个类的子集，刚这个类可以继承它的所有属性和方法"
   ],
   "metadata": {
    "collapsed": false,
    "pycharm": {
     "name": "#%% md\n"
    }
   }
  },
  {
   "cell_type": "markdown",
   "source": [
    "## 实例\n",
    "实例就是将类具体化"
   ],
   "metadata": {
    "collapsed": false,
    "pycharm": {
     "name": "#%% md\n"
    }
   }
  },
  {
   "cell_type": "markdown",
   "source": [
    "## 类的好处\n",
    "类的好处是：\n",
    "* 方便理解：由于映射现实事物，方便理解\n",
    "* 能复用：由于抽象了现实世界，可以应用到这类大量的事物上\n",
    "* 可扩展：为类增加新的内容也非常方便，方便维护"
   ],
   "metadata": {
    "collapsed": false,
    "pycharm": {
     "name": "#%% md\n"
    }
   }
  },
  {
   "cell_type": "markdown",
   "source": [
    "# Python 定义类"
   ],
   "metadata": {
    "collapsed": false,
    "pycharm": {
     "name": "#%% md\n"
    }
   }
  },
  {
   "cell_type": "markdown",
   "source": [
    "## 创建一个类\n",
    "类的名称需要使用驼峰格式命名（所有单词首字母大写其余字母小写），如 PlayBoy。类名后边的括号内容是它的父类，如果新创建的类没有自定义的父类，则为 object（Python3 可以不用写）"
   ],
   "metadata": {
    "collapsed": false,
    "pycharm": {
     "name": "#%% md\n"
    }
   }
  },
  {
   "cell_type": "code",
   "execution_count": 13,
   "outputs": [],
   "source": [
    "class Student(object):\n",
    "    pass"
   ],
   "metadata": {
    "collapsed": false,
    "pycharm": {
     "name": "#%%\n"
    }
   }
  },
  {
   "cell_type": "markdown",
   "source": [
    "## 创建类"
   ],
   "metadata": {
    "collapsed": false,
    "pycharm": {
     "name": "#%% md\n"
    }
   }
  },
  {
   "cell_type": "code",
   "execution_count": 24,
   "outputs": [],
   "source": [
    "class Student(object):\n",
    "    \"\"\"这是一个学生类\"\"\"\n",
    "\n",
    "    def __init__(self, name):\n",
    "        self.name = name\n",
    "\n",
    "    def say(self):\n",
    "        print(f'我的名字是：{self.name}')\n",
    "\n",
    "    def add(self, x, y):\n",
    "        print(f'这个加法我会，等于{x + y}')"
   ],
   "metadata": {
    "collapsed": false,
    "pycharm": {
     "name": "#%%\n"
    }
   }
  },
  {
   "cell_type": "markdown",
   "source": [
    "* 类名为 Student，继承自 object，三引号里的内容为类的介绍\n",
    "* __init__ 是一个类的初始化方法，初始化的时候需要传入一个姓名\n",
    "* 定义了一个 say 方法，说出自己的名字\n",
    "* 定义了一个 add 方法用于计算加法\n",
    "* 注意 self, 就是自身，因为在定义类时不知道具体的实例是谁，就用 self 代替这个实例"
   ],
   "metadata": {
    "collapsed": false,
    "pycharm": {
     "name": "#%% md\n"
    }
   }
  },
  {
   "cell_type": "markdown",
   "source": [
    "## 实例化"
   ],
   "metadata": {
    "collapsed": false,
    "pycharm": {
     "name": "#%% md\n"
    }
   }
  },
  {
   "cell_type": "code",
   "execution_count": 26,
   "outputs": [
    {
     "name": "stdout",
     "output_type": "stream",
     "text": [
      "我的名字是：Tom\n",
      "这个加法我会，等于2\n"
     ]
    }
   ],
   "source": [
    "tom = Student('Tom')  # 实例化\n",
    "# 'Tom'\n",
    "tom.say()  # 让他说句话\n",
    "# 我的名字是：Tom\n",
    "tom.add(1, 1)  # 让他计算加法\n",
    "# 这个加法我会，等于2"
   ],
   "metadata": {
    "collapsed": false,
    "pycharm": {
     "name": "#%%\n"
    }
   }
  },
  {
   "cell_type": "code",
   "execution_count": 27,
   "outputs": [
    {
     "name": "stdout",
     "output_type": "stream",
     "text": [
      "我的名字是：Tome\n",
      "88\n"
     ]
    }
   ],
   "source": [
    "tom.name = 'Tome'  # 修改姓名\n",
    "tom.math = 88  # 增加一个新的属性并赋值\n",
    "tom.say()\n",
    "print(tom.math)"
   ],
   "metadata": {
    "collapsed": false,
    "pycharm": {
     "name": "#%%\n"
    }
   }
  },
  {
   "cell_type": "markdown",
   "source": [
    "## 内置类属性"
   ],
   "metadata": {
    "collapsed": false,
    "pycharm": {
     "name": "#%% md\n"
    }
   }
  },
  {
   "cell_type": "code",
   "execution_count": 28,
   "outputs": [
    {
     "data": {
      "text/plain": "'这是一个学生类'"
     },
     "execution_count": 28,
     "metadata": {},
     "output_type": "execute_result"
    }
   ],
   "source": [
    "tom.__doc__\n",
    "# '这是一个学生类'"
   ],
   "metadata": {
    "collapsed": false,
    "pycharm": {
     "name": "#%%\n"
    }
   }
  },
  {
   "cell_type": "markdown",
   "source": [
    "其他的："
   ],
   "metadata": {
    "collapsed": false,
    "pycharm": {
     "name": "#%% md\n"
    }
   }
  },
  {
   "cell_type": "code",
   "execution_count": 32,
   "outputs": [
    {
     "name": "stdout",
     "output_type": "stream",
     "text": [
      "{'name': 'Tome', 'math': 88}\n",
      "<class '__main__.Student'>\n",
      "__main__\n"
     ]
    }
   ],
   "source": [
    "print(tom.__dict__)\n",
    "# 查看类的属性，是一个字典\n",
    "print(tom.__class__)\n",
    "# 类名\n",
    "print(tom.__module__)\n",
    "# 类定义所在的模块"
   ],
   "metadata": {
    "collapsed": false,
    "pycharm": {
     "name": "#%%\n"
    }
   }
  },
  {
   "cell_type": "markdown",
   "source": [
    "## 私有变量\n",
    "为了安全起见，有些变量是不能被外部访问和调用。比如一个 Lady 类，那么她的年龄 age 就是私有变量，调用者不能访问，实例化后自己可以定义一个\n",
    "在类中两个下划线开头可以声明该属性为私有，不能在类的外部被使用或直接访问，但可以在类的内部使用："
   ],
   "metadata": {
    "collapsed": false,
    "pycharm": {
     "name": "#%% md\n"
    }
   }
  },
  {
   "cell_type": "code",
   "execution_count": 34,
   "outputs": [],
   "source": [
    "class Car(object):\n",
    "    __price = 50  # 私有变量\n",
    "    speed = 120  # 公开变量\n",
    "\n",
    "    def sell(self):\n",
    "        return self.__price - 10"
   ],
   "metadata": {
    "collapsed": false,
    "pycharm": {
     "name": "#%%\n"
    }
   }
  },
  {
   "cell_type": "markdown",
   "source": [
    "以上我们定义了一个汽车的类，价格是私有变量，外部不能直接访问，但对外销售时（sell方法）可以使用它，对外优惠 10w 元："
   ],
   "metadata": {
    "collapsed": false,
    "pycharm": {
     "name": "#%% md\n"
    }
   }
  },
  {
   "cell_type": "code",
   "execution_count": 38,
   "outputs": [
    {
     "name": "stdout",
     "output_type": "stream",
     "text": [
      "120\n",
      "40\n"
     ]
    }
   ],
   "source": [
    "c = Car()  # 实例化\n",
    "print(c.speed)\n",
    "# 120\n",
    "# print(c.__price)\n",
    "# AttributeError: 'Car' object has no attribute '__price'\n",
    "print(c.sell())\n",
    "# 40"
   ],
   "metadata": {
    "collapsed": false,
    "pycharm": {
     "name": "#%%\n"
    }
   }
  },
  {
   "cell_type": "markdown",
   "source": [
    "但是，你可以使用 对象名._类名__私有属性名（object._className__attrName） 来访问私有变量："
   ],
   "metadata": {
    "collapsed": false,
    "pycharm": {
     "name": "#%% md\n"
    }
   }
  },
  {
   "cell_type": "code",
   "execution_count": 40,
   "outputs": [
    {
     "name": "stdout",
     "output_type": "stream",
     "text": [
      "50\n"
     ]
    }
   ],
   "source": [
    "print(c._Car__price)\n",
    "# 50"
   ],
   "metadata": {
    "collapsed": false,
    "pycharm": {
     "name": "#%%\n"
    }
   }
  },
  {
   "cell_type": "markdown",
   "source": [
    "最好写一个专门的获取和设置私有变量的方法（下例的get_price()和set_price()）来让外部获取和修改这个信息："
   ],
   "metadata": {
    "collapsed": false,
    "pycharm": {
     "name": "#%% md\n"
    }
   }
  },
  {
   "cell_type": "code",
   "execution_count": 47,
   "outputs": [],
   "source": [
    "class Car(object):\n",
    "    __price = 50  # 私有变量\n",
    "\n",
    "    def get_price(self):\n",
    "        return self.__price\n",
    "\n",
    "    def set_price(self, price):\n",
    "        self.__price = price"
   ],
   "metadata": {
    "collapsed": false,
    "pycharm": {
     "name": "#%%\n"
    }
   }
  },
  {
   "cell_type": "code",
   "execution_count": 48,
   "outputs": [
    {
     "name": "stdout",
     "output_type": "stream",
     "text": [
      "50\n",
      "100\n"
     ]
    }
   ],
   "source": [
    "c = Car()\n",
    "print(c.get_price())\n",
    "c.set_price(100)\n",
    "print(c.get_price())"
   ],
   "metadata": {
    "collapsed": false,
    "pycharm": {
     "name": "#%%\n"
    }
   }
  },
  {
   "cell_type": "markdown",
   "source": [
    "那为什么不让直接去访问和修改，非要加两个专门的方法呢？因为通过方法，我们可以对传入的值进行数据类型、数值大小等逻辑检验，如果直接修改那么就会使不符合我们要求的值传进来。另一方面，在返回一个属性值时，可能需要将一个经过一定的逻辑计算后的值返回"
   ],
   "metadata": {
    "collapsed": false,
    "pycharm": {
     "name": "#%% md\n"
    }
   }
  },
  {
   "cell_type": "markdown",
   "source": [
    "## 属性方法命名\n",
    "单下划线、双下划线、头尾双下划三种分别是：\n",
    "\n",
    "* _foo（单下划线）： 表示被保护的（protected）类型的变量，只能本身与子类访问，不能用于 from module import *\n",
    "* __foo（双下划线）： 私有类型(private) 变量, 只允许这个类本身访问\n",
    "* \\_\\_foo\\_\\_（头尾双下划）：特殊方法，一般是系统内置的通用属性和方法名，如 __init__()\n",
    "* foo_（单后置下划线，单右下划线）：用于避免与关键词冲突，也用于初始化参数中表示不需要用户传入的变量，通常会定义初始值，如 love_ = None\n",
    "\n",
    "> 注：以上属性（变量）和方法（函数）均适用。"
   ],
   "metadata": {
    "collapsed": false,
    "pycharm": {
     "name": "#%% md\n"
    }
   }
  },
  {
   "cell_type": "markdown",
   "source": [
    "# Python 类的继承"
   ],
   "metadata": {
    "collapsed": false,
    "pycharm": {
     "name": "#%% md\n"
    }
   }
  },
  {
   "cell_type": "markdown",
   "source": [
    "## 继承方法\n",
    "括号里的类名为父类，会继承父类（支持一到多个）里的所有属性和方法。通过继承创建的新类称为子类或派生类，被继承的类称为基类、父类或超类"
   ],
   "metadata": {
    "collapsed": false,
    "pycharm": {
     "name": "#%% md\n"
    }
   }
  },
  {
   "cell_type": "code",
   "execution_count": 49,
   "outputs": [],
   "source": [
    "# class ClassName(Base1, Base2, Base3):\n",
    "#     pass"
   ],
   "metadata": {
    "collapsed": false,
    "pycharm": {
     "name": "#%%\n"
    }
   }
  },
  {
   "cell_type": "markdown",
   "source": [
    "## 类继承案例"
   ],
   "metadata": {
    "collapsed": false,
    "pycharm": {
     "name": "#%% md\n"
    }
   }
  },
  {
   "cell_type": "code",
   "execution_count": 50,
   "outputs": [],
   "source": [
    "class Student(object):\n",
    "    \"\"\"这是一个学生类\"\"\"\n",
    "\n",
    "    def __init__(self, name):\n",
    "        self.name = name\n",
    "\n",
    "    def say(self):\n",
    "        print(f'我的名字是：{self.name}')\n",
    "\n",
    "    def add(self, x, y):\n",
    "        print(f'这个加法我会，等于{x + y}')\n",
    "\n",
    "\n",
    "class CollegeStudent(Student):\n",
    "    def practice(self):\n",
    "        print(f'我是{self.name}, 在世界500强实习。')"
   ],
   "metadata": {
    "collapsed": false,
    "pycharm": {
     "name": "#%%\n"
    }
   }
  },
  {
   "cell_type": "code",
   "execution_count": 52,
   "outputs": [
    {
     "name": "stdout",
     "output_type": "stream",
     "text": [
      "我的名字是：lily\n",
      "我是lily, 在世界500强实习。\n"
     ]
    }
   ],
   "source": [
    "lily = CollegeStudent('lily')  # 实例化\n",
    "lily.say()  # Student 得到了继承\n",
    "# 我的名字是：lily\n",
    "lily.practice()  # 调用它自己的方法\n",
    "# 我是lily, 在世界500强实习。"
   ],
   "metadata": {
    "collapsed": false,
    "pycharm": {
     "name": "#%%\n"
    }
   }
  },
  {
   "cell_type": "markdown",
   "source": [
    "## 方法重写\n",
    "如果所继承的父类的方法无法满足使用，可以进行重写，这个过程叫方法的覆盖（override）\n",
    "如上例中 Student 类的 say 方法不能满足，我们可以重写："
   ],
   "metadata": {
    "collapsed": false,
    "pycharm": {
     "name": "#%% md\n"
    }
   }
  },
  {
   "cell_type": "code",
   "execution_count": 53,
   "outputs": [
    {
     "name": "stdout",
     "output_type": "stream",
     "text": [
      "我的名字是：lily\n"
     ]
    }
   ],
   "source": [
    "class CollegeStudent(Student):\n",
    "    def say(self):\n",
    "        print(f'大家好！我的名字是：{self.name}')\n",
    "\n",
    "\n",
    "lily.say()"
   ],
   "metadata": {
    "collapsed": false,
    "pycharm": {
     "name": "#%%\n"
    }
   }
  },
  {
   "cell_type": "markdown",
   "source": [
    "## super() 函数\n",
    "super() 函数是用于调用父类（超类）的一个方法，语法是：super(type[, object-or-type])\n",
    "super(SubClass, self).method()的意思是，根据 self 去找 SubClass 的「父亲」，然后调用这个「父亲」的 method()\n",
    "经常用在我们在子类中重写了父类中的方法，但有时候还是需要用父类中的方法"
   ],
   "metadata": {
    "collapsed": false,
    "pycharm": {
     "name": "#%% md\n"
    }
   }
  },
  {
   "cell_type": "code",
   "execution_count": 60,
   "outputs": [
    {
     "name": "stdout",
     "output_type": "stream",
     "text": [
      "我的名字是：lily\n",
      "这个加法我会，等于6\n"
     ]
    },
    {
     "data": {
      "text/plain": "'\\n我的名字是：lily\\n这个加法我会，等于6\\n'"
     },
     "execution_count": 60,
     "metadata": {},
     "output_type": "execute_result"
    }
   ],
   "source": [
    "class Student(object):\n",
    "    \"\"\"这是一个学生类\"\"\"\n",
    "\n",
    "    def __init__(self, name):\n",
    "        self.name = name\n",
    "\n",
    "    def say(self):\n",
    "        print(f'我的名字是：{self.name}')\n",
    "\n",
    "    def add(self, x, y):\n",
    "        print(f'这个加法我会，等于{x + y}')\n",
    "\n",
    "\n",
    "class CollegeStudent(Student):\n",
    "    def practice(self):\n",
    "        super().say()\n",
    "        super(CollegeStudent, self).add(1, 5)\n",
    "\n",
    "\n",
    "lily = CollegeStudent('lily')\n",
    "lily.practice()\n",
    "'''\n",
    "我的名字是：lily\n",
    "这个加法我会，等于6\n",
    "'''"
   ],
   "metadata": {
    "collapsed": false,
    "pycharm": {
     "name": "#%%\n"
    }
   }
  },
  {
   "cell_type": "markdown",
   "source": [
    "## 多继承\n",
    "如果使用多继承，会涉及到查找顺序（MRO）、重复调用（钻石继承）等种种问题\n",
    "MRO 就是类的方法解析顺序表, 其实也就是继承父类方法时的顺序表\n",
    "MRO (Method Resolution Order)：python 对于每一个类都有一个 MRO 列表，此表的生成有以下原则：子类永远在父类之前，如果有多个父类，那么按照它们在列表中的顺序被检查，如果下一个类有两个合法的选择，那么就只选择第一个"
   ],
   "metadata": {
    "collapsed": false,
    "pycharm": {
     "name": "#%% md\n"
    }
   }
  },
  {
   "cell_type": "markdown",
   "source": [
    "## 继承性\n",
    "类中的属性和方法有可继承性（inheritable versus）与不可继承属性（non-inheritable）之说，\n",
    "如果不希望其他类来继承，可以在命名变量名和函数名时用双下划线开头："
   ],
   "metadata": {
    "collapsed": false,
    "pycharm": {
     "name": "#%% md\n"
    }
   }
  },
  {
   "cell_type": "code",
   "execution_count": 68,
   "outputs": [
    {
     "name": "stdout",
     "output_type": "stream",
     "text": [
      "李氏集团业绩平稳上升\n",
      "父亲年轻时与Cuihua谈恋爱\n"
     ]
    }
   ],
   "source": [
    "class Father:\n",
    "    def __init__(self, money, house):\n",
    "        self.money = money\n",
    "        self.house = house\n",
    "        # 私有属性\n",
    "        self.__girl_friend = \"Cuihua\"\n",
    "\n",
    "    def operating_company(self):\n",
    "        print(\"李氏集团业绩平稳上升\")\n",
    "\n",
    "    # 私有方法，只能在类里面被其他方法调用，不能外部调用\n",
    "    def __love(self):\n",
    "        print(f\"父亲年轻时与{self.__girl_friend}谈恋爱\")\n",
    "\n",
    "    def get_love(self):\n",
    "        self.__love()\n",
    "\n",
    "\n",
    "f = Father(10, 'kon')\n",
    "f.operating_company()\n",
    "# f.__love()\n",
    "f.get_love()"
   ],
   "metadata": {
    "collapsed": false,
    "pycharm": {
     "name": "#%%\n"
    }
   }
  },
  {
   "cell_type": "markdown",
   "source": [
    "## 内置方法重载\n",
    "除了对自己定义的方法进行重写，还可以对内置方法进行重写，如 __init__ ( self [,args...] ) 构造函数, 调用方法 obj = className(args)"
   ],
   "metadata": {
    "collapsed": false,
    "pycharm": {
     "name": "#%% md\n"
    }
   }
  },
  {
   "cell_type": "markdown",
   "source": [
    "# Python 内置类属性方法"
   ],
   "metadata": {
    "collapsed": false,
    "pycharm": {
     "name": "#%% md\n"
    }
   }
  },
  {
   "cell_type": "code",
   "execution_count": 69,
   "outputs": [],
   "source": [
    "tom = Student('tome')"
   ],
   "metadata": {
    "collapsed": false,
    "pycharm": {
     "name": "#%%\n"
    }
   }
  },
  {
   "cell_type": "markdown",
   "source": [
    "## doc\n",
    "可以返回类的介绍，这个介绍是我们之前在定义类时写的注释，帮助我们记住类的作用和使用方法"
   ],
   "metadata": {
    "collapsed": false,
    "pycharm": {
     "name": "#%% md\n"
    }
   }
  },
  {
   "cell_type": "code",
   "execution_count": 70,
   "outputs": [
    {
     "data": {
      "text/plain": "'这是一个学生类'"
     },
     "execution_count": 70,
     "metadata": {},
     "output_type": "execute_result"
    }
   ],
   "source": [
    "tom.__doc__\n",
    "# '这是一个学生类'"
   ],
   "metadata": {
    "collapsed": false,
    "pycharm": {
     "name": "#%%\n"
    }
   }
  },
  {
   "cell_type": "markdown",
   "source": [
    "## new 和 init\n",
    "new 和 init 在类在实例化过程中都会被调用的方法，会先调用 new 函数再调用 init 函数。 \\_\\_new\\_\\_ 会创建对象，相当于构造器，起创建一个类实例的作用\n",
    "\\_\\_init\\_\\_ 作为初始化器，负责对象的初始化。\n",
    "new 的第一个参数是 cls 是类自身，init 是 self，是实例。一般情况下，我们很少需要自己编写 new，只需要关注 init 实例初始化。\n",
    "new 是静态函数，init 是实例函数。如果，new 函数不返回实例对象，那么 init 函数就不会被调用："
   ],
   "metadata": {
    "collapsed": false,
    "pycharm": {
     "name": "#%% md\n"
    }
   }
  },
  {
   "cell_type": "code",
   "execution_count": 79,
   "outputs": [
    {
     "name": "stdout",
     "output_type": "stream",
     "text": [
      "A.__new__ called\n",
      "None\n"
     ]
    }
   ],
   "source": [
    "class A(object):\n",
    "\n",
    "    def __new__(cls):\n",
    "        print(\"A.__new__ called\")\n",
    "        # return super().__new__(cls)\n",
    "        # 取消注释会开始调用 init 函数\n",
    "\n",
    "    def __init__(self):\n",
    "        print(\"A.__init__ called\")\n",
    "\n",
    "\n",
    "s = A()\n",
    "print(s)\n",
    "# A.__new__ called\n",
    "# None"
   ],
   "metadata": {
    "collapsed": false,
    "pycharm": {
     "name": "#%%\n"
    }
   }
  },
  {
   "cell_type": "code",
   "execution_count": 85,
   "outputs": [
    {
     "name": "stdout",
     "output_type": "stream",
     "text": [
      "lily\n",
      "18\n"
     ]
    }
   ],
   "source": [
    "class Student(object):\n",
    "    def __init__(self, a, b):\n",
    "        self.name = a\n",
    "        self.age = b\n",
    "        super(Student, self).__init__()\n",
    "\n",
    "\n",
    "# 实例化\n",
    "lily = Student('lily', 18)\n",
    "print(lily.name)\n",
    "print(lily.age)"
   ],
   "metadata": {
    "collapsed": false,
    "pycharm": {
     "name": "#%%\n"
    }
   }
  },
  {
   "cell_type": "markdown",
   "source": [
    "## call\n",
    "\\_\\_call\\_\\_ 可以让实例对象像函数那样可被执行，callable(lily) 默认是不能被执行的，我们重写 call"
   ],
   "metadata": {
    "collapsed": false,
    "pycharm": {
     "name": "#%% md\n"
    }
   }
  },
  {
   "cell_type": "code",
   "execution_count": 74,
   "outputs": [
    {
     "name": "stdout",
     "output_type": "stream",
     "text": [
      "True\n",
      "我能执行了\n"
     ]
    },
    {
     "data": {
      "text/plain": "19"
     },
     "execution_count": 74,
     "metadata": {},
     "output_type": "execute_result"
    }
   ],
   "source": [
    "class Student(object):\n",
    "    def __init__(self, a, b):\n",
    "        self.name = a\n",
    "        self.age = b\n",
    "        super(Student, self).__init__()\n",
    "\n",
    "    def __call__(self):\n",
    "        self.age += 1\n",
    "        print('我能执行了')\n",
    "\n",
    "\n",
    "# 实例化\n",
    "lily = Student('lily', 18)\n",
    "\n",
    "print(callable(lily))\n",
    "# True\n",
    "\n",
    "lily()\n",
    "# 我能执行了\n",
    "\n",
    "lily.age\n",
    "# 19"
   ],
   "metadata": {
    "collapsed": false,
    "pycharm": {
     "name": "#%%\n"
    }
   }
  },
  {
   "cell_type": "markdown",
   "source": [
    "## str 和 repr\n",
    "两者的目的都是为了显式的显示对象的一些必要信息，方便查看和调试\n",
    "也可以利用它们的特性来实现一些业务需求。str 被 print 默认调用，repr 被控制台输出时默认调用\n",
    "即，使用 str 控制用户展示，使用 repr 控制调试展示"
   ],
   "metadata": {
    "collapsed": false,
    "pycharm": {
     "name": "#%% md\n"
    }
   }
  },
  {
   "cell_type": "code",
   "execution_count": 76,
   "outputs": [
    {
     "name": "stdout",
     "output_type": "stream",
     "text": [
      "姓名：lily，年龄：18\n"
     ]
    }
   ],
   "source": [
    "class Student(object):\n",
    "    def __init__(self, a, b):\n",
    "        self.name = a\n",
    "        self.age = b\n",
    "\n",
    "    def __str__(self):\n",
    "        return f'姓名：{self.name}，年龄：{self.age}'\n",
    "\n",
    "\n",
    "# 实例化\n",
    "lily = Student('lily', 18)\n",
    "print(lily)\n",
    "# 姓名：lily，年龄：18"
   ],
   "metadata": {
    "collapsed": false,
    "pycharm": {
     "name": "#%%\n"
    }
   }
  },
  {
   "cell_type": "markdown",
   "source": [
    "## 其他属性和方法"
   ],
   "metadata": {
    "collapsed": false,
    "pycharm": {
     "name": "#%% md\n"
    }
   }
  },
  {
   "cell_type": "code",
   "execution_count": 77,
   "outputs": [
    {
     "data": {
      "text/plain": "\"\\n['__class__',\\n '__delattr__',\\n '__dict__',\\n '__dir__',\\n '__doc__',\\n '__eq__',\\n '__format__',\\n '__ge__',\\n '__getattribute__',\\n '__gt__',\\n '__hash__',\\n '__init__',\\n '__init_subclass__',\\n '__le__',\\n '__lt__',\\n '__module__',\\n '__ne__',\\n '__new__',\\n '__reduce__',\\n '__reduce_ex__',\\n '__repr__',\\n '__setattr__',\\n '__sizeof__',\\n '__str__',\\n '__subclasshook__',\\n '__weakref__',\\n 'age',\\n 'name']\\n\""
     },
     "execution_count": 77,
     "metadata": {},
     "output_type": "execute_result"
    }
   ],
   "source": [
    "dir(lily)\n",
    "'''\n",
    "['__class__',\n",
    " '__delattr__',\n",
    " '__dict__',\n",
    " '__dir__',\n",
    " '__doc__',\n",
    " '__eq__',\n",
    " '__format__',\n",
    " '__ge__',\n",
    " '__getattribute__',\n",
    " '__gt__',\n",
    " '__hash__',\n",
    " '__init__',\n",
    " '__init_subclass__',\n",
    " '__le__',\n",
    " '__lt__',\n",
    " '__module__',\n",
    " '__ne__',\n",
    " '__new__',\n",
    " '__reduce__',\n",
    " '__reduce_ex__',\n",
    " '__repr__',\n",
    " '__setattr__',\n",
    " '__sizeof__',\n",
    " '__str__',\n",
    " '__subclasshook__',\n",
    " '__weakref__',\n",
    " 'age',\n",
    " 'name']\n",
    "'''"
   ],
   "metadata": {
    "collapsed": false,
    "pycharm": {
     "name": "#%%\n"
    }
   }
  }
 ],
 "metadata": {
  "kernelspec": {
   "display_name": "Python 3",
   "language": "python",
   "name": "python3"
  },
  "language_info": {
   "codemirror_mode": {
    "name": "ipython",
    "version": 2
   },
   "file_extension": ".py",
   "mimetype": "text/x-python",
   "name": "python",
   "nbconvert_exporter": "python",
   "pygments_lexer": "ipython2",
   "version": "2.7.6"
  }
 },
 "nbformat": 4,
 "nbformat_minor": 0
}