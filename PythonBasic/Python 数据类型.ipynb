{
 "cells": [
  {
   "cell_type": "markdown",
   "source": [
    "# 数据类型介绍"
   ],
   "metadata": {
    "collapsed": false
   }
  },
  {
   "cell_type": "markdown",
   "source": [
    "常用数据类型：str, number, boolean, list, tuple, dict, set"
   ],
   "metadata": {
    "collapsed": false,
    "pycharm": {
     "name": "#%% md\n"
    }
   }
  },
  {
   "cell_type": "markdown",
   "source": [
    "## 可变与不可变\n",
    "* 不可变数据：Number、Str、Tuple\n",
    "* 可变数据：List、Dict、Set"
   ],
   "metadata": {
    "collapsed": false,
    "pycharm": {
     "name": "#%% md\n"
    }
   }
  },
  {
   "cell_type": "markdown",
   "source": [
    "## 数据类型判断"
   ],
   "metadata": {
    "collapsed": false,
    "pycharm": {
     "name": "#%% md\n"
    }
   }
  },
  {
   "cell_type": "code",
   "execution_count": 4,
   "outputs": [
    {
     "name": "stdout",
     "output_type": "stream",
     "text": [
      "<class 'int'>\n",
      "<class 'str'>\n"
     ]
    }
   ],
   "source": [
    "print(type(123))\n",
    "# int\n",
    "\n",
    "a = \"Hello\"\n",
    "print(type(a))\n",
    "# str"
   ],
   "metadata": {
    "collapsed": false,
    "pycharm": {
     "name": "#%%\n"
    }
   }
  },
  {
   "cell_type": "markdown",
   "source": [
    "也可以用 isinstance 来判断它是不是一个指定的类型"
   ],
   "metadata": {
    "collapsed": false,
    "pycharm": {
     "name": "#%% md\n"
    }
   }
  },
  {
   "cell_type": "code",
   "execution_count": 6,
   "outputs": [
    {
     "name": "stdout",
     "output_type": "stream",
     "text": [
      "True\n",
      "False\n",
      "True\n"
     ]
    }
   ],
   "source": [
    "print(isinstance(123, int))\n",
    "print(isinstance('123', int))\n",
    "print(isinstance(True, bool))"
   ],
   "metadata": {
    "collapsed": false,
    "pycharm": {
     "name": "#%%\n"
    }
   }
  },
  {
   "cell_type": "markdown",
   "source": [
    "# 数字 Number\n",
    "数字的类型：int、float、complex"
   ],
   "metadata": {
    "collapsed": false,
    "pycharm": {
     "name": "#%% md\n"
    }
   }
  },
  {
   "cell_type": "markdown",
   "source": [
    "## 整数 int"
   ],
   "metadata": {
    "collapsed": false,
    "pycharm": {
     "name": "#%% md\n"
    }
   }
  },
  {
   "cell_type": "code",
   "source": [
    "a = 17\n",
    "# 会忽略下划线\n",
    "a = 1_7\n",
    "print(a)\n",
    "b = - 17\n",
    "b = -17\n",
    "print(b)\n",
    "# 17 十六进制\n",
    "c = 0x11\n",
    "print(c)\n",
    "# 65 八进制\n",
    "d = 0o101\n",
    "print(d)"
   ],
   "metadata": {
    "collapsed": false,
    "pycharm": {
     "name": "#%%\n"
    }
   },
   "execution_count": 9,
   "outputs": [
    {
     "name": "stdout",
     "output_type": "stream",
     "text": [
      "17\n",
      "-17\n",
      "17\n",
      "65\n"
     ]
    }
   ]
  },
  {
   "cell_type": "markdown",
   "source": [
    "可以使用前缀 0x, 0o 和 0b 分别表示 16、8、2 进制的表示方式"
   ],
   "metadata": {
    "collapsed": false,
    "pycharm": {
     "name": "#%% md\n"
    }
   }
  },
  {
   "cell_type": "markdown",
   "source": [
    "## 浮点 float"
   ],
   "metadata": {
    "collapsed": false,
    "pycharm": {
     "name": "#%% md\n"
    }
   }
  },
  {
   "cell_type": "code",
   "execution_count": 16,
   "outputs": [
    {
     "name": "stdout",
     "output_type": "stream",
     "text": [
      "1.1\n",
      "1.0\n",
      "0.1\n"
     ]
    }
   ],
   "source": [
    "x = 1.10\n",
    "print(x)\n",
    "# 1.0\n",
    "y = 1.\n",
    "print(y)\n",
    "z = .1\n",
    "print(z)"
   ],
   "metadata": {
    "collapsed": false,
    "pycharm": {
     "name": "#%%\n"
    }
   }
  },
  {
   "cell_type": "markdown",
   "source": [
    "科学计数法赋值："
   ],
   "metadata": {
    "collapsed": false,
    "pycharm": {
     "name": "#%% md\n"
    }
   }
  },
  {
   "cell_type": "code",
   "execution_count": 17,
   "outputs": [
    {
     "name": "stdout",
     "output_type": "stream",
     "text": [
      "350000.0\n",
      "1000000.0\n"
     ]
    }
   ],
   "source": [
    "e = 3.5e5\n",
    "print(e)\n",
    "f = 1E6\n",
    "print(f)"
   ],
   "metadata": {
    "collapsed": false,
    "pycharm": {
     "name": "#%%\n"
    }
   }
  },
  {
   "cell_type": "markdown",
   "source": [
    "## 复数\n",
    "j 代表复数的虚部"
   ],
   "metadata": {
    "collapsed": false,
    "pycharm": {
     "name": "#%% md\n"
    }
   }
  },
  {
   "cell_type": "code",
   "execution_count": 18,
   "outputs": [],
   "source": [
    "x = 1 + 2j\n",
    "y = 2j\n",
    "z = -3j"
   ],
   "metadata": {
    "collapsed": false,
    "pycharm": {
     "name": "#%%\n"
    }
   }
  },
  {
   "cell_type": "markdown",
   "source": [
    "## 数字下划线"
   ],
   "metadata": {
    "collapsed": false,
    "pycharm": {
     "name": "#%% md\n"
    }
   }
  },
  {
   "cell_type": "code",
   "execution_count": 28,
   "outputs": [
    {
     "name": "stdout",
     "output_type": "stream",
     "text": [
      "123456789\n",
      "123456.888\n",
      "10_000_000_000\n",
      "10_000_000_000\n"
     ]
    }
   ],
   "source": [
    "print(123_456_789)\n",
    "print(123_456.888)\n",
    "print(f'{10000000000:_}')\n",
    "print('{:_}'.format(10000000000))"
   ],
   "metadata": {
    "collapsed": false,
    "pycharm": {
     "name": "#%%\n"
    }
   }
  },
  {
   "cell_type": "markdown",
   "source": [
    "## 转换\n",
    "查看数据类型："
   ],
   "metadata": {
    "collapsed": false,
    "pycharm": {
     "name": "#%% md\n"
    }
   }
  },
  {
   "cell_type": "code",
   "execution_count": 30,
   "outputs": [
    {
     "data": {
      "text/plain": "int"
     },
     "execution_count": 30,
     "metadata": {},
     "output_type": "execute_result"
    }
   ],
   "source": [
    "a = 1\n",
    "type(a)"
   ],
   "metadata": {
    "collapsed": false,
    "pycharm": {
     "name": "#%%\n"
    }
   }
  },
  {
   "cell_type": "markdown",
   "source": [
    "不同数字类型进行计算，则：\n",
    "* 全 int 加减乘还是 int，除会变成 float\n",
    "* float 和 int 计算为 float"
   ],
   "metadata": {
    "collapsed": false,
    "pycharm": {
     "name": "#%% md\n"
    }
   }
  },
  {
   "cell_type": "code",
   "execution_count": null,
   "outputs": [],
   "source": [
    "# 4\n",
    "int(4.3)"
   ],
   "metadata": {
    "collapsed": false,
    "pycharm": {
     "name": "#%%\n"
    }
   }
  },
  {
   "cell_type": "code",
   "execution_count": null,
   "outputs": [],
   "source": [
    "# 4.0\n",
    "float(4)"
   ],
   "metadata": {
    "collapsed": false,
    "pycharm": {
     "name": "#%%\n"
    }
   }
  },
  {
   "cell_type": "markdown",
   "source": [
    "# 字符串 String"
   ],
   "metadata": {
    "collapsed": false,
    "pycharm": {
     "name": "#%% md\n"
    }
   }
  },
  {
   "cell_type": "markdown",
   "source": [
    "## 字符串定义"
   ],
   "metadata": {
    "collapsed": false,
    "pycharm": {
     "name": "#%% md\n"
    }
   },
   "execution_count": 0
  },
  {
   "cell_type": "code",
   "execution_count": 32,
   "outputs": [
    {
     "data": {
      "text/plain": "str"
     },
     "execution_count": 32,
     "metadata": {},
     "output_type": "execute_result"
    }
   ],
   "source": [
    "var = \"hello\"  # 双引号\n",
    "var = 'world'  # 单引号\n",
    "\n",
    "a = \"123\"  # 注意，这儿是个字符，不是数字\n",
    "\n",
    "# 三个单引号或者双引号，可以定义多行字符\n",
    "var = ''' hello\n",
    "world\n",
    "I love python\n",
    "'''\n",
    "#  加前缀 u，显式说明是 unicode 类型，一般不加\n",
    "var = u'world'\n",
    "type(var)  # str"
   ],
   "metadata": {
    "collapsed": false,
    "pycharm": {
     "name": "#%%\n"
    }
   }
  },
  {
   "cell_type": "markdown",
   "source": [
    "## 字符的转换"
   ],
   "metadata": {
    "collapsed": false
   }
  },
  {
   "cell_type": "code",
   "execution_count": 35,
   "outputs": [
    {
     "data": {
      "text/plain": "'[1, 2, 3]'"
     },
     "execution_count": 35,
     "metadata": {},
     "output_type": "execute_result"
    }
   ],
   "source": [
    "var = \"hello\"\n",
    "# int(var) # 无法转换成数字，会报错\n",
    "\n",
    "a = \"123\"\n",
    "int(a)  # 123 成功转为数字\n",
    "\n",
    "b = 456\n",
    "str(b)  # \"456\" 成功转为字符\n",
    "\n",
    "c = [1, 2, 3]\n",
    "str(c)  # '[1, 2, 3]' 列表转字符串，其他类型类似"
   ],
   "metadata": {
    "collapsed": false,
    "pycharm": {
     "name": "#%%\n"
    }
   }
  },
  {
   "cell_type": "markdown",
   "source": [
    "## 字符的访问"
   ],
   "metadata": {
    "collapsed": false
   }
  },
  {
   "cell_type": "code",
   "execution_count": 37,
   "outputs": [
    {
     "name": "stdout",
     "output_type": "stream",
     "text": [
      "H\n",
      "!\n",
      "ld\n",
      "ello W\n",
      "World!\n",
      "Hello World!\n",
      "Hlo\n",
      "eo\n",
      "!dlroW olleH\n"
     ]
    }
   ],
   "source": [
    "var = 'Hello World!'\n",
    "# 按索引取部分内容, 索引从0开始, 左必须小于右\n",
    "# 支持字符、列表、元组\n",
    "print(var[0])\n",
    "# 'H'\n",
    "# 从右开始索引从 -1 开始\n",
    "print(var[-1])\n",
    "# '!'\n",
    "print(var[-3:-1])\n",
    "# 'ld'\n",
    "print(var[1:7])\n",
    "# 'ello W'（有个空格，不包含最后一位）\n",
    "print(var[6:])\n",
    "# 'World!' （前后省略按开头结尾）\n",
    "print(var[:])\n",
    "# 'Hello World!'（相当于复制）\n",
    "print(var[0:5:2])\n",
    "# 'Hlo'（2为步长，2的倍数取）\n",
    "print(var[1:7:3])\n",
    "# 'ello W‘ -> 'eo'\n",
    "print(var[::-1])\n",
    "# !dlroW olleH 实现反转字符功能"
   ],
   "metadata": {
    "collapsed": false,
    "pycharm": {
     "name": "#%%\n"
    }
   }
  },
  {
   "cell_type": "markdown",
   "source": [
    "## 字符的运算"
   ],
   "metadata": {
    "collapsed": false
   }
  },
  {
   "cell_type": "code",
   "execution_count": 40,
   "outputs": [
    {
     "name": "stdout",
     "output_type": "stream",
     "text": [
      "goodbye\n",
      "goodgoodgood\n",
      "y\n",
      "y\n",
      "odb\n",
      "True\n",
      "False\n"
     ]
    }
   ],
   "source": [
    "print('good' + 'bye')\n",
    "# goodbye 拼接字符\n",
    "print('good' * 3)\n",
    "# goodgoodgood 重复3次\n",
    "print('bye'[1])\n",
    "# 'y' 取第2个索引位, 索引为1\n",
    "print('bye'[-2])\n",
    "# 'y' 取从右索引为-2的内容\n",
    "print('goodbye'[2:5])\n",
    "# 取一段，不包含右边索引位内容\n",
    "print('g' in 'goodbye')\n",
    "# True 成员运算，指定字段是否在目标字符里\n",
    "print('g' not in 'goodbye')\n",
    "# False 指定字段是否不在目标字符里"
   ],
   "metadata": {
    "collapsed": false,
    "pycharm": {
     "name": "#%%\n"
    }
   }
  },
  {
   "cell_type": "markdown",
   "source": [
    "## 字符转义\n",
    "字符中使用特殊字符时，可用反斜杠 \\ 转义字符，常用的转义符号如下："
   ],
   "metadata": {
    "collapsed": false
   }
  },
  {
   "cell_type": "code",
   "execution_count": 39,
   "outputs": [
    {
     "name": "stdout",
     "output_type": "stream",
     "text": [
      "一行\n",
      "另一行\n",
      "一格\t另一格\n",
      "我中国人\n",
      "I 'm boy.\n",
      "看到反斜杠了么？\\\n"
     ]
    }
   ],
   "source": [
    "print(\"一行\\n另一行\")  # 换行\n",
    "print(\"一格\\t另一格\")  # 制表\n",
    "print(\"我是\\b中国人\")  # 退格，会删除「是」\n",
    "print('I \\'m boy.')  # 引号，双引号同\n",
    "print(\"看到反斜杠了么？\\\\\")  # 反斜杠"
   ],
   "metadata": {
    "collapsed": false,
    "pycharm": {
     "name": "#%%\n"
    }
   }
  },
  {
   "cell_type": "markdown",
   "source": [
    "## 字符常用函数"
   ],
   "metadata": {
    "collapsed": false
   }
  },
  {
   "cell_type": "code",
   "execution_count": 42,
   "outputs": [
    {
     "name": "stdout",
     "output_type": "stream",
     "text": [
      "4\n",
      "Good\n",
      "['山', '水', '风', '雨']\n",
      "['', '山', '水', '风光']\n",
      "山-水-风-雨\n",
      "诗和远方\n"
     ]
    }
   ],
   "source": [
    "print(len('good'))\n",
    "# 4 字符的长度\n",
    "print('good'.replace('g', 'G'))\n",
    "# 'Good' 替换字符\n",
    "print('山-水-风-雨'.split('-'))\n",
    "# ['山', '水', '风', '雨'] 用指定字符分隔，默认空格\n",
    "print('好山好水好风光'.split('好'))\n",
    "# ['', '山', '水', '风光']\n",
    "print('-'.join(['山', '水', '风', '雨']))\n",
    "# '山-水-风-雨'\n",
    "print('和'.join(['诗', '远方']))\n",
    "# '诗和远方'"
   ],
   "metadata": {
    "collapsed": false,
    "pycharm": {
     "name": "#%%\n"
    }
   }
  },
  {
   "cell_type": "code",
   "execution_count": 58,
   "outputs": [
    {
     "data": {
      "text/plain": "['Good\\n', 'bye\\n', 'bye']"
     },
     "execution_count": 58,
     "metadata": {},
     "output_type": "execute_result"
    }
   ],
   "source": [
    "import string\n",
    "\n",
    "'good'.upper()  # 'GOOD' 全转大写\n",
    "'GOOD'.lower()  # 'good' 全转小写\n",
    "'Good Bye'.swapcase()  # 'gOOD bYE' 大小写互换\n",
    "'good'.capitalize()  # 'Good' 首字母转大写\n",
    "'good'.islower()  # True 是否全是小写\n",
    "'good'.isupper()  # False 是否全是大写\n",
    "'good bYe'.title()  # 'Good Bye' 所有的单词首字母转为大写，且其他字母转小写\n",
    "'Good Bye'.istitle()  # True 检测所有的单词首字母是否为大写，且其他字母为小写\n",
    "\n",
    "'我和你'.endswith('你')  # True 是否以指定字符结尾\n",
    "'我和你'.startswith('你')  # False 是否以指定字符开始\n",
    "' and你'.isspace()  # False 是否全是空白字符\n",
    "\n",
    "'good'.center(10, '*')  # '***good***' 字符居中, 其余用指定字符填充, 共多少位\n",
    "'good'.ljust(10, '-')  # 'good------' 左对齐，默认是空格补全\n",
    "'good'.rjust(10, '-')  # '------good' 右对齐\n",
    "'good'.count('o')  # 2 指定字符在字符中的数量\n",
    "'good'.count('o', 2, 3)  # 1 在索引范围内字符出现的数量\n",
    "'3月'.zfill(3)  # '03月' 指定长宽，不够前边补 0\n",
    "\n",
    "max('good')  # 'o' 按最大字母顺序最大的字母\n",
    "min('good')  # 'd' 最小的字母\n",
    "\n",
    "'Good Good Study'.find('y')  # 14 返回指,定字符第一次出现的索引, 如果不包含返回-1\n",
    "'Good Good Study'.find('o', 3)  # 6 指定开始位第一次出现的索引, 如果不包返回-1\n",
    "'Good Good Study'.find('o', 2, 7)  # 2 指定区间内第一次出现的索引, 如果不包返回-1\n",
    "'Good Good Study'.find('up')  # -1 不包含返回-1\n",
    "\n",
    "'Good Bye'.index('d')  # 3 指定字符第一个索引\n",
    "# 'Good Bye'.index('s')  # 找不到会 ValueError 错误, 可以先 in 去判断是否包含\n",
    "\n",
    "# 去空格\n",
    "'Good bye'.strip('e')  # 去掉首尾指定字符, 默认去空格\n",
    "' Good bye '.lstrip()  # 'Good bye ' 去掉左边空格\n",
    "' Good bye '.rstrip()  # ' Good bye'去掉右边空格\n",
    "\n",
    "# 格式化, 此处推荐 f-string: https://www.gairuo.com/p/python-format-string\n",
    "name = 'wsy'\n",
    "f'{name}是好人'  # 'tom是好人' 推荐此方法, name = 'tom'\n",
    "'%s %s' % ('age', 18)  # 'age 18'\n",
    "'{}, {}'.format(18, 'age')  # '18 age'\n",
    "'{0}, {1}, {0}'.format('age', 18)  # 'age, 18, age'\n",
    "'{name}: {age}'.format(age=18, name='tom')  # 'tom: 18'\n",
    "\n",
    "# 分割连接\n",
    "# 按换行分隔，默认(False)不保留换行符\n",
    "'Good\\nbye\\nbye'.splitlines(True)  # ['Good\\n', 'bye\\n', 'bye']"
   ],
   "metadata": {
    "collapsed": false,
    "pycharm": {
     "name": "#%%\n"
    }
   }
  },
  {
   "cell_type": "markdown",
   "source": [
    "## 其他\n",
    "两个字符串相连或者空格间隔，会被认为是拼接后的字符串整体"
   ],
   "metadata": {
    "collapsed": false
   }
  },
  {
   "cell_type": "code",
   "execution_count": 45,
   "outputs": [
    {
     "name": "stdout",
     "output_type": "stream",
     "text": [
      "ab\n",
      "ab\n"
     ]
    }
   ],
   "source": [
    "print('a' 'b')\n",
    "print('a''b')"
   ],
   "metadata": {
    "collapsed": false,
    "pycharm": {
     "name": "#%%\n"
    }
   }
  },
  {
   "cell_type": "markdown",
   "source": [
    "列表、元组同样有效"
   ],
   "metadata": {
    "collapsed": false,
    "pycharm": {
     "name": "#%% md\n"
    }
   }
  },
  {
   "cell_type": "code",
   "execution_count": 46,
   "outputs": [
    {
     "data": {
      "text/plain": "['a', 'bc', 'd']"
     },
     "execution_count": 46,
     "metadata": {},
     "output_type": "execute_result"
    }
   ],
   "source": [
    "['a', 'b' 'c', 'd']"
   ],
   "metadata": {
    "collapsed": false,
    "pycharm": {
     "name": "#%%\n"
    }
   }
  },
  {
   "cell_type": "code",
   "execution_count": 47,
   "outputs": [
    {
     "data": {
      "text/plain": "('a', 'b c', 'd')"
     },
     "execution_count": 47,
     "metadata": {},
     "output_type": "execute_result"
    }
   ],
   "source": [
    "('a', 'b c', 'd')"
   ],
   "metadata": {
    "collapsed": false,
    "pycharm": {
     "name": "#%%\n"
    }
   }
  },
  {
   "cell_type": "markdown",
   "source": [
    "特别注意，圆括号（不是元组）的字符串仍然是一个字符："
   ],
   "metadata": {
    "collapsed": false,
    "pycharm": {
     "name": "#%% md\n"
    }
   }
  },
  {
   "cell_type": "code",
   "execution_count": 55,
   "outputs": [
    {
     "data": {
      "text/plain": "str"
     },
     "execution_count": 55,
     "metadata": {},
     "output_type": "execute_result"
    }
   ],
   "source": [
    "type('b' 'c')"
   ],
   "metadata": {
    "collapsed": false,
    "pycharm": {
     "name": "#%%\n"
    }
   }
  },
  {
   "cell_type": "markdown",
   "source": [
    "# 布尔型 Boolean"
   ],
   "metadata": {
    "collapsed": false,
    "pycharm": {
     "name": "#%% md\n"
    }
   },
   "outputs": [],
   "execution_count": 0
  },
  {
   "cell_type": "markdown",
   "source": [],
   "metadata": {
    "collapsed": false,
    "pycharm": {
     "name": "#%% md\n"
    }
   },
   "outputs": [],
   "execution_count": 0
  },
  {
   "cell_type": "markdown",
   "source": [
    "# 列表 List"
   ],
   "metadata": {
    "collapsed": false,
    "pycharm": {
     "name": "#%% md\n"
    }
   }
  },
  {
   "cell_type": "markdown",
   "source": [],
   "metadata": {
    "collapsed": false,
    "pycharm": {
     "name": "#%% md\n"
    }
   }
  },
  {
   "cell_type": "markdown",
   "source": [
    "# 元组 Tuple"
   ],
   "metadata": {
    "collapsed": false,
    "pycharm": {
     "name": "#%% md\n"
    }
   }
  },
  {
   "cell_type": "markdown",
   "source": [],
   "metadata": {
    "collapsed": false,
    "pycharm": {
     "name": "#%% md\n"
    }
   }
  },
  {
   "cell_type": "markdown",
   "source": [
    "# 集合 Set"
   ],
   "metadata": {
    "collapsed": false,
    "pycharm": {
     "name": "#%% md\n"
    }
   }
  },
  {
   "cell_type": "markdown",
   "source": [],
   "metadata": {
    "collapsed": false,
    "pycharm": {
     "name": "#%% md\n"
    }
   }
  },
  {
   "cell_type": "markdown",
   "source": [
    "# 序列类型"
   ],
   "metadata": {
    "collapsed": false,
    "pycharm": {
     "name": "#%% md\n"
    }
   }
  }
 ],
 "metadata": {
  "kernelspec": {
   "display_name": "Python 3",
   "language": "python",
   "name": "python3"
  },
  "language_info": {
   "codemirror_mode": {
    "name": "ipython",
    "version": 2
   },
   "file_extension": ".py",
   "mimetype": "text/x-python",
   "name": "python",
   "nbconvert_exporter": "python",
   "pygments_lexer": "ipython2",
   "version": "2.7.6"
  }
 },
 "nbformat": 4,
 "nbformat_minor": 0
}