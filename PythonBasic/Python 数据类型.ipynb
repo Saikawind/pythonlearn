{
 "cells": [
  {
   "cell_type": "markdown",
   "metadata": {},
   "source": [
    "# 数据类型介绍"
   ]
  },
  {
   "cell_type": "markdown",
   "metadata": {
    "pycharm": {
     "name": "#%% md\n"
    }
   },
   "source": [
    "常用数据类型：str, number, boolean, list, tuple, dict, set"
   ]
  },
  {
   "cell_type": "markdown",
   "metadata": {
    "pycharm": {
     "name": "#%% md\n"
    }
   },
   "source": [
    "## 可变与不可变\n",
    "* 不可变数据：Number、Str、Tuple\n",
    "* 可变数据：List、Dict、Set"
   ]
  },
  {
   "cell_type": "markdown",
   "metadata": {
    "pycharm": {
     "name": "#%% md\n"
    }
   },
   "source": [
    "## 数据类型判断"
   ]
  },
  {
   "cell_type": "code",
   "execution_count": 2,
   "metadata": {
    "collapsed": false,
    "jupyter": {
     "outputs_hidden": false
    },
    "pycharm": {
     "name": "#%%\n"
    }
   },
   "outputs": [
    {
     "name": "stdout",
     "output_type": "stream",
     "text": [
      "<class 'int'>\n",
      "<class 'str'>\n"
     ]
    }
   ],
   "source": [
    "print(type(123))\n",
    "# int\n",
    "a = \"Hello\"\n",
    "print(type(a))\n",
    "# str"
   ]
  },
  {
   "cell_type": "markdown",
   "metadata": {
    "pycharm": {
     "name": "#%% md\n"
    }
   },
   "source": [
    "也可以用 isinstance 来判断它是不是一个指定的类型"
   ]
  },
  {
   "cell_type": "code",
   "execution_count": 6,
   "metadata": {
    "collapsed": false,
    "jupyter": {
     "outputs_hidden": false
    },
    "pycharm": {
     "name": "#%%\n"
    }
   },
   "outputs": [
    {
     "name": "stdout",
     "output_type": "stream",
     "text": [
      "True\n",
      "False\n",
      "True\n"
     ]
    }
   ],
   "source": [
    "print(isinstance(123, int))\n",
    "print(isinstance('123', int))\n",
    "print(isinstance(True, bool))"
   ]
  },
  {
   "cell_type": "markdown",
   "metadata": {
    "pycharm": {
     "name": "#%% md\n"
    }
   },
   "source": [
    "# 数字 Number\n",
    "数字的类型：int、float、complex"
   ]
  },
  {
   "cell_type": "markdown",
   "metadata": {
    "pycharm": {
     "name": "#%% md\n"
    }
   },
   "source": [
    "## 整数 int"
   ]
  },
  {
   "cell_type": "code",
   "execution_count": 9,
   "metadata": {
    "collapsed": false,
    "jupyter": {
     "outputs_hidden": false
    },
    "pycharm": {
     "name": "#%%\n"
    }
   },
   "outputs": [
    {
     "name": "stdout",
     "output_type": "stream",
     "text": [
      "17\n",
      "-17\n",
      "17\n",
      "65\n"
     ]
    }
   ],
   "source": [
    "a = 17\n",
    "# 会忽略下划线\n",
    "a = 1_7\n",
    "print(a)\n",
    "b = - 17\n",
    "b = -17\n",
    "print(b)\n",
    "# 17 十六进制\n",
    "c = 0x11\n",
    "print(c)\n",
    "# 65 八进制\n",
    "d = 0o101\n",
    "print(d)"
   ]
  },
  {
   "cell_type": "markdown",
   "metadata": {
    "pycharm": {
     "name": "#%% md\n"
    }
   },
   "source": [
    "可以使用前缀 0x, 0o 和 0b 分别表示 16、8、2 进制的表示方式"
   ]
  },
  {
   "cell_type": "markdown",
   "metadata": {
    "pycharm": {
     "name": "#%% md\n"
    }
   },
   "source": [
    "## 浮点 float"
   ]
  },
  {
   "cell_type": "code",
   "execution_count": 16,
   "metadata": {
    "collapsed": false,
    "jupyter": {
     "outputs_hidden": false
    },
    "pycharm": {
     "name": "#%%\n"
    }
   },
   "outputs": [
    {
     "name": "stdout",
     "output_type": "stream",
     "text": [
      "1.1\n",
      "1.0\n",
      "0.1\n"
     ]
    }
   ],
   "source": [
    "x = 1.10\n",
    "print(x)\n",
    "# 1.0\n",
    "y = 1.\n",
    "print(y)\n",
    "z = .1\n",
    "print(z)"
   ]
  },
  {
   "cell_type": "markdown",
   "metadata": {
    "pycharm": {
     "name": "#%% md\n"
    }
   },
   "source": [
    "科学计数法赋值："
   ]
  },
  {
   "cell_type": "code",
   "execution_count": 17,
   "metadata": {
    "collapsed": false,
    "jupyter": {
     "outputs_hidden": false
    },
    "pycharm": {
     "name": "#%%\n"
    }
   },
   "outputs": [
    {
     "name": "stdout",
     "output_type": "stream",
     "text": [
      "350000.0\n",
      "1000000.0\n"
     ]
    }
   ],
   "source": [
    "e = 3.5e5\n",
    "print(e)\n",
    "f = 1E6\n",
    "print(f)"
   ]
  },
  {
   "cell_type": "markdown",
   "metadata": {
    "pycharm": {
     "name": "#%% md\n"
    }
   },
   "source": [
    "## 复数\n",
    "j 代表复数的虚部"
   ]
  },
  {
   "cell_type": "code",
   "execution_count": 18,
   "metadata": {
    "collapsed": false,
    "jupyter": {
     "outputs_hidden": false
    },
    "pycharm": {
     "name": "#%%\n"
    }
   },
   "outputs": [],
   "source": [
    "x = 1 + 2j\n",
    "y = 2j\n",
    "z = -3j"
   ]
  },
  {
   "cell_type": "markdown",
   "metadata": {
    "pycharm": {
     "name": "#%% md\n"
    }
   },
   "source": [
    "## 数字下划线"
   ]
  },
  {
   "cell_type": "code",
   "execution_count": 28,
   "metadata": {
    "collapsed": false,
    "jupyter": {
     "outputs_hidden": false
    },
    "pycharm": {
     "name": "#%%\n"
    }
   },
   "outputs": [
    {
     "name": "stdout",
     "output_type": "stream",
     "text": [
      "123456789\n",
      "123456.888\n",
      "10_000_000_000\n",
      "10_000_000_000\n"
     ]
    }
   ],
   "source": [
    "print(123_456_789)\n",
    "print(123_456.888)\n",
    "print(f'{10000000000:_}')\n",
    "print('{:_}'.format(10000000000))"
   ]
  },
  {
   "cell_type": "markdown",
   "metadata": {
    "pycharm": {
     "name": "#%% md\n"
    }
   },
   "source": [
    "## 转换\n",
    "查看数据类型："
   ]
  },
  {
   "cell_type": "code",
   "execution_count": 30,
   "metadata": {
    "collapsed": false,
    "jupyter": {
     "outputs_hidden": false
    },
    "pycharm": {
     "name": "#%%\n"
    }
   },
   "outputs": [
    {
     "data": {
      "text/plain": [
       "int"
      ]
     },
     "execution_count": 30,
     "metadata": {},
     "output_type": "execute_result"
    }
   ],
   "source": [
    "a = 1\n",
    "type(a)"
   ]
  },
  {
   "cell_type": "markdown",
   "metadata": {
    "pycharm": {
     "name": "#%% md\n"
    }
   },
   "source": [
    "不同数字类型进行计算，则：\n",
    "* 全 int 加减乘还是 int，除会变成 float\n",
    "* float 和 int 计算为 float"
   ]
  },
  {
   "cell_type": "code",
   "execution_count": null,
   "metadata": {
    "collapsed": false,
    "jupyter": {
     "outputs_hidden": false
    },
    "pycharm": {
     "name": "#%%\n"
    }
   },
   "outputs": [],
   "source": [
    "# 4\n",
    "int(4.3)"
   ]
  },
  {
   "cell_type": "code",
   "execution_count": null,
   "metadata": {
    "collapsed": false,
    "jupyter": {
     "outputs_hidden": false
    },
    "pycharm": {
     "name": "#%%\n"
    }
   },
   "outputs": [],
   "source": [
    "# 4.0\n",
    "float(4)"
   ]
  },
  {
   "cell_type": "markdown",
   "metadata": {
    "pycharm": {
     "name": "#%% md\n"
    }
   },
   "source": [
    "# 字符串 String"
   ]
  },
  {
   "cell_type": "markdown",
   "metadata": {
    "pycharm": {
     "name": "#%% md\n"
    }
   },
   "source": [
    "## 字符串定义"
   ]
  },
  {
   "cell_type": "code",
   "execution_count": 32,
   "metadata": {
    "collapsed": false,
    "jupyter": {
     "outputs_hidden": false
    },
    "pycharm": {
     "name": "#%%\n"
    }
   },
   "outputs": [
    {
     "data": {
      "text/plain": [
       "str"
      ]
     },
     "execution_count": 32,
     "metadata": {},
     "output_type": "execute_result"
    }
   ],
   "source": [
    "var = \"hello\"  # 双引号\n",
    "var = 'world'  # 单引号\n",
    "\n",
    "a = \"123\"  # 注意，这儿是个字符，不是数字\n",
    "\n",
    "# 三个单引号或者双引号，可以定义多行字符\n",
    "var = ''' hello\n",
    "world\n",
    "I love python\n",
    "'''\n",
    "#  加前缀 u，显式说明是 unicode 类型，一般不加\n",
    "var = u'world'\n",
    "type(var)  # str"
   ]
  },
  {
   "cell_type": "markdown",
   "metadata": {},
   "source": [
    "## 字符的转换"
   ]
  },
  {
   "cell_type": "code",
   "execution_count": 35,
   "metadata": {
    "collapsed": false,
    "jupyter": {
     "outputs_hidden": false
    },
    "pycharm": {
     "name": "#%%\n"
    }
   },
   "outputs": [
    {
     "data": {
      "text/plain": [
       "'[1, 2, 3]'"
      ]
     },
     "execution_count": 35,
     "metadata": {},
     "output_type": "execute_result"
    }
   ],
   "source": [
    "var = \"hello\"\n",
    "# int(var) # 无法转换成数字，会报错\n",
    "\n",
    "a = \"123\"\n",
    "int(a)  # 123 成功转为数字\n",
    "\n",
    "b = 456\n",
    "str(b)  # \"456\" 成功转为字符\n",
    "\n",
    "c = [1, 2, 3]\n",
    "str(c)  # '[1, 2, 3]' 列表转字符串，其他类型类似"
   ]
  },
  {
   "cell_type": "markdown",
   "metadata": {},
   "source": [
    "## 字符的访问"
   ]
  },
  {
   "cell_type": "code",
   "execution_count": 37,
   "metadata": {
    "collapsed": false,
    "jupyter": {
     "outputs_hidden": false
    },
    "pycharm": {
     "name": "#%%\n"
    }
   },
   "outputs": [
    {
     "name": "stdout",
     "output_type": "stream",
     "text": [
      "H\n",
      "!\n",
      "ld\n",
      "ello W\n",
      "World!\n",
      "Hello World!\n",
      "Hlo\n",
      "eo\n",
      "!dlroW olleH\n"
     ]
    }
   ],
   "source": [
    "var = 'Hello World!'\n",
    "# 按索引取部分内容, 索引从0开始, 左必须小于右\n",
    "# 支持字符、列表、元组\n",
    "print(var[0])\n",
    "# 'H'\n",
    "# 从右开始索引从 -1 开始\n",
    "print(var[-1])\n",
    "# '!'\n",
    "print(var[-3:-1])\n",
    "# 'ld'\n",
    "print(var[1:7])\n",
    "# 'ello W'（有个空格，不包含最后一位）\n",
    "print(var[6:])\n",
    "# 'World!' （前后省略按开头结尾）\n",
    "print(var[:])\n",
    "# 'Hello World!'（相当于复制）\n",
    "print(var[0:5:2])\n",
    "# 'Hlo'（2为步长，2的倍数取）\n",
    "print(var[1:7:3])\n",
    "# 'ello W‘ -> 'eo'\n",
    "print(var[::-1])\n",
    "# !dlroW olleH 实现反转字符功能"
   ]
  },
  {
   "cell_type": "markdown",
   "metadata": {},
   "source": [
    "## 字符的运算"
   ]
  },
  {
   "cell_type": "code",
   "execution_count": 40,
   "metadata": {
    "collapsed": false,
    "jupyter": {
     "outputs_hidden": false
    },
    "pycharm": {
     "name": "#%%\n"
    }
   },
   "outputs": [
    {
     "name": "stdout",
     "output_type": "stream",
     "text": [
      "goodbye\n",
      "goodgoodgood\n",
      "y\n",
      "y\n",
      "odb\n",
      "True\n",
      "False\n"
     ]
    }
   ],
   "source": [
    "print('good' + 'bye')\n",
    "# goodbye 拼接字符\n",
    "print('good' * 3)\n",
    "# goodgoodgood 重复3次\n",
    "print('bye'[1])\n",
    "# 'y' 取第2个索引位, 索引为1\n",
    "print('bye'[-2])\n",
    "# 'y' 取从右索引为-2的内容\n",
    "print('goodbye'[2:5])\n",
    "# 取一段，不包含右边索引位内容\n",
    "print('g' in 'goodbye')\n",
    "# True 成员运算，指定字段是否在目标字符里\n",
    "print('g' not in 'goodbye')\n",
    "# False 指定字段是否不在目标字符里"
   ]
  },
  {
   "cell_type": "markdown",
   "metadata": {},
   "source": [
    "## 字符转义\n",
    "字符中使用特殊字符时，可用反斜杠 \\ 转义字符，常用的转义符号如下："
   ]
  },
  {
   "cell_type": "code",
   "execution_count": 39,
   "metadata": {
    "collapsed": false,
    "jupyter": {
     "outputs_hidden": false
    },
    "pycharm": {
     "name": "#%%\n"
    }
   },
   "outputs": [
    {
     "name": "stdout",
     "output_type": "stream",
     "text": [
      "一行\n",
      "另一行\n",
      "一格\t另一格\n",
      "我中国人\n",
      "I 'm boy.\n",
      "看到反斜杠了么？\\\n"
     ]
    }
   ],
   "source": [
    "print(\"一行\\n另一行\")  # 换行\n",
    "print(\"一格\\t另一格\")  # 制表\n",
    "print(\"我是\\b中国人\")  # 退格，会删除「是」\n",
    "print('I \\'m boy.')  # 引号，双引号同\n",
    "print(\"看到反斜杠了么？\\\\\")  # 反斜杠"
   ]
  },
  {
   "cell_type": "markdown",
   "metadata": {},
   "source": [
    "## 字符常用函数"
   ]
  },
  {
   "cell_type": "code",
   "execution_count": 42,
   "metadata": {
    "collapsed": false,
    "jupyter": {
     "outputs_hidden": false
    },
    "pycharm": {
     "name": "#%%\n"
    }
   },
   "outputs": [
    {
     "name": "stdout",
     "output_type": "stream",
     "text": [
      "4\n",
      "Good\n",
      "['山', '水', '风', '雨']\n",
      "['', '山', '水', '风光']\n",
      "山-水-风-雨\n",
      "诗和远方\n"
     ]
    }
   ],
   "source": [
    "print(len('good'))\n",
    "# 4 字符的长度\n",
    "print('good'.replace('g', 'G'))\n",
    "# 'Good' 替换字符\n",
    "print('山-水-风-雨'.split('-'))\n",
    "# ['山', '水', '风', '雨'] 用指定字符分隔，默认空格\n",
    "print('好山好水好风光'.split('好'))\n",
    "# ['', '山', '水', '风光']\n",
    "print('-'.join(['山', '水', '风', '雨']))\n",
    "# '山-水-风-雨'\n",
    "print('和'.join(['诗', '远方']))\n",
    "# '诗和远方'"
   ]
  },
  {
   "cell_type": "code",
   "execution_count": 58,
   "metadata": {
    "collapsed": false,
    "jupyter": {
     "outputs_hidden": false
    },
    "pycharm": {
     "name": "#%%\n"
    }
   },
   "outputs": [
    {
     "data": {
      "text/plain": [
       "['Good\\n', 'bye\\n', 'bye']"
      ]
     },
     "execution_count": 58,
     "metadata": {},
     "output_type": "execute_result"
    }
   ],
   "source": [
    "import string\n",
    "\n",
    "'good'.upper()  # 'GOOD' 全转大写\n",
    "'GOOD'.lower()  # 'good' 全转小写\n",
    "'Good Bye'.swapcase()  # 'gOOD bYE' 大小写互换\n",
    "'good'.capitalize()  # 'Good' 首字母转大写\n",
    "'good'.islower()  # True 是否全是小写\n",
    "'good'.isupper()  # False 是否全是大写\n",
    "'good bYe'.title()  # 'Good Bye' 所有的单词首字母转为大写，且其他字母转小写\n",
    "'Good Bye'.istitle()  # True 检测所有的单词首字母是否为大写，且其他字母为小写\n",
    "\n",
    "'我和你'.endswith('你')  # True 是否以指定字符结尾\n",
    "'我和你'.startswith('你')  # False 是否以指定字符开始\n",
    "' and你'.isspace()  # False 是否全是空白字符\n",
    "\n",
    "'good'.center(10, '*')  # '***good***' 字符居中, 其余用指定字符填充, 共多少位\n",
    "'good'.ljust(10, '-')  # 'good------' 左对齐，默认是空格补全\n",
    "'good'.rjust(10, '-')  # '------good' 右对齐\n",
    "'good'.count('o')  # 2 指定字符在字符中的数量\n",
    "'good'.count('o', 2, 3)  # 1 在索引范围内字符出现的数量\n",
    "'3月'.zfill(3)  # '03月' 指定长宽，不够前边补 0\n",
    "\n",
    "max('good')  # 'o' 按最大字母顺序最大的字母\n",
    "min('good')  # 'd' 最小的字母\n",
    "\n",
    "'Good Good Study'.find('y')  # 14 返回指,定字符第一次出现的索引, 如果不包含返回-1\n",
    "'Good Good Study'.find('o', 3)  # 6 指定开始位第一次出现的索引, 如果不包返回-1\n",
    "'Good Good Study'.find('o', 2, 7)  # 2 指定区间内第一次出现的索引, 如果不包返回-1\n",
    "'Good Good Study'.find('up')  # -1 不包含返回-1\n",
    "\n",
    "'Good Bye'.index('d')  # 3 指定字符第一个索引\n",
    "# 'Good Bye'.index('s')  # 找不到会 ValueError 错误, 可以先 in 去判断是否包含\n",
    "\n",
    "# 去空格\n",
    "'Good bye'.strip('e')  # 去掉首尾指定字符, 默认去空格\n",
    "' Good bye '.lstrip()  # 'Good bye ' 去掉左边空格\n",
    "' Good bye '.rstrip()  # ' Good bye'去掉右边空格\n",
    "\n",
    "# 格式化, 此处推荐 f-string: https://www.gairuo.com/p/python-format-string\n",
    "name = 'wsy'\n",
    "f'{name}是好人'  # 'tom是好人' 推荐此方法, name = 'tom'\n",
    "'%s %s' % ('age', 18)  # 'age 18'\n",
    "'{}, {}'.format(18, 'age')  # '18 age'\n",
    "'{0}, {1}, {0}'.format('age', 18)  # 'age, 18, age'\n",
    "'{name}: {age}'.format(age=18, name='tom')  # 'tom: 18'\n",
    "\n",
    "# 分割连接\n",
    "# 按换行分隔，默认(False)不保留换行符\n",
    "'Good\\nbye\\nbye'.splitlines(True)  # ['Good\\n', 'bye\\n', 'bye']"
   ]
  },
  {
   "cell_type": "markdown",
   "metadata": {},
   "source": [
    "## 其他\n",
    "两个字符串相连或者空格间隔，会被认为是拼接后的字符串整体"
   ]
  },
  {
   "cell_type": "code",
   "execution_count": 45,
   "metadata": {
    "collapsed": false,
    "jupyter": {
     "outputs_hidden": false
    },
    "pycharm": {
     "name": "#%%\n"
    }
   },
   "outputs": [
    {
     "name": "stdout",
     "output_type": "stream",
     "text": [
      "ab\n",
      "ab\n"
     ]
    }
   ],
   "source": [
    "print('a' 'b')\n",
    "print('a''b')"
   ]
  },
  {
   "cell_type": "markdown",
   "metadata": {
    "pycharm": {
     "name": "#%% md\n"
    }
   },
   "source": [
    "列表、元组同样有效"
   ]
  },
  {
   "cell_type": "code",
   "execution_count": 46,
   "metadata": {
    "collapsed": false,
    "jupyter": {
     "outputs_hidden": false
    },
    "pycharm": {
     "name": "#%%\n"
    }
   },
   "outputs": [
    {
     "data": {
      "text/plain": [
       "['a', 'bc', 'd']"
      ]
     },
     "execution_count": 46,
     "metadata": {},
     "output_type": "execute_result"
    }
   ],
   "source": [
    "['a', 'b' 'c', 'd']"
   ]
  },
  {
   "cell_type": "code",
   "execution_count": 47,
   "metadata": {
    "collapsed": false,
    "jupyter": {
     "outputs_hidden": false
    },
    "pycharm": {
     "name": "#%%\n"
    }
   },
   "outputs": [
    {
     "data": {
      "text/plain": [
       "('a', 'b c', 'd')"
      ]
     },
     "execution_count": 47,
     "metadata": {},
     "output_type": "execute_result"
    }
   ],
   "source": [
    "('a', 'b c', 'd')"
   ]
  },
  {
   "cell_type": "markdown",
   "metadata": {
    "pycharm": {
     "name": "#%% md\n"
    }
   },
   "source": [
    "特别注意，圆括号（不是元组）的字符串仍然是一个字符："
   ]
  },
  {
   "cell_type": "code",
   "execution_count": 55,
   "metadata": {
    "collapsed": false,
    "jupyter": {
     "outputs_hidden": false
    },
    "pycharm": {
     "name": "#%%\n"
    }
   },
   "outputs": [
    {
     "data": {
      "text/plain": [
       "str"
      ]
     },
     "execution_count": 55,
     "metadata": {},
     "output_type": "execute_result"
    }
   ],
   "source": [
    "type('b' 'c')"
   ]
  },
  {
   "cell_type": "markdown",
   "metadata": {
    "pycharm": {
     "name": "#%% md\n"
    }
   },
   "source": [
    "# 布尔型 Boolean"
   ]
  },
  {
   "cell_type": "markdown",
   "metadata": {
    "pycharm": {
     "name": "#%% md\n"
    }
   },
   "source": [
    "## 布尔的取值情况\n",
    "检测变量，以下情况会得到假，其他情况为真\n",
    "* None, False\n",
    "* 数值中的 0，0.0， 0j（虚数），Decimal(0)，Fraction(0, 1)\n",
    "* 空字符串 \"\"、空元组 ()、空列表 []\n",
    "* 空字典 {}、空集合 set()\n",
    "* 类的对象特殊方法 __bool__() 返回 False 或是定义了 __len__() 方法返回 0"
   ]
  },
  {
   "cell_type": "code",
   "execution_count": 61,
   "metadata": {
    "collapsed": false,
    "jupyter": {
     "outputs_hidden": false
    },
    "pycharm": {
     "name": "#%%\n"
    }
   },
   "outputs": [
    {
     "name": "stdout",
     "output_type": "stream",
     "text": [
      "False\n",
      "False\n",
      "False\n",
      "False\n"
     ]
    }
   ],
   "source": [
    "print(bool(None))\n",
    "print(bool(0))\n",
    "print(bool([]))\n",
    "print(bool(()))"
   ]
  },
  {
   "cell_type": "markdown",
   "metadata": {
    "pycharm": {
     "name": "#%% md\n"
    }
   },
   "source": [
    "## 布尔运算\n",
    "优先级从低到高：或 or、与 and、非 not"
   ]
  },
  {
   "cell_type": "code",
   "execution_count": 65,
   "metadata": {
    "collapsed": false,
    "jupyter": {
     "outputs_hidden": false
    },
    "pycharm": {
     "name": "#%%\n"
    }
   },
   "outputs": [
    {
     "name": "stdout",
     "output_type": "stream",
     "text": [
      "0\n",
      "0\n",
      "1\n",
      "2\n",
      "0\n",
      "True\n",
      "True\n",
      "True\n",
      "True\n",
      "b\n"
     ]
    }
   ],
   "source": [
    "a = 0\n",
    "b = 1\n",
    "c = 2\n",
    "\n",
    "print(a and b)\n",
    "# 0 a 为假返回假的值\n",
    "print(b and a)\n",
    "# 0 b为真，返回a的值\n",
    "print(a or b)\n",
    "# 1 输出为真值的结果\n",
    "print(a and b or c)\n",
    "# 2\n",
    "print(a and (b or c))\n",
    "# 0 用类似数学中的括号提高运算优先级\n",
    "\n",
    "# not 的注意事项\n",
    "print(not a)\n",
    "# True\n",
    "print(not a == b)\n",
    "# True\n",
    "print(not (a == b))\n",
    "# True 同上逻辑\n",
    "# a == not b # ！这个是错误的语法, 正确如下：\n",
    "print(a == (not b))\n",
    "# True\n",
    "\n",
    "# and 优先级高 'a' 为真，返回 'b', '' or 'b' 返回 'b'\n",
    "print('' or 'a' and 'b')\n",
    "# 'b'"
   ]
  },
  {
   "cell_type": "markdown",
   "metadata": {},
   "source": [
    "## 比较运算\n",
    "对两个值或者变量进行比较，表达式成立返回 True，否则返回 False\n",
    "* <：小于\n",
    "* <=：小于等于\n",
    "* >：大于\n",
    "* >=：大于等于\n",
    "* ==：等于\n",
    "* ！=：不等于\n",
    "* is：是相同对象\n",
    "* is not：是不同对象"
   ]
  },
  {
   "cell_type": "code",
   "execution_count": 66,
   "metadata": {
    "collapsed": false,
    "jupyter": {
     "outputs_hidden": false
    },
    "pycharm": {
     "name": "#%%\n"
    }
   },
   "outputs": [
    {
     "name": "stdout",
     "output_type": "stream",
     "text": [
      "False\n",
      "False\n",
      "True\n",
      "True\n",
      "True\n",
      "False\n"
     ]
    }
   ],
   "source": [
    "a = 0\n",
    "b = 1\n",
    "c = 2\n",
    "\n",
    "print(a > b)\n",
    "# False\n",
    "print(a == b)\n",
    "# False\n",
    "print(b == (c - b))\n",
    "# True\n",
    "print(a != b)\n",
    "# True\n",
    "print(a < (b + c))\n",
    "# True\n",
    "print(a is not a)\n",
    "# False"
   ]
  },
  {
   "cell_type": "markdown",
   "metadata": {
    "pycharm": {
     "name": "#%% md\n"
    }
   },
   "source": [
    "# 列表 List"
   ]
  },
  {
   "cell_type": "markdown",
   "metadata": {
    "pycharm": {
     "name": "#%% md\n"
    }
   },
   "source": [
    "## 列表的结构"
   ]
  },
  {
   "cell_type": "code",
   "execution_count": 67,
   "metadata": {
    "collapsed": false,
    "jupyter": {
     "outputs_hidden": false
    },
    "pycharm": {
     "name": "#%%\n"
    }
   },
   "outputs": [
    {
     "data": {
      "text/plain": [
       "list"
      ]
     },
     "execution_count": 67,
     "metadata": {},
     "output_type": "execute_result"
    }
   ],
   "source": [
    "x = []  # 空列表\n",
    "x = [1, 2, 3, 4, 5]\n",
    "x = ['a', 'b', 'c']\n",
    "x = ['a', 1.5, True, [2, 3, 4]]  # 各种类型混杂\n",
    "type(x)  # list 类型检测"
   ]
  },
  {
   "cell_type": "markdown",
   "metadata": {},
   "source": [
    "## 类型转换"
   ]
  },
  {
   "cell_type": "code",
   "execution_count": 68,
   "metadata": {
    "collapsed": false,
    "jupyter": {
     "outputs_hidden": false
    },
    "pycharm": {
     "name": "#%%\n"
    }
   },
   "outputs": [
    {
     "data": {
      "text/plain": [
       "[('Name', 'Tom'), ('Age', 7), ('Class', 'First')]"
      ]
     },
     "execution_count": 68,
     "metadata": {},
     "output_type": "execute_result"
    }
   ],
   "source": [
    "# 字符串\n",
    "y = '1345'\n",
    "list(y)  # ['1', '3', '4', '5'] 将列表转换成列表\n",
    "\n",
    "# 元组\n",
    "z = ('a', 'b', 'c')\n",
    "list(z)  # ['a', 'b', 'c'] 将元组转换成列表\n",
    "\n",
    "# 字典\n",
    "d = {'Name': 'Tom', 'Age': 7, 'Class': 'First'}\n",
    "list(d)  # ['Name', 'Age', 'Class'] 字典 key 转成列表\n",
    "list(d.values())  # ['Tom', 7, 'First'] 字典 value 转成列表\n",
    "# 字典键值对（一个元组）转成列表\n",
    "list(d.items())  # [('Name', 'Tom'), ('Age', 7), ('Class', 'First')]"
   ]
  },
  {
   "cell_type": "markdown",
   "metadata": {},
   "source": [
    "## 索引读取"
   ]
  },
  {
   "cell_type": "code",
   "execution_count": 69,
   "metadata": {
    "collapsed": false,
    "jupyter": {
     "outputs_hidden": false
    },
    "pycharm": {
     "name": "#%%\n"
    }
   },
   "outputs": [
    {
     "name": "stdout",
     "output_type": "stream",
     "text": [
      "a\n",
      "f\n",
      "['d', 'e']\n",
      "['b', 'c', 'd', 'e']\n",
      "['d', 'e', 'f']\n",
      "['a', 'b', 'c', 'd', 'e', 'f']\n",
      "['a', 'c', 'e']\n",
      "['b', 'e']\n",
      "['f', 'e', 'd', 'c', 'b', 'a']\n"
     ]
    }
   ],
   "source": [
    "var = ['a', 'b', 'c', 'd', 'e', 'f']\n",
    "# 按索引取部分内容, 索引从0开始, 左必须小于右\n",
    "print(var[0])\n",
    "# 'a'\n",
    "# 从右开始索引从 -1 开始\n",
    "print(var[-1])\n",
    "# 'f'\n",
    "print(var[-3:-1])\n",
    "# ['d', 'e']\n",
    "print(var[1:5])\n",
    "# ['b', 'c', 'd', 'e']\n",
    "print(var[3:])\n",
    "# ['d', 'e', 'f']（前后省略按开头结尾）\n",
    "print(var[:])\n",
    "# ['a', 'b', 'c', 'd', 'e', 'f']（相当于复制）\n",
    "print(var[0:5:2])\n",
    "# ['a', 'c', 'e']（2为步长，2的倍数取）\n",
    "print(var[1:7:3])\n",
    "# ['b', 'e']\n",
    "print(var[::-1])\n",
    "# ['f', 'e', 'd', 'c', 'b', 'a'] 实现反转功能"
   ]
  },
  {
   "cell_type": "markdown",
   "metadata": {},
   "source": [
    "## 列表运算"
   ]
  },
  {
   "cell_type": "code",
   "execution_count": 71,
   "metadata": {
    "collapsed": false,
    "jupyter": {
     "outputs_hidden": false
    },
    "pycharm": {
     "name": "#%%\n"
    }
   },
   "outputs": [
    {
     "name": "stdout",
     "output_type": "stream",
     "text": [
      "['a', 'b', 'c', 'd']\n",
      "['a', 'b', 'a', 'b']\n",
      "True\n"
     ]
    }
   ],
   "source": [
    "print(['a', 'b'] + ['c', 'd'])\n",
    "# ['a', 'b', 'c', 'd'] 拼接\n",
    "print(['a', 'b'] * 2)\n",
    "# ['a', 'b', 'a', 'b''] 复制\n",
    "print('a' in ['a', 'b'])\n",
    "# True 指定元素在列表里"
   ]
  },
  {
   "cell_type": "markdown",
   "metadata": {},
   "source": [
    "## 常用操作"
   ]
  },
  {
   "cell_type": "markdown",
   "metadata": {},
   "source": [
    "常用方法："
   ]
  },
  {
   "cell_type": "code",
   "execution_count": 72,
   "metadata": {
    "collapsed": false,
    "jupyter": {
     "outputs_hidden": false
    },
    "pycharm": {
     "name": "#%%\n"
    }
   },
   "outputs": [
    {
     "name": "stdout",
     "output_type": "stream",
     "text": [
      "1\n",
      "2\n",
      "3\n"
     ]
    },
    {
     "data": {
      "text/plain": [
       "True"
      ]
     },
     "execution_count": 72,
     "metadata": {},
     "output_type": "execute_result"
    }
   ],
   "source": [
    "a = [1, 2, 3]\n",
    "len(a)  # 3 元素个数\n",
    "max(a)  # 3 最大值\n",
    "min(a)  # 1 最小值\n",
    "sum(a)  # 6 求和\n",
    "a.index(2)  # 1 指定元素位置\n",
    "a.count(1)  # 1 求元素的个数\n",
    "for i in a: print(i)  # 迭代元素\n",
    "sorted(a)  # 返回一个排序的列表，但不改变原列表\n",
    "any(a)  # True 是否至少有一个元素为真\n",
    "all(a)  # True 是否所有元素为真"
   ]
  },
  {
   "cell_type": "markdown",
   "metadata": {},
   "source": [
    "增加删除操作："
   ]
  },
  {
   "cell_type": "code",
   "execution_count": 75,
   "metadata": {
    "collapsed": false,
    "jupyter": {
     "outputs_hidden": false
    },
    "pycharm": {
     "name": "#%%\n"
    }
   },
   "outputs": [],
   "source": [
    "a = [1, 2, 3]\n",
    "a.append(4)  # a: [1, 2, 3, 4] 增加一个元素\n",
    "a.pop()  # 每执行一次删除最后一个元素\n",
    "a.extend([9, 8])  # a: [1, 2, 3, 9, 8] # 和其他列表合并\n",
    "a.insert(1, 'a')  # a: [1, 'a', 2, 3] 指定索引位插入元素\n",
    "a.remove('a')  # 删除第一个指定元素\n",
    "a.clear()  # [] 清空"
   ]
  },
  {
   "cell_type": "markdown",
   "metadata": {},
   "source": [
    "排序："
   ]
  },
  {
   "cell_type": "code",
   "execution_count": 74,
   "metadata": {
    "collapsed": false,
    "jupyter": {
     "outputs_hidden": false
    },
    "pycharm": {
     "name": "#%%\n"
    }
   },
   "outputs": [],
   "source": [
    "a.reverse()  # 反转顺序\n",
    "a.sort()  # 排序\n",
    "a.sort(reverse=True)  # 反序\n",
    "a.sort(key=abs)  # 传入函数关键字作为排序规则"
   ]
  },
  {
   "cell_type": "markdown",
   "metadata": {},
   "source": [
    "## 推导式\n",
    "推导式就是用 for 循环结合 if 表达式生成一个列表"
   ]
  },
  {
   "cell_type": "code",
   "execution_count": 76,
   "metadata": {
    "collapsed": false,
    "jupyter": {
     "outputs_hidden": false
    },
    "pycharm": {
     "name": "#%%\n"
    }
   },
   "outputs": [
    {
     "data": {
      "text/plain": [
       "[1, 0, 0, 1, 0]"
      ]
     },
     "execution_count": 76,
     "metadata": {},
     "output_type": "execute_result"
    }
   ],
   "source": [
    "# 将一个可迭代的对象展开形成一个列表\n",
    "[i for i in range(5)]\n",
    "# [0, 1, 2, 3, 4]\n",
    "\n",
    "# 可以将结果进行处理\n",
    "['第' + str(i) for i in range(5)]\n",
    "# ['第0', '第1', '第2', '第3', '第4']\n",
    "\n",
    "# 可以进行条件筛选, 实现取偶数\n",
    "[i for i in range(5) if i % 2 == 0]\n",
    "\n",
    "# 拆开字符, 过滤空格，全变成大写\n",
    "[i.upper() for i in 'Hello world' if i != ' ']\n",
    "# ['H', 'E', 'L', 'L', 'O', 'W', 'O', 'R', 'L', 'D']\n",
    "# 对于复杂逻辑可以分行编写\n",
    "[i.upper()\n",
    " for i in 'Hello world'\n",
    " if i != ' '\n",
    " ]\n",
    "\n",
    "# 条件分支\n",
    "data = ['good', 'bad', 'bad', 'good', 'bad']\n",
    "[1 if x == 'good' else 0 for x in data]\n",
    "# [1, 0, 0, 1, 0]"
   ]
  },
  {
   "cell_type": "markdown",
   "metadata": {
    "pycharm": {
     "name": "#%% md\n"
    }
   },
   "source": [
    "# 元组 Tuple"
   ]
  },
  {
   "cell_type": "markdown",
   "metadata": {
    "pycharm": {
     "name": "#%% md\n"
    }
   },
   "source": [
    "## 定义\n",
    "元组的结构和列表一样，元组用圆括号把所有项括起来，元素之间用逗号分隔："
   ]
  },
  {
   "cell_type": "code",
   "execution_count": 77,
   "metadata": {
    "collapsed": false,
    "jupyter": {
     "outputs_hidden": false
    },
    "pycharm": {
     "name": "#%%\n"
    }
   },
   "outputs": [],
   "source": [
    "a = ()  # 空元组\n",
    "a = (1,)  # 只有一个元素\n",
    "a = (1, 2, 3)  # 定义一个元组\n",
    "tuple()  # 生成空元组\n",
    "tuple('hello')  # ('h', 'e', 'l', 'l', 'o')\n",
    "type(a)  # tuple 元素检测\n",
    "\n",
    "# 没有括号也可以定义一个元组\n",
    "a = 1, 23, 4, 56  # a: (1, 23, 4, 56)\n",
    "a = 1,  # a: (1, )\n",
    "\n",
    "# 元组内元素可以混杂其他类型\n",
    "a = ('a', 1.5, True, [2, 3, 4])  # 各种类型混杂"
   ]
  },
  {
   "cell_type": "markdown",
   "metadata": {
    "pycharm": {
     "name": "#%% md\n"
    }
   },
   "source": [
    "## 索引读取"
   ]
  },
  {
   "cell_type": "markdown",
   "metadata": {
    "pycharm": {
     "name": "#%% md\n"
    }
   },
   "source": [
    "## 操作\n",
    "元组是不可修改的，只能修改混杂类型里的列表类型数据"
   ]
  },
  {
   "cell_type": "code",
   "execution_count": 86,
   "metadata": {
    "collapsed": false,
    "jupyter": {
     "outputs_hidden": false
    },
    "pycharm": {
     "name": "#%%\n"
    }
   },
   "outputs": [
    {
     "data": {
      "text/plain": [
       "('a', 1.5, True, [2, 3, 4, 5])"
      ]
     },
     "execution_count": 86,
     "metadata": {},
     "output_type": "execute_result"
    }
   ],
   "source": [
    "a = ('a', 1.5, True, [2, 3, 4])\n",
    "a[-1].append(5)\n",
    "a"
   ]
  },
  {
   "cell_type": "code",
   "execution_count": null,
   "metadata": {
    "collapsed": false,
    "jupyter": {
     "outputs_hidden": false
    },
    "pycharm": {
     "name": "#%%\n"
    }
   },
   "outputs": [],
   "source": [
    "del a\n",
    "# 删除元组"
   ]
  },
  {
   "cell_type": "markdown",
   "metadata": {
    "pycharm": {
     "name": "#%% md\n"
    }
   },
   "source": [
    "## 元组运算\n",
    "同列表"
   ]
  },
  {
   "cell_type": "markdown",
   "metadata": {
    "pycharm": {
     "name": "#%% md\n"
    }
   },
   "source": [
    "## 函数"
   ]
  },
  {
   "cell_type": "code",
   "execution_count": 89,
   "metadata": {
    "collapsed": false,
    "jupyter": {
     "outputs_hidden": false
    },
    "pycharm": {
     "name": "#%%\n"
    }
   },
   "outputs": [
    {
     "name": "stdout",
     "output_type": "stream",
     "text": [
      "1\n",
      "2\n",
      "3\n"
     ]
    },
    {
     "data": {
      "text/plain": [
       "True"
      ]
     },
     "execution_count": 89,
     "metadata": {},
     "output_type": "execute_result"
    }
   ],
   "source": [
    "a = (1, 2, 3)\n",
    "len(a)  # 3 元素个数\n",
    "max(a)  # 3 最大值\n",
    "min(a)  # 1 最小值\n",
    "sum(a)  # 6 求和\n",
    "a.count(1)  # 1 求元素的个数\n",
    "a.index(2)  # 1 指定元素位置\n",
    "for i in a: print(i)  # 迭代元素\n",
    "sorted(a)  # 返回一个排序的列表，但不改变原列表\n",
    "any(a)  # True 是否至少有一个元素为真\n",
    "all(a)  # True 是否所有元素为真\n",
    "# tuple.__dir__('') # 查看元组支持的所有函数和方法"
   ]
  },
  {
   "cell_type": "markdown",
   "metadata": {
    "pycharm": {
     "name": "#%% md\n"
    }
   },
   "source": [
    "## 推导式"
   ]
  },
  {
   "cell_type": "code",
   "execution_count": 94,
   "metadata": {
    "collapsed": false,
    "jupyter": {
     "outputs_hidden": false
    },
    "pycharm": {
     "name": "#%%\n"
    }
   },
   "outputs": [
    {
     "data": {
      "text/plain": [
       "(0, 1, 2)"
      ]
     },
     "execution_count": 94,
     "metadata": {},
     "output_type": "execute_result"
    }
   ],
   "source": [
    "t = tuple((i for i in range(3)))\n",
    "# t: (0, 1, 2)\n",
    "t"
   ]
  },
  {
   "cell_type": "markdown",
   "metadata": {},
   "source": [
    "## 元组解包 Unpacking"
   ]
  },
  {
   "cell_type": "code",
   "execution_count": 95,
   "metadata": {
    "collapsed": false,
    "jupyter": {
     "outputs_hidden": false
    },
    "pycharm": {
     "name": "#%%\n"
    }
   },
   "outputs": [],
   "source": [
    "x = (1, 2, 3, 4, 5)\n",
    "a, *b = x  # a 占第一个，剩余的组成列表全给 b\n",
    "# a -> 1\n",
    "# b -> [2, 3, 4, 5]\n",
    "# a, b -> (1, [2, 3, 4, 5])\n",
    "\n",
    "a, *b, c = x  # a 占第一个，c 占最后一个, 剩余的组成列表全给 b\n",
    "# a -> 1\n",
    "# b -> [2, 3, 4]\n",
    "# c -> 5\n",
    "# a, b, c -> (1, [2, 3, 4], 5)"
   ]
  },
  {
   "cell_type": "markdown",
   "metadata": {
    "pycharm": {
     "name": "#%% md\n"
    }
   },
   "source": [
    "## 命名元组 namedtuple"
   ]
  },
  {
   "cell_type": "code",
   "execution_count": 101,
   "metadata": {
    "collapsed": false,
    "jupyter": {
     "outputs_hidden": false
    },
    "pycharm": {
     "name": "#%%\n"
    }
   },
   "outputs": [
    {
     "name": "stdout",
     "output_type": "stream",
     "text": [
      "Girl(name='lily', age=10)\n",
      "<class '__main__.Girl'>\n"
     ]
    }
   ],
   "source": [
    "from collections import namedtuple\n",
    "\n",
    "Girl = namedtuple('Girl', ['name', 'age'])\n",
    "\n",
    "lily = Girl('lily', 10)\n",
    "lily.name  # lily\n",
    "lily.age  # 10\n",
    "\n",
    "print(lily)\n",
    "# Girl(name='lily', age=10)\n",
    "print(type(lily))\n",
    "# __main__.Girl\n",
    "\n",
    "# 不能被修改\n",
    "# lily.age = 12\n",
    "# AttributeError: \"can't set attribute\""
   ]
  },
  {
   "cell_type": "markdown",
   "metadata": {
    "pycharm": {
     "name": "#%% md\n"
    }
   },
   "source": [
    "## 字面值\n",
    "注意决定生成元组的其实是逗号而不是圆括号， 圆括号只是可选的，生成空元组或需要避免语法歧义的情况除外\n",
    "例如，f(a, b, c) 是在调用函数时附带三个参数，而 f((a, b, c)) 则是在调用函数时附带一个三元组。以下方式都可以构建一个元组：\n",
    "* 使用一对圆括号表示空元组：()\n",
    "* 使用一个后缀的逗号来表示单元组：a, 或(a,)\n",
    "* 使用以逗号分隔的多个项：a, b, c or (a, b, c)\n",
    "* 使用内置的 tuple()：tuple() 或 tuple(iterable)"
   ]
  },
  {
   "cell_type": "markdown",
   "metadata": {
    "pycharm": {
     "name": "#%% md\n"
    }
   },
   "source": [
    "# 字典 Dictionary"
   ]
  },
  {
   "cell_type": "markdown",
   "metadata": {
    "pycharm": {
     "name": "#%% md\n"
    }
   },
   "source": [
    "## 结构定义\n",
    "基本结构：\n",
    "\n",
    "{k1:v1, k2:v2, k3:v3, k4:v4, ...}\n",
    "\n",
    "* 用花括号括起来\n",
    "* 每个元素结构为 k:v\n",
    "* 元素之间用逗号隔开\n",
    "* k 不能重复，但不报错，最后的会覆盖\n",
    "* k 的取值一般是字符、数字等，像元组其实也是可以的，基本没有使用场景\n",
    "* v 的取值可以是字符、数字、元组、列表、字典等所有类型"
   ]
  },
  {
   "cell_type": "code",
   "execution_count": 208,
   "metadata": {
    "collapsed": false,
    "jupyter": {
     "outputs_hidden": false
    },
    "pycharm": {
     "name": "#%%\n"
    }
   },
   "outputs": [
    {
     "data": {
      "text/plain": [
       "{'name': 'Tom', 'age': 18, 'height': 180}"
      ]
     },
     "execution_count": 208,
     "metadata": {},
     "output_type": "execute_result"
    }
   ],
   "source": [
    "d = {}  # 定义空字典\n",
    "d = dict()  # 定义空字典\n",
    "d = {'a': 1, 'b': 2, 'c': 3}\n",
    "d = {'a': 1, 'a': 1, 'a': 1}  # { 'a': 1} key 不能重复, 取最后一个\n",
    "d = {'a': 1, 'b': {'x': 3}}  # 嵌套字典\n",
    "d = {'a': [1, 2, 3], 'b': [4, 5, 6]}  # 嵌套列表\n",
    "\n",
    "# 以下均可定义如下结果\n",
    "# {'name': 'Tom', 'age': 18, 'height': 180}\n",
    "d = dict(name='Tom', age=18, height=180)\n",
    "d = dict([('name', 'Tom'), ('age', 18), ('height', 180)])\n",
    "d = dict(zip(['name', 'age', 'height'], ['Tom', 18, 180]))\n",
    "d"
   ]
  },
  {
   "cell_type": "markdown",
   "metadata": {
    "pycharm": {
     "name": "#%% md\n"
    }
   },
   "source": [
    "## 访问读取"
   ]
  },
  {
   "cell_type": "code",
   "execution_count": 209,
   "metadata": {
    "collapsed": false,
    "jupyter": {
     "outputs_hidden": false
    },
    "pycharm": {
     "name": "#%%\n"
    }
   },
   "outputs": [
    {
     "name": "stdout",
     "output_type": "stream",
     "text": [
      "Tom\n",
      "180\n",
      "5\n",
      "18\n"
     ]
    }
   ],
   "source": [
    "print(d['name'])\n",
    "# 'Tom' 获取键的值\n",
    "d['age'] = 20  # 将 age 的值更新为 20\n",
    "d['Female'] = 'man'  # 增加属性\n",
    "print(d.get('height', 180))\n",
    "# 180\n",
    "\n",
    "# 嵌套取值\n",
    "d = {'a': {'name': 'Tom', 'age':18}, 'b': [4,5,6]}\n",
    "print(d['b'][1])\n",
    "# 5\n",
    "print(d['a']['age'])\n",
    "# 18"
   ]
  },
  {
   "cell_type": "markdown",
   "metadata": {
    "pycharm": {
     "name": "#%% md\n"
    }
   },
   "source": [
    "## 逻辑运算"
   ]
  },
  {
   "cell_type": "code",
   "execution_count": 211,
   "metadata": {
    "collapsed": false,
    "jupyter": {
     "outputs_hidden": false
    },
    "pycharm": {
     "name": "#%%\n"
    }
   },
   "outputs": [
    {
     "name": "stdout",
     "output_type": "stream",
     "text": [
      "True\n"
     ]
    },
    {
     "data": {
      "text/plain": [
       "False"
      ]
     },
     "execution_count": 211,
     "metadata": {},
     "output_type": "execute_result"
    }
   ],
   "source": [
    "print('a' in d)\n",
    "# True 'a' 作为 k 在 d 中\n",
    "2 in d # False"
   ]
  },
  {
   "cell_type": "markdown",
   "metadata": {
    "pycharm": {
     "name": "#%% md\n"
    }
   },
   "source": [
    "## 常用函数"
   ]
  },
  {
   "cell_type": "code",
   "execution_count": 217,
   "metadata": {
    "collapsed": false,
    "jupyter": {
     "outputs_hidden": false
    },
    "pycharm": {
     "name": "#%%\n"
    }
   },
   "outputs": [
    {
     "data": {
      "text/plain": [
       "{'a': 1, 'c': 2, 'd': 3}"
      ]
     },
     "execution_count": 217,
     "metadata": {},
     "output_type": "execute_result"
    }
   ],
   "source": [
    "d = dict(zip(['name', 'age', 'height'], ['Tom', 18, 180]))\n",
    "d.pop('name')  # 'Tom' 删除指定 key\n",
    "d.popitem()  # 随机删除某一项\n",
    "# del d['name']  # 删除键值对\n",
    "d.clear()  # 清空字典\n",
    "\n",
    "# 按类型访问，可迭代\n",
    "d.keys()  # 列出所有 key\n",
    "d.values()  # 列出所有 值\n",
    "d.items()  # 列出所有值对元组（k, v）\n",
    "\n",
    "# 操作\n",
    "d.setdefault('a', 3)  # 插入一个键，给字默认值, 不指定为 None\n",
    "# d1.update(dict2)  # 将字典 dict2 的键值对添加到字典 dict\n",
    "# 对于键(key)存在则返回其对应值，如果键不在字典中，则返回默认值\n",
    "d.get('math', 100)  # 100\n",
    "# d2 = d.copy()  # 深拷贝, d 变化不影响 d2\n",
    "\n",
    "# update 更新方式\n",
    "d = {}\n",
    "d.update(a=1)\n",
    "d.update(c=2, d=3)\n",
    "d\n",
    "# {'a': 1, 'c': 2, 'd': 3}"
   ]
  },
  {
   "cell_type": "markdown",
   "metadata": {
    "pycharm": {
     "name": "#%% md\n"
    }
   },
   "source": [
    "其他函数："
   ]
  },
  {
   "cell_type": "code",
   "execution_count": 191,
   "metadata": {
    "collapsed": false,
    "jupyter": {
     "outputs_hidden": false
    },
    "pycharm": {
     "name": "#%%\n"
    }
   },
   "outputs": [
    {
     "data": {
      "text/plain": [
       "['a', 'b', 'c']"
      ]
     },
     "execution_count": 191,
     "metadata": {},
     "output_type": "execute_result"
    }
   ],
   "source": [
    "d = {'a': 1, 'b': 2, 'c': 3}\n",
    "max(d)  # 'c' 最大的 k\n",
    "min(d)  # 'a' 最小的 k\n",
    "len(d)  # 3 字典的长度\n",
    "str(d)  # \"{'a': 1, 'b': 2, 'c': 3}\" 字符串形式\n",
    "any(d)  # True 只要一个键为 True\n",
    "all(d)  # True 所有键都为 True\n",
    "sorted(d)  # ['a', 'b', 'c'] 所有key当列表排序"
   ]
  },
  {
   "cell_type": "markdown",
   "metadata": {
    "pycharm": {
     "name": "#%% md\n"
    }
   },
   "source": [
    "## 遍历"
   ]
  },
  {
   "cell_type": "code",
   "execution_count": 186,
   "metadata": {
    "collapsed": false,
    "jupyter": {
     "outputs_hidden": false
    },
    "pycharm": {
     "name": "#%%\n"
    }
   },
   "outputs": [
    {
     "name": "stdout",
     "output_type": "stream",
     "text": [
      "a\n",
      "b\n",
      "c\n"
     ]
    }
   ],
   "source": [
    "d = {'a': 1, 'b': 2, 'c': 3}\n",
    "for i in d:\n",
    "    print(i)\n",
    "# a\n",
    "# b\n",
    "# c"
   ]
  },
  {
   "cell_type": "code",
   "execution_count": 187,
   "metadata": {
    "collapsed": false,
    "jupyter": {
     "outputs_hidden": false
    },
    "pycharm": {
     "name": "#%%\n"
    }
   },
   "outputs": [
    {
     "name": "stdout",
     "output_type": "stream",
     "text": [
      "a\n",
      "b\n",
      "c\n"
     ]
    }
   ],
   "source": [
    "# 遍历 key\n",
    "for i in d.keys():\n",
    "    print(i)\n",
    "# 结果同上"
   ]
  },
  {
   "cell_type": "code",
   "execution_count": 188,
   "metadata": {
    "collapsed": false,
    "jupyter": {
     "outputs_hidden": false
    },
    "pycharm": {
     "name": "#%%\n"
    }
   },
   "outputs": [
    {
     "name": "stdout",
     "output_type": "stream",
     "text": [
      "1\n",
      "2\n",
      "3\n"
     ]
    }
   ],
   "source": [
    "# 遍历值\n",
    "for i in d.values():\n",
    "    print(i)\n",
    "# 1\n",
    "# 2\n",
    "# 3"
   ]
  },
  {
   "cell_type": "code",
   "execution_count": 189,
   "metadata": {
    "collapsed": false,
    "jupyter": {
     "outputs_hidden": false
    },
    "pycharm": {
     "name": "#%%\n"
    }
   },
   "outputs": [
    {
     "name": "stdout",
     "output_type": "stream",
     "text": [
      "('a', 1)\n",
      "('b', 2)\n",
      "('c', 3)\n"
     ]
    }
   ],
   "source": [
    "# 遍历键值组成元组\n",
    "for i in d.items():\n",
    "    print(i)\n",
    "# ('a', 1)\n",
    "# ('b', 2)\n",
    "# ('c', 0)"
   ]
  },
  {
   "cell_type": "code",
   "execution_count": 190,
   "metadata": {
    "collapsed": false,
    "jupyter": {
     "outputs_hidden": false
    },
    "pycharm": {
     "name": "#%%\n"
    }
   },
   "outputs": [
    {
     "name": "stdout",
     "output_type": "stream",
     "text": [
      "a 1\n",
      "b 2\n",
      "c 3\n"
     ]
    }
   ],
   "source": [
    "# 分别取键值遍历\n",
    "for k, v in d.items():\n",
    "    print(k, v)\n",
    "# a 1\n",
    "# b 2\n",
    "# c 0"
   ]
  },
  {
   "cell_type": "markdown",
   "metadata": {
    "pycharm": {
     "name": "#%% md\n"
    }
   },
   "source": [
    "## 合并"
   ]
  },
  {
   "cell_type": "code",
   "execution_count": 185,
   "metadata": {
    "collapsed": false,
    "jupyter": {
     "outputs_hidden": false
    },
    "pycharm": {
     "name": "#%%\n"
    }
   },
   "outputs": [
    {
     "name": "stdout",
     "output_type": "stream",
     "text": [
      "{'a': 1, 'b': 3, 'c': 4}\n",
      "{'b': 2, 'c': 4, 'a': 1}\n"
     ]
    }
   ],
   "source": [
    "x = {'a': 1, 'b': 2}\n",
    "y = {'b': 3, 'c': 4}\n",
    "z = {**x, **y}\n",
    "print(z)\n",
    "z = {**y, **x}\n",
    "print(z)\n",
    "# {'c': 4, 'a': 1, 'b': 3}\n",
    "# {**y, **x} 试试调换位置"
   ]
  },
  {
   "cell_type": "markdown",
   "metadata": {
    "pycharm": {
     "name": "#%% md\n"
    }
   },
   "source": [
    "## 推导式"
   ]
  },
  {
   "cell_type": "code",
   "execution_count": 177,
   "metadata": {
    "collapsed": false,
    "jupyter": {
     "outputs_hidden": false
    },
    "pycharm": {
     "name": "#%%\n"
    }
   },
   "outputs": [
    {
     "name": "stdout",
     "output_type": "stream",
     "text": [
      "{1: 10, 2: 20, 3: 30, 4: 40}\n",
      "{'name': 'Tom', 'age': 18, 'height': 180}\n"
     ]
    },
    {
     "data": {
      "text/plain": [
       "{'Tom': 'name', 18: 'age', 180: 'height'}"
      ]
     },
     "execution_count": 177,
     "metadata": {},
     "output_type": "execute_result"
    }
   ],
   "source": [
    "d = {i: i * 10 for i in range(1, 5)}\n",
    "# {1: 10, 2: 20, 3: 30, 4: 40}\n",
    "print(d)\n",
    "\n",
    "d = {'name': 'Tom', 'age': 18, 'height': 180}\n",
    "print(d)\n",
    "# 键值互换\n",
    "{v: k for k, v in d.items()}\n",
    "# {'Tom': 'name', 18: 'age', 180: 'height'}"
   ]
  },
  {
   "cell_type": "markdown",
   "metadata": {
    "pycharm": {
     "name": "#%% md\n"
    }
   },
   "source": [
    "## 做逻辑分支"
   ]
  },
  {
   "cell_type": "code",
   "execution_count": 173,
   "metadata": {
    "collapsed": false,
    "jupyter": {
     "outputs_hidden": false
    },
    "pycharm": {
     "name": "#%%\n"
    }
   },
   "outputs": [
    {
     "name": "stdout",
     "output_type": "stream",
     "text": [
      "case1\n",
      "36\n"
     ]
    }
   ],
   "source": [
    "route = {True: 'case1', False: 'case2'}  # 定义路由\n",
    "print(route[7 > 6])\n",
    "# 'case1' 传入结果为布尔的变量、表达式、函数调用\n",
    "\n",
    "# 定义计算方法\n",
    "cal = {'+': lambda x, y: x + y, '*': lambda x, y: x * y}\n",
    "print(cal['*'](4, 9))\n",
    "# 36 使用"
   ]
  },
  {
   "cell_type": "markdown",
   "metadata": {
    "pycharm": {
     "name": "#%% md\n"
    }
   },
   "source": [
    "# 集合 Set"
   ]
  },
  {
   "cell_type": "markdown",
   "metadata": {
    "pycharm": {
     "name": "#%% md\n"
    }
   },
   "source": [
    "## 结构和定义\n",
    "集合里不能有列表、集合、字典等可变的内容。无法更改集合里的元素，但可以添加新元素。"
   ]
  },
  {
   "cell_type": "code",
   "execution_count": 108,
   "metadata": {
    "collapsed": false,
    "jupyter": {
     "outputs_hidden": false
    },
    "pycharm": {
     "name": "#%%\n"
    }
   },
   "outputs": [
    {
     "name": "stdout",
     "output_type": "stream",
     "text": [
      "{1, 2, 3, 4, 5}\n",
      "{1, 'a'}\n",
      "{1}\n"
     ]
    },
    {
     "data": {
      "text/plain": [
       "set"
      ]
     },
     "execution_count": 108,
     "metadata": {},
     "output_type": "execute_result"
    }
   ],
   "source": [
    "s = {'5元', '10元', '20元'}  # 定义集合\n",
    "s = set()  # 空集合\n",
    "s = set([1, 2, 3, 4, 5])\n",
    "# {1, 2, 3, 4, 5} 使用列表定义\n",
    "print(s)\n",
    "s = {1, True, 'a'}\n",
    "print(s)\n",
    "s = {1, 1, 1}\n",
    "print(s)\n",
    "#{1} 去重\n",
    "type(s)  # set 类型检测"
   ]
  },
  {
   "cell_type": "markdown",
   "metadata": {},
   "source": [
    "我们不能使用 {} 语法创建空集，因为它会创建一个空字典。要创建一个空集，我们使用 set()\n",
    "定义集合时的每个元素必须是不可变对象，如列表作为元素时会报错："
   ]
  },
  {
   "cell_type": "code",
   "execution_count": 111,
   "metadata": {
    "collapsed": false,
    "jupyter": {
     "outputs_hidden": false
    },
    "pycharm": {
     "name": "#%%\n"
    }
   },
   "outputs": [],
   "source": [
    "# set = {[1,2], 2}\n",
    "# TypeError: unhashable type: 'list'"
   ]
  },
  {
   "cell_type": "markdown",
   "metadata": {},
   "source": [
    "## 访问\n",
    "集合没有顺序没有索引，所以无法指定位置去访问，但可以用遍历的方式去读取"
   ]
  },
  {
   "cell_type": "code",
   "execution_count": 114,
   "metadata": {
    "collapsed": false,
    "jupyter": {
     "outputs_hidden": false
    },
    "pycharm": {
     "name": "#%%\n"
    }
   },
   "outputs": [
    {
     "name": "stdout",
     "output_type": "stream",
     "text": [
      "a\n",
      "c\n",
      "b\n"
     ]
    }
   ],
   "source": [
    "s = {'a', 'b', 'c'}\n",
    "for i in s:\n",
    "    print(i)"
   ]
  },
  {
   "cell_type": "markdown",
   "metadata": {},
   "source": [
    "## 运算操作\n",
    "判断是否有某个元素"
   ]
  },
  {
   "cell_type": "code",
   "execution_count": 115,
   "metadata": {
    "collapsed": false,
    "jupyter": {
     "outputs_hidden": false
    },
    "pycharm": {
     "name": "#%%\n"
    }
   },
   "outputs": [
    {
     "data": {
      "text/plain": [
       "True"
      ]
     },
     "execution_count": 115,
     "metadata": {},
     "output_type": "execute_result"
    }
   ],
   "source": [
    "s = {'a', 'b', 'c'}\n",
    "'a' in s"
   ]
  },
  {
   "cell_type": "markdown",
   "metadata": {
    "pycharm": {
     "name": "#%% md\n"
    }
   },
   "source": [
    "添加元素"
   ]
  },
  {
   "cell_type": "code",
   "execution_count": 118,
   "metadata": {
    "collapsed": false,
    "jupyter": {
     "outputs_hidden": false
    },
    "pycharm": {
     "name": "#%%\n"
    }
   },
   "outputs": [
    {
     "name": "stdout",
     "output_type": "stream",
     "text": [
      "{2, 'a', 'c', 'b'}\n",
      "{1, 2, 3, 4, 'b', 'a', 'c'}\n"
     ]
    }
   ],
   "source": [
    "s = {'a', 'b', 'c'}\n",
    "s.add(2)\n",
    "print(s)\n",
    "s.update([1, 3, 4])\n",
    "print(s)"
   ]
  },
  {
   "cell_type": "markdown",
   "metadata": {},
   "source": [
    "删除清空元素"
   ]
  },
  {
   "cell_type": "code",
   "execution_count": 122,
   "metadata": {
    "collapsed": false,
    "jupyter": {
     "outputs_hidden": false
    },
    "pycharm": {
     "name": "#%%\n"
    }
   },
   "outputs": [
    {
     "name": "stdout",
     "output_type": "stream",
     "text": [
      "{'c', 'b'}\n",
      "{'c', 'b'}\n",
      "set()\n"
     ]
    }
   ],
   "source": [
    "s = {'a', 'b', 'c'}\n",
    "s.remove('a')\n",
    "print(s)\n",
    "# 删除不存在的会报错\n",
    "s.discard('3')\n",
    "print(s)\n",
    "# 删除一个元素，无则忽略不报错\n",
    "s.clear()\n",
    "print(s)\n",
    "# set清空"
   ]
  },
  {
   "cell_type": "markdown",
   "metadata": {
    "pycharm": {
     "name": "#%% md\n"
    }
   },
   "source": [
    "## 函数\n",
    "支持关于容器类型的通用操作"
   ]
  },
  {
   "cell_type": "code",
   "execution_count": 124,
   "metadata": {
    "collapsed": false,
    "jupyter": {
     "outputs_hidden": false
    },
    "pycharm": {
     "name": "#%%\n"
    }
   },
   "outputs": [],
   "source": [
    "s = {'a', 'b', 'c'}\n",
    "len(s)  # 3 长度\n",
    "max(s)  # 'c' 最大值\n",
    "min(s)  # 'a' 最小值\n",
    "any(s)  # True 是否有一真\n",
    "all(s)  # True 是否全真\n",
    "sorted(s)  # ['a', 'b', 'c'] 返回排序后的列表\n",
    "s.pop()  # 'b' 删除最后一个，因为无序所以随机\n",
    "s2 = s.copy()  # 深拷贝, s 变化不影响 s2"
   ]
  },
  {
   "cell_type": "markdown",
   "metadata": {
    "pycharm": {
     "name": "#%% md\n"
    }
   },
   "source": [
    "## 数学集合运算"
   ]
  },
  {
   "cell_type": "code",
   "execution_count": 156,
   "metadata": {
    "collapsed": false,
    "jupyter": {
     "outputs_hidden": false
    },
    "pycharm": {
     "name": "#%%\n"
    }
   },
   "outputs": [
    {
     "name": "stdout",
     "output_type": "stream",
     "text": [
      "{2, 3}\n",
      "{1, 2, 3}\n",
      "{2, 3}\n",
      "{1, 2, 3, 4}\n",
      "{1, 2, 3, 4}\n",
      "{1}\n",
      "None\n",
      "{1, 2, 3, 4}\n",
      "True\n",
      "False\n",
      "False\n"
     ]
    }
   ],
   "source": [
    "s1 = {1, 2, 3}\n",
    "s2 = {2, 3, 4}\n",
    "\n",
    "print(s1 & s2)\n",
    "# {2, 3} 交集\n",
    "s1.intersection(s2)  # {2, 3} 交集\n",
    "print(s1)\n",
    "s1.intersection_update(s2)  # {2, 3} 交集, 会覆盖 s1\n",
    "print(s1)\n",
    "\n",
    "s1 = {1, 2, 3}\n",
    "s2 = {2, 3, 4}\n",
    "print(s1 | s2)\n",
    "# {1, 2, 3, 4} 并集\n",
    "print(s1.union(s2))\n",
    "# {1, 2, 3, 4} 并集\n",
    "print(s1.difference(s2))\n",
    "# {1} 差集\n",
    "print(s1.difference_update(s2))\n",
    "# {1} 差集, 会覆盖 s1\n",
    "print(s1.symmetric_difference(s2))\n",
    "# {1, 4} 交集之外\n",
    "print(s1.isdisjoint(s2))\n",
    "# False 是否没有交集\n",
    "print(s1.issubset(s2))\n",
    "# False s2 是否 s1 的子集\n",
    "print(s1.issuperset(s2))\n",
    "# False s1 是否 s2 的超集, 即 s1 是否包含 s2 的所有元素"
   ]
  },
  {
   "cell_type": "markdown",
   "metadata": {
    "pycharm": {
     "name": "#%% md\n"
    }
   },
   "source": [
    "# 序列类型"
   ]
  },
  {
   "cell_type": "markdown",
   "metadata": {},
   "source": [
    "python 内置序列类型有：list()、tuple()、range()、str()、bytes()、bytearray()、memoryview()"
   ]
  },
  {
   "cell_type": "code",
   "execution_count": 157,
   "metadata": {
    "collapsed": false,
    "jupyter": {
     "outputs_hidden": false
    },
    "pycharm": {
     "name": "#%%\n"
    }
   },
   "outputs": [
    {
     "data": {
      "text/plain": [
       "False"
      ]
     },
     "execution_count": 157,
     "metadata": {},
     "output_type": "execute_result"
    }
   ],
   "source": [
    "# 判断数据是不是序列类型\n",
    "from collections import abc\n",
    "\n",
    "a = [1, 2, 3]\n",
    "b = {1, 2, 3}\n",
    "c = (1, 2, 3)\n",
    "\n",
    "isinstance(a, abc.Sequence)\n",
    "# True\n",
    "isinstance(b, abc.Sequence)\n",
    "# False\n",
    "\n",
    "# 可变类型\n",
    "isinstance(a, abc.MutableSequence)\n",
    "# True\n",
    "isinstance(c, abc.MutableSequence)\n",
    "# False"
   ]
  },
  {
   "cell_type": "markdown",
   "metadata": {
    "pycharm": {
     "name": "#%% md\n"
    }
   },
   "source": [
    "## 序列操作"
   ]
  },
  {
   "cell_type": "markdown",
   "metadata": {
    "pycharm": {
     "name": "#%% md\n"
    }
   },
   "source": [
    "### 通用操作"
   ]
  },
  {
   "cell_type": "markdown",
   "metadata": {
    "pycharm": {
     "name": "#%% md\n"
    }
   },
   "source": [
    "### 可变序列类型"
   ]
  },
  {
   "cell_type": "markdown",
   "metadata": {
    "pycharm": {
     "name": "#%% md\n"
    }
   },
   "source": [
    "## 实现实例"
   ]
  },
  {
   "cell_type": "code",
   "execution_count": 160,
   "metadata": {
    "collapsed": false,
    "jupyter": {
     "outputs_hidden": false
    },
    "pycharm": {
     "name": "#%%\n"
    }
   },
   "outputs": [],
   "source": [
    "class Bag():\n",
    "    def __init__(self, name, contents) -> None:\n",
    "        self.name = name\n",
    "        self.contents = contents\n",
    "\n",
    "    def __repr__(self) -> str:\n",
    "        return f'<Bag: {self.name}>'\n",
    "\n",
    "    def __len__(self):\n",
    "        return len(self.contents)\n",
    "\n",
    "    def __getitem__(self, idx):\n",
    "        return self.contents[idx]"
   ]
  },
  {
   "cell_type": "code",
   "execution_count": 161,
   "metadata": {
    "collapsed": false,
    "jupyter": {
     "outputs_hidden": false
    },
    "pycharm": {
     "name": "#%%\n"
    }
   },
   "outputs": [
    {
     "data": {
      "text/plain": [
       "<Bag: wallet>"
      ]
     },
     "execution_count": 161,
     "metadata": {},
     "output_type": "execute_result"
    }
   ],
   "source": [
    "# 实例化为一个钱包\n",
    "w = Bag('wallet', [1, 5, 10, 20, 100])\n",
    "w\n",
    "# <Bag: wallet>"
   ]
  },
  {
   "cell_type": "code",
   "execution_count": 167,
   "metadata": {
    "collapsed": false,
    "jupyter": {
     "outputs_hidden": false
    },
    "pycharm": {
     "name": "#%%\n"
    }
   },
   "outputs": [
    {
     "name": "stdout",
     "output_type": "stream",
     "text": [
      "100\n",
      "5\n",
      "100\n",
      "True\n",
      "1\n",
      "5\n",
      "10\n",
      "20\n",
      "100\n",
      "125082982057\n",
      "True\n",
      "[1, 5, 10, 20, 100]\n",
      "[100, 20, 10, 5, 1]\n",
      "<iterator object at 0x000001D1F88216D0>\n"
     ]
    }
   ],
   "source": [
    "print(max(w))\n",
    "# 100\n",
    "print(len(w))\n",
    "# 5\n",
    "print(w[-1])\n",
    "# 100\n",
    "print(10 in w)\n",
    "# True\n",
    "for i in w: print(i)\n",
    "'''\n",
    "1\n",
    "5\n",
    "10\n",
    "20\n",
    "100\n",
    "'''\n",
    "print(hash(w))\n",
    "# 8766419859204\n",
    "print(all(w))\n",
    "# True\n",
    "print(sorted(w))\n",
    "# [1, 5, 10, 20, 100]\n",
    "print([*reversed(w)])\n",
    "# [100, 20, 10, 5, 1]\n",
    "print(iter(w))\n",
    "# <iterator at 0x7f91757771f0>"
   ]
  }
 ],
 "metadata": {
  "kernelspec": {
   "display_name": "Python 3 (ipykernel)",
   "language": "python",
   "name": "python3"
  },
  "language_info": {
   "codemirror_mode": {
    "name": "ipython",
    "version": 3
   },
   "file_extension": ".py",
   "mimetype": "text/x-python",
   "name": "python",
   "nbconvert_exporter": "python",
   "pygments_lexer": "ipython3",
   "version": "3.10.1"
  }
 },
 "nbformat": 4,
 "nbformat_minor": 4
}
