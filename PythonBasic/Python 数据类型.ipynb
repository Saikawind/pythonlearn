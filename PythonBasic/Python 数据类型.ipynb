{
 "cells": [
  {
   "cell_type": "markdown",
   "source": [
    "# 数据类型介绍"
   ],
   "metadata": {
    "collapsed": false
   }
  },
  {
   "cell_type": "markdown",
   "source": [
    "常用数据类型：str, number, boolean, list, tuple, dict, set"
   ],
   "metadata": {
    "collapsed": false,
    "pycharm": {
     "name": "#%% md\n"
    }
   }
  },
  {
   "cell_type": "markdown",
   "source": [
    "## 可变与不可变\n",
    "* 不可变数据：Number、Str、Tuple\n",
    "* 可变数据：List、Dict、Set"
   ],
   "metadata": {
    "collapsed": false,
    "pycharm": {
     "name": "#%% md\n"
    }
   }
  },
  {
   "cell_type": "markdown",
   "source": [
    "## 数据类型判断"
   ],
   "metadata": {
    "collapsed": false,
    "pycharm": {
     "name": "#%% md\n"
    }
   }
  },
  {
   "cell_type": "code",
   "execution_count": 4,
   "outputs": [
    {
     "name": "stdout",
     "output_type": "stream",
     "text": [
      "<class 'int'>\n",
      "<class 'str'>\n"
     ]
    }
   ],
   "source": [
    "print(type(123))\n",
    "# int\n",
    "\n",
    "a = \"Hello\"\n",
    "print(type(a))\n",
    "# str"
   ],
   "metadata": {
    "collapsed": false,
    "pycharm": {
     "name": "#%%\n"
    }
   }
  },
  {
   "cell_type": "markdown",
   "source": [
    "也可以用 isinstance 来判断它是不是一个指定的类型"
   ],
   "metadata": {
    "collapsed": false,
    "pycharm": {
     "name": "#%% md\n"
    }
   }
  },
  {
   "cell_type": "code",
   "execution_count": 6,
   "outputs": [
    {
     "name": "stdout",
     "output_type": "stream",
     "text": [
      "True\n",
      "False\n",
      "True\n"
     ]
    }
   ],
   "source": [
    "print(isinstance(123, int))\n",
    "print(isinstance('123', int))\n",
    "print(isinstance(True, bool))"
   ],
   "metadata": {
    "collapsed": false,
    "pycharm": {
     "name": "#%%\n"
    }
   }
  },
  {
   "cell_type": "markdown",
   "source": [
    "# 数字 Number\n",
    "数字的类型：int、float、complex"
   ],
   "metadata": {
    "collapsed": false,
    "pycharm": {
     "name": "#%% md\n"
    }
   }
  },
  {
   "cell_type": "markdown",
   "source": [
    "## 整数 int"
   ],
   "metadata": {
    "collapsed": false,
    "pycharm": {
     "name": "#%% md\n"
    }
   }
  },
  {
   "cell_type": "code",
   "source": [
    "a = 17\n",
    "# 会忽略下划线\n",
    "a = 1_7\n",
    "print(a)\n",
    "b = - 17\n",
    "b = -17\n",
    "print(b)\n",
    "# 17 十六进制\n",
    "c = 0x11\n",
    "print(c)\n",
    "# 65 八进制\n",
    "d = 0o101\n",
    "print(d)"
   ],
   "metadata": {
    "collapsed": false,
    "pycharm": {
     "name": "#%%\n"
    }
   },
   "execution_count": 9,
   "outputs": [
    {
     "name": "stdout",
     "output_type": "stream",
     "text": [
      "17\n",
      "-17\n",
      "17\n",
      "65\n"
     ]
    }
   ]
  },
  {
   "cell_type": "markdown",
   "source": [
    "可以使用前缀 0x, 0o 和 0b 分别表示 16、8、2 进制的表示方式"
   ],
   "metadata": {
    "collapsed": false,
    "pycharm": {
     "name": "#%% md\n"
    }
   }
  },
  {
   "cell_type": "markdown",
   "source": [
    "## 浮点 float"
   ],
   "metadata": {
    "collapsed": false,
    "pycharm": {
     "name": "#%% md\n"
    }
   }
  },
  {
   "cell_type": "code",
   "execution_count": 16,
   "outputs": [
    {
     "name": "stdout",
     "output_type": "stream",
     "text": [
      "1.1\n",
      "1.0\n",
      "0.1\n"
     ]
    }
   ],
   "source": [
    "x = 1.10\n",
    "print(x)\n",
    "# 1.0\n",
    "y = 1.\n",
    "print(y)\n",
    "z = .1\n",
    "print(z)"
   ],
   "metadata": {
    "collapsed": false,
    "pycharm": {
     "name": "#%%\n"
    }
   }
  },
  {
   "cell_type": "markdown",
   "source": [
    "科学计数法赋值："
   ],
   "metadata": {
    "collapsed": false,
    "pycharm": {
     "name": "#%% md\n"
    }
   }
  },
  {
   "cell_type": "code",
   "execution_count": 17,
   "outputs": [
    {
     "name": "stdout",
     "output_type": "stream",
     "text": [
      "350000.0\n",
      "1000000.0\n"
     ]
    }
   ],
   "source": [
    "e = 3.5e5\n",
    "print(e)\n",
    "f = 1E6\n",
    "print(f)"
   ],
   "metadata": {
    "collapsed": false,
    "pycharm": {
     "name": "#%%\n"
    }
   }
  },
  {
   "cell_type": "markdown",
   "source": [
    "## 复数\n",
    "j 代表复数的虚部"
   ],
   "metadata": {
    "collapsed": false,
    "pycharm": {
     "name": "#%% md\n"
    }
   }
  },
  {
   "cell_type": "code",
   "execution_count": 18,
   "outputs": [],
   "source": [
    "x = 1 + 2j\n",
    "y = 2j\n",
    "z = -3j"
   ],
   "metadata": {
    "collapsed": false,
    "pycharm": {
     "name": "#%%\n"
    }
   }
  },
  {
   "cell_type": "markdown",
   "source": [
    "## 数字下划线"
   ],
   "metadata": {
    "collapsed": false,
    "pycharm": {
     "name": "#%% md\n"
    }
   }
  },
  {
   "cell_type": "code",
   "execution_count": 28,
   "outputs": [
    {
     "name": "stdout",
     "output_type": "stream",
     "text": [
      "123456789\n",
      "123456.888\n",
      "10_000_000_000\n",
      "10_000_000_000\n"
     ]
    }
   ],
   "source": [
    "print(123_456_789)\n",
    "print(123_456.888)\n",
    "print(f'{10000000000:_}')\n",
    "print('{:_}'.format(10000000000))"
   ],
   "metadata": {
    "collapsed": false,
    "pycharm": {
     "name": "#%%\n"
    }
   }
  },
  {
   "cell_type": "markdown",
   "source": [
    "## 转换\n",
    "查看数据类型："
   ],
   "metadata": {
    "collapsed": false,
    "pycharm": {
     "name": "#%% md\n"
    }
   }
  },
  {
   "cell_type": "code",
   "execution_count": 30,
   "outputs": [
    {
     "data": {
      "text/plain": "int"
     },
     "execution_count": 30,
     "metadata": {},
     "output_type": "execute_result"
    }
   ],
   "source": [
    "a = 1\n",
    "type(a)"
   ],
   "metadata": {
    "collapsed": false,
    "pycharm": {
     "name": "#%%\n"
    }
   }
  },
  {
   "cell_type": "markdown",
   "source": [
    "不同数字类型进行计算，则：\n",
    "* 全 int 加减乘还是 int，除会变成 float\n",
    "* float 和 int 计算为 float"
   ],
   "metadata": {
    "collapsed": false,
    "pycharm": {
     "name": "#%% md\n"
    }
   }
  },
  {
   "cell_type": "code",
   "execution_count": null,
   "outputs": [],
   "source": [
    "# 4\n",
    "int(4.3)"
   ],
   "metadata": {
    "collapsed": false,
    "pycharm": {
     "name": "#%%\n"
    }
   }
  },
  {
   "cell_type": "code",
   "execution_count": null,
   "outputs": [],
   "source": [
    "# 4.0\n",
    "float(4)"
   ],
   "metadata": {
    "collapsed": false,
    "pycharm": {
     "name": "#%%\n"
    }
   }
  },
  {
   "cell_type": "markdown",
   "source": [
    "# 字符串 String"
   ],
   "metadata": {
    "collapsed": false,
    "pycharm": {
     "name": "#%% md\n"
    }
   }
  },
  {
   "cell_type": "markdown",
   "source": [
    "## 字符串定义"
   ],
   "metadata": {
    "collapsed": false,
    "pycharm": {
     "name": "#%% md\n"
    }
   },
   "execution_count": 0
  },
  {
   "cell_type": "code",
   "execution_count": 32,
   "outputs": [
    {
     "data": {
      "text/plain": "str"
     },
     "execution_count": 32,
     "metadata": {},
     "output_type": "execute_result"
    }
   ],
   "source": [
    "var = \"hello\"  # 双引号\n",
    "var = 'world'  # 单引号\n",
    "\n",
    "a = \"123\"  # 注意，这儿是个字符，不是数字\n",
    "\n",
    "# 三个单引号或者双引号，可以定义多行字符\n",
    "var = ''' hello\n",
    "world\n",
    "I love python\n",
    "'''\n",
    "#  加前缀 u，显式说明是 unicode 类型，一般不加\n",
    "var = u'world'\n",
    "type(var)  # str"
   ],
   "metadata": {
    "collapsed": false,
    "pycharm": {
     "name": "#%%\n"
    }
   }
  },
  {
   "cell_type": "markdown",
   "source": [
    "## 字符的转换"
   ],
   "metadata": {
    "collapsed": false
   }
  },
  {
   "cell_type": "code",
   "execution_count": 35,
   "outputs": [
    {
     "data": {
      "text/plain": "'[1, 2, 3]'"
     },
     "execution_count": 35,
     "metadata": {},
     "output_type": "execute_result"
    }
   ],
   "source": [
    "var = \"hello\"\n",
    "# int(var) # 无法转换成数字，会报错\n",
    "\n",
    "a = \"123\"\n",
    "int(a)  # 123 成功转为数字\n",
    "\n",
    "b = 456\n",
    "str(b)  # \"456\" 成功转为字符\n",
    "\n",
    "c = [1, 2, 3]\n",
    "str(c)  # '[1, 2, 3]' 列表转字符串，其他类型类似"
   ],
   "metadata": {
    "collapsed": false,
    "pycharm": {
     "name": "#%%\n"
    }
   }
  },
  {
   "cell_type": "markdown",
   "source": [
    "## 字符的访问"
   ],
   "metadata": {
    "collapsed": false
   }
  },
  {
   "cell_type": "code",
   "execution_count": 37,
   "outputs": [
    {
     "name": "stdout",
     "output_type": "stream",
     "text": [
      "H\n",
      "!\n",
      "ld\n",
      "ello W\n",
      "World!\n",
      "Hello World!\n",
      "Hlo\n",
      "eo\n",
      "!dlroW olleH\n"
     ]
    }
   ],
   "source": [
    "var = 'Hello World!'\n",
    "# 按索引取部分内容, 索引从0开始, 左必须小于右\n",
    "# 支持字符、列表、元组\n",
    "print(var[0])\n",
    "# 'H'\n",
    "# 从右开始索引从 -1 开始\n",
    "print(var[-1])\n",
    "# '!'\n",
    "print(var[-3:-1])\n",
    "# 'ld'\n",
    "print(var[1:7])\n",
    "# 'ello W'（有个空格，不包含最后一位）\n",
    "print(var[6:])\n",
    "# 'World!' （前后省略按开头结尾）\n",
    "print(var[:])\n",
    "# 'Hello World!'（相当于复制）\n",
    "print(var[0:5:2])\n",
    "# 'Hlo'（2为步长，2的倍数取）\n",
    "print(var[1:7:3])\n",
    "# 'ello W‘ -> 'eo'\n",
    "print(var[::-1])\n",
    "# !dlroW olleH 实现反转字符功能"
   ],
   "metadata": {
    "collapsed": false,
    "pycharm": {
     "name": "#%%\n"
    }
   }
  },
  {
   "cell_type": "markdown",
   "source": [
    "## 字符的运算"
   ],
   "metadata": {
    "collapsed": false
   }
  },
  {
   "cell_type": "code",
   "execution_count": 40,
   "outputs": [
    {
     "name": "stdout",
     "output_type": "stream",
     "text": [
      "goodbye\n",
      "goodgoodgood\n",
      "y\n",
      "y\n",
      "odb\n",
      "True\n",
      "False\n"
     ]
    }
   ],
   "source": [
    "print('good' + 'bye')\n",
    "# goodbye 拼接字符\n",
    "print('good' * 3)\n",
    "# goodgoodgood 重复3次\n",
    "print('bye'[1])\n",
    "# 'y' 取第2个索引位, 索引为1\n",
    "print('bye'[-2])\n",
    "# 'y' 取从右索引为-2的内容\n",
    "print('goodbye'[2:5])\n",
    "# 取一段，不包含右边索引位内容\n",
    "print('g' in 'goodbye')\n",
    "# True 成员运算，指定字段是否在目标字符里\n",
    "print('g' not in 'goodbye')\n",
    "# False 指定字段是否不在目标字符里"
   ],
   "metadata": {
    "collapsed": false,
    "pycharm": {
     "name": "#%%\n"
    }
   }
  },
  {
   "cell_type": "markdown",
   "source": [
    "## 字符转义\n",
    "字符中使用特殊字符时，可用反斜杠 \\ 转义字符，常用的转义符号如下："
   ],
   "metadata": {
    "collapsed": false
   }
  },
  {
   "cell_type": "code",
   "execution_count": 39,
   "outputs": [
    {
     "name": "stdout",
     "output_type": "stream",
     "text": [
      "一行\n",
      "另一行\n",
      "一格\t另一格\n",
      "我中国人\n",
      "I 'm boy.\n",
      "看到反斜杠了么？\\\n"
     ]
    }
   ],
   "source": [
    "print(\"一行\\n另一行\")  # 换行\n",
    "print(\"一格\\t另一格\")  # 制表\n",
    "print(\"我是\\b中国人\")  # 退格，会删除「是」\n",
    "print('I \\'m boy.')  # 引号，双引号同\n",
    "print(\"看到反斜杠了么？\\\\\")  # 反斜杠"
   ],
   "metadata": {
    "collapsed": false,
    "pycharm": {
     "name": "#%%\n"
    }
   }
  },
  {
   "cell_type": "markdown",
   "source": [
    "## 字符常用函数"
   ],
   "metadata": {
    "collapsed": false
   }
  },
  {
   "cell_type": "code",
   "execution_count": 42,
   "outputs": [
    {
     "name": "stdout",
     "output_type": "stream",
     "text": [
      "4\n",
      "Good\n",
      "['山', '水', '风', '雨']\n",
      "['', '山', '水', '风光']\n",
      "山-水-风-雨\n",
      "诗和远方\n"
     ]
    }
   ],
   "source": [
    "print(len('good'))\n",
    "# 4 字符的长度\n",
    "print('good'.replace('g', 'G'))\n",
    "# 'Good' 替换字符\n",
    "print('山-水-风-雨'.split('-'))\n",
    "# ['山', '水', '风', '雨'] 用指定字符分隔，默认空格\n",
    "print('好山好水好风光'.split('好'))\n",
    "# ['', '山', '水', '风光']\n",
    "print('-'.join(['山', '水', '风', '雨']))\n",
    "# '山-水-风-雨'\n",
    "print('和'.join(['诗', '远方']))\n",
    "# '诗和远方'"
   ],
   "metadata": {
    "collapsed": false,
    "pycharm": {
     "name": "#%%\n"
    }
   }
  },
  {
   "cell_type": "code",
   "execution_count": 58,
   "outputs": [
    {
     "data": {
      "text/plain": "['Good\\n', 'bye\\n', 'bye']"
     },
     "execution_count": 58,
     "metadata": {},
     "output_type": "execute_result"
    }
   ],
   "source": [
    "import string\n",
    "\n",
    "'good'.upper()  # 'GOOD' 全转大写\n",
    "'GOOD'.lower()  # 'good' 全转小写\n",
    "'Good Bye'.swapcase()  # 'gOOD bYE' 大小写互换\n",
    "'good'.capitalize()  # 'Good' 首字母转大写\n",
    "'good'.islower()  # True 是否全是小写\n",
    "'good'.isupper()  # False 是否全是大写\n",
    "'good bYe'.title()  # 'Good Bye' 所有的单词首字母转为大写，且其他字母转小写\n",
    "'Good Bye'.istitle()  # True 检测所有的单词首字母是否为大写，且其他字母为小写\n",
    "\n",
    "'我和你'.endswith('你')  # True 是否以指定字符结尾\n",
    "'我和你'.startswith('你')  # False 是否以指定字符开始\n",
    "' and你'.isspace()  # False 是否全是空白字符\n",
    "\n",
    "'good'.center(10, '*')  # '***good***' 字符居中, 其余用指定字符填充, 共多少位\n",
    "'good'.ljust(10, '-')  # 'good------' 左对齐，默认是空格补全\n",
    "'good'.rjust(10, '-')  # '------good' 右对齐\n",
    "'good'.count('o')  # 2 指定字符在字符中的数量\n",
    "'good'.count('o', 2, 3)  # 1 在索引范围内字符出现的数量\n",
    "'3月'.zfill(3)  # '03月' 指定长宽，不够前边补 0\n",
    "\n",
    "max('good')  # 'o' 按最大字母顺序最大的字母\n",
    "min('good')  # 'd' 最小的字母\n",
    "\n",
    "'Good Good Study'.find('y')  # 14 返回指,定字符第一次出现的索引, 如果不包含返回-1\n",
    "'Good Good Study'.find('o', 3)  # 6 指定开始位第一次出现的索引, 如果不包返回-1\n",
    "'Good Good Study'.find('o', 2, 7)  # 2 指定区间内第一次出现的索引, 如果不包返回-1\n",
    "'Good Good Study'.find('up')  # -1 不包含返回-1\n",
    "\n",
    "'Good Bye'.index('d')  # 3 指定字符第一个索引\n",
    "# 'Good Bye'.index('s')  # 找不到会 ValueError 错误, 可以先 in 去判断是否包含\n",
    "\n",
    "# 去空格\n",
    "'Good bye'.strip('e')  # 去掉首尾指定字符, 默认去空格\n",
    "' Good bye '.lstrip()  # 'Good bye ' 去掉左边空格\n",
    "' Good bye '.rstrip()  # ' Good bye'去掉右边空格\n",
    "\n",
    "# 格式化, 此处推荐 f-string: https://www.gairuo.com/p/python-format-string\n",
    "name = 'wsy'\n",
    "f'{name}是好人'  # 'tom是好人' 推荐此方法, name = 'tom'\n",
    "'%s %s' % ('age', 18)  # 'age 18'\n",
    "'{}, {}'.format(18, 'age')  # '18 age'\n",
    "'{0}, {1}, {0}'.format('age', 18)  # 'age, 18, age'\n",
    "'{name}: {age}'.format(age=18, name='tom')  # 'tom: 18'\n",
    "\n",
    "# 分割连接\n",
    "# 按换行分隔，默认(False)不保留换行符\n",
    "'Good\\nbye\\nbye'.splitlines(True)  # ['Good\\n', 'bye\\n', 'bye']"
   ],
   "metadata": {
    "collapsed": false,
    "pycharm": {
     "name": "#%%\n"
    }
   }
  },
  {
   "cell_type": "markdown",
   "source": [
    "## 其他\n",
    "两个字符串相连或者空格间隔，会被认为是拼接后的字符串整体"
   ],
   "metadata": {
    "collapsed": false
   }
  },
  {
   "cell_type": "code",
   "execution_count": 45,
   "outputs": [
    {
     "name": "stdout",
     "output_type": "stream",
     "text": [
      "ab\n",
      "ab\n"
     ]
    }
   ],
   "source": [
    "print('a' 'b')\n",
    "print('a''b')"
   ],
   "metadata": {
    "collapsed": false,
    "pycharm": {
     "name": "#%%\n"
    }
   }
  },
  {
   "cell_type": "markdown",
   "source": [
    "列表、元组同样有效"
   ],
   "metadata": {
    "collapsed": false,
    "pycharm": {
     "name": "#%% md\n"
    }
   }
  },
  {
   "cell_type": "code",
   "execution_count": 46,
   "outputs": [
    {
     "data": {
      "text/plain": "['a', 'bc', 'd']"
     },
     "execution_count": 46,
     "metadata": {},
     "output_type": "execute_result"
    }
   ],
   "source": [
    "['a', 'b' 'c', 'd']"
   ],
   "metadata": {
    "collapsed": false,
    "pycharm": {
     "name": "#%%\n"
    }
   }
  },
  {
   "cell_type": "code",
   "execution_count": 47,
   "outputs": [
    {
     "data": {
      "text/plain": "('a', 'b c', 'd')"
     },
     "execution_count": 47,
     "metadata": {},
     "output_type": "execute_result"
    }
   ],
   "source": [
    "('a', 'b c', 'd')"
   ],
   "metadata": {
    "collapsed": false,
    "pycharm": {
     "name": "#%%\n"
    }
   }
  },
  {
   "cell_type": "markdown",
   "source": [
    "特别注意，圆括号（不是元组）的字符串仍然是一个字符："
   ],
   "metadata": {
    "collapsed": false,
    "pycharm": {
     "name": "#%% md\n"
    }
   }
  },
  {
   "cell_type": "code",
   "execution_count": 55,
   "outputs": [
    {
     "data": {
      "text/plain": "str"
     },
     "execution_count": 55,
     "metadata": {},
     "output_type": "execute_result"
    }
   ],
   "source": [
    "type('b' 'c')"
   ],
   "metadata": {
    "collapsed": false,
    "pycharm": {
     "name": "#%%\n"
    }
   }
  },
  {
   "cell_type": "markdown",
   "source": [
    "# 布尔型 Boolean"
   ],
   "metadata": {
    "collapsed": false,
    "pycharm": {
     "name": "#%% md\n"
    }
   },
   "outputs": [],
   "execution_count": 0
  },
  {
   "cell_type": "markdown",
   "source": [
    "## 布尔的取值情况\n",
    "检测变量，以下情况会得到假，其他情况为真\n",
    "* None, False\n",
    "* 数值中的 0，0.0， 0j（虚数），Decimal(0)，Fraction(0, 1)\n",
    "* 空字符串 \"\"、空元组 ()、空列表 []\n",
    "* 空字典 {}、空集合 set()\n",
    "* 类的对象特殊方法 __bool__() 返回 False 或是定义了 __len__() 方法返回 0"
   ],
   "metadata": {
    "collapsed": false,
    "pycharm": {
     "name": "#%% md\n"
    }
   },
   "outputs": [],
   "execution_count": 0
  },
  {
   "cell_type": "code",
   "execution_count": 61,
   "outputs": [
    {
     "name": "stdout",
     "output_type": "stream",
     "text": [
      "False\n",
      "False\n",
      "False\n",
      "False\n"
     ]
    }
   ],
   "source": [
    "print(bool(None))\n",
    "print(bool(0))\n",
    "print(bool([]))\n",
    "print(bool(()))"
   ],
   "metadata": {
    "collapsed": false,
    "pycharm": {
     "name": "#%%\n"
    }
   }
  },
  {
   "cell_type": "markdown",
   "source": [
    "## 布尔运算\n",
    "优先级从低到高：或 or、与 and、非 not"
   ],
   "metadata": {
    "collapsed": false,
    "pycharm": {
     "name": "#%% md\n"
    }
   }
  },
  {
   "cell_type": "code",
   "execution_count": 65,
   "outputs": [
    {
     "name": "stdout",
     "output_type": "stream",
     "text": [
      "0\n",
      "0\n",
      "1\n",
      "2\n",
      "0\n",
      "True\n",
      "True\n",
      "True\n",
      "True\n",
      "b\n"
     ]
    }
   ],
   "source": [
    "a = 0\n",
    "b = 1\n",
    "c = 2\n",
    "\n",
    "print(a and b)\n",
    "# 0 a 为假返回假的值\n",
    "print(b and a)\n",
    "# 0 b为真，返回a的值\n",
    "print(a or b)\n",
    "# 1 输出为真值的结果\n",
    "print(a and b or c)\n",
    "# 2\n",
    "print(a and (b or c))\n",
    "# 0 用类似数学中的括号提高运算优先级\n",
    "\n",
    "# not 的注意事项\n",
    "print(not a)\n",
    "# True\n",
    "print(not a == b)\n",
    "# True\n",
    "print(not (a == b))\n",
    "# True 同上逻辑\n",
    "# a == not b # ！这个是错误的语法, 正确如下：\n",
    "print(a == (not b))\n",
    "# True\n",
    "\n",
    "# and 优先级高 'a' 为真，返回 'b', '' or 'b' 返回 'b'\n",
    "print('' or 'a' and 'b')\n",
    "# 'b'"
   ],
   "metadata": {
    "collapsed": false,
    "pycharm": {
     "name": "#%%\n"
    }
   }
  },
  {
   "cell_type": "markdown",
   "source": [
    "## 比较运算\n",
    "对两个值或者变量进行比较，表达式成立返回 True，否则返回 False\n",
    "* <：小于\n",
    "* <=：小于等于\n",
    "* >：大于\n",
    "* >=：大于等于\n",
    "* ==：等于\n",
    "* ！=：不等于\n",
    "* is：是相同对象\n",
    "* is not：是不同对象"
   ],
   "metadata": {
    "collapsed": false
   }
  },
  {
   "cell_type": "code",
   "execution_count": 66,
   "outputs": [
    {
     "name": "stdout",
     "output_type": "stream",
     "text": [
      "False\n",
      "False\n",
      "True\n",
      "True\n",
      "True\n",
      "False\n"
     ]
    }
   ],
   "source": [
    "a = 0\n",
    "b = 1\n",
    "c = 2\n",
    "\n",
    "print(a > b)\n",
    "# False\n",
    "print(a == b)\n",
    "# False\n",
    "print(b == (c - b))\n",
    "# True\n",
    "print(a != b)\n",
    "# True\n",
    "print(a < (b + c))\n",
    "# True\n",
    "print(a is not a)\n",
    "# False"
   ],
   "metadata": {
    "collapsed": false,
    "pycharm": {
     "name": "#%%\n"
    }
   }
  },
  {
   "cell_type": "markdown",
   "source": [
    "# 列表 List"
   ],
   "metadata": {
    "collapsed": false,
    "pycharm": {
     "name": "#%% md\n"
    }
   }
  },
  {
   "cell_type": "markdown",
   "source": [
    "## 列表的结构"
   ],
   "metadata": {
    "collapsed": false,
    "pycharm": {
     "name": "#%% md\n"
    }
   }
  },
  {
   "cell_type": "code",
   "execution_count": 67,
   "outputs": [
    {
     "data": {
      "text/plain": "list"
     },
     "execution_count": 67,
     "metadata": {},
     "output_type": "execute_result"
    }
   ],
   "source": [
    "x = []  # 空列表\n",
    "x = [1, 2, 3, 4, 5]\n",
    "x = ['a', 'b', 'c']\n",
    "x = ['a', 1.5, True, [2, 3, 4]]  # 各种类型混杂\n",
    "type(x)  # list 类型检测"
   ],
   "metadata": {
    "collapsed": false,
    "pycharm": {
     "name": "#%%\n"
    }
   }
  },
  {
   "cell_type": "markdown",
   "source": [
    "## 类型转换"
   ],
   "metadata": {
    "collapsed": false
   }
  },
  {
   "cell_type": "code",
   "execution_count": 68,
   "outputs": [
    {
     "data": {
      "text/plain": "[('Name', 'Tom'), ('Age', 7), ('Class', 'First')]"
     },
     "execution_count": 68,
     "metadata": {},
     "output_type": "execute_result"
    }
   ],
   "source": [
    "# 字符串\n",
    "y = '1345'\n",
    "list(y)  # ['1', '3', '4', '5'] 将列表转换成列表\n",
    "\n",
    "# 元组\n",
    "z = ('a', 'b', 'c')\n",
    "list(z)  # ['a', 'b', 'c'] 将元组转换成列表\n",
    "\n",
    "# 字典\n",
    "d = {'Name': 'Tom', 'Age': 7, 'Class': 'First'}\n",
    "list(d)  # ['Name', 'Age', 'Class'] 字典 key 转成列表\n",
    "list(d.values())  # ['Tom', 7, 'First'] 字典 value 转成列表\n",
    "# 字典键值对（一个元组）转成列表\n",
    "list(d.items())  # [('Name', 'Tom'), ('Age', 7), ('Class', 'First')]"
   ],
   "metadata": {
    "collapsed": false,
    "pycharm": {
     "name": "#%%\n"
    }
   }
  },
  {
   "cell_type": "markdown",
   "source": [
    "## 索引读取"
   ],
   "metadata": {
    "collapsed": false
   }
  },
  {
   "cell_type": "code",
   "execution_count": 69,
   "outputs": [
    {
     "name": "stdout",
     "output_type": "stream",
     "text": [
      "a\n",
      "f\n",
      "['d', 'e']\n",
      "['b', 'c', 'd', 'e']\n",
      "['d', 'e', 'f']\n",
      "['a', 'b', 'c', 'd', 'e', 'f']\n",
      "['a', 'c', 'e']\n",
      "['b', 'e']\n",
      "['f', 'e', 'd', 'c', 'b', 'a']\n"
     ]
    }
   ],
   "source": [
    "var = ['a', 'b', 'c', 'd', 'e', 'f']\n",
    "# 按索引取部分内容, 索引从0开始, 左必须小于右\n",
    "print(var[0])\n",
    "# 'a'\n",
    "# 从右开始索引从 -1 开始\n",
    "print(var[-1])\n",
    "# 'f'\n",
    "print(var[-3:-1])\n",
    "# ['d', 'e']\n",
    "print(var[1:5])\n",
    "# ['b', 'c', 'd', 'e']\n",
    "print(var[3:])\n",
    "# ['d', 'e', 'f']（前后省略按开头结尾）\n",
    "print(var[:])\n",
    "# ['a', 'b', 'c', 'd', 'e', 'f']（相当于复制）\n",
    "print(var[0:5:2])\n",
    "# ['a', 'c', 'e']（2为步长，2的倍数取）\n",
    "print(var[1:7:3])\n",
    "# ['b', 'e']\n",
    "print(var[::-1])\n",
    "# ['f', 'e', 'd', 'c', 'b', 'a'] 实现反转功能"
   ],
   "metadata": {
    "collapsed": false,
    "pycharm": {
     "name": "#%%\n"
    }
   }
  },
  {
   "cell_type": "markdown",
   "source": [
    "## 列表运算"
   ],
   "metadata": {
    "collapsed": false
   }
  },
  {
   "cell_type": "code",
   "execution_count": 71,
   "outputs": [
    {
     "name": "stdout",
     "output_type": "stream",
     "text": [
      "['a', 'b', 'c', 'd']\n",
      "['a', 'b', 'a', 'b']\n",
      "True\n"
     ]
    }
   ],
   "source": [
    "print(['a', 'b'] + ['c', 'd'])\n",
    "# ['a', 'b', 'c', 'd'] 拼接\n",
    "print(['a', 'b'] * 2)\n",
    "# ['a', 'b', 'a', 'b''] 复制\n",
    "print('a' in ['a', 'b'])\n",
    "# True 指定元素在列表里"
   ],
   "metadata": {
    "collapsed": false,
    "pycharm": {
     "name": "#%%\n"
    }
   }
  },
  {
   "cell_type": "markdown",
   "source": [
    "## 常用操作"
   ],
   "metadata": {
    "collapsed": false
   }
  },
  {
   "cell_type": "markdown",
   "source": [
    "常用方法："
   ],
   "metadata": {
    "collapsed": false
   }
  },
  {
   "cell_type": "code",
   "execution_count": 72,
   "outputs": [
    {
     "name": "stdout",
     "output_type": "stream",
     "text": [
      "1\n",
      "2\n",
      "3\n"
     ]
    },
    {
     "data": {
      "text/plain": "True"
     },
     "execution_count": 72,
     "metadata": {},
     "output_type": "execute_result"
    }
   ],
   "source": [
    "a = [1, 2, 3]\n",
    "len(a)  # 3 元素个数\n",
    "max(a)  # 3 最大值\n",
    "min(a)  # 1 最小值\n",
    "sum(a)  # 6 求和\n",
    "a.index(2)  # 1 指定元素位置\n",
    "a.count(1)  # 1 求元素的个数\n",
    "for i in a: print(i)  # 迭代元素\n",
    "sorted(a)  # 返回一个排序的列表，但不改变原列表\n",
    "any(a)  # True 是否至少有一个元素为真\n",
    "all(a)  # True 是否所有元素为真"
   ],
   "metadata": {
    "collapsed": false,
    "pycharm": {
     "name": "#%%\n"
    }
   }
  },
  {
   "cell_type": "markdown",
   "source": [
    "增加删除操作："
   ],
   "metadata": {
    "collapsed": false
   }
  },
  {
   "cell_type": "code",
   "execution_count": 75,
   "outputs": [],
   "source": [
    "a = [1, 2, 3]\n",
    "a.append(4)  # a: [1, 2, 3, 4] 增加一个元素\n",
    "a.pop()  # 每执行一次删除最后一个元素\n",
    "a.extend([9, 8])  # a: [1, 2, 3, 9, 8] # 和其他列表合并\n",
    "a.insert(1, 'a')  # a: [1, 'a', 2, 3] 指定索引位插入元素\n",
    "a.remove('a')  # 删除第一个指定元素\n",
    "a.clear()  # [] 清空"
   ],
   "metadata": {
    "collapsed": false,
    "pycharm": {
     "name": "#%%\n"
    }
   }
  },
  {
   "cell_type": "markdown",
   "source": [
    "排序："
   ],
   "metadata": {
    "collapsed": false
   }
  },
  {
   "cell_type": "code",
   "execution_count": 74,
   "outputs": [],
   "source": [
    "a.reverse()  # 反转顺序\n",
    "a.sort()  # 排序\n",
    "a.sort(reverse=True)  # 反序\n",
    "a.sort(key=abs)  # 传入函数关键字作为排序规则"
   ],
   "metadata": {
    "collapsed": false,
    "pycharm": {
     "name": "#%%\n"
    }
   }
  },
  {
   "cell_type": "markdown",
   "source": [
    "## 推导式\n",
    "推导式就是用 for 循环结合 if 表达式生成一个列表"
   ],
   "metadata": {
    "collapsed": false
   }
  },
  {
   "cell_type": "code",
   "execution_count": 76,
   "outputs": [
    {
     "data": {
      "text/plain": "[1, 0, 0, 1, 0]"
     },
     "execution_count": 76,
     "metadata": {},
     "output_type": "execute_result"
    }
   ],
   "source": [
    "# 将一个可迭代的对象展开形成一个列表\n",
    "[i for i in range(5)]\n",
    "# [0, 1, 2, 3, 4]\n",
    "\n",
    "# 可以将结果进行处理\n",
    "['第' + str(i) for i in range(5)]\n",
    "# ['第0', '第1', '第2', '第3', '第4']\n",
    "\n",
    "# 可以进行条件筛选, 实现取偶数\n",
    "[i for i in range(5) if i % 2 == 0]\n",
    "\n",
    "# 拆开字符, 过滤空格，全变成大写\n",
    "[i.upper() for i in 'Hello world' if i != ' ']\n",
    "# ['H', 'E', 'L', 'L', 'O', 'W', 'O', 'R', 'L', 'D']\n",
    "# 对于复杂逻辑可以分行编写\n",
    "[i.upper()\n",
    " for i in 'Hello world'\n",
    " if i != ' '\n",
    " ]\n",
    "\n",
    "# 条件分支\n",
    "data = ['good', 'bad', 'bad', 'good', 'bad']\n",
    "[1 if x == 'good' else 0 for x in data]\n",
    "# [1, 0, 0, 1, 0]"
   ],
   "metadata": {
    "collapsed": false,
    "pycharm": {
     "name": "#%%\n"
    }
   }
  },
  {
   "cell_type": "markdown",
   "source": [
    "# 元组 Tuple"
   ],
   "metadata": {
    "collapsed": false,
    "pycharm": {
     "name": "#%% md\n"
    }
   }
  },
  {
   "cell_type": "markdown",
   "source": [
    "## 定义\n",
    "元组的结构和列表一样，元组用圆括号把所有项括起来，元素之间用逗号分隔："
   ],
   "metadata": {
    "collapsed": false,
    "pycharm": {
     "name": "#%% md\n"
    }
   }
  },
  {
   "cell_type": "code",
   "execution_count": 77,
   "outputs": [],
   "source": [
    "a = ()  # 空元组\n",
    "a = (1,)  # 只有一个元素\n",
    "a = (1, 2, 3)  # 定义一个元组\n",
    "tuple()  # 生成空元组\n",
    "tuple('hello')  # ('h', 'e', 'l', 'l', 'o')\n",
    "type(a)  # tuple 元素检测\n",
    "\n",
    "# 没有括号也可以定义一个元组\n",
    "a = 1, 23, 4, 56  # a: (1, 23, 4, 56)\n",
    "a = 1,  # a: (1, )\n",
    "\n",
    "# 元组内元素可以混杂其他类型\n",
    "a = ('a', 1.5, True, [2, 3, 4])  # 各种类型混杂"
   ],
   "metadata": {
    "collapsed": false,
    "pycharm": {
     "name": "#%%\n"
    }
   }
  },
  {
   "cell_type": "markdown",
   "source": [
    "## 索引读取"
   ],
   "metadata": {
    "collapsed": false,
    "pycharm": {
     "name": "#%% md\n"
    }
   }
  },
  {
   "cell_type": "markdown",
   "source": [
    "## 操作\n",
    "元组是不可修改的，只能修改混杂类型里的列表类型数据"
   ],
   "metadata": {
    "collapsed": false,
    "pycharm": {
     "name": "#%% md\n"
    }
   }
  },
  {
   "cell_type": "code",
   "source": [
    "a = ('a', 1.5, True, [2, 3, 4])\n",
    "a[-1].append(5)\n",
    "a"
   ],
   "metadata": {
    "collapsed": false,
    "pycharm": {
     "name": "#%%\n"
    }
   },
   "execution_count": 86,
   "outputs": [
    {
     "data": {
      "text/plain": "('a', 1.5, True, [2, 3, 4, 5])"
     },
     "execution_count": 86,
     "metadata": {},
     "output_type": "execute_result"
    }
   ]
  },
  {
   "cell_type": "code",
   "execution_count": null,
   "outputs": [],
   "source": [
    "del a\n",
    "# 删除元组"
   ],
   "metadata": {
    "collapsed": false,
    "pycharm": {
     "name": "#%%\n"
    }
   }
  },
  {
   "cell_type": "markdown",
   "source": [
    "## 元组运算\n",
    "同列表"
   ],
   "metadata": {
    "collapsed": false,
    "pycharm": {
     "name": "#%% md\n"
    }
   }
  },
  {
   "cell_type": "markdown",
   "source": [
    "## 函数"
   ],
   "metadata": {
    "collapsed": false,
    "pycharm": {
     "name": "#%% md\n"
    }
   }
  },
  {
   "cell_type": "code",
   "execution_count": 89,
   "outputs": [
    {
     "name": "stdout",
     "output_type": "stream",
     "text": [
      "1\n",
      "2\n",
      "3\n"
     ]
    },
    {
     "data": {
      "text/plain": "True"
     },
     "execution_count": 89,
     "metadata": {},
     "output_type": "execute_result"
    }
   ],
   "source": [
    "a = (1, 2, 3)\n",
    "len(a)  # 3 元素个数\n",
    "max(a)  # 3 最大值\n",
    "min(a)  # 1 最小值\n",
    "sum(a)  # 6 求和\n",
    "a.count(1)  # 1 求元素的个数\n",
    "a.index(2)  # 1 指定元素位置\n",
    "for i in a: print(i)  # 迭代元素\n",
    "sorted(a)  # 返回一个排序的列表，但不改变原列表\n",
    "any(a)  # True 是否至少有一个元素为真\n",
    "all(a)  # True 是否所有元素为真\n",
    "# tuple.__dir__('') # 查看元组支持的所有函数和方法"
   ],
   "metadata": {
    "collapsed": false,
    "pycharm": {
     "name": "#%%\n"
    }
   }
  },
  {
   "cell_type": "markdown",
   "source": [
    "## 推导式"
   ],
   "metadata": {
    "collapsed": false,
    "pycharm": {
     "name": "#%% md\n"
    }
   }
  },
  {
   "cell_type": "code",
   "execution_count": 94,
   "outputs": [
    {
     "data": {
      "text/plain": "(0, 1, 2)"
     },
     "execution_count": 94,
     "metadata": {},
     "output_type": "execute_result"
    }
   ],
   "source": [
    "t = tuple((i for i in range(3)))\n",
    "# t: (0, 1, 2)\n",
    "t"
   ],
   "metadata": {
    "collapsed": false,
    "pycharm": {
     "name": "#%%\n"
    }
   }
  },
  {
   "cell_type": "markdown",
   "source": [
    "## 元组解包 Unpacking"
   ],
   "metadata": {
    "collapsed": false
   }
  },
  {
   "cell_type": "code",
   "execution_count": 95,
   "outputs": [],
   "source": [
    "x = (1, 2, 3, 4, 5)\n",
    "a, *b = x  # a 占第一个，剩余的组成列表全给 b\n",
    "# a -> 1\n",
    "# b -> [2, 3, 4, 5]\n",
    "# a, b -> (1, [2, 3, 4, 5])\n",
    "\n",
    "a, *b, c = x  # a 占第一个，c 占最后一个, 剩余的组成列表全给 b\n",
    "# a -> 1\n",
    "# b -> [2, 3, 4]\n",
    "# c -> 5\n",
    "# a, b, c -> (1, [2, 3, 4], 5)"
   ],
   "metadata": {
    "collapsed": false,
    "pycharm": {
     "name": "#%%\n"
    }
   }
  },
  {
   "cell_type": "markdown",
   "source": [
    "## 命名元组 namedtuple"
   ],
   "metadata": {
    "collapsed": false,
    "pycharm": {
     "name": "#%% md\n"
    }
   }
  },
  {
   "cell_type": "code",
   "execution_count": 101,
   "outputs": [
    {
     "name": "stdout",
     "output_type": "stream",
     "text": [
      "Girl(name='lily', age=10)\n",
      "<class '__main__.Girl'>\n"
     ]
    }
   ],
   "source": [
    "from collections import namedtuple\n",
    "\n",
    "Girl = namedtuple('Girl', ['name', 'age'])\n",
    "\n",
    "lily = Girl('lily', 10)\n",
    "lily.name  # lily\n",
    "lily.age  # 10\n",
    "\n",
    "print(lily)\n",
    "# Girl(name='lily', age=10)\n",
    "print(type(lily))\n",
    "# __main__.Girl\n",
    "\n",
    "# 不能被修改\n",
    "# lily.age = 12\n",
    "# AttributeError: \"can't set attribute\""
   ],
   "metadata": {
    "collapsed": false,
    "pycharm": {
     "name": "#%%\n"
    }
   }
  },
  {
   "cell_type": "markdown",
   "source": [
    "## 字面值\n",
    "注意决定生成元组的其实是逗号而不是圆括号， 圆括号只是可选的，生成空元组或需要避免语法歧义的情况除外\n",
    "例如，f(a, b, c) 是在调用函数时附带三个参数，而 f((a, b, c)) 则是在调用函数时附带一个三元组。以下方式都可以构建一个元组：\n",
    "* 使用一对圆括号表示空元组：()\n",
    "* 使用一个后缀的逗号来表示单元组：a, 或(a,)\n",
    "* 使用以逗号分隔的多个项：a, b, c or (a, b, c)\n",
    "* 使用内置的 tuple()：tuple() 或 tuple(iterable)"
   ],
   "metadata": {
    "collapsed": false,
    "pycharm": {
     "name": "#%% md\n"
    }
   }
  },
  {
   "cell_type": "markdown",
   "source": [
    "# 集合 Set"
   ],
   "metadata": {
    "collapsed": false,
    "pycharm": {
     "name": "#%% md\n"
    }
   }
  },
  {
   "cell_type": "markdown",
   "source": [
    "## 结构和定义\n",
    "集合里不能有列表、集合、字典等可变的内容。无法更改集合里的元素，但可以添加新元素。"
   ],
   "metadata": {
    "collapsed": false,
    "pycharm": {
     "name": "#%% md\n"
    }
   }
  },
  {
   "cell_type": "code",
   "execution_count": 108,
   "outputs": [
    {
     "name": "stdout",
     "output_type": "stream",
     "text": [
      "{1, 2, 3, 4, 5}\n",
      "{1, 'a'}\n",
      "{1}\n"
     ]
    },
    {
     "data": {
      "text/plain": "set"
     },
     "execution_count": 108,
     "metadata": {},
     "output_type": "execute_result"
    }
   ],
   "source": [
    "s = {'5元', '10元', '20元'}  # 定义集合\n",
    "s = set()  # 空集合\n",
    "s = set([1, 2, 3, 4, 5])\n",
    "# {1, 2, 3, 4, 5} 使用列表定义\n",
    "print(s)\n",
    "s = {1, True, 'a'}\n",
    "print(s)\n",
    "s = {1, 1, 1}\n",
    "print(s)\n",
    "#{1} 去重\n",
    "type(s)  # set 类型检测"
   ],
   "metadata": {
    "collapsed": false,
    "pycharm": {
     "name": "#%%\n"
    }
   }
  },
  {
   "cell_type": "markdown",
   "source": [
    "我们不能使用 {} 语法创建空集，因为它会创建一个空字典。要创建一个空集，我们使用 set()\n",
    "定义集合时的每个元素必须是不可变对象，如列表作为元素时会报错："
   ],
   "metadata": {
    "collapsed": false
   }
  },
  {
   "cell_type": "code",
   "execution_count": 111,
   "outputs": [],
   "source": [
    "# set = {[1,2], 2}\n",
    "# TypeError: unhashable type: 'list'"
   ],
   "metadata": {
    "collapsed": false,
    "pycharm": {
     "name": "#%%\n"
    }
   }
  },
  {
   "cell_type": "markdown",
   "source": [
    "## 访问\n",
    "集合没有顺序没有索引，所以无法指定位置去访问，但可以用遍历的方式去读取"
   ],
   "metadata": {
    "collapsed": false
   }
  },
  {
   "cell_type": "code",
   "execution_count": 114,
   "outputs": [
    {
     "name": "stdout",
     "output_type": "stream",
     "text": [
      "a\n",
      "c\n",
      "b\n"
     ]
    }
   ],
   "source": [
    "s = {'a', 'b', 'c'}\n",
    "for i in s:\n",
    "    print(i)"
   ],
   "metadata": {
    "collapsed": false,
    "pycharm": {
     "name": "#%%\n"
    }
   }
  },
  {
   "cell_type": "markdown",
   "source": [
    "## 运算操作\n",
    "判断是否有某个元素"
   ],
   "metadata": {
    "collapsed": false
   }
  },
  {
   "cell_type": "code",
   "execution_count": 115,
   "outputs": [
    {
     "data": {
      "text/plain": "True"
     },
     "execution_count": 115,
     "metadata": {},
     "output_type": "execute_result"
    }
   ],
   "source": [
    "s = {'a', 'b', 'c'}\n",
    "'a' in s"
   ],
   "metadata": {
    "collapsed": false,
    "pycharm": {
     "name": "#%%\n"
    }
   }
  },
  {
   "cell_type": "markdown",
   "source": [
    "添加元素"
   ],
   "metadata": {
    "collapsed": false,
    "pycharm": {
     "name": "#%% md\n"
    }
   }
  },
  {
   "cell_type": "code",
   "execution_count": 118,
   "outputs": [
    {
     "name": "stdout",
     "output_type": "stream",
     "text": [
      "{2, 'a', 'c', 'b'}\n",
      "{1, 2, 3, 4, 'b', 'a', 'c'}\n"
     ]
    }
   ],
   "source": [
    "s = {'a', 'b', 'c'}\n",
    "s.add(2)\n",
    "print(s)\n",
    "s.update([1, 3, 4])\n",
    "print(s)"
   ],
   "metadata": {
    "collapsed": false,
    "pycharm": {
     "name": "#%%\n"
    }
   }
  },
  {
   "cell_type": "markdown",
   "source": [
    "删除清空元素"
   ],
   "metadata": {
    "collapsed": false
   }
  },
  {
   "cell_type": "code",
   "execution_count": 122,
   "outputs": [
    {
     "name": "stdout",
     "output_type": "stream",
     "text": [
      "{'c', 'b'}\n",
      "{'c', 'b'}\n",
      "set()\n"
     ]
    }
   ],
   "source": [
    "s = {'a', 'b', 'c'}\n",
    "s.remove('a')\n",
    "print(s)\n",
    "# 删除不存在的会报错\n",
    "s.discard('3')\n",
    "print(s)\n",
    "# 删除一个元素，无则忽略不报错\n",
    "s.clear()\n",
    "print(s)\n",
    "# set清空"
   ],
   "metadata": {
    "collapsed": false,
    "pycharm": {
     "name": "#%%\n"
    }
   }
  },
  {
   "cell_type": "markdown",
   "source": [
    "## 函数\n",
    "支持关于容器类型的通用操作"
   ],
   "metadata": {
    "collapsed": false,
    "pycharm": {
     "name": "#%% md\n"
    }
   }
  },
  {
   "cell_type": "code",
   "execution_count": 124,
   "outputs": [],
   "source": [
    "s = {'a', 'b', 'c'}\n",
    "len(s)  # 3 长度\n",
    "max(s)  # 'c' 最大值\n",
    "min(s)  # 'a' 最小值\n",
    "any(s)  # True 是否有一真\n",
    "all(s)  # True 是否全真\n",
    "sorted(s)  # ['a', 'b', 'c'] 返回排序后的列表\n",
    "s.pop()  # 'b' 删除最后一个，因为无序所以随机\n",
    "s2 = s.copy()  # 深拷贝, s 变化不影响 s2"
   ],
   "metadata": {
    "collapsed": false,
    "pycharm": {
     "name": "#%%\n"
    }
   }
  },
  {
   "cell_type": "markdown",
   "source": [
    "## 数学集合运算"
   ],
   "metadata": {
    "collapsed": false,
    "pycharm": {
     "name": "#%% md\n"
    }
   }
  },
  {
   "cell_type": "code",
   "execution_count": 156,
   "outputs": [
    {
     "name": "stdout",
     "output_type": "stream",
     "text": [
      "{2, 3}\n",
      "{1, 2, 3}\n",
      "{2, 3}\n",
      "{1, 2, 3, 4}\n",
      "{1, 2, 3, 4}\n",
      "{1}\n",
      "None\n",
      "{1, 2, 3, 4}\n",
      "True\n",
      "False\n",
      "False\n"
     ]
    }
   ],
   "source": [
    "s1 = {1, 2, 3}\n",
    "s2 = {2, 3, 4}\n",
    "\n",
    "print(s1 & s2)\n",
    "# {2, 3} 交集\n",
    "s1.intersection(s2)  # {2, 3} 交集\n",
    "print(s1)\n",
    "s1.intersection_update(s2)  # {2, 3} 交集, 会覆盖 s1\n",
    "print(s1)\n",
    "\n",
    "s1 = {1, 2, 3}\n",
    "s2 = {2, 3, 4}\n",
    "print(s1 | s2)\n",
    "# {1, 2, 3, 4} 并集\n",
    "print(s1.union(s2))\n",
    "# {1, 2, 3, 4} 并集\n",
    "print(s1.difference(s2))\n",
    "# {1} 差集\n",
    "print(s1.difference_update(s2))\n",
    "# {1} 差集, 会覆盖 s1\n",
    "print(s1.symmetric_difference(s2))\n",
    "# {1, 4} 交集之外\n",
    "print(s1.isdisjoint(s2))\n",
    "# False 是否没有交集\n",
    "print(s1.issubset(s2))\n",
    "# False s2 是否 s1 的子集\n",
    "print(s1.issuperset(s2))\n",
    "# False s1 是否 s2 的超集, 即 s1 是否包含 s2 的所有元素"
   ],
   "metadata": {
    "collapsed": false,
    "pycharm": {
     "name": "#%%\n"
    }
   }
  },
  {
   "cell_type": "markdown",
   "source": [
    "# 序列类型"
   ],
   "metadata": {
    "collapsed": false,
    "pycharm": {
     "name": "#%% md\n"
    }
   }
  },
  {
   "cell_type": "markdown",
   "source": [
    "python 内置序列类型有：list()、tuple()、range()、str()、bytes()、bytearray()、memoryview()"
   ],
   "metadata": {
    "collapsed": false
   }
  },
  {
   "cell_type": "code",
   "execution_count": 157,
   "outputs": [
    {
     "data": {
      "text/plain": "False"
     },
     "execution_count": 157,
     "metadata": {},
     "output_type": "execute_result"
    }
   ],
   "source": [
    "# 判断数据是不是序列类型\n",
    "from collections import abc\n",
    "\n",
    "a = [1, 2, 3]\n",
    "b = {1, 2, 3}\n",
    "c = (1, 2, 3)\n",
    "\n",
    "isinstance(a, abc.Sequence)\n",
    "# True\n",
    "isinstance(b, abc.Sequence)\n",
    "# False\n",
    "\n",
    "# 可变类型\n",
    "isinstance(a, abc.MutableSequence)\n",
    "# True\n",
    "isinstance(c, abc.MutableSequence)\n",
    "# False"
   ],
   "metadata": {
    "collapsed": false,
    "pycharm": {
     "name": "#%%\n"
    }
   }
  },
  {
   "cell_type": "markdown",
   "source": [
    "## 序列操作"
   ],
   "metadata": {
    "collapsed": false,
    "pycharm": {
     "name": "#%% md\n"
    }
   }
  },
  {
   "cell_type": "markdown",
   "source": [
    "### 通用操作"
   ],
   "metadata": {
    "collapsed": false,
    "pycharm": {
     "name": "#%% md\n"
    }
   }
  },
  {
   "cell_type": "markdown",
   "source": [
    "### 可变序列类型"
   ],
   "metadata": {
    "collapsed": false,
    "pycharm": {
     "name": "#%% md\n"
    }
   }
  },
  {
   "cell_type": "markdown",
   "source": [
    "## 实现实例"
   ],
   "metadata": {
    "collapsed": false,
    "pycharm": {
     "name": "#%% md\n"
    }
   }
  },
  {
   "cell_type": "code",
   "execution_count": 160,
   "outputs": [],
   "source": [
    "class Bag():\n",
    "    def __init__(self, name, contents) -> None:\n",
    "        self.name = name\n",
    "        self.contents = contents\n",
    "\n",
    "    def __repr__(self) -> str:\n",
    "        return f'<Bag: {self.name}>'\n",
    "\n",
    "    def __len__(self):\n",
    "        return len(self.contents)\n",
    "\n",
    "    def __getitem__(self, idx):\n",
    "        return self.contents[idx]"
   ],
   "metadata": {
    "collapsed": false,
    "pycharm": {
     "name": "#%%\n"
    }
   }
  },
  {
   "cell_type": "code",
   "execution_count": 161,
   "outputs": [
    {
     "data": {
      "text/plain": "<Bag: wallet>"
     },
     "execution_count": 161,
     "metadata": {},
     "output_type": "execute_result"
    }
   ],
   "source": [
    "# 实例化为一个钱包\n",
    "w = Bag('wallet', [1, 5, 10, 20, 100])\n",
    "w\n",
    "# <Bag: wallet>"
   ],
   "metadata": {
    "collapsed": false,
    "pycharm": {
     "name": "#%%\n"
    }
   }
  },
  {
   "cell_type": "code",
   "execution_count": 167,
   "outputs": [
    {
     "name": "stdout",
     "output_type": "stream",
     "text": [
      "100\n",
      "5\n",
      "100\n",
      "True\n",
      "1\n",
      "5\n",
      "10\n",
      "20\n",
      "100\n",
      "125082982057\n",
      "True\n",
      "[1, 5, 10, 20, 100]\n",
      "[100, 20, 10, 5, 1]\n",
      "<iterator object at 0x000001D1F88216D0>\n"
     ]
    }
   ],
   "source": [
    "print(max(w))\n",
    "# 100\n",
    "print(len(w))\n",
    "# 5\n",
    "print(w[-1])\n",
    "# 100\n",
    "print(10 in w)\n",
    "# True\n",
    "for i in w: print(i)\n",
    "'''\n",
    "1\n",
    "5\n",
    "10\n",
    "20\n",
    "100\n",
    "'''\n",
    "print(hash(w))\n",
    "# 8766419859204\n",
    "print(all(w))\n",
    "# True\n",
    "print(sorted(w))\n",
    "# [1, 5, 10, 20, 100]\n",
    "print([*reversed(w)])\n",
    "# [100, 20, 10, 5, 1]\n",
    "print(iter(w))\n",
    "# <iterator at 0x7f91757771f0>"
   ],
   "metadata": {
    "collapsed": false,
    "pycharm": {
     "name": "#%%\n"
    }
   }
  }
 ],
 "metadata": {
  "kernelspec": {
   "display_name": "Python 3",
   "language": "python",
   "name": "python3"
  },
  "language_info": {
   "codemirror_mode": {
    "name": "ipython",
    "version": 2
   },
   "file_extension": ".py",
   "mimetype": "text/x-python",
   "name": "python",
   "nbconvert_exporter": "python",
   "pygments_lexer": "ipython2",
   "version": "2.7.6"
  }
 },
 "nbformat": 4,
 "nbformat_minor": 0
}