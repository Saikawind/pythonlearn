print(type(123))
# int
a = "Hello"
print(type(a))
# str


print(isinstance(123, int))
print(isinstance('123', int))
print(isinstance(True, bool))


a = 17
# 会忽略下划线
a = 1_7
print(a)
b = - 17
b = -17
print(b)
# 17 十六进制
c = 0x11
print(c)
# 65 八进制
d = 0o101
print(d)


x = 1.10
print(x)
# 1.0
y = 1.
print(y)
z = .1
print(z)


e = 3.5e5
print(e)
f = 1E6
print(f)


x = 1 + 2j
y = 2j
z = -3j


print(123_456_789)
print(123_456.888)
print(f'{10000000000:_}')
print('{:_}'.format(10000000000))


a = 1
type(a)


# 4
int(4.3)


# 4.0
float(4)


var = "hello"  # 双引号
var = 'world'  # 单引号

a = "123"  # 注意，这儿是个字符，不是数字

# 三个单引号或者双引号，可以定义多行字符
var = ''' hello
world
I love python
'''
#  加前缀 u，显式说明是 unicode 类型，一般不加
var = u'world'
type(var)  # str


var = "hello"
# int(var) # 无法转换成数字，会报错

a = "123"
int(a)  # 123 成功转为数字

b = 456
str(b)  # "456" 成功转为字符

c = [1, 2, 3]
str(c)  # '[1, 2, 3]' 列表转字符串，其他类型类似


var = 'Hello World!'
# 按索引取部分内容, 索引从0开始, 左必须小于右
# 支持字符、列表、元组
print(var[0])
# 'H'
# 从右开始索引从 -1 开始
print(var[-1])
# '!'
print(var[-3:-1])
# 'ld'
print(var[1:7])
# 'ello W'（有个空格，不包含最后一位）
print(var[6:])
# 'World!' （前后省略按开头结尾）
print(var[:])
# 'Hello World!'（相当于复制）
print(var[0:5:2])
# 'Hlo'（2为步长，2的倍数取）
print(var[1:7:3])
# 'ello W‘ -> 'eo'
print(var[::-1])
# !dlroW olleH 实现反转字符功能


print('good' + 'bye')
# goodbye 拼接字符
print('good' * 3)
# goodgoodgood 重复3次
print('bye'[1])
# 'y' 取第2个索引位, 索引为1
print('bye'[-2])
# 'y' 取从右索引为-2的内容
print('goodbye'[2:5])
# 取一段，不包含右边索引位内容
print('g' in 'goodbye')
# True 成员运算，指定字段是否在目标字符里
print('g' not in 'goodbye')
# False 指定字段是否不在目标字符里


print("一行\n另一行")  # 换行
print("一格\t另一格")  # 制表
print("我是\b中国人")  # 退格，会删除「是」
print('I \'m boy.')  # 引号，双引号同
print("看到反斜杠了么？\\")  # 反斜杠


print(len('good'))
# 4 字符的长度
print('good'.replace('g', 'G'))
# 'Good' 替换字符
print('山-水-风-雨'.split('-'))
# ['山', '水', '风', '雨'] 用指定字符分隔，默认空格
print('好山好水好风光'.split('好'))
# ['', '山', '水', '风光']
print('-'.join(['山', '水', '风', '雨']))
# '山-水-风-雨'
print('和'.join(['诗', '远方']))
# '诗和远方'


import string

'good'.upper()  # 'GOOD' 全转大写
'GOOD'.lower()  # 'good' 全转小写
'Good Bye'.swapcase()  # 'gOOD bYE' 大小写互换
'good'.capitalize()  # 'Good' 首字母转大写
'good'.islower()  # True 是否全是小写
'good'.isupper()  # False 是否全是大写
'good bYe'.title()  # 'Good Bye' 所有的单词首字母转为大写，且其他字母转小写
'Good Bye'.istitle()  # True 检测所有的单词首字母是否为大写，且其他字母为小写

'我和你'.endswith('你')  # True 是否以指定字符结尾
'我和你'.startswith('你')  # False 是否以指定字符开始
' and你'.isspace()  # False 是否全是空白字符

'good'.center(10, '*')  # '***good***' 字符居中, 其余用指定字符填充, 共多少位
'good'.ljust(10, '-')  # 'good------' 左对齐，默认是空格补全
'good'.rjust(10, '-')  # '------good' 右对齐
'good'.count('o')  # 2 指定字符在字符中的数量
'good'.count('o', 2, 3)  # 1 在索引范围内字符出现的数量
'3月'.zfill(3)  # '03月' 指定长宽，不够前边补 0

max('good')  # 'o' 按最大字母顺序最大的字母
min('good')  # 'd' 最小的字母

'Good Good Study'.find('y')  # 14 返回指,定字符第一次出现的索引, 如果不包含返回-1
'Good Good Study'.find('o', 3)  # 6 指定开始位第一次出现的索引, 如果不包返回-1
'Good Good Study'.find('o', 2, 7)  # 2 指定区间内第一次出现的索引, 如果不包返回-1
'Good Good Study'.find('up')  # -1 不包含返回-1

'Good Bye'.index('d')  # 3 指定字符第一个索引
# 'Good Bye'.index('s')  # 找不到会 ValueError 错误, 可以先 in 去判断是否包含

# 去空格
'Good bye'.strip('e')  # 去掉首尾指定字符, 默认去空格
' Good bye '.lstrip()  # 'Good bye ' 去掉左边空格
' Good bye '.rstrip()  # ' Good bye'去掉右边空格

# 格式化, 此处推荐 f-string: https://www.gairuo.com/p/python-format-string
name = 'wsy'
f'{name}是好人'  # 'tom是好人' 推荐此方法, name = 'tom'
'%s %s' % ('age', 18)  # 'age 18'
'{}, {}'.format(18, 'age')  # '18 age'
'{0}, {1}, {0}'.format('age', 18)  # 'age, 18, age'
'{name}: {age}'.format(age=18, name='tom')  # 'tom: 18'

# 分割连接
# 按换行分隔，默认(False)不保留换行符
'Good\nbye\nbye'.splitlines(True)  # ['Good\n', 'bye\n', 'bye']


print('a' 'b')
print('a''b')


['a', 'b' 'c', 'd']


('a', 'b c', 'd')


type('b' 'c')


print(bool(None))
print(bool(0))
print(bool([]))
print(bool(()))


a = 0
b = 1
c = 2

print(a and b)
# 0 a 为假返回假的值
print(b and a)
# 0 b为真，返回a的值
print(a or b)
# 1 输出为真值的结果
print(a and b or c)
# 2
print(a and (b or c))
# 0 用类似数学中的括号提高运算优先级

# not 的注意事项
print(not a)
# True
print(not a == b)
# True
print(not (a == b))
# True 同上逻辑
# a == not b # ！这个是错误的语法, 正确如下：
print(a == (not b))
# True

# and 优先级高 'a' 为真，返回 'b', '' or 'b' 返回 'b'
print('' or 'a' and 'b')
# 'b'


a = 0
b = 1
c = 2

print(a > b)
# False
print(a == b)
# False
print(b == (c - b))
# True
print(a != b)
# True
print(a < (b + c))
# True
print(a is not a)
# False


x = []  # 空列表
x = [1, 2, 3, 4, 5]
x = ['a', 'b', 'c']
x = ['a', 1.5, True, [2, 3, 4]]  # 各种类型混杂
type(x)  # list 类型检测


# 字符串
y = '1345'
list(y)  # ['1', '3', '4', '5'] 将列表转换成列表

# 元组
z = ('a', 'b', 'c')
list(z)  # ['a', 'b', 'c'] 将元组转换成列表

# 字典
d = {'Name': 'Tom', 'Age': 7, 'Class': 'First'}
list(d)  # ['Name', 'Age', 'Class'] 字典 key 转成列表
list(d.values())  # ['Tom', 7, 'First'] 字典 value 转成列表
# 字典键值对（一个元组）转成列表
list(d.items())  # [('Name', 'Tom'), ('Age', 7), ('Class', 'First')]


var = ['a', 'b', 'c', 'd', 'e', 'f']
# 按索引取部分内容, 索引从0开始, 左必须小于右
print(var[0])
# 'a'
# 从右开始索引从 -1 开始
print(var[-1])
# 'f'
print(var[-3:-1])
# ['d', 'e']
print(var[1:5])
# ['b', 'c', 'd', 'e']
print(var[3:])
# ['d', 'e', 'f']（前后省略按开头结尾）
print(var[:])
# ['a', 'b', 'c', 'd', 'e', 'f']（相当于复制）
print(var[0:5:2])
# ['a', 'c', 'e']（2为步长，2的倍数取）
print(var[1:7:3])
# ['b', 'e']
print(var[::-1])
# ['f', 'e', 'd', 'c', 'b', 'a'] 实现反转功能


print(['a', 'b'] + ['c', 'd'])
# ['a', 'b', 'c', 'd'] 拼接
print(['a', 'b'] * 2)
# ['a', 'b', 'a', 'b''] 复制
print('a' in ['a', 'b'])
# True 指定元素在列表里


a = [1, 2, 3]
len(a)  # 3 元素个数
max(a)  # 3 最大值
min(a)  # 1 最小值
sum(a)  # 6 求和
a.index(2)  # 1 指定元素位置
a.count(1)  # 1 求元素的个数
for i in a: print(i)  # 迭代元素
sorted(a)  # 返回一个排序的列表，但不改变原列表
any(a)  # True 是否至少有一个元素为真
all(a)  # True 是否所有元素为真


a = [1, 2, 3]
a.append(4)  # a: [1, 2, 3, 4] 增加一个元素
a.pop()  # 每执行一次删除最后一个元素
a.extend([9, 8])  # a: [1, 2, 3, 9, 8] # 和其他列表合并
a.insert(1, 'a')  # a: [1, 'a', 2, 3] 指定索引位插入元素
a.remove('a')  # 删除第一个指定元素
a.clear()  # [] 清空


a.reverse()  # 反转顺序
a.sort()  # 排序
a.sort(reverse=True)  # 反序
a.sort(key=abs)  # 传入函数关键字作为排序规则


# 将一个可迭代的对象展开形成一个列表
[i for i in range(5)]
# [0, 1, 2, 3, 4]

# 可以将结果进行处理
['第' + str(i) for i in range(5)]
# ['第0', '第1', '第2', '第3', '第4']

# 可以进行条件筛选, 实现取偶数
[i for i in range(5) if i % 2 == 0]

# 拆开字符, 过滤空格，全变成大写
[i.upper() for i in 'Hello world' if i != ' ']
# ['H', 'E', 'L', 'L', 'O', 'W', 'O', 'R', 'L', 'D']
# 对于复杂逻辑可以分行编写
[i.upper()
 for i in 'Hello world'
 if i != ' '
 ]

# 条件分支
data = ['good', 'bad', 'bad', 'good', 'bad']
[1 if x == 'good' else 0 for x in data]
# [1, 0, 0, 1, 0]


a = ()  # 空元组
a = (1,)  # 只有一个元素
a = (1, 2, 3)  # 定义一个元组
tuple()  # 生成空元组
tuple('hello')  # ('h', 'e', 'l', 'l', 'o')
type(a)  # tuple 元素检测

# 没有括号也可以定义一个元组
a = 1, 23, 4, 56  # a: (1, 23, 4, 56)
a = 1,  # a: (1, )

# 元组内元素可以混杂其他类型
a = ('a', 1.5, True, [2, 3, 4])  # 各种类型混杂


a = ('a', 1.5, True, [2, 3, 4])
a[-1].append(5)
a


del a
# 删除元组


a = (1, 2, 3)
len(a)  # 3 元素个数
max(a)  # 3 最大值
min(a)  # 1 最小值
sum(a)  # 6 求和
a.count(1)  # 1 求元素的个数
a.index(2)  # 1 指定元素位置
for i in a: print(i)  # 迭代元素
sorted(a)  # 返回一个排序的列表，但不改变原列表
any(a)  # True 是否至少有一个元素为真
all(a)  # True 是否所有元素为真
# tuple.__dir__('') # 查看元组支持的所有函数和方法


t = tuple((i for i in range(3)))
# t: (0, 1, 2)
t


x = (1, 2, 3, 4, 5)
a, *b = x  # a 占第一个，剩余的组成列表全给 b
# a -> 1
# b -> [2, 3, 4, 5]
# a, b -> (1, [2, 3, 4, 5])

a, *b, c = x  # a 占第一个，c 占最后一个, 剩余的组成列表全给 b
# a -> 1
# b -> [2, 3, 4]
# c -> 5
# a, b, c -> (1, [2, 3, 4], 5)


from collections import namedtuple

Girl = namedtuple('Girl', ['name', 'age'])

lily = Girl('lily', 10)
lily.name  # lily
lily.age  # 10

print(lily)
# Girl(name='lily', age=10)
print(type(lily))
# __main__.Girl

# 不能被修改
# lily.age = 12
# AttributeError: "can't set attribute"


d = {}  # 定义空字典
d = dict()  # 定义空字典
d = {'a': 1, 'b': 2, 'c': 3}
d = {'a': 1, 'a': 1, 'a': 1}  # { 'a': 1} key 不能重复, 取最后一个
d = {'a': 1, 'b': {'x': 3}}  # 嵌套字典
d = {'a': [1, 2, 3], 'b': [4, 5, 6]}  # 嵌套列表

# 以下均可定义如下结果
# {'name': 'Tom', 'age': 18, 'height': 180}
d = dict(name='Tom', age=18, height=180)
d = dict([('name', 'Tom'), ('age', 18), ('height', 180)])
d = dict(zip(['name', 'age', 'height'], ['Tom', 18, 180]))
d


print(d['name'])
# 'Tom' 获取键的值
d['age'] = 20  # 将 age 的值更新为 20
d['Female'] = 'man'  # 增加属性
print(d.get('height', 180))
# 180

# 嵌套取值
d = {'a': {'name': 'Tom', 'age':18}, 'b': [4,5,6]}
print(d['b'][1])
# 5
print(d['a']['age'])
# 18


print('a' in d)
# True 'a' 作为 k 在 d 中
2 in d # False


d = dict(zip(['name', 'age', 'height'], ['Tom', 18, 180]))
d.pop('name')  # 'Tom' 删除指定 key
d.popitem()  # 随机删除某一项
# del d['name']  # 删除键值对
d.clear()  # 清空字典

# 按类型访问，可迭代
d.keys()  # 列出所有 key
d.values()  # 列出所有 值
d.items()  # 列出所有值对元组（k, v）

# 操作
d.setdefault('a', 3)  # 插入一个键，给字默认值, 不指定为 None
# d1.update(dict2)  # 将字典 dict2 的键值对添加到字典 dict
# 对于键(key)存在则返回其对应值，如果键不在字典中，则返回默认值
d.get('math', 100)  # 100
# d2 = d.copy()  # 深拷贝, d 变化不影响 d2

# update 更新方式
d = {}
d.update(a=1)
d.update(c=2, d=3)
d
# {'a': 1, 'c': 2, 'd': 3}


d = {'a': 1, 'b': 2, 'c': 3}
max(d)  # 'c' 最大的 k
min(d)  # 'a' 最小的 k
len(d)  # 3 字典的长度
str(d)  # "{'a': 1, 'b': 2, 'c': 3}" 字符串形式
any(d)  # True 只要一个键为 True
all(d)  # True 所有键都为 True
sorted(d)  # ['a', 'b', 'c'] 所有key当列表排序


d = {'a': 1, 'b': 2, 'c': 3}
for i in d:
    print(i)
# a
# b
# c


# 遍历 key
for i in d.keys():
    print(i)
# 结果同上


# 遍历值
for i in d.values():
    print(i)
# 1
# 2
# 3


# 遍历键值组成元组
for i in d.items():
    print(i)
# ('a', 1)
# ('b', 2)
# ('c', 0)


# 分别取键值遍历
for k, v in d.items():
    print(k, v)
# a 1
# b 2
# c 0


x = {'a': 1, 'b': 2}
y = {'b': 3, 'c': 4}
z = {**x, **y}
print(z)
z = {**y, **x}
print(z)
# {'c': 4, 'a': 1, 'b': 3}
# {**y, **x} 试试调换位置


d = {i: i * 10 for i in range(1, 5)}
# {1: 10, 2: 20, 3: 30, 4: 40}
print(d)

d = {'name': 'Tom', 'age': 18, 'height': 180}
print(d)
# 键值互换
{v: k for k, v in d.items()}
# {'Tom': 'name', 18: 'age', 180: 'height'}


route = {True: 'case1', False: 'case2'}  # 定义路由
print(route[7 > 6])
# 'case1' 传入结果为布尔的变量、表达式、函数调用

# 定义计算方法
cal = {'+': lambda x, y: x + y, '*': lambda x, y: x * y}
print(cal['*'](4, 9))
# 36 使用


s = {'5元', '10元', '20元'}  # 定义集合
s = set()  # 空集合
s = set([1, 2, 3, 4, 5])
# {1, 2, 3, 4, 5} 使用列表定义
print(s)
s = {1, True, 'a'}
print(s)
s = {1, 1, 1}
print(s)
#{1} 去重
type(s)  # set 类型检测


# set = {[1,2], 2}
# TypeError: unhashable type: 'list'


s = {'a', 'b', 'c'}
for i in s:
    print(i)


s = {'a', 'b', 'c'}
'a' in s


s = {'a', 'b', 'c'}
s.add(2)
print(s)
s.update([1, 3, 4])
print(s)


s = {'a', 'b', 'c'}
s.remove('a')
print(s)
# 删除不存在的会报错
s.discard('3')
print(s)
# 删除一个元素，无则忽略不报错
s.clear()
print(s)
# set清空


s = {'a', 'b', 'c'}
len(s)  # 3 长度
max(s)  # 'c' 最大值
min(s)  # 'a' 最小值
any(s)  # True 是否有一真
all(s)  # True 是否全真
sorted(s)  # ['a', 'b', 'c'] 返回排序后的列表
s.pop()  # 'b' 删除最后一个，因为无序所以随机
s2 = s.copy()  # 深拷贝, s 变化不影响 s2


s1 = {1, 2, 3}
s2 = {2, 3, 4}

print(s1 & s2)
# {2, 3} 交集
s1.intersection(s2)  # {2, 3} 交集
print(s1)
s1.intersection_update(s2)  # {2, 3} 交集, 会覆盖 s1
print(s1)

s1 = {1, 2, 3}
s2 = {2, 3, 4}
print(s1 | s2)
# {1, 2, 3, 4} 并集
print(s1.union(s2))
# {1, 2, 3, 4} 并集
print(s1.difference(s2))
# {1} 差集
print(s1.difference_update(s2))
# {1} 差集, 会覆盖 s1
print(s1.symmetric_difference(s2))
# {1, 4} 交集之外
print(s1.isdisjoint(s2))
# False 是否没有交集
print(s1.issubset(s2))
# False s2 是否 s1 的子集
print(s1.issuperset(s2))
# False s1 是否 s2 的超集, 即 s1 是否包含 s2 的所有元素


# 判断数据是不是序列类型
from collections import abc

a = [1, 2, 3]
b = {1, 2, 3}
c = (1, 2, 3)

isinstance(a, abc.Sequence)
# True
isinstance(b, abc.Sequence)
# False

# 可变类型
isinstance(a, abc.MutableSequence)
# True
isinstance(c, abc.MutableSequence)
# False


class Bag():
    def __init__(self, name, contents) -> None:
        self.name = name
        self.contents = contents

    def __repr__(self) -> str:
        return f'<Bag: {self.name}>'

    def __len__(self):
        return len(self.contents)

    def __getitem__(self, idx):
        return self.contents[idx]


# 实例化为一个钱包
w = Bag('wallet', [1, 5, 10, 20, 100])
w
# <Bag: wallet>


print(max(w))
# 100
print(len(w))
# 5
print(w[-1])
# 100
print(10 in w)
# True
for i in w: print(i)
'''
1
5
10
20
100
'''
print(hash(w))
# 8766419859204
print(all(w))
# True
print(sorted(w))
# [1, 5, 10, 20, 100]
print([*reversed(w)])
# [100, 20, 10, 5, 1]
print(iter(w))
# <iterator at 0x7f91757771f0>
