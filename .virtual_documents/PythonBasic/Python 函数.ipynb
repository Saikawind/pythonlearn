# def <函数名>(<参数>):
#     """<函数说明>"""
#     <函数代码>
#     <pass>
#     return <返回内容>


def city_tier(city_name):
    """返回一个城市是否一线城市"""
    first_tier = ['北京', '上海', '广州', '深圳']
    if city_name in first_tier:
        return '一线城市'
    else:
        return '非一线城市'


# 如果不按要求传参数会报错
# city_tier() # TypeError

# 把调用结果赋值给变量
sh = city_tier('上海')
# sh: '一线城市'
sh = f'上海是{city_tier("上海")}'
print(sh)
# '上海是一线城市'

# 把函数传给变量，然后用此变量调用
ct = city_tier
print(ct('青岛'))
print(""
# '非一线城市'


def me():
    print('我是好人！')


me()  # 我是好人！


def web(name='盖若'):
    print(f'{name}是个好网站')


web()  # 盖若是个好网站
web('知乎')  # 知乎是个好网站


type(city_tier('杭州'))  # str
type(web())  # NoneType


def circle(r):
    """计算圆的周长和面积"""
    l = 2 * 3.14 * r
    s = 3.14 * (r ** 2)
    return l, s


# 调用
circle(4)  # (25.12, 50.24)


# 定义
def foo(name, age=18, boy=True, **kwargs):
    pass


# 调用
foo('tom', age=20, city='shanghai')


foo('小刚')
foo('小刚', 22)
# 也可以给默认参数传值


def foo(x, y):
    return x - y


print(foo(10, 8))
print(foo(8, 10))


def say(name, age=18, words='hello'):
    print(f'{age}岁的{name}说：{words}')


# 调用
say(name='tom', age=20)  # 20岁的tom说：hello


say('tom', age=20)  # 20岁的tom说：hello
# say('tom', age=20, 'good') # 报错


def foo(*t):
    print(t)


# 调用
foo(1)  # (1,)
foo(1, 4, 5, 6)  # (1, 4, 5, 6)


def foo(**d):
    print(d)


# 调用
foo(a=1)  # {'a': 1}
foo(a=1, b=4, c=5)  # {'a': 1, 'b': 4, 'c': 5}


def foo(a, b, *c, d):
    print(a, b, c, d)


# 调用
foo(1, 2, 3, 4, 5, d=6)  # 1 2 (3, 4, 5) 6 d 要用关键字传入


def say(name, age=18, words='hello'):
    print(f'{age}岁的{name}说：{words}')


# 调用
d = {'name': 'tom', 'age': 20, 'words': 'hello'}
say(**d)  # 20岁的tom说：hello


def my(x, y, *, name, age):
    print(x, y, name, age)


# 不指定 name 和 age 参数名会报错
# my(1, 2, 'lily', 9)
# TypeError: my() takes 2 positional arguments but 4 were given

# 指定名正常
my(1, 2, name='lily', age=9)
# 1 2 lily 9


# divmod(x, y, /) Return the tuple (x//y, x%y)

# divmod(x=3, y=4)
# TypeError: divmod() takes no keyword arguments
divmod(3, 4)
# (0, 3)


# lambda < 参数 > : < 逻辑表达式代码 >


add = lambda x, y: x + y
add(1, 4)  # 5


(lambda x, y: x + y)(3, 5)
# 8


# 两个数的最大值
(lambda x, y: x if x > y else y)(49, 5)  # 49


# 可以定义在字典的值里，用 key 来调用
d = {'+': lambda x, y: x + y, '-': lambda x, y: x - y}
d['+'](3, 8)  # 11


# 作为 map 的迭代方法
a = [1, 2, 3, 4, 5, 6]
result = map(lambda x: x + 1, a)
list(result)
# [2, 3, 4, 5, 6, 7]


# 作为过虑器的过滤逻辑
a = [1, 2, 3, 4, 5, 6]
result = filter(lambda x: x % 2 == 0, a)
list(result)


from functools import reduce

# 作为 reduce 累积迭代的方法
a = [1, 2, 3, 4, 5, 6]
result = reduce(lambda x, y: x + y, a)
result
# 21


# 指定属性排序
s = [{'name': 'tom', 'age': 22},
     {'name': 'lily', 'age': 19},
     {'name': 'lucy', 'age': 20}]

sorted(s, key=lambda x: x['age'])

# [{'name': 'lily', 'age': 19},
#  {'name': 'lucy', 'age': 20},
#  {'name': 'tom', 'age': 22}]


# # 注：x 变量没有用，在一些对象中可用来占位
# n = lambda x, y=iter('abcdef'): next(y)
# # 可调用 6 次，每次返回其中一个值
# n()  # 'a'
# n()  # 'b'


def foo(x):
    print('foo out:', x)


# 调用函数
foo(123)
# foo out: 123


def log(func):
    def decorator(*args, **kwargs):
        print(f'开始执行: {func.__name__}')
        func(*args, **kwargs)
        print('执行结束')

    return decorator


@log
def foo(x):
    print('foo out:', x)


foo('Hello World')


def shout(text):
    return text.upper()


print(shout('Hello'))
# Hello

# 将函数赋值给变量
yell = shout

print(yell('hello'))
# Hello


def shout(text):
    return text.upper()


def whisper(text):
    return text.lower()


def greet(func):
    # 将函数存储在变量中
    greeting = func("Hi, I am created by a function \
    passed as an argument.")
    print(greeting)


greet(shout)
# HI, I AM CREATED BY A FUNCTION PASSED AS AN ARGUMENT.
greet(whisper)
# hi, i am created by a function passed as an argument.


# 来说明函数可以返回另一个函数
def create_adder(x):
    def adder(y):
        return x + y

    return adder


add_15 = create_adder(15)

print(add_15(10))
# 25


# @gfg_decorator
# def hello_decorator():
#     ...
#
# # 上述代码相当于：
#
# def hello_decorator():
#     ...
#
# hello_decorator = gfg_decorator(hello_decorator)


from time import sleep, time


def run_time(func):
    def wrapper():
        start = time()
        func()  # 函数在这里运行
        end = time()
        cost_time = end - start
        print("func three run time {}".format(cost_time))

    return wrapper


@run_time
def fun_one():
    sleep(1)


@run_time
def fun_two():
    sleep(1)


@run_time
def fun_three():
    sleep(1)


fun_one()
fun_two()
fun_three()


def test(func):
    def wrapper():
        print("Hello before")
        func()
        print("Hello after")

    return wrapper


@test
def hello():
    print("test")


hello()


# 单个对象
def add_1(x):
    return x + 1


m = map(add_1, [1, 2, 3, 4])
list(m)
# [2, 3, 4, 5]


# 多个对象
def add_num(x, y):
    return x + y


m = map(add_num, [1, 2, 3, 4], [1, 2, 3, 4])
list(m)


# 对象不同长度
def add_num(x, y):
    return x + y


m = map(add_num, [1, 2, 3, 4], [1, 2])
list(m)


# 多个对象
def add_num(x, y, z):
    return x + y + z


a = [1, 2, 3]
m = map(add_num, a, a, a)
list(m)


m = map(lambda x, y: x + y, [1, 2, 3, 4], [1, 2])
list(m)


import itertools

t = [(2, 5), (3, 4)]
# 元组内操作（相乘）
sm = itertools.starmap(lambda x, y: x * y, t)
list(sm)


l = [-2, -1, 0]
print([abs(x) for x in l])
# [2, 1, 0]

print([x ** 2 for x in l])
# [4, 1, 0]

l_1 = [1, 2, 3]
l_2 = [10, 20, 30]
print([x * y for x, y in zip(l_1, l_2)])
# [10, 40, 90]


import numpy as np

a = np.array([-2, -1, 0])
print(np.abs(a))
# [2 1 0]

print(a ** 2)
# [4 1 0]

a_1 = np.array([1, 2, 3])
a_2 = np.array([10, 20, 30])
print(a_1 * a_2)
# [10 40 90]


l = [-2, -1, 0, 1, 2]
print(filter(lambda x: x % 2 == 0, l))

print(type(filter(lambda x: x % 2 == 0, l)))

for i in filter(lambda x: x % 2 == 0, l):
    print(i)


# 筛选大于 5 的值
f = filter(lambda x: x > 5, [2, 3, 5, 7, 9])
f  # <filter at 0x7fe33ea36730>
print(list(f))
# [7, 9]

# 函数为 None
f = filter(None, [2, False, 5, None, 9])
list(f)
# [2, 5, 9]


# list of letters
letters = ['a', 'b', 'd', 'e', 'i', 'j', 'o']


# function that filters vowels
def filter_vowels(letter):
    vowels = ['a', 'e', 'i', 'o', 'u']

    if letter in vowels:
        return True
    else:
        return False


filtered_vowels = filter(filter_vowels, letters)

print('The filtered vowels are:')
for vowel in filtered_vowels:
    print(vowel)
'''
The filtered vowels are:
a
e
i
o
'''


l = [-2, -1, 0, 1, 2]
print([x for x in l if x % 2 == 0])
# [-2, 0, 2]

print([x for x in l if x % 2 != 0])
# [-1, 1]

l_s = ['apple', 'orange', 'strawberry']
print([x for x in l_s if x.endswith('e')])
# ['apple', 'orange']

print([x for x in l_s if not x.endswith('e')])
# ['strawberry']

l = [-2, -1, 0, 1, 2]
print([x for x in l if x])
# [-2, -1, 1, 2]

l_2d = [[0, 1, 2], [], [3, 4, 5]]
print([x for x in l_2d if x])
# [[0, 1, 2], [3, 4, 5]]


# 无传入
z = zip()
print(z)
# <zip at 0x7fe33d1ac440>
print(list(z))
# []

# 传入一个
z = zip([1, 2, 3])
print(list(z))
# [(1,), (2,), (3,)]

# 传入两个
z = zip([1, 2, 3], [3, 4, 5])
print(list(z))
# [(1, 3), (2, 4), (3, 5)]

# 不同长度
z = zip([1, 2], [3, 4, 5])
print(list(z))
# [(1, 3), (2, 4)]

z = zip([1, 2, 3], [4, 5])
print(list(z))
# [(1, 4), (2, 5)]

# 解包
coordinate = ['x', 'y', 'z']
value = [3, 4, 5]

result = zip(coordinate, value)
result_list = list(result)
print(result_list)
# [('x', 3), ('y', 4), ('z', 5)]

c, v = zip(*result_list)
print(c)
# ('x', 'y', 'z')
print(v)
# (3, 4, 5)


# 分别是每个人的 身高、体重、年龄
lily = [168, 50, 22]
lucy = [170, 55, 25]
amy = [175, 53, 24]


z = zip(lily, lucy, amy)
list(z)
# [(168, 170, 175), (50, 55, 53), (22, 25, 24)]


z = zip(lily, lucy, amy)
h = list(z)[0]
sum(h) / 3
# 171.0


names = ['Alice', 'Bob', 'Charlie']
ages = [24, 50, 18]

for name, age in zip(names, ages):
    print(name, age)
# Alice 24
# Bob 50
# Charlie 18


import itertools

z = itertools.zip_longest([1, 2], [3, 4, 5])
list(z)


from functools import reduce

reduce(lambda x, y: x + y, [1, 2, 3, 4, 5])


from functools import reduce
from operator import truediv

print(reduce(truediv, [4, 3, 2, 1]))
reduce(lambda x, y: x / y, [4, 3, 2, 1])


from functools import reduce
from operator import truediv

print(reduce(truediv, [10, 5, 2], 50))
# 0.5
print(reduce(truediv, [], 50))
# 50
# reduce(truediv, [])
# TypeError: reduce() of empty iterable with no initial value
print(reduce(truediv, [10]))
# 10


# reduce(lambda a, b: pd.merge(a, b, on=['ID']), dflist)



